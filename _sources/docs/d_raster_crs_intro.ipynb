{
 "cells": [
  {
   "cell_type": "markdown",
   "id": "2ce2d499",
   "metadata": {},
   "source": [
    "(d_raster_crs_intro)=\n",
    "\n",
    "\n",
    "----------------\n",
    "\n",
    "```{admonition} Learning Objectives\n",
    "- Learn how rasters are reprojected\n",
    "- Learn how affine transforms are used \n",
    "- Use rasterio to reproject a raster\n",
    "- Learn about interpolation options during transforms\n",
    "```\n",
    "```{admonition} Review\n",
    "* [Intro to Raster data](c_rasters.md)\n",
    "* [Affine transformation](d_affine.md)\n",
    "```\n",
    "----------------\n",
    "\n",
    "\n",
    "# Raster Coordinate Reference Systems (CRS)\n",
    "\n",
    "Raster data is very different that vector data, one of the key differences is that we don't have a pair of coordinates (x,y) for each pixel in a raster. How then do we know where the raster is located in addition to what the data values are? For a new spatial raster (e.g. geotif) we need to store a few other pieces of information seperately. We need to keep track of the location of the upper left hand corner, the resolution (in both the x and y direction) and a description of the coordinate space (i.e. the CRS), amongst others.\n",
    "\n",
    "\n",
    "```{figure} ../_static/d_crs/warp.png\n",
    ":name: Example of a warped (reprojected) image\n",
    "Example of a warped (reprojected) image\n",
    "```\n",
    " \n",
    "Let's start from the `ndarray` `Z` that we want to span from [-90&deg;,90&deg;] longitude, and [-90&deg;,90&deg;] latitude. For more detail on the construction of these arrays please refer to [the raster section](c_rasters.md)."
   ]
  },
  {
   "cell_type": "code",
   "execution_count": 1,
   "id": "f2731066",
   "metadata": {},
   "outputs": [
    {
     "data": {
      "image/png": "[encoded data removed]",
      "text/plain": [
       "<Figure size 640x480 with 1 Axes>"
      ]
     },
     "metadata": {
      "filenames": {
       "image/png": "/home/mmann1123/Documents/github/pyGIS/pygis/_build/jupyter_execute/docs/d_raster_crs_intro_1_0.png"
      }
     },
     "output_type": "display_data"
    }
   ],
   "source": [
    "import numpy as np\n",
    "import matplotlib.pyplot as plt\n",
    "\n",
    "x = np.linspace(-90, 90, 6)\n",
    "y = np.linspace(90, -90, 6)\n",
    "X, Y = np.meshgrid(x, y)\n",
    "\n",
    "Z1 =  np.abs(((X - 10) ** 2 + (Y - 10) ** 2) / 1 ** 2)\n",
    "Z2 =  np.abs(((X + 10) ** 2 + (Y + 10) ** 2) / 2.5 ** 2)\n",
    "Z =  (Z1 - Z2)\n",
    "\n",
    "plt.imshow(Z)\n",
    "plt.title(\"Temperature\")\n",
    "plt.show()"
   ]
  },
  {
   "cell_type": "markdown",
   "id": "0e486a41",
   "metadata": {},
   "source": [
    "Note that *`Z` contains no data on its location*. Its just an array, the information stored in `x` and `y` aren't associated with it at all. This location data will often be stored in the header of file. In order to 'locate' the array on the map we will use affine transformations. \n",
    "\n",
    "Affine transformations allows us to use simple systems of linear equations to manipulate any point or set of points ([review affine transforms here](d_affine.md)). It allows us to move, stretch, or even rotate a point or set of points. In the case of GIS, it is used to move raster data, a satellite image, to the correct location in the CRS coordinate space.\n",
    "\n",
    "## Describing the Array Location (Define a Projection)\n",
    "In this example the coordinate reference system will be '+proj=latlong', which describes an equirectangular coordinate reference system with units of decimal degrees. Although `X` and `Y` seems relevant to understanding the location of cell values, `rasterio` instead uses affine transformations instead. Affine transforms uses matrix algebra to describe where a cell is located (translation) and what its resolution is (scale). [Review affine transformations](d_affine_trans_scale) and [see an example here](d_affine_trans).\n",
    "\n",
    "The affine transformation matrix can be computed from the matrix product of a translation (moving N,S,E,W) and a scaling (resolution). First, we start with translation where $\\Delta x$ and $\\Delta y$ define the location of the upper left hand corner of our new `Z` ndarray. As a reminder the translation matrix takes the form:\n",
    "\n",
    "$$\n",
    "   \\begin{eqnarray}\n",
    "     \\mbox{Translate} =  \\begin{bmatrix} 1 & 0 & \\Delta x \\\\  0 & 1 & \\Delta y \\\\ 0 & 0 & 1 \\end{bmatrix}  \n",
    "   \\end{eqnarray}\n",
    "$$\n",
    "\n",
    "Now we can define our translation matrix using the point coordinates (`x[0]`,`y[0]`), but these need to be offset by 1/2 the resolution so that the cell is centered over the coordinate (-90,90). Notice however there are some difference between the x and y resolution:\n",
    "\n",
    "Both arrays have the same spatial resolution"
   ]
  },
  {
   "cell_type": "code",
   "execution_count": 2,
   "id": "2f236b0a",
   "metadata": {},
   "outputs": [
    {
     "data": {
      "text/plain": [
       "30.0"
      ]
     },
     "execution_count": 2,
     "metadata": {},
     "output_type": "execute_result"
    }
   ],
   "source": [
    "xres = (x[-1] - x[0]) / len(x)\n",
    "xres"
   ]
  },
  {
   "cell_type": "markdown",
   "id": "6f52bb92",
   "metadata": {},
   "source": [
    "But notice that the y resolution is **negative**:"
   ]
  },
  {
   "cell_type": "code",
   "execution_count": 3,
   "id": "f0dc0596",
   "metadata": {},
   "outputs": [
    {
     "data": {
      "text/plain": [
       "-30.0"
      ]
     },
     "execution_count": 3,
     "metadata": {},
     "output_type": "execute_result"
    }
   ],
   "source": [
    "yres = (y[-1] - y[0]) / len(y)\n",
    "yres"
   ]
  },
  {
   "cell_type": "markdown",
   "id": "d29b6ff7",
   "metadata": {},
   "source": [
    "We need to create our translation matrix by defining the location of the upper left hand corner. Looking back at our definitions of our coordinates `X` and `Y` we can see that they are defined with `x = np.linspace(-90, 90, 6); y = np.linspace(90, -90, 6); X, Y = np.meshgrid(x, y)`, if you run `print(X);print(Y)` you will see that the **center** of the upper left hand corner should be located at (-90,90). The **upper left hand corner** of that same cell is actually further up and to the left than (-90,90). It follows then that that corner should be shifted exactly 1/2 the resolution of the cell, both up and to the left. \n",
    "\n",
    "We can therefore define the upper left hand corner by setting $\\Delta x = x[0] - xres / 2$ and $\\Delta y = y[0] - yres / 2$. Remember yres is negative, so subtraction is correct."
   ]
  },
  {
   "cell_type": "code",
   "execution_count": 4,
   "id": "a01dec0a",
   "metadata": {},
   "outputs": [
    {
     "name": "stdout",
     "output_type": "stream",
     "text": [
      "| 1.00, 0.00,-105.00|\n",
      "| 0.00, 1.00, 105.00|\n",
      "| 0.00, 0.00, 1.00|\n"
     ]
    }
   ],
   "source": [
    "from rasterio.transform import Affine\n",
    "print(Affine.translation(x[0] - xres / 2, y[0] - yres / 2))"
   ]
  },
  {
   "cell_type": "markdown",
   "id": "49a5aaa1",
   "metadata": {},
   "source": [
    "We also need to scale our data based on the resolution of each cell, the scale matrix takes the following form:\n",
    "\n",
    "$$\n",
    "   \\begin{eqnarray}\n",
    "   \\mbox{Scale} = \\begin{bmatrix} xres & 0 & 0 \\\\ 0 & yres & 0 \\\\ 0 & 0 & 1 \\end{bmatrix} \n",
    "   \\end{eqnarray}\n",
    "$$"
   ]
  },
  {
   "cell_type": "code",
   "execution_count": 5,
   "id": "2474a75e",
   "metadata": {},
   "outputs": [
    {
     "name": "stdout",
     "output_type": "stream",
     "text": [
      "| 30.00, 0.00, 0.00|\n",
      "| 0.00,-30.00, 0.00|\n",
      "| 0.00, 0.00, 1.00|\n"
     ]
    }
   ],
   "source": [
    "print(Affine.scale(xres, yres))"
   ]
  },
  {
   "cell_type": "markdown",
   "id": "4e37a527",
   "metadata": {},
   "source": [
    "We can do both operations simultaneously in a new `transform` matrix by calculating the product of the Translate and Scale matrix: \n",
    "\n",
    "$$\n",
    "    \\mbox{Translate} \\cdot \\mbox{Scale} =  \\begin{bmatrix} xres & 0 & \\Delta x \\\\ 0 & yres & \\Delta y \\\\ 0 & 0 & 1 \\end{bmatrix} \n",
    "$$"
   ]
  },
  {
   "cell_type": "code",
   "execution_count": 6,
   "id": "ed1f0d37",
   "metadata": {},
   "outputs": [
    {
     "name": "stdout",
     "output_type": "stream",
     "text": [
      "| 30.00, 0.00,-105.00|\n",
      "| 0.00,-30.00, 105.00|\n",
      "| 0.00, 0.00, 1.00|\n"
     ]
    }
   ],
   "source": [
    "transform = Affine.translation(x[0] - xres / 2, y[0] - yres / 2) * Affine.scale(xres, yres)\n",
    "print(transform)"
   ]
  },
  {
   "cell_type": "markdown",
   "id": "83aa53f9",
   "metadata": {},
   "source": [
    "Now we need to write out a `tif` file that holds the data in `Z` and its data type with `dtype`, the location described by `transform`, in coordinates described by the coordinate reference system `+proj=latlon`, the number of 'bands' of data in `count` (in this case just one), and the shape in `height` and `width`."
   ]
  },
  {
   "cell_type": "code",
   "execution_count": 7,
   "id": "ef79a7d2",
   "metadata": {},
   "outputs": [],
   "source": [
    "import rasterio\n",
    "with rasterio.open(\n",
    "    '../temp/Z.tif',\n",
    "    'w',\n",
    "    driver='GTiff',\n",
    "    height=Z.shape[0],\n",
    "    width=Z.shape[1],\n",
    "    count=1,\n",
    "    dtype=Z.dtype,\n",
    "    crs='+proj=latlong',\n",
    "    transform=transform,\n",
    ") as dst:\n",
    "    dst.write(Z, 1)"
   ]
  },
  {
   "cell_type": "markdown",
   "id": "f96e77b0",
   "metadata": {},
   "source": [
    "All this info is stored in `dst` and then written to disk with `dst.write(Z,1)`. Where `write` gets the array of data `Z` and the band location to write to, in this case band `1`. This is a bit awkward, but I believe is a carryover from GDAL which rasterio relies on heavily (like all other platforms including arcmap etc). \n",
    "\n",
    "\n",
    "### The Crazy Tale of the Upper Left Hand Corner\n",
    "To help us understand what is going on with `transform` it helps to work an example. For our example above we need to define the translate matrix that helps define the upper left hand corner of our rainfall raster data `Z`. In particular we need the upper left cell center to be located at (-90,90), so the upper left hand corner need to be 1/2 the resolution above and to the left of (-90,90), implying a location of (-105,105) since the resolution is 30 degrees.\n",
    "\n",
    "We can visualize what we need to do here: \n",
    "\n",
    "```{figure} ../_static/c_data_types/c_raster_upperleft_drawing.png\n",
    ":name: Example of using affine translation to shift the upper left hand corner\n",
    ":width: 500px\n",
    "Example of using translation to shift the upper left hand corner\n",
    "```\n",
    "\n",
    "Let's walk through the math behind the scenes. Here we use our transform matrix to move our upper left hand corner which is assumed to start at the origin (0,0).\n",
    "\n",
    "```{figure} ../_static/c_data_types/c_raster_upperleft_transform.png\n",
    ":name: Example of using affine translation of a matrix to shift the upper left hand corner\n",
    ":width: 500px\n",
    "Example of using affine translation of a matrix to shift the upper left hand corner\n",
    "```\n",
    "The final coordinate of the upper left hand corner are $(x_0,y_0) = (-105,105)$\n",
    "\n",
    "\n",
    "### Translate is a \"map\"\n",
    "Now here's the magic, our new `translate` matrix can be used to easily find the coordinates of any cell based on its row and column number. To see how if works, we are going to multiply our `translate` matrix by `(column_number, row_number)` to retrieve the coordinates of that cell's upper right hand corner. Essentially, `translate` \"maps\" row and column indexes to coordinates! OMG! This is fun... ok kidding, but it's useful. \n",
    "\n",
    " \n",
    "Let's see how we can calculate a few coordinates (upper left) based on the visual examples below:\n",
    "\n",
    "```{figure} ../_static/c_data_types/c_raster_raster.png\n",
    ":name: Example of using transform to identify coordinates based on row and column\n",
    ":width: 500px\n",
    "Example of using transform to identify coordinates based on row and column\n",
    "```\n",
    "Let's start with the easiest and retrieve the upper left corner coordinates based on `transform * (row_number, column_number)`:"
   ]
  },
  {
   "cell_type": "code",
   "execution_count": 8,
   "id": "c47d51a0",
   "metadata": {},
   "outputs": [
    {
     "name": "stdout",
     "output_type": "stream",
     "text": [
      "(-105.0, 105.0)\n"
     ]
    }
   ],
   "source": [
    "print(transform*(0,0))"
   ]
  },
  {
   "cell_type": "markdown",
   "id": "f5cdf526",
   "metadata": {},
   "source": [
    "Let's find the corner that is one cell down (-30&deg;) and to the right (+30&deg;)"
   ]
  },
  {
   "cell_type": "code",
   "execution_count": 9,
   "id": "79e531b6",
   "metadata": {},
   "outputs": [
    {
     "name": "stdout",
     "output_type": "stream",
     "text": [
      "(-75.0, 75.0)\n"
     ]
    }
   ],
   "source": [
    "print(transform*(1,1))"
   ]
  },
  {
   "cell_type": "markdown",
   "id": "b943dd8d",
   "metadata": {},
   "source": [
    "Just to make sure it works let's find a harder one, 5th column right, 2nd row down:"
   ]
  },
  {
   "cell_type": "code",
   "execution_count": 10,
   "id": "bb79d794",
   "metadata": {},
   "outputs": [
    {
     "name": "stdout",
     "output_type": "stream",
     "text": [
      "(45.0, 45.0)\n"
     ]
    }
   ],
   "source": [
    "print(transform*(5,2))"
   ]
  },
  {
   "cell_type": "markdown",
   "id": "7c2042ef",
   "metadata": {},
   "source": [
    "#### How Transforms Works\n",
    "Let's work the example of finding the upper left coordinates of with `row=5`, `column=2`:\n",
    "\n",
    "$$\n",
    "   \\begin{eqnarray}\n",
    "      \\begin{bmatrix} \n",
    "          30 & 0 & -105 \\\\  \n",
    "          0 & -30 & 105 \\\\ \n",
    "          0 & 0 & 1 \n",
    "      \\end{bmatrix}  \n",
    "      \\begin{bmatrix} 5 \\\\ 2 \\\\ 1 \\end{bmatrix}   =\n",
    "      \\begin{bmatrix} \n",
    "          5 \\times 30 + 2 \\times 0 + 1 \\times -105  \\\\  \n",
    "          5 \\times 0 + 2 \\times -30 + 1 \\times 105 \\\\ \n",
    "          5 \\times 0 + 2 \\times 0 + 1 \\times 1  \n",
    "      \\end{bmatrix} = \n",
    "      \\begin{bmatrix} 45  \\\\  45 \\\\ 1  \\end{bmatrix}\n",
    "   \\end{eqnarray}\n",
    "$$\n",
    "\n",
    "Wow, it works! Come on it's at least a little bit cool. Depending on your definition of cool.\n",
    "\n",
    "## Reproject a Raster - The Simple Case\n",
    "How then do we reproject a raster? Since `transform` is a map of pixel locations, warping a raster then becomes as simple as knowing the `transform` of your destination based on the description of the new coordinate reference system (CRS). If you haven't please study [affine transformations](d_affine.md).\n",
    "\n",
    "### Shifting the Prime Meridian\n",
    "One of the easiest cases is that of false easting, or moving the prime meridian. Let's walk through an example where we start with a raster with an upper left hand corner at (0, 45), then we will apply a transform to move it to (10, 45) by moving the prime meridian 10&deg; to the west (e.g. using `+lon_0=-10` from the  [proj4string](d_understand_crs_codes.md)). \n",
    "\n",
    "Let's start be looking visually at what we plan to do:\n",
    "\n",
    "\n",
    "```{figure} ../_static/d_crs/d_europe_translate_raster.png\n",
    ":name: Example of using translate to reproject an image by moving prime meridian\n",
    ":width: 500px\n",
    "Example of using translate to reproject an image by moving prime meridian\n",
    "```\n",
    "\n",
    "\n",
    "We can then use our knowledge of matrix algebra and transform matrices to solve for the new upper left hand corner coordinate ($x_B$, $y_B$)\n",
    "\n",
    "```{figure} ../_static/d_crs/d_europe_translate_raster_m.png\n",
    ":name: Example of using translate matrix to reproject an image by moving prime meridian\n",
    ":width: 400px\n",
    "Example of using translate matrix to reproject an image by moving prime meridian\n",
    "```\n",
    "\n",
    "## Reproject a Raster - The Complex Case\n",
    "In many cases reprojecting a raster requires changing the number of rows or columns, or 'warping' (i.e. bending) an image. All of these examples create a problem, the centroids of the new projected raster don't line up with the centroids of the original raster. Therefore they now represent locations on the ground that weren't in the original dataset. \n",
    "\n",
    "Take for instance the case of a 'warped' raster image (below) which for instance occurs when you switch from a spherical CRS (like lat lon) to a projected (or flat) CRS. Notice that the centroids of the two rasters no longer over lap:\n",
    "\n",
    "\n",
    "```{figure} ../_static/d_crs/d_warp.png\n",
    ":name: Example of warping an image during reprojection\n",
    ":width: 500px\n",
    "Example of warping an image during reprojection\n",
    "```\n",
    "\n",
    "In this case we have a decision to make, how will we assign values to the new warped raster? Keep in mind the values must change because they now point to different locations on the ground.  For this we have a number of 'interpolation' options, some simple, some complex.\n",
    "\n",
    "```{note}\n",
    "What is interpolation? Interpolation allows us to make an informed guess of a value at a new location. [Read more here](http://wiki.gis.com/wiki/index.php/Interpolation)\n",
    "```\n",
    "\n",
    "(d_raster_crs_intro_interpolation_options)=\n",
    "\n",
    "### Interpolation Options\n",
    "There are three commonly used interpolation methods: a) Nearest neighbor - assigns the value of the nearest centroid, b) bilinear interpolation - uses a straight line between know locations, c) bicubic interpolation - uses curved line between known locations. \n",
    "\n",
    "In the visual example below we will try to estimate the value for location `C` based on the known values at locations `A` and `B`. \n",
    "\n",
    "```{figure} ../_static/d_crs/d_bilinear.png\n",
    ":name: Example of nearest neighbor and bilinear interpolation\n",
    ":width: 500px\n",
    "Example of nearest neighbor and bilinear interpolation\n",
    "```\n",
    "\n",
    "\n",
    "```{figure} ../_static/d_crs/d_bicubic.png\n",
    ":name: Example of nearest neighbor and bicubic interpolation\n",
    ":width: 400px\n",
    "Example of nearest neighbor and bicubic interpolation\n",
    "```\n",
    "### Choosing the Right Interpolation Method\n",
    "Choosing the correct interpolation method is important. The following table should help you to decided. Remember categorical data might include land cover classes (forest, water, etc), and continuous data is measurable for instance rainfall (values 0 to 20mm).\n",
    "\n",
    "| Method    | Description    |  Fast  |  Categorical  | Continuous |\n",
    "| :--- | ---: | :--- | ---: |:--- | \n",
    "| Nearest<br>Neighbor    | Assigns nearest value    | Y | Y | |\n",
    "| Bilinear | Linear estimation | Y |  | Y |\n",
    "| Bicubic | Non-Linear estimation | Most of<br>the time | | Y|\n",
    "\n",
    "For categorical data, Nearest Neighbor is your only choice, enjoy it. For continuous data, like quantity of rain, you can choose between Bilinear and Bicubic (i.e. \"cubic convolution\"). For most data Bilinear interpolation is fast and effective. However if you believe your data is highly non-linear, or widely spaced, you might consider using Bicubic. Some experimentation here is often informative. \n",
    "\n",
    "## Reprojecting a Raster with Rasterio \n",
    "Ok enough talk already, how do we reproject a raster? Before we get into it, we need to talk some more... about `calculate_default_transform`. `calculate_default_transform` allows us to generate the transform matrix required for the new reprojected raster based on the characteristics of the original and the desired output CRS. Note that the `source` (src) is the original input raster, and the `destination` (dst) is the outputed reprojected raster. \n",
    "\n",
    "First, remember that the transform matrix takes the following form:\n",
    "\n",
    "$$\n",
    "    \\mbox{Transform} =  \\begin{bmatrix} xres & 0 & \\Delta x \\\\ 0 & yres & \\Delta y \\\\ 0 & 0 & 1 \\end{bmatrix} \n",
    "$$\n",
    "\n",
    "Now let's calculate the tranform matrix for the destination raster:"
   ]
  },
  {
   "cell_type": "code",
   "execution_count": 11,
   "id": "017e5635",
   "metadata": {},
   "outputs": [
    {
     "name": "stdout",
     "output_type": "stream",
     "text": [
      "Source Transform:\n",
      " | 30.00, 0.00, 717345.00|\n",
      "| 0.00,-30.00,-2776995.00|\n",
      "| 0.00, 0.00, 1.00| \n",
      "\n",
      "Destination Transform:\n",
      " | 33.24, 0.00,-6105300.09|\n",
      "| 0.00,-33.24,-2885952.71|\n",
      "| 0.00, 0.00, 1.00|\n"
     ]
    }
   ],
   "source": [
    "import numpy as np\n",
    "import rasterio\n",
    "from rasterio.warp import reproject, Resampling, calculate_default_transform\n",
    "\n",
    "dst_crs = \"EPSG:3857\"  # web mercator(ie google maps)\n",
    "\n",
    "with rasterio.open(\"../data/LC08_L1TP_224078_20200518_20200518_01_RT.TIF\") as src:\n",
    "\n",
    "    # transform for input raster\n",
    "    src_transform = src.transform\n",
    "\n",
    "    # calculate the transform matrix for the output\n",
    "    dst_transform, width, height = calculate_default_transform(\n",
    "        src.crs,    # source CRS\n",
    "        dst_crs,    # destination CRS\n",
    "        src.width,    # column count\n",
    "        src.height,  # row count\n",
    "        *src.bounds,  # unpacks outer boundaries (left, bottom, right, top)\n",
    "    )\n",
    "\n",
    "print(\"Source Transform:\\n\",src_transform,'\\n')\n",
    "print(\"Destination Transform:\\n\", dst_transform)"
   ]
  },
  {
   "cell_type": "markdown",
   "id": "6992460f",
   "metadata": {},
   "source": [
    "Notice that in order to keep the same number of rows and columns that the resolution of the destination raster increased from 30 meters to 33.24 meters. Also the coordinates of the upper left hand corner have shifted (check $\\Delta x, \\Delta x$).\n",
    "\n",
    "Ok finally!"
   ]
  },
  {
   "cell_type": "code",
   "execution_count": 12,
   "id": "c0a1e4ee",
   "metadata": {},
   "outputs": [],
   "source": [
    "dst_crs = \"EPSG:3857\"  # web mercator(ie google maps)\n",
    "\n",
    "with rasterio.open(\"../data/LC08_L1TP_224078_20200518_20200518_01_RT.TIF\") as src:\n",
    "    src_transform = src.transform\n",
    "\n",
    "    # calculate the transform matrix for the output\n",
    "    dst_transform, width, height = calculate_default_transform(\n",
    "        src.crs,\n",
    "        dst_crs,\n",
    "        src.width,\n",
    "        src.height,\n",
    "        *src.bounds,  # unpacks outer boundaries (left, bottom, right, top)\n",
    "    )\n",
    "\n",
    "    # set properties for output\n",
    "    dst_kwargs = src.meta.copy()\n",
    "    dst_kwargs.update(\n",
    "        {\n",
    "            \"crs\": dst_crs,\n",
    "            \"transform\": dst_transform,\n",
    "            \"width\": width,\n",
    "            \"height\": height,\n",
    "            \"nodata\": 0,  # replace 0 with np.nan\n",
    "        }\n",
    "    )\n",
    "\n",
    "    with rasterio.open(\"../temp/LC08_20200518_webMC.tif\", \"w\", **dst_kwargs) as dst:\n",
    "        for i in range(1, src.count + 1):\n",
    "            reproject(\n",
    "                source=rasterio.band(src, i),\n",
    "                destination=rasterio.band(dst, i),\n",
    "                src_transform=src.transform,\n",
    "                src_crs=src.crs,\n",
    "                dst_transform=dst_transform,\n",
    "                dst_crs=dst_crs,\n",
    "                resampling=Resampling.nearest,\n",
    "            )"
   ]
  },
  {
   "cell_type": "markdown",
   "id": "8f7d25b3",
   "metadata": {},
   "source": [
    "```{figure} ../_static/d_crs/d_reproj_image.png\n",
    ":name: Reprojected Landsat Image\n",
    ":width: 400px\n",
    "Reprojected Landsat Image\n",
    "```\n",
    "\n",
    "Source: [Creating Raster Data](https://rasterio.readthedocs.io/en/latest/quickstart.html?highlight=X%2C%20Y%20%3D%20np.meshgrid(x%2C%20y)#creating-data)\n",
    "\n",
    "<!-- \n",
    "6.6 Reprojecting raster geometries\n",
    "\n",
    "The projection concepts described in the previous section apply equally to rasters. However, there are important differences in reprojection of vectors and rasters: transforming a vector object involves changing the coordinates of every vertex but this does not apply to raster data. Rasters are composed of rectangular cells of the same size (expressed by map units, such as degrees or meters), so it is impossible to transform coordinates of pixels separately. Raster reprojection involves creating a new raster object, often with a different number of columns and rows than the original. The attributes must subsequently be re-estimated, allowing the new pixels to be ‘filled’ with appropriate values. In other words, raster reprojection can be thought of as two separate spatial operations: a vector reprojection of cell centroids to another CRS (Section 6.4), and computation of new pixel values through resampling (Section 5.3.3). Thus in most cases when both raster and vector data are used, it is better to avoid reprojecting rasters and reproject vectors instead.\n",
    "\n",
    "The raster reprojection process is done with projectRaster() from the raster package. Like the st_transform() function demonstrated in the previous section, projectRaster() takes a geographic object (a raster dataset in this case) and a crs argument. However, projectRaster() only accepts the lengthy proj4string definitions of a CRS rather than concise EPSG codes.\n",
    "It is possible to use a EPSG code in a proj4string definition with \"+init=epsg:MY_NUMBER\". For example, one can use the \"+init=epsg:4326\" definition to set CRS to WGS84 (EPSG code of 4326). The PROJ library automatically adds the rest of the parameters and converts them into \"+init=epsg:4326 +proj=longlat +datum=WGS84 +no_defs +ellps=WGS84 +towgs84=0,0,0\".\n",
    "\n",
    "Let’s take a look at two examples of raster transformation: using categorical and continuous data. Land cover data are usually represented by categorical maps. The nlcd2011.tif file provides information for a small area in Utah, USA obtained from National Land Cover Database 2011 in the NAD83 / UTM zone 12N CRS.\n",
    "\n",
    "cat_raster = raster(system.file(\"raster/nlcd2011.tif\", package = \"spDataLarge\"))\n",
    "#> Warning in showSRID(uprojargs, format = \"PROJ\", multiline = \"NO\", prefer_proj\n",
    "#> = prefer_proj): Discarded datum Unknown based on GRS80 ellipsoid in Proj4\n",
    "#> definition\n",
    "crs(cat_raster)\n",
    "#> CRS arguments:\n",
    "#>  +proj=utm +zone=12 +ellps=GRS80 +units=m +no_defs\n",
    "\n",
    "In this region, 14 land cover classes were distinguished (a full list of NLCD2011 land cover classes can be found at mrlc.gov):\n",
    "\n",
    "unique(cat_raster)\n",
    "#>  [1] 11 21 22 23 31 41 42 43 52 71 81 82 90 95\n",
    "\n",
    "When reprojecting categorical rasters, the estimated values must be the same as those of the original. This could be done using the nearest neighbor method (ngb). This method sets each new cell value to the value of the nearest cell (center) of the input raster. An example is reprojecting cat_raster to WGS84, a geographic CRS well suited for web mapping. The first step is to obtain the PROJ definition of this CRS, which can be done using the http://spatialreference.org webpage. The final step is to reproject the raster with the projectRaster() function which, in the case of categorical data, uses the nearest neighbor method (ngb):\n",
    "\n",
    "wgs84 = \"+proj=longlat +ellps=WGS84 +datum=WGS84 +no_defs\"\n",
    "cat_raster_wgs84 = projectRaster(cat_raster, crs = wgs84, method = \"ngb\")\n",
    "\n",
    "Many properties of the new object differ from the previous one, including the number of columns and rows (and therefore number of cells), resolution (transformed from meters into degrees), and extent, as illustrated in Table 6.1 (note that the number of categories increases from 14 to 15 because of the addition of NA values, not because a new category has been created — the land cover classes are preserved).\n",
    "TABLE 6.1: Key attributes in the original (‘cat_raster’) and projected (‘cat_raster_wgs84’) categorical raster datasets. CRS \tnrow \tncol \tncell \tresolution \tunique_categories\n",
    "NAD83 \t1359 \t1073 \t1458207 \t31.5275 \t14\n",
    "WGS84 \t1394 \t1111 \t1548734 \t0.0003 \t15\n",
    "\n",
    "Reprojecting numeric rasters (with numeric or in this case integer values) follows an almost identical procedure. This is demonstrated below with srtm.tif in spDataLarge from the Shuttle Radar Topography Mission (SRTM), which represents height in meters above sea level (elevation) with the WGS84 CRS:\n",
    "\n",
    "con_raster = raster(system.file(\"raster/srtm.tif\", package = \"spDataLarge\"))\n",
    "crs(con_raster)\n",
    "#> CRS arguments: +proj=longlat +datum=WGS84 +no_defs\n",
    "\n",
    "We will reproject this dataset into a projected CRS, but not with the nearest neighbor method which is appropriate for categorical data. Instead, we will use the bilinear method which computes the output cell value based on the four nearest cells in the original raster. The values in the projected dataset are the distance-weighted average of the values from these four cells: the closer the input cell is to the center of the output cell, the greater its weight. The following commands create a text string representing the Oblique Lambert azimuthal equal-area projection, and reproject the raster into this CRS, using the bilinear method:\n",
    "\n",
    "equalarea = \"+proj=laea +lat_0=37.32 +lon_0=-113.04\"\n",
    "con_raster_ea = projectRaster(con_raster, crs = equalarea, method = \"bilinear\")\n",
    "crs(con_raster_ea)\n",
    "#> CRS arguments:\n",
    "#>  +proj=laea +lat_0=37.32 +lon_0=-113.04 +x_0=0 +y_0=0 +datum=WGS84\n",
    "#> +units=m +no_defs\n",
    "\n",
    "Raster reprojection on numeric variables also leads to small changes to values and spatial properties, such as the number of cells, resolution, and extent. These changes are demonstrated in Table 6.230:\n",
    "TABLE 6.2: Key attributes in the original (‘con_raster’) and projected (‘con_raster_ea’) continuous raster datasets. CRS \tnrow \tncol \tncell \tresolution \tmean\n",
    "WGS84 \t457 \t465 \t212505 \t0.0008 \t1843\n",
    "Equal-area \t467 \t478 \t223226 \t83.2000 \t1842\n",
    "Of course, the limitations of 2D Earth projections apply as much to vector as to raster data. At best we can comply with two out of three spatial properties (distance, area, direction). Therefore, the task at hand determines which projection to choose. For instance, if we are interested in a density (points per grid cell or inhabitants per grid cell) we should use an equal-area projection (see also Chapter 13).\n",
    "\n",
    "There is more to learn about CRSs. An excellent resource in this area, also implemented in R, is the website R Spatial. Chapter 6 for this free online book is recommended reading — see: rspatial.org/spatial/6-crs.html -->"
   ]
  }
 ],
 "metadata": {
  "jupytext": {
   "text_representation": {
    "extension": ".md",
    "format_name": "myst"
   }
  },
  "kernelspec": {
   "display_name": "Python 3",
   "language": "python",
   "name": "python3"
  },
  "language_info": {
   "codemirror_mode": {
    "name": "ipython",
    "version": 3
   },
   "file_extension": ".py",
   "mimetype": "text/x-python",
   "name": "python",
   "nbconvert_exporter": "python",
   "pygments_lexer": "ipython3",
   "version": "3.10.9"
  },
  "myst": {
   "html_meta": {
    "description lang=en": "Learn the basics of coordinate reference systems (CRS) or projections for spatial raster data. We also cover how to transform CRS using rasterio and geowombat.",
    "description lang=es": "Aprenda los conceptos básicos de los sistemas de referencia de coordenadas (CRS) o proyecciones para datos ráster geoespaciales. También cubrimos cómo transformar CRS usando rasterio y geowombat.",
    "description lang=fr": "Apprenez les bases des systèmes de référence de coordonnées (CRS) ou des projections pour les données raster géospatiales. Nous expliquons également comment transformer CRS en utilisant rasterio et geowombat.",
    "keywords": "spatial, raster, affine, crs, coordinate reference system, interpolation, projection",
    "property=og:locale": "en_US"
   }
  },
  "source_map": [
   17,
   49,
   64,
   84,
   87,
   89,
   92,
   98,
   101,
   112,
   114,
   122,
   125,
   128,
   142,
   179,
   181,
   183,
   185,
   187,
   189,
   296,
   319,
   325,
   363
  ]
 },
 "nbformat": 4,
 "nbformat_minor": 5
}