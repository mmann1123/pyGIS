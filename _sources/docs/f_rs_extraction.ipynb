{
 "cells": [
  {
   "cell_type": "markdown",
   "id": "b2dbc8a5",
   "metadata": {},
   "source": [
    "(f_rs_extraction)=\n",
    "\n",
    "\n",
    "---------------\n",
    "```{admonition} Learning Objectives\n",
    "  - Subset bands by index or name\n",
    "  - Extract raster data by row and column number\n",
    "  - Extract data by bounding window\n",
    "  - Extract raster data by coordinates\n",
    "  - Extract raster data by geometry (point, polygon)\n",
    "```\n",
    "```{admonition} Review\n",
    "* [Data Structures](c_features.md)\n",
    "* [Raster Data ](c_rasters.md)\n",
    "* [Reading and writing remotely sensed data ](f_rs_io.md)\n",
    "```\n",
    "--------------\n",
    "\n",
    "\n",
    "# Raster Data Extraction\n",
    "Raster data is often of little use unless we can extract and summarize the data. For instance, extracting raster to points by coordinates allows us to pass data to machine learning models for land cover classification or cloud masking. \n",
    "\n",
    "## Subsetting rasters\n",
    "We can subset sections of the data array in a number of ways. In this case we will create a slice based on row and column location to subset LandSat data using a `rasterio.window.Window`.\n",
    "\n",
    "Either a `rasterio.window.Window` object or tuple can be used with `geowombat.open`."
   ]
  },
  {
   "cell_type": "code",
   "execution_count": 1,
   "id": "0a3bbe49",
   "metadata": {},
   "outputs": [
    {
     "ename": "ValueError",
     "evalue": "numpy.dtype size changed, may indicate binary incompatibility. Expected 96 from C header, got 88 from PyObject",
     "output_type": "error",
     "traceback": [
      "\u001b[0;31m---------------------------------------------------------------------------\u001b[0m",
      "\u001b[0;31mValueError\u001b[0m                                Traceback (most recent call last)",
      "Cell \u001b[0;32mIn[1], line 1\u001b[0m\n\u001b[0;32m----> 1\u001b[0m \u001b[38;5;28;01mimport\u001b[39;00m \u001b[38;5;21;01mgeowombat\u001b[39;00m \u001b[38;5;28;01mas\u001b[39;00m \u001b[38;5;21;01mgw\u001b[39;00m\n\u001b[1;32m      2\u001b[0m \u001b[38;5;28;01mfrom\u001b[39;00m \u001b[38;5;21;01mgeowombat\u001b[39;00m\u001b[38;5;21;01m.\u001b[39;00m\u001b[38;5;21;01mdata\u001b[39;00m \u001b[38;5;28;01mimport\u001b[39;00m rgbn\n\u001b[1;32m      4\u001b[0m \u001b[38;5;28;01mfrom\u001b[39;00m \u001b[38;5;21;01mrasterio\u001b[39;00m\u001b[38;5;21;01m.\u001b[39;00m\u001b[38;5;21;01mwindows\u001b[39;00m \u001b[38;5;28;01mimport\u001b[39;00m Window\n",
      "File \u001b[0;32m~/miniconda3/envs/pygis2/lib/python3.10/site-packages/geowombat/__init__.py:5\u001b[0m\n\u001b[1;32m      2\u001b[0m __version__ \u001b[38;5;241m=\u001b[39m \u001b[38;5;124m'\u001b[39m\u001b[38;5;124m2.1.3\u001b[39m\u001b[38;5;124m'\u001b[39m\n\u001b[1;32m      4\u001b[0m \u001b[38;5;28;01mfrom\u001b[39;00m \u001b[38;5;21;01m.\u001b[39;00m \u001b[38;5;28;01mimport\u001b[39;00m config\n\u001b[0;32m----> 5\u001b[0m \u001b[38;5;28;01mfrom\u001b[39;00m \u001b[38;5;21;01m.\u001b[39;00m\u001b[38;5;21;01mcore\u001b[39;00m\u001b[38;5;21;01m.\u001b[39;00m\u001b[38;5;21;01mapi\u001b[39;00m \u001b[38;5;28;01mimport\u001b[39;00m \u001b[38;5;28mopen\u001b[39m\n\u001b[1;32m      6\u001b[0m \u001b[38;5;28;01mfrom\u001b[39;00m \u001b[38;5;21;01m.\u001b[39;00m\u001b[38;5;21;01mcore\u001b[39;00m\u001b[38;5;21;01m.\u001b[39;00m\u001b[38;5;21;01mapi\u001b[39;00m \u001b[38;5;28;01mimport\u001b[39;00m load\n\u001b[1;32m      7\u001b[0m \u001b[38;5;28;01mfrom\u001b[39;00m \u001b[38;5;21;01m.\u001b[39;00m\u001b[38;5;21;01mcore\u001b[39;00m\u001b[38;5;21;01m.\u001b[39;00m\u001b[38;5;21;01mapi\u001b[39;00m \u001b[38;5;28;01mimport\u001b[39;00m series\n",
      "File \u001b[0;32m~/miniconda3/envs/pygis2/lib/python3.10/site-packages/geowombat/core/__init__.py:1\u001b[0m\n\u001b[0;32m----> 1\u001b[0m \u001b[38;5;28;01mfrom\u001b[39;00m \u001b[38;5;21;01m.\u001b[39;00m\u001b[38;5;21;01m.\u001b[39;00m\u001b[38;5;21;01mbackends\u001b[39;00m \u001b[38;5;28;01mimport\u001b[39;00m transform_crs\n\u001b[1;32m      2\u001b[0m \u001b[38;5;28;01mfrom\u001b[39;00m \u001b[38;5;21;01m.\u001b[39;00m\u001b[38;5;21;01mio\u001b[39;00m \u001b[38;5;28;01mimport\u001b[39;00m apply\n\u001b[1;32m      3\u001b[0m \u001b[38;5;28;01mfrom\u001b[39;00m \u001b[38;5;21;01m.\u001b[39;00m\u001b[38;5;21;01mio\u001b[39;00m \u001b[38;5;28;01mimport\u001b[39;00m save\n",
      "File \u001b[0;32m~/miniconda3/envs/pygis2/lib/python3.10/site-packages/geowombat/backends/__init__.py:2\u001b[0m\n\u001b[1;32m      1\u001b[0m \u001b[38;5;28;01mfrom\u001b[39;00m \u001b[38;5;21;01m.\u001b[39;00m\u001b[38;5;21;01mdask_\u001b[39;00m \u001b[38;5;28;01mimport\u001b[39;00m Cluster\n\u001b[0;32m----> 2\u001b[0m \u001b[38;5;28;01mfrom\u001b[39;00m \u001b[38;5;21;01m.\u001b[39;00m\u001b[38;5;21;01mxarray_\u001b[39;00m \u001b[38;5;28;01mimport\u001b[39;00m concat, mosaic\n\u001b[1;32m      3\u001b[0m \u001b[38;5;28;01mfrom\u001b[39;00m \u001b[38;5;21;01m.\u001b[39;00m\u001b[38;5;21;01mxarray_\u001b[39;00m \u001b[38;5;28;01mimport\u001b[39;00m warp_open\n\u001b[1;32m      4\u001b[0m \u001b[38;5;28;01mfrom\u001b[39;00m \u001b[38;5;21;01m.\u001b[39;00m\u001b[38;5;21;01mxarray_\u001b[39;00m \u001b[38;5;28;01mimport\u001b[39;00m transform_crs\n",
      "File \u001b[0;32m~/miniconda3/envs/pygis2/lib/python3.10/site-packages/geowombat/backends/xarray_.py:8\u001b[0m\n\u001b[1;32m      5\u001b[0m \u001b[38;5;28;01mimport\u001b[39;00m \u001b[38;5;21;01mtyping\u001b[39;00m \u001b[38;5;28;01mas\u001b[39;00m \u001b[38;5;21;01mT\u001b[39;00m\n\u001b[1;32m      7\u001b[0m \u001b[38;5;28;01mfrom\u001b[39;00m \u001b[38;5;21;01m.\u001b[39;00m\u001b[38;5;21;01m.\u001b[39;00m\u001b[38;5;21;01mhandler\u001b[39;00m \u001b[38;5;28;01mimport\u001b[39;00m add_handler\n\u001b[0;32m----> 8\u001b[0m \u001b[38;5;28;01mfrom\u001b[39;00m \u001b[38;5;21;01m.\u001b[39;00m\u001b[38;5;21;01m.\u001b[39;00m\u001b[38;5;21;01mcore\u001b[39;00m\u001b[38;5;21;01m.\u001b[39;00m\u001b[38;5;21;01mwindows\u001b[39;00m \u001b[38;5;28;01mimport\u001b[39;00m get_window_offsets\n\u001b[1;32m      9\u001b[0m \u001b[38;5;28;01mfrom\u001b[39;00m \u001b[38;5;21;01m.\u001b[39;00m\u001b[38;5;21;01m.\u001b[39;00m\u001b[38;5;21;01mcore\u001b[39;00m\u001b[38;5;21;01m.\u001b[39;00m\u001b[38;5;21;01mutil\u001b[39;00m \u001b[38;5;28;01mimport\u001b[39;00m parse_filename_dates\n\u001b[1;32m     10\u001b[0m \u001b[38;5;28;01mfrom\u001b[39;00m \u001b[38;5;21;01m.\u001b[39;00m\u001b[38;5;21;01m.\u001b[39;00m\u001b[38;5;21;01mconfig\u001b[39;00m \u001b[38;5;28;01mimport\u001b[39;00m config\n",
      "File \u001b[0;32m~/miniconda3/envs/pygis2/lib/python3.10/site-packages/geowombat/core/windows.py:1\u001b[0m\n\u001b[0;32m----> 1\u001b[0m \u001b[38;5;28;01mfrom\u001b[39;00m \u001b[38;5;21;01m.\u001b[39;00m\u001b[38;5;21;01mutil\u001b[39;00m \u001b[38;5;28;01mimport\u001b[39;00m n_rows_cols\n\u001b[1;32m      3\u001b[0m \u001b[38;5;28;01mfrom\u001b[39;00m \u001b[38;5;21;01mrasterio\u001b[39;00m\u001b[38;5;21;01m.\u001b[39;00m\u001b[38;5;21;01mwindows\u001b[39;00m \u001b[38;5;28;01mimport\u001b[39;00m Window\n\u001b[1;32m      6\u001b[0m \u001b[38;5;28;01mdef\u001b[39;00m \u001b[38;5;21mget_window_offsets\u001b[39m(n_rows,\n\u001b[1;32m      7\u001b[0m                        n_cols,\n\u001b[1;32m      8\u001b[0m                        row_chunks,\n\u001b[1;32m      9\u001b[0m                        col_chunks,\n\u001b[1;32m     10\u001b[0m                        return_as\u001b[38;5;241m=\u001b[39m\u001b[38;5;124m'\u001b[39m\u001b[38;5;124mlist\u001b[39m\u001b[38;5;124m'\u001b[39m,\n\u001b[1;32m     11\u001b[0m                        padding\u001b[38;5;241m=\u001b[39m\u001b[38;5;28;01mNone\u001b[39;00m):\n",
      "File \u001b[0;32m~/miniconda3/envs/pygis2/lib/python3.10/site-packages/geowombat/core/util.py:9\u001b[0m\n\u001b[1;32m      6\u001b[0m \u001b[38;5;28;01mimport\u001b[39;00m \u001b[38;5;21;01mlogging\u001b[39;00m\n\u001b[1;32m      8\u001b[0m \u001b[38;5;28;01mfrom\u001b[39;00m \u001b[38;5;21;01m.\u001b[39;00m\u001b[38;5;21;01m.\u001b[39;00m\u001b[38;5;21;01mhandler\u001b[39;00m \u001b[38;5;28;01mimport\u001b[39;00m add_handler\n\u001b[0;32m----> 9\u001b[0m \u001b[38;5;28;01mfrom\u001b[39;00m \u001b[38;5;21;01m.\u001b[39;00m\u001b[38;5;21;01m.\u001b[39;00m\u001b[38;5;21;01mmoving\u001b[39;00m \u001b[38;5;28;01mimport\u001b[39;00m moving_window\n\u001b[1;32m     11\u001b[0m \u001b[38;5;28;01mimport\u001b[39;00m \u001b[38;5;21;01mnumpy\u001b[39;00m \u001b[38;5;28;01mas\u001b[39;00m \u001b[38;5;21;01mnp\u001b[39;00m\n\u001b[1;32m     12\u001b[0m \u001b[38;5;28;01mimport\u001b[39;00m \u001b[38;5;21;01mgeopandas\u001b[39;00m \u001b[38;5;28;01mas\u001b[39;00m \u001b[38;5;21;01mgpd\u001b[39;00m\n",
      "File \u001b[0;32m~/miniconda3/envs/pygis2/lib/python3.10/site-packages/geowombat/moving/__init__.py:1\u001b[0m\n\u001b[0;32m----> 1\u001b[0m \u001b[38;5;28;01mfrom\u001b[39;00m \u001b[38;5;21;01m.\u001b[39;00m\u001b[38;5;21;01m_moving\u001b[39;00m \u001b[38;5;28;01mimport\u001b[39;00m moving_window\n",
      "File \u001b[0;32msrc/geowombat/moving/_moving.pyx:1\u001b[0m, in \u001b[0;36minit geowombat.moving._moving\u001b[0;34m()\u001b[0m\n",
      "\u001b[0;31mValueError\u001b[0m: numpy.dtype size changed, may indicate binary incompatibility. Expected 96 from C header, got 88 from PyObject"
     ]
    }
   ],
   "source": [
    "import geowombat as gw\n",
    "from geowombat.data import rgbn\n",
    "\n",
    "from rasterio.windows import Window\n",
    "w = Window(row_off=0, col_off=0, height=100, width=100)\n",
    "\n",
    "with gw.open(rgbn,\n",
    "                band_names=['blue', 'green', 'red'],\n",
    "                num_workers=8,\n",
    "                indexes=[1, 2, 3],\n",
    "                window=w,\n",
    "                out_dtype='float32') as src:\n",
    "    print(src)"
   ]
  },
  {
   "cell_type": "markdown",
   "id": "c75b021c",
   "metadata": {},
   "source": [
    "We can also slice a subset of data using a tuple of bounded coordinates.\n",
    "\n",
    "``` python\n",
    "bounds = (793475.76, 2049033.03, 794222.03, 2049527.24)\n",
    "\n",
    "with gw.open(rgbn,\n",
    "                band_names=['green', 'red', 'nir'],\n",
    "                num_workers=8,\n",
    "                indexes=[2, 3, 4],\n",
    "                bounds=bounds,\n",
    "                out_dtype='float32') as src:\n",
    "    print(src)\n",
    "```\n",
    "\n",
    "The configuration manager provides an alternative method to subset rasters. See `tutorial-config` for more details.\n",
    "\n",
    "``` python\n",
    "with gw.config.update(ref_bounds=bounds):\n",
    "\n",
    "    with gw.open(rgbn) as src:\n",
    "        print(src)\n",
    "```\n",
    "\n",
    "By default, the subset will be returned by the upper left coordinates of the bounds, potentially shifting cell alignment with the reference raster. To subset a raster and align it to the same grid, use the **ref_tar** keyword. This is equivalent to a \"snap raster\" in ArcGIS. \n",
    "\n",
    "``` python\n",
    "with gw.config.update(ref_bounds=bounds, ref_tar=rgbn):\n",
    "\n",
    "    with gw.open(rgbn) as src:\n",
    "        print(src)\n",
    "```\n",
    "\n",
    "## Extracting data by coordinates\n",
    " \n",
    "To extract values at a coordinate pair, translate the coordinates into array indices. For extraction by geometry, for instance with a shapefile, see [extract by point geometry](f_rs_extraction_point)."
   ]
  },
  {
   "cell_type": "code",
   "execution_count": null,
   "id": "71ee327b",
   "metadata": {},
   "outputs": [],
   "source": [
    "import geowombat as gw\n",
    "from geowombat.data import l8_224078_20200518\n",
    "\n",
    "# Coordinates in map projection units\n",
    "y, x = -2823031.15, 761592.60\n",
    "\n",
    "with gw.open(l8_224078_20200518) as src:\n",
    "    # Transform the map coordinates to data indices\n",
    "    j, i = gw.coords_to_indices(x, y, src)\n",
    "    # Subset by index\n",
    "    data = src[:, i, j].data.compute()\n",
    "\n",
    "print(data.flatten())"
   ]
  },
  {
   "cell_type": "markdown",
   "id": "d7fc78d9",
   "metadata": {},
   "source": [
    "A latitude/longitude pair can be extracted after converting to the map projection."
   ]
  },
  {
   "cell_type": "code",
   "execution_count": null,
   "id": "7ce153e1",
   "metadata": {},
   "outputs": [],
   "source": [
    "import geowombat as gw\n",
    "from geowombat.data import l8_224078_20200518\n",
    "\n",
    "# Coordinates in latitude/longitude\n",
    "lat, lon = -25.50142964, -54.39756038\n",
    "\n",
    "with gw.open(l8_224078_20200518) as src:\n",
    "    # Transform the coordinates to map units\n",
    "    x, y = gw.lonlat_to_xy(lon, lat, src)\n",
    "    # Transform the map coordinates to data indices\n",
    "    j, i = gw.coords_to_indices(x, y, src)\n",
    "    data = src[:, i, j].data.compute()\n",
    "\n",
    "print(data.flatten())"
   ]
  },
  {
   "cell_type": "markdown",
   "id": "9ff34764",
   "metadata": {},
   "source": [
    "(f_rs_extraction_point)=\n",
    "## Extracting data with point geometry \n",
    "\n",
    "In the example below, 'l8_224078_20200518_points' is a [GeoPackage](https://www.geopackage.org/) of point locations, and the output `df` is a [GeoPandas GeoDataFrame](https://geopandas.org/docs/reference/api/geopandas.GeoDataFrame.html?highlight=geodataframe#geopandas.GeoDataFrame). To extract the raster values at the point locations, use `geowombat.extract`."
   ]
  },
  {
   "cell_type": "code",
   "execution_count": null,
   "id": "613ef681",
   "metadata": {},
   "outputs": [],
   "source": [
    "import geowombat as gw\n",
    "from geowombat.data import l8_224078_20200518, l8_224078_20200518_points\n",
    "\n",
    "with gw.open(l8_224078_20200518) as src:\n",
    "    df = src.gw.extract(l8_224078_20200518_points)\n",
    "\n",
    "print(df)"
   ]
  },
  {
   "cell_type": "markdown",
   "id": "94656017",
   "metadata": {},
   "source": [
    "```{note} \n",
    "\n",
    "The line `df = src.gw.extract(l8_224078_20200518_points)` could also have been written as `df = gw.extract(src, l8_224078_20200518_points)`.\n",
    "```\n",
    "\n",
    "In the previous example, the point vector had a CRS that matched the raster (i.e., EPSG=32621, or UTM zone 21N). If the CRS had not matched, the `geowombat.extract` function transforms the CRS on-the-fly."
   ]
  },
  {
   "cell_type": "code",
   "execution_count": null,
   "id": "2cf06ae4",
   "metadata": {},
   "outputs": [],
   "source": [
    "import geowombat as gw\n",
    "from geowombat.data import l8_224078_20200518, l8_224078_20200518_points\n",
    "import geopandas as gpd\n",
    "\n",
    "point_df = gpd.read_file(l8_224078_20200518_points)\n",
    "print(point_df.crs)\n",
    "\n",
    "# Transform the CRS to WGS84 lat/lon\n",
    "point_df = point_df.to_crs('epsg:4326')\n",
    "print(point_df.crs)\n",
    "\n",
    "with gw.open(l8_224078_20200518) as src:\n",
    "    df = src.gw.extract(point_df)\n",
    "\n",
    "print(df)"
   ]
  },
  {
   "cell_type": "markdown",
   "id": "6084c40a",
   "metadata": {},
   "source": [
    "Set the data band names using `sensor = 'bgr'`, which assigns the band names blue, green, red."
   ]
  },
  {
   "cell_type": "code",
   "execution_count": null,
   "id": "1b238d3f",
   "metadata": {},
   "outputs": [],
   "source": [
    "import geowombat as gw\n",
    "from geowombat.data import l8_224078_20200518, l8_224078_20200518_points\n",
    "\n",
    "with gw.config.update(sensor='bgr'):\n",
    "    with gw.open(l8_224078_20200518) as src:\n",
    "        df = src.gw.extract(l8_224078_20200518_points,\n",
    "                            band_names=src.band.values.tolist())\n",
    "\n",
    "print(df)"
   ]
  },
  {
   "cell_type": "markdown",
   "id": "ac0d6d38",
   "metadata": {},
   "source": [
    "## Extracting time series images by point geometry\n",
    "We can also easily extract a time series of raster images. Extracted pixel values are provided in 'wide' format with appropriate labels, for instance the column 't2_blue' would be the blue band for the second time period"
   ]
  },
  {
   "cell_type": "code",
   "execution_count": null,
   "id": "f6f599a2",
   "metadata": {},
   "outputs": [],
   "source": [
    "from geowombat.data import l8_224078_20200518, l8_224078_20200518_points\n",
    "\n",
    "with gw.config.update(sensor='bgr'):\n",
    "    with gw.open([l8_224078_20200518, l8_224078_20200518],\n",
    "            time_names=['t1', 't2'],\n",
    "            stack_dim='time') as src:\n",
    "\n",
    "        # Extract and by point geometry\n",
    "        df = src.gw.extract(l8_224078_20200518_points)\n",
    "\n",
    "print(df)"
   ]
  },
  {
   "cell_type": "markdown",
   "id": "8c746dae",
   "metadata": {},
   "source": [
    "## Extracting data by polygon geometry\n",
    "\n",
    "To extract values within polygons, use the same `geowombat.extract` function."
   ]
  },
  {
   "cell_type": "code",
   "execution_count": null,
   "id": "4f4e984f",
   "metadata": {},
   "outputs": [],
   "source": [
    "from geowombat.data import l8_224078_20200518, l8_224078_20200518_polygons\n",
    "\n",
    "with gw.config.update(sensor='bgr'):\n",
    "    with gw.open(l8_224078_20200518) as src:\n",
    "        df = src.gw.extract(l8_224078_20200518_polygons,\n",
    "                            band_names=src.band.values.tolist())\n",
    "\n",
    "    print(df)"
   ]
  },
  {
   "cell_type": "markdown",
   "id": "ad6ddf97",
   "metadata": {},
   "source": [
    "### Calculate mean pixel value by polygon\n",
    "It is simple then to calculate the mean value of pixels within each polygon by using the polygon `id` column and pandas groupby function. You can easily calculate other statistics like min, max, median etc."
   ]
  },
  {
   "cell_type": "code",
   "execution_count": null,
   "id": "686e7043",
   "metadata": {},
   "outputs": [],
   "source": [
    "from geowombat.data import l8_224078_20200518, l8_224078_20200518_polygons\n",
    "\n",
    "with gw.config.update(sensor='bgr'):\n",
    "    with gw.open(l8_224078_20200518) as src:\n",
    "        df = src.gw.extract(l8_224078_20200518_polygons,\n",
    "                            band_names=src.band.values.tolist())\n",
    "        # use pandas groupby to calc pixel mean  \n",
    "        df.drop(columns=['geometry'], inplace=True)\n",
    "        df = df.groupby(['id', 'name']).mean()\n",
    "    print(df)"
   ]
  }
 ],
 "metadata": {
  "jupytext": {
   "text_representation": {
    "extension": ".md",
    "format_name": "myst"
   }
  },
  "kernelspec": {
   "display_name": "Python 3",
   "language": "python",
   "name": "python3"
  },
  "language_info": {
   "codemirror_mode": {
    "name": "ipython",
    "version": 3
   },
   "file_extension": ".py",
   "mimetype": "text/x-python",
   "name": "python",
   "nbconvert_exporter": "python",
   "pygments_lexer": "ipython3",
   "version": "3.10.9"
  },
  "myst": {
   "html_meta": {
    "description lang=en": "Learn how extract pixel values from raster data like sentinel imagery, additionally extract by row and column index, extract by bound window, extract by coordinate, extract by polygon.",
    "description lang=es": "Aprenda a extraer valores de píxeles de datos ráster como imágenes centinela, extraer adicionalmente por índice de fila y columna, extraer por ventana vinculada, extraer por coordenada, extraer por polígono.",
    "description lang=fr": "Découvrez comment extraire des valeurs de pixels à partir de données raster telles que l'imagerie sentinelle, extraire en outre par index de ligne et de colonne, extraire par fenêtre liée, extraire par coordonnées, extraire par polygone.",
    "keywords": "spatial,raster, extract by point, extract by polygon, extract by bounds, remote sensing",
    "property=og:locale": "en_US"
   }
  },
  "source_map": [
   17,
   47,
   61,
   99,
   113,
   117,
   132,
   138,
   146,
   154,
   170,
   173,
   183,
   187,
   199,
   205,
   214,
   219
  ]
 },
 "nbformat": 4,
 "nbformat_minor": 5
}