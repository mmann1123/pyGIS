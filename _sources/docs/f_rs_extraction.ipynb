{
 "cells": [
  {
   "cell_type": "markdown",
   "id": "4e86875e",
   "metadata": {},
   "source": [
    "(f_rs_extraction)=\n",
    "\n",
    "\n",
    "---------------\n",
    "```{admonition} Learning Objectives\n",
    "  - Subset bands by index or name\n",
    "  - Extract raster data by row and column number\n",
    "  - Extract data by bounding window\n",
    "  - Extract raster data by coordinates\n",
    "  - Extract raster data by geometry (point, polygon)\n",
    "```\n",
    "```{admonition} Review\n",
    "* [Data Structures](c_features.md)\n",
    "* [Raster Data ](c_rasters.md)\n",
    "* [Reading and writing remotely sensed data ](f_rs_io.md)\n",
    "```\n",
    "--------------\n",
    "\n",
    "\n",
    "# Raster Data Extraction\n",
    "Raster data is often of little use unless we can extract and summarize the data. For instance, extracting raster to points by coordinates allows us to pass data to machine learning models for land cover classification or cloud masking. \n",
    "\n",
    "## Subsetting rasters\n",
    "We can subset sections of the data array in a number of ways. In this case we will create a slice based on row and column location to subset LandSat data using a `rasterio.window.Window`.\n",
    "\n",
    "Either a `rasterio.window.Window` object or tuple can be used with `geowombat.open`."
   ]
  },
  {
   "cell_type": "code",
   "execution_count": 1,
   "id": "ad61f18a",
   "metadata": {},
   "outputs": [
    {
     "name": "stdout",
     "output_type": "stream",
     "text": [
      "<xarray.DataArray 'array-444557cdb992603699462903d82d3616' (band: 3, y: 100,\n",
      "                                                            x: 100)>\n",
      "dask.array<array, shape=(3, 100, 100), dtype=float32, chunksize=(3, 64, 64), chunktype=numpy.ndarray>\n",
      "Coordinates:\n",
      "  * band     (band) <U5 'blue' 'green' 'red'\n",
      "  * y        (y) float64 2.05e+06 2.05e+06 2.05e+06 ... 2.05e+06 2.05e+06\n",
      "  * x        (x) float64 7.93e+05 7.93e+05 7.93e+05 ... 7.935e+05 7.935e+05\n",
      "Attributes:\n",
      "    transform:           | 5.00, 0.00, 792988.00|\\n| 0.00,-5.00, 2050382.00|\\...\n",
      "    crs:                 +init=epsg:32618\n",
      "    res:                 (5.0, 5.0)\n",
      "    is_tiled:            1\n",
      "    nodatavals:          (nan, nan, nan, nan)\n",
      "    offsets:             (0.0, 0.0, 0.0, 0.0)\n",
      "    _data_are_separate:  0\n",
      "    _data_are_stacked:   0\n"
     ]
    }
   ],
   "source": [
    "import geowombat as gw\n",
    "from geowombat.data import rgbn\n",
    "\n",
    "from rasterio.windows import Window\n",
    "w = Window(row_off=0, col_off=0, height=100, width=100)\n",
    "\n",
    "with gw.open(rgbn,\n",
    "                band_names=['blue', 'green', 'red'],\n",
    "                num_workers=8,\n",
    "                indexes=[1, 2, 3],\n",
    "                window=w,\n",
    "                out_dtype='float32') as src:\n",
    "    print(src)"
   ]
  },
  {
   "cell_type": "markdown",
   "id": "b025aba5",
   "metadata": {},
   "source": [
    "We can also slice a subset of data using a tuple of bounded coordinates.\n",
    "\n",
    "``` python\n",
    "bounds = (793475.76, 2049033.03, 794222.03, 2049527.24)\n",
    "\n",
    "with gw.open(rgbn,\n",
    "                band_names=['green', 'red', 'nir'],\n",
    "                num_workers=8,\n",
    "                indexes=[2, 3, 4],\n",
    "                bounds=bounds,\n",
    "                out_dtype='float32') as src:\n",
    "    print(src)\n",
    "```\n",
    "\n",
    "The configuration manager provides an alternative method to subset rasters. See `tutorial-config` for more details.\n",
    "\n",
    "``` python\n",
    "with gw.config.update(ref_bounds=bounds):\n",
    "\n",
    "    with gw.open(rgbn) as src:\n",
    "        print(src)\n",
    "```\n",
    "\n",
    "By default, the subset will be returned by the upper left coordinates of the bounds, potentially shifting cell alignment with the reference raster. To subset a raster and align it to the same grid, use the **ref_tar** keyword. This is equivalent to a \"snap raster\" in ArcGIS. \n",
    "\n",
    "``` python\n",
    "with gw.config.update(ref_bounds=bounds, ref_tar=rgbn):\n",
    "\n",
    "    with gw.open(rgbn) as src:\n",
    "        print(src)\n",
    "```\n",
    "\n",
    "## Extracting data by coordinates\n",
    " \n",
    "To extract values at a coordinate pair, translate the coordinates into array indices. For extraction by geometry, for instance with a shapefile, see [extract by point geometry](f_rs_extraction_point)."
   ]
  },
  {
   "cell_type": "code",
   "execution_count": 2,
   "id": "b4f1e3a3",
   "metadata": {},
   "outputs": [
    {
     "name": "stdout",
     "output_type": "stream",
     "text": [
      "[7448 6882 6090]\n"
     ]
    }
   ],
   "source": [
    "import geowombat as gw\n",
    "from geowombat.data import l8_224078_20200518\n",
    "\n",
    "# Coordinates in map projection units\n",
    "y, x = -2823031.15, 761592.60\n",
    "\n",
    "with gw.open(l8_224078_20200518) as src:\n",
    "    # Transform the map coordinates to data indices\n",
    "    j, i = gw.coords_to_indices(x, y, src)\n",
    "    # Subset by index\n",
    "    data = src[:, i, j].data.compute()\n",
    "\n",
    "print(data.flatten())"
   ]
  },
  {
   "cell_type": "markdown",
   "id": "fae74a78",
   "metadata": {},
   "source": [
    "A latitude/longitude pair can be extracted after converting to the map projection."
   ]
  },
  {
   "cell_type": "code",
   "execution_count": 3,
   "id": "eec598cf",
   "metadata": {},
   "outputs": [
    {
     "name": "stdout",
     "output_type": "stream",
     "text": [
      "[7448 6882 6090]\n"
     ]
    }
   ],
   "source": [
    "import geowombat as gw\n",
    "from geowombat.data import l8_224078_20200518\n",
    "\n",
    "# Coordinates in latitude/longitude\n",
    "lat, lon = -25.50142964, -54.39756038\n",
    "\n",
    "with gw.open(l8_224078_20200518) as src:\n",
    "    # Transform the coordinates to map units\n",
    "    x, y = gw.lonlat_to_xy(lon, lat, src)\n",
    "    # Transform the map coordinates to data indices\n",
    "    j, i = gw.coords_to_indices(x, y, src)\n",
    "    data = src[:, i, j].data.compute()\n",
    "\n",
    "print(data.flatten())"
   ]
  },
  {
   "cell_type": "markdown",
   "id": "5a41b14c",
   "metadata": {},
   "source": [
    "(f_rs_extraction_point)=\n",
    "## Extracting data with point geometry \n",
    "\n",
    "In the example below, 'l8_224078_20200518_points' is a [GeoPackage](https://www.geopackage.org/) of point locations, and the output `df` is a [GeoPandas GeoDataFrame](https://geopandas.org/docs/reference/api/geopandas.GeoDataFrame.html?highlight=geodataframe#geopandas.GeoDataFrame). To extract the raster values at the point locations, use `geowombat.extract`."
   ]
  },
  {
   "cell_type": "code",
   "execution_count": 4,
   "id": "e1189eb9",
   "metadata": {},
   "outputs": [
    {
     "name": "stdout",
     "output_type": "stream",
     "text": [
      "        name                         geometry  id     1     2     3\n",
      "0      water  POINT (741522.314 -2811204.698)   0  7966  7326  6254\n",
      "1       crop  POINT (736140.845 -2806478.364)   1  8030  7490  8080\n",
      "2       tree  POINT (745919.508 -2805168.579)   2  7561  6874  6106\n",
      "3  developed  POINT (739056.735 -2811710.662)   3  8302  8202  8111\n",
      "4      water  POINT (737802.183 -2818016.412)   4  8277  7982  7341\n",
      "5       tree  POINT (759209.443 -2828566.230)   5  7398  6711  6007\n"
     ]
    }
   ],
   "source": [
    "import geowombat as gw\n",
    "from geowombat.data import l8_224078_20200518, l8_224078_20200518_points\n",
    "\n",
    "with gw.open(l8_224078_20200518) as src:\n",
    "    df = src.gw.extract(l8_224078_20200518_points)\n",
    "\n",
    "print(df)"
   ]
  },
  {
   "cell_type": "markdown",
   "id": "cb559073",
   "metadata": {},
   "source": [
    "```{note} \n",
    "\n",
    "The line `df = src.gw.extract(l8_224078_20200518_points)` could also have been written as `df = gw.extract(src, l8_224078_20200518_points)`.\n",
    "```\n",
    "\n",
    "In the previous example, the point vector had a CRS that matched the raster (i.e., EPSG=32621, or UTM zone 21N). If the CRS had not matched, the `geowombat.extract` function transforms the CRS on-the-fly."
   ]
  },
  {
   "cell_type": "code",
   "execution_count": 5,
   "id": "93372bde",
   "metadata": {},
   "outputs": [
    {
     "name": "stdout",
     "output_type": "stream",
     "text": [
      "EPSG:32621\n",
      "epsg:4326\n",
      "        name                         geometry  id     1     2     3\n",
      "0      water  POINT (741522.314 -2811204.698)   0  7966  7326  6254\n",
      "1       crop  POINT (736140.845 -2806478.364)   1  8030  7490  8080\n",
      "2       tree  POINT (745919.508 -2805168.579)   2  7561  6874  6106\n",
      "3  developed  POINT (739056.735 -2811710.662)   3  8302  8202  8111\n",
      "4      water  POINT (737802.183 -2818016.412)   4  8277  7982  7341\n",
      "5       tree  POINT (759209.443 -2828566.230)   5  7398  6711  6007\n"
     ]
    }
   ],
   "source": [
    "import geowombat as gw\n",
    "from geowombat.data import l8_224078_20200518, l8_224078_20200518_points\n",
    "import geopandas as gpd\n",
    "\n",
    "point_df = gpd.read_file(l8_224078_20200518_points)\n",
    "print(point_df.crs)\n",
    "\n",
    "# Transform the CRS to WGS84 lat/lon\n",
    "point_df = point_df.to_crs('epsg:4326')\n",
    "print(point_df.crs)\n",
    "\n",
    "with gw.open(l8_224078_20200518) as src:\n",
    "    df = src.gw.extract(point_df)\n",
    "\n",
    "print(df)"
   ]
  },
  {
   "cell_type": "markdown",
   "id": "07f0907d",
   "metadata": {},
   "source": [
    "Set the data band names using `sensor = 'bgr'`, which assigns the band names blue, green, red."
   ]
  },
  {
   "cell_type": "code",
   "execution_count": 6,
   "id": "c4b1e0d2",
   "metadata": {},
   "outputs": [
    {
     "name": "stdout",
     "output_type": "stream",
     "text": [
      "        name                         geometry  id  blue  green   red\n",
      "0      water  POINT (741522.314 -2811204.698)   0  7966   7326  6254\n",
      "1       crop  POINT (736140.845 -2806478.364)   1  8030   7490  8080\n",
      "2       tree  POINT (745919.508 -2805168.579)   2  7561   6874  6106\n",
      "3  developed  POINT (739056.735 -2811710.662)   3  8302   8202  8111\n",
      "4      water  POINT (737802.183 -2818016.412)   4  8277   7982  7341\n",
      "5       tree  POINT (759209.443 -2828566.230)   5  7398   6711  6007\n"
     ]
    }
   ],
   "source": [
    "import geowombat as gw\n",
    "from geowombat.data import l8_224078_20200518, l8_224078_20200518_points\n",
    "\n",
    "with gw.config.update(sensor='bgr'):\n",
    "    with gw.open(l8_224078_20200518) as src:\n",
    "        df = src.gw.extract(l8_224078_20200518_points,\n",
    "                            band_names=src.band.values.tolist())\n",
    "\n",
    "print(df)"
   ]
  },
  {
   "cell_type": "markdown",
   "id": "27dbfd5c",
   "metadata": {},
   "source": [
    "## Extracting time series images by point geometry\n",
    "We can also easily extract a time series of raster images. Extracted pixel values are provided in 'wide' format with appropriate labels, for instance the column 't2_blue' would be the blue band for the second time period"
   ]
  },
  {
   "cell_type": "code",
   "execution_count": 7,
   "id": "5698b336",
   "metadata": {},
   "outputs": [
    {
     "name": "stdout",
     "output_type": "stream",
     "text": [
      "        name                         geometry  id  t1_blue  t1_green  t1_red  \\\n",
      "0      water  POINT (741522.314 -2811204.698)   0     7966      7326    6254   \n",
      "1       crop  POINT (736140.845 -2806478.364)   1     8030      7490    8080   \n",
      "2       tree  POINT (745919.508 -2805168.579)   2     7561      6874    6106   \n",
      "3  developed  POINT (739056.735 -2811710.662)   3     8302      8202    8111   \n",
      "4      water  POINT (737802.183 -2818016.412)   4     8277      7982    7341   \n",
      "5       tree  POINT (759209.443 -2828566.230)   5     7398      6711    6007   \n",
      "\n",
      "   t2_blue  t2_green  t2_red  \n",
      "0     7966      7326    6254  \n",
      "1     8030      7490    8080  \n",
      "2     7561      6874    6106  \n",
      "3     8302      8202    8111  \n",
      "4     8277      7982    7341  \n",
      "5     7398      6711    6007  \n"
     ]
    }
   ],
   "source": [
    "from geowombat.data import l8_224078_20200518, l8_224078_20200518_points\n",
    "\n",
    "with gw.config.update(sensor='bgr'):\n",
    "    with gw.open([l8_224078_20200518, l8_224078_20200518],\n",
    "            time_names=['t1', 't2'],\n",
    "            stack_dim='time') as src:\n",
    "\n",
    "        # Extract and by point geometry\n",
    "        df = src.gw.extract(l8_224078_20200518_points)\n",
    "\n",
    "print(df)"
   ]
  },
  {
   "cell_type": "markdown",
   "id": "4568d365",
   "metadata": {},
   "source": [
    "## Extracting data by polygon geometry\n",
    "\n",
    "To extract values within polygons, use the same `geowombat.extract` function."
   ]
  },
  {
   "cell_type": "code",
   "execution_count": 8,
   "id": "f9f78886",
   "metadata": {},
   "outputs": [
    {
     "name": "stdout",
     "output_type": "stream",
     "text": [
      "     id  point                         geometry       name   blue  green  \\\n",
      "0     0      0  POINT (737559.502 -2795247.772)      water   7994   7423   \n",
      "1     0      1  POINT (737589.502 -2795247.772)      water   8017   7428   \n",
      "2     0      2  POINT (737619.502 -2795247.772)      water   8008   7446   \n",
      "3     0      3  POINT (737649.502 -2795247.772)      water   8008   7412   \n",
      "4     0      4  POINT (737679.502 -2795247.772)      water   8018   7398   \n",
      "..   ..    ...                              ...        ...    ...    ...   \n",
      "667   3    667  POINT (739038.667 -2811819.677)  developed   8567   8564   \n",
      "668   3    668  POINT (739068.667 -2811819.677)  developed   8099   7676   \n",
      "669   3    669  POINT (739098.667 -2811819.677)  developed  10151   9651   \n",
      "670   3    670  POINT (739128.667 -2811819.677)  developed   8065   7735   \n",
      "671   3    671  POINT (739158.667 -2811819.677)  developed   9343   8987   \n",
      "\n",
      "       red  \n",
      "0     6272  \n",
      "1     6292  \n",
      "2     6292  \n",
      "3     6291  \n",
      "4     6250  \n",
      "..     ...  \n",
      "667   8447  \n",
      "668   7332  \n",
      "669  10153  \n",
      "670   7501  \n",
      "671   9247  \n",
      "\n",
      "[672 rows x 7 columns]"
     ]
    },
    {
     "name": "stdout",
     "output_type": "stream",
     "text": [
      "\n"
     ]
    }
   ],
   "source": [
    "from geowombat.data import l8_224078_20200518, l8_224078_20200518_polygons\n",
    "\n",
    "with gw.config.update(sensor='bgr'):\n",
    "    with gw.open(l8_224078_20200518) as src:\n",
    "        df = src.gw.extract(l8_224078_20200518_polygons,\n",
    "                            band_names=src.band.values.tolist())\n",
    "\n",
    "    print(df)"
   ]
  },
  {
   "cell_type": "markdown",
   "id": "e09896fc",
   "metadata": {},
   "source": [
    "### Calculate mean pixel value by polygon\n",
    "It is simple then to calculate the mean value of pixels within each polygon by using the polygon `id` column and pandas groupby function. You can easily calculate other statistics like min, max, median etc."
   ]
  },
  {
   "cell_type": "code",
   "execution_count": 9,
   "id": "b8678a85",
   "metadata": {},
   "outputs": [
    {
     "name": "stdout",
     "output_type": "stream",
     "text": [
      "              point         blue        green          red\n",
      "id name                                                   \n",
      "0  water      103.5  7990.038462  7387.918269  6264.846154\n",
      "1  crop       304.0  7692.481865  7037.419689  7571.207254\n",
      "2  tree       497.0  7506.901554  6838.704663  6091.932642\n",
      "3  developed  632.5  8698.397436  8328.294872  8365.487179\n"
     ]
    }
   ],
   "source": [
    "from geowombat.data import l8_224078_20200518, l8_224078_20200518_polygons\n",
    "\n",
    "with gw.config.update(sensor='bgr'):\n",
    "    with gw.open(l8_224078_20200518) as src:\n",
    "        df = src.gw.extract(l8_224078_20200518_polygons,\n",
    "                            band_names=src.band.values.tolist())\n",
    "        # use pandas groupby to calc pixel mean  \n",
    "        df.drop(columns=['geometry'], inplace=True)\n",
    "        df = df.groupby(['id', 'name']).mean()\n",
    "    print(df)"
   ]
  }
 ],
 "metadata": {
  "jupytext": {
   "text_representation": {
    "extension": ".md",
    "format_name": "myst"
   }
  },
  "kernelspec": {
   "display_name": "Python 3",
   "language": "python",
   "name": "python3"
  },
  "language_info": {
   "codemirror_mode": {
    "name": "ipython",
    "version": 3
   },
   "file_extension": ".py",
   "mimetype": "text/x-python",
   "name": "python",
   "nbconvert_exporter": "python",
   "pygments_lexer": "ipython3",
   "version": "3.10.9"
  },
  "myst": {
   "html_meta": {
    "description lang=en": "Learn how extract pixel values from raster data like sentinel imagery, additionally extract by row and column index, extract by bound window, extract by coordinate, extract by polygon.",
    "description lang=es": "Aprenda a extraer valores de píxeles de datos ráster como imágenes centinela, extraer adicionalmente por índice de fila y columna, extraer por ventana vinculada, extraer por coordenada, extraer por polígono.",
    "description lang=fr": "Découvrez comment extraire des valeurs de pixels à partir de données raster telles que l'imagerie sentinelle, extraire en outre par index de ligne et de colonne, extraire par fenêtre liée, extraire par coordonnées, extraire par polygone.",
    "keywords": "spatial,raster, extract by point, extract by polygon, extract by bounds, remote sensing",
    "property=og:locale": "en_US"
   }
  },
  "source_map": [
   17,
   47,
   61,
   99,
   113,
   117,
   132,
   138,
   146,
   154,
   170,
   173,
   183,
   187,
   199,
   205,
   214,
   219
  ]
 },
 "nbformat": 4,
 "nbformat_minor": 5
}