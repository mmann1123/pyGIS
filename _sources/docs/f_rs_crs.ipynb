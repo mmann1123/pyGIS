{
 "cells": [
  {
   "cell_type": "markdown",
   "id": "4210d4a9",
   "metadata": {},
   "source": [
    "(f_rs_crs)=\n",
    "\n",
    "\n",
    "----------------\n",
    "\n",
    "```{admonition} Learning Objectives\n",
    "- Reproject remotely sensed data (change CRS)\n",
    "- Reproject on-the-fly\n",
    "- Compare resampling options\n",
    "```\n",
    "```{admonition} Review\n",
    "* [What is a CRS](d_crs_what_is_it.md)\n",
    "* [Understanding CRS codes](d_understand_crs_codes.md)\n",
    "* [Raster CRS](d_raster_crs_intro.md)\n",
    "```\n",
    "----------------\n",
    "\n",
    "\n",
    "# Remote Sensing Coordinate Reference Systems\n",
    "\n",
    "Image projections can be transformed in GeoWombat using the configuration manager (see [Config Manager](f_rs_config.md)). With the configuration manager, the CRS is transformed using [rasterio CRS](https://rasterio.readthedocs.io/en/latest/api/rasterio.crs.html) and [virtual warping](https://rasterio.readthedocs.io/en/latest/topics/virtual-warping.html). For references, see [Spatial Reference](https://spatialreference.org/) and [epsg.io](http://epsg.io/).\n",
    "\n",
    "## View Image Coordinate Reference System & Properties\n",
    "In the following we will print out the properties relevant to CRS for the red, green blue image. The CRS can be accessed from the [xarray.DataArray](http://xarray.pydata.org/en/stable/generated/xarray.DataArray.html) attributes."
   ]
  },
  {
   "cell_type": "code",
   "execution_count": 1,
   "id": "cbdbe52c",
   "metadata": {},
   "outputs": [
    {
     "ename": "ValueError",
     "evalue": "numpy.dtype size changed, may indicate binary incompatibility. Expected 96 from C header, got 88 from PyObject",
     "output_type": "error",
     "traceback": [
      "\u001b[0;31m---------------------------------------------------------------------------\u001b[0m",
      "\u001b[0;31mValueError\u001b[0m                                Traceback (most recent call last)",
      "Cell \u001b[0;32mIn[1], line 1\u001b[0m\n\u001b[0;32m----> 1\u001b[0m \u001b[38;5;28;01mimport\u001b[39;00m \u001b[38;5;21;01mgeowombat\u001b[39;00m \u001b[38;5;28;01mas\u001b[39;00m \u001b[38;5;21;01mgw\u001b[39;00m\n\u001b[1;32m      2\u001b[0m \u001b[38;5;28;01mfrom\u001b[39;00m \u001b[38;5;21;01mgeowombat\u001b[39;00m\u001b[38;5;21;01m.\u001b[39;00m\u001b[38;5;21;01mdata\u001b[39;00m \u001b[38;5;28;01mimport\u001b[39;00m rgbn\n\u001b[1;32m      4\u001b[0m \u001b[38;5;28;01mwith\u001b[39;00m gw\u001b[38;5;241m.\u001b[39mopen(rgbn) \u001b[38;5;28;01mas\u001b[39;00m src:\n",
      "File \u001b[0;32m~/miniconda3/envs/pygis2/lib/python3.10/site-packages/geowombat/__init__.py:5\u001b[0m\n\u001b[1;32m      2\u001b[0m __version__ \u001b[38;5;241m=\u001b[39m \u001b[38;5;124m'\u001b[39m\u001b[38;5;124m2.1.3\u001b[39m\u001b[38;5;124m'\u001b[39m\n\u001b[1;32m      4\u001b[0m \u001b[38;5;28;01mfrom\u001b[39;00m \u001b[38;5;21;01m.\u001b[39;00m \u001b[38;5;28;01mimport\u001b[39;00m config\n\u001b[0;32m----> 5\u001b[0m \u001b[38;5;28;01mfrom\u001b[39;00m \u001b[38;5;21;01m.\u001b[39;00m\u001b[38;5;21;01mcore\u001b[39;00m\u001b[38;5;21;01m.\u001b[39;00m\u001b[38;5;21;01mapi\u001b[39;00m \u001b[38;5;28;01mimport\u001b[39;00m \u001b[38;5;28mopen\u001b[39m\n\u001b[1;32m      6\u001b[0m \u001b[38;5;28;01mfrom\u001b[39;00m \u001b[38;5;21;01m.\u001b[39;00m\u001b[38;5;21;01mcore\u001b[39;00m\u001b[38;5;21;01m.\u001b[39;00m\u001b[38;5;21;01mapi\u001b[39;00m \u001b[38;5;28;01mimport\u001b[39;00m load\n\u001b[1;32m      7\u001b[0m \u001b[38;5;28;01mfrom\u001b[39;00m \u001b[38;5;21;01m.\u001b[39;00m\u001b[38;5;21;01mcore\u001b[39;00m\u001b[38;5;21;01m.\u001b[39;00m\u001b[38;5;21;01mapi\u001b[39;00m \u001b[38;5;28;01mimport\u001b[39;00m series\n",
      "File \u001b[0;32m~/miniconda3/envs/pygis2/lib/python3.10/site-packages/geowombat/core/__init__.py:1\u001b[0m\n\u001b[0;32m----> 1\u001b[0m \u001b[38;5;28;01mfrom\u001b[39;00m \u001b[38;5;21;01m.\u001b[39;00m\u001b[38;5;21;01m.\u001b[39;00m\u001b[38;5;21;01mbackends\u001b[39;00m \u001b[38;5;28;01mimport\u001b[39;00m transform_crs\n\u001b[1;32m      2\u001b[0m \u001b[38;5;28;01mfrom\u001b[39;00m \u001b[38;5;21;01m.\u001b[39;00m\u001b[38;5;21;01mio\u001b[39;00m \u001b[38;5;28;01mimport\u001b[39;00m apply\n\u001b[1;32m      3\u001b[0m \u001b[38;5;28;01mfrom\u001b[39;00m \u001b[38;5;21;01m.\u001b[39;00m\u001b[38;5;21;01mio\u001b[39;00m \u001b[38;5;28;01mimport\u001b[39;00m save\n",
      "File \u001b[0;32m~/miniconda3/envs/pygis2/lib/python3.10/site-packages/geowombat/backends/__init__.py:2\u001b[0m\n\u001b[1;32m      1\u001b[0m \u001b[38;5;28;01mfrom\u001b[39;00m \u001b[38;5;21;01m.\u001b[39;00m\u001b[38;5;21;01mdask_\u001b[39;00m \u001b[38;5;28;01mimport\u001b[39;00m Cluster\n\u001b[0;32m----> 2\u001b[0m \u001b[38;5;28;01mfrom\u001b[39;00m \u001b[38;5;21;01m.\u001b[39;00m\u001b[38;5;21;01mxarray_\u001b[39;00m \u001b[38;5;28;01mimport\u001b[39;00m concat, mosaic\n\u001b[1;32m      3\u001b[0m \u001b[38;5;28;01mfrom\u001b[39;00m \u001b[38;5;21;01m.\u001b[39;00m\u001b[38;5;21;01mxarray_\u001b[39;00m \u001b[38;5;28;01mimport\u001b[39;00m warp_open\n\u001b[1;32m      4\u001b[0m \u001b[38;5;28;01mfrom\u001b[39;00m \u001b[38;5;21;01m.\u001b[39;00m\u001b[38;5;21;01mxarray_\u001b[39;00m \u001b[38;5;28;01mimport\u001b[39;00m transform_crs\n",
      "File \u001b[0;32m~/miniconda3/envs/pygis2/lib/python3.10/site-packages/geowombat/backends/xarray_.py:8\u001b[0m\n\u001b[1;32m      5\u001b[0m \u001b[38;5;28;01mimport\u001b[39;00m \u001b[38;5;21;01mtyping\u001b[39;00m \u001b[38;5;28;01mas\u001b[39;00m \u001b[38;5;21;01mT\u001b[39;00m\n\u001b[1;32m      7\u001b[0m \u001b[38;5;28;01mfrom\u001b[39;00m \u001b[38;5;21;01m.\u001b[39;00m\u001b[38;5;21;01m.\u001b[39;00m\u001b[38;5;21;01mhandler\u001b[39;00m \u001b[38;5;28;01mimport\u001b[39;00m add_handler\n\u001b[0;32m----> 8\u001b[0m \u001b[38;5;28;01mfrom\u001b[39;00m \u001b[38;5;21;01m.\u001b[39;00m\u001b[38;5;21;01m.\u001b[39;00m\u001b[38;5;21;01mcore\u001b[39;00m\u001b[38;5;21;01m.\u001b[39;00m\u001b[38;5;21;01mwindows\u001b[39;00m \u001b[38;5;28;01mimport\u001b[39;00m get_window_offsets\n\u001b[1;32m      9\u001b[0m \u001b[38;5;28;01mfrom\u001b[39;00m \u001b[38;5;21;01m.\u001b[39;00m\u001b[38;5;21;01m.\u001b[39;00m\u001b[38;5;21;01mcore\u001b[39;00m\u001b[38;5;21;01m.\u001b[39;00m\u001b[38;5;21;01mutil\u001b[39;00m \u001b[38;5;28;01mimport\u001b[39;00m parse_filename_dates\n\u001b[1;32m     10\u001b[0m \u001b[38;5;28;01mfrom\u001b[39;00m \u001b[38;5;21;01m.\u001b[39;00m\u001b[38;5;21;01m.\u001b[39;00m\u001b[38;5;21;01mconfig\u001b[39;00m \u001b[38;5;28;01mimport\u001b[39;00m config\n",
      "File \u001b[0;32m~/miniconda3/envs/pygis2/lib/python3.10/site-packages/geowombat/core/windows.py:1\u001b[0m\n\u001b[0;32m----> 1\u001b[0m \u001b[38;5;28;01mfrom\u001b[39;00m \u001b[38;5;21;01m.\u001b[39;00m\u001b[38;5;21;01mutil\u001b[39;00m \u001b[38;5;28;01mimport\u001b[39;00m n_rows_cols\n\u001b[1;32m      3\u001b[0m \u001b[38;5;28;01mfrom\u001b[39;00m \u001b[38;5;21;01mrasterio\u001b[39;00m\u001b[38;5;21;01m.\u001b[39;00m\u001b[38;5;21;01mwindows\u001b[39;00m \u001b[38;5;28;01mimport\u001b[39;00m Window\n\u001b[1;32m      6\u001b[0m \u001b[38;5;28;01mdef\u001b[39;00m \u001b[38;5;21mget_window_offsets\u001b[39m(n_rows,\n\u001b[1;32m      7\u001b[0m                        n_cols,\n\u001b[1;32m      8\u001b[0m                        row_chunks,\n\u001b[1;32m      9\u001b[0m                        col_chunks,\n\u001b[1;32m     10\u001b[0m                        return_as\u001b[38;5;241m=\u001b[39m\u001b[38;5;124m'\u001b[39m\u001b[38;5;124mlist\u001b[39m\u001b[38;5;124m'\u001b[39m,\n\u001b[1;32m     11\u001b[0m                        padding\u001b[38;5;241m=\u001b[39m\u001b[38;5;28;01mNone\u001b[39;00m):\n",
      "File \u001b[0;32m~/miniconda3/envs/pygis2/lib/python3.10/site-packages/geowombat/core/util.py:9\u001b[0m\n\u001b[1;32m      6\u001b[0m \u001b[38;5;28;01mimport\u001b[39;00m \u001b[38;5;21;01mlogging\u001b[39;00m\n\u001b[1;32m      8\u001b[0m \u001b[38;5;28;01mfrom\u001b[39;00m \u001b[38;5;21;01m.\u001b[39;00m\u001b[38;5;21;01m.\u001b[39;00m\u001b[38;5;21;01mhandler\u001b[39;00m \u001b[38;5;28;01mimport\u001b[39;00m add_handler\n\u001b[0;32m----> 9\u001b[0m \u001b[38;5;28;01mfrom\u001b[39;00m \u001b[38;5;21;01m.\u001b[39;00m\u001b[38;5;21;01m.\u001b[39;00m\u001b[38;5;21;01mmoving\u001b[39;00m \u001b[38;5;28;01mimport\u001b[39;00m moving_window\n\u001b[1;32m     11\u001b[0m \u001b[38;5;28;01mimport\u001b[39;00m \u001b[38;5;21;01mnumpy\u001b[39;00m \u001b[38;5;28;01mas\u001b[39;00m \u001b[38;5;21;01mnp\u001b[39;00m\n\u001b[1;32m     12\u001b[0m \u001b[38;5;28;01mimport\u001b[39;00m \u001b[38;5;21;01mgeopandas\u001b[39;00m \u001b[38;5;28;01mas\u001b[39;00m \u001b[38;5;21;01mgpd\u001b[39;00m\n",
      "File \u001b[0;32m~/miniconda3/envs/pygis2/lib/python3.10/site-packages/geowombat/moving/__init__.py:1\u001b[0m\n\u001b[0;32m----> 1\u001b[0m \u001b[38;5;28;01mfrom\u001b[39;00m \u001b[38;5;21;01m.\u001b[39;00m\u001b[38;5;21;01m_moving\u001b[39;00m \u001b[38;5;28;01mimport\u001b[39;00m moving_window\n",
      "File \u001b[0;32msrc/geowombat/moving/_moving.pyx:1\u001b[0m, in \u001b[0;36minit geowombat.moving._moving\u001b[0;34m()\u001b[0m\n",
      "\u001b[0;31mValueError\u001b[0m: numpy.dtype size changed, may indicate binary incompatibility. Expected 96 from C header, got 88 from PyObject"
     ]
    }
   ],
   "source": [
    "import geowombat as gw\n",
    "from geowombat.data import rgbn\n",
    "\n",
    "with gw.open(rgbn) as src:\n",
    "    print(src.transform)\n",
    "    print(src.gw.transform)\n",
    "    print(src.crs)\n",
    "    print(src.resampling)\n",
    "    print(src.res)\n",
    "    print(src.gw.cellx, src.gw.celly)"
   ]
  },
  {
   "cell_type": "markdown",
   "id": "b2ef4428",
   "metadata": {},
   "source": [
    "## Transforming a CRS (Reprojection)\n",
    "\n",
    "To transform the CRS, use the context manager. In this example, a `proj4` code is used. See [understanding CRS codes](d_understand_crs_codes.md) for more details. We can pass the desired CRS as a `proj4` string, an EPSG code, or in authority:code `EPSG:4326` or `ESRI:53018`.\n",
    "\n",
    "```{note}\n",
    "Note the use of `nodata` in this case the file `rgbn` doesn't have the missing data value set in its profile, so we can set it manually when opened. \n",
    "```"
   ]
  },
  {
   "cell_type": "code",
   "execution_count": null,
   "id": "36dc8cc7",
   "metadata": {},
   "outputs": [],
   "source": [
    "import matplotlib.pyplot as plt\n",
    "\n",
    "fig, ax = plt.subplots(dpi=200)\n",
    "\n",
    "proj4 = \"+proj=aea +lat_1=20 +lat_2=60 +lat_0=40 +lon_0=-96 +x_0=0 +y_0=0 +datum=NAD83 +units=m +no_defs\"\n",
    "\n",
    "with gw.config.update(ref_crs=proj4):\n",
    "    with gw.open(rgbn, nodata=0) as src:\n",
    "        # replace 0 with nan\n",
    "        src = src.gw.mask_nodata()\n",
    "        print(src.transform)\n",
    "        print(src.crs)\n",
    "        print(src.resampling)\n",
    "        print(src.res)\n",
    "        src.sel(band=[3,2,1]).plot.imshow(robust=True, ax=ax)\n",
    "\n",
    "plt.tight_layout(pad=1)"
   ]
  },
  {
   "cell_type": "markdown",
   "id": "de166a6f",
   "metadata": {},
   "source": [
    "Other formats supported by rasterio, (e.g., PROJ4 strings) can be used. Here, we use a PROJ4 string to transform the CRS to a equal area projection."
   ]
  },
  {
   "cell_type": "code",
   "execution_count": null,
   "id": "ff837bde",
   "metadata": {},
   "outputs": [],
   "source": [
    "with gw.config.update(ref_crs=32618):\n",
    "    with gw.open(rgbn) as src:\n",
    "        print(src.transform)\n",
    "        print(src.crs)\n",
    "        print(src.resampling)\n",
    "        print(src.res)"
   ]
  },
  {
   "cell_type": "markdown",
   "id": "86b221d7",
   "metadata": {},
   "source": [
    "## Resampling the Cell Size\n",
    "\n",
    "Resampling cell size refers to the process of changing the spatial resolution of raster data. This can be done by either increasing or decreasing the size of the grid cells that make up the raster. There are different methods for resampling:\n",
    "\n",
    "- `nearest`: Uses the value of the closest cell to assign a value to the output cell.\n",
    "- `bilinear`: Uses the weighted average of the four nearest cells to determine the output cell value.\n",
    "- `cubic`: Uses the weighted average of 16 nearest cells to determine the output value.\n",
    "\n",
    "The resampling algorithm can be specified in the `geowombat.open` function. Here, we use cubic convolution resampling to warp the data to EPSG code 31972 (a UTM projection)."
   ]
  },
  {
   "cell_type": "code",
   "execution_count": null,
   "id": "2803cc23",
   "metadata": {},
   "outputs": [],
   "source": [
    "with gw.config.update(ref_crs=31972):\n",
    "    with gw.open(rgbn, resampling='cubic') as src:\n",
    "        print(src.transform)\n",
    "        print(src.crs)\n",
    "        print(src.resampling)\n",
    "        print(src.res)"
   ]
  },
  {
   "cell_type": "markdown",
   "id": "41345025",
   "metadata": {},
   "source": [
    "The transformed cell resolution can be added in the context manager. Here, we resample the data to 10m x 10m spatial resolution."
   ]
  },
  {
   "cell_type": "code",
   "execution_count": null,
   "id": "6e051d60",
   "metadata": {},
   "outputs": [],
   "source": [
    "with gw.config.update(ref_crs=31972, ref_res=(10, 10)):\n",
    "    with gw.open(rgbn, resampling='cubic') as src:\n",
    "        print(src.transform)\n",
    "        print(src.crs)\n",
    "        print(src.resampling)\n",
    "        print(src.res)"
   ]
  },
  {
   "cell_type": "markdown",
   "id": "ad609e2c",
   "metadata": {},
   "source": [
    "## Transformations Outside Context Manager\n",
    "\n",
    "To transform an `xarray.DataArray` outside of a configuration context, use the `geowombat.transform_crs` function."
   ]
  },
  {
   "cell_type": "code",
   "execution_count": null,
   "id": "a5b30cbc",
   "metadata": {},
   "outputs": [],
   "source": [
    "with gw.open(rgbn) as src:\n",
    "\n",
    "    src_tr = src.gw.transform_crs(proj4, dst_res=(10, 10), resampling='bilinear')\n",
    "    print(src_tr.transform)\n",
    "    print(src_tr.crs)\n",
    "    print(src_tr.resampling)\n",
    "    print(src_tr.res)"
   ]
  }
 ],
 "metadata": {
  "jupytext": {
   "text_representation": {
    "extension": ".md",
    "format_name": "myst"
   }
  },
  "kernelspec": {
   "display_name": "Python 3",
   "language": "python",
   "name": "python3"
  },
  "language_info": {
   "codemirror_mode": {
    "name": "ipython",
    "version": 3
   },
   "file_extension": ".py",
   "mimetype": "text/x-python",
   "name": "python",
   "nbconvert_exporter": "python",
   "pygments_lexer": "ipython3",
   "version": "3.10.9"
  },
  "source_map": [
   10,
   37,
   48,
   59,
   77,
   81,
   89,
   101,
   108,
   112,
   119,
   125
  ]
 },
 "nbformat": 4,
 "nbformat_minor": 5
}