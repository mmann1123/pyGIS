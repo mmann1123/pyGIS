{
 "cells": [
  {
   "cell_type": "markdown",
   "id": "1155a522",
   "metadata": {},
   "source": [
    "<!-- (d_access_osm)= -->\n",
    "\n",
    "----------------\n",
    "\n",
    "```{admonition} Learning Objectives\n",
    "- Download and utilize OpenStreetMap data\n",
    "```\n",
    "```{admonition} Review\n",
    "* [Understanding CRS codes](d_understand_crs_codes.md)\n",
    "* [Creating Points, Lines, Polygons](c_new_vectors.md)\n",
    "```\n",
    "----------------\n",
    "\n",
    "# Accessing OSM Data in Python\n",
    "\n",
    "## What is OpenStreetMap?\n",
    "\n",
    "OpenStreetMap (OSM) is a global collaborative (crowd-sourced) dataset and project that aims at creating a free editable map of the world containing a lot of information about our environment [^gpd_clip]. It contains data for example about streets, buildings, different services, and landuse to mention a few. You can view the map at www.openstreetmap.org. You can also sign up as a contributor if you want to edit the map. More details about OpenStreetMap and its contents are available in the [OpenStreetMap Wiki](https://wiki.openstreetmap.org/wiki/Main_Page).\n",
    "\n",
    "## OSMnx\n",
    "\n",
    "This week we will explore a Python module called [OSMnx](https://github.com/gboeing/osmnx)\n",
    "that can be used to retrieve, construct, analyze, and visualize street networks from OpenStreetMap, and also retrieve data about Points of Interest such as restaurants, schools, and lots of different kind of services. It is also easy to conduct network routing based on walking, cycling or driving by combining OSMnx functionalities with a package called [NetworkX](https://networkx.github.io/documentation/stable/).\n",
    "\n",
    "To get an overview of the capabilities of the package, see an introductory video given by the lead developer of the package, Prof. Geoff Boeing: [\"Meet the developer: Introduction to OSMnx package by Geoff Boeing\"](https://www.youtube.com/watch?v=Q0uxu25ddc4&list=PLs9D4XVqc6dCAhhvhZB7aHGD8fCeCC_6N).\n",
    "\n",
    "## Download and visualize OpenStreetMap data with OSMnx\n",
    "\n",
    "One the most useful features that OSMnx provides is an easy-to-use way of retrieving [OpenStreetMap](http://www.openstreetmap.org) data (using [OverPass API](http://wiki.openstreetmap.org/wiki/Overpass_API)).\n",
    "\n",
    "In this tutorial, we will learn how to download and visualize OSM data covering a specified area of interest: the neighborhood of Edgewood in Washington DC USA."
   ]
  },
  {
   "cell_type": "code",
   "execution_count": 1,
   "id": "6bf0da9e",
   "metadata": {},
   "outputs": [],
   "source": [
    "# Specify the name that is used to seach for the data\n",
    "place_name = \"Edgewood Washington, DC, USA\""
   ]
  },
  {
   "cell_type": "markdown",
   "id": "40e1e722",
   "metadata": {},
   "source": [
    "### OSM Location Boundary\n",
    "\n",
    "Let's also plot the Polygon that represents the boundary of our area of interest (Washington DC). We can retrieve the Polygon geometry using the `ox.geocode_to_gdf` [docs](https://osmnx.readthedocs.io/en/stable/osmnx.html?highlight=geocode_to_gdf(#osmnx.geocoder.geocode_to_gdf) function."
   ]
  },
  {
   "cell_type": "code",
   "execution_count": 2,
   "id": "639982b7",
   "metadata": {},
   "outputs": [],
   "source": [
    "# import osmnx\n",
    "import osmnx as ox\n",
    "import geopandas as gpd\n",
    "\n",
    "# Get place boundary related to the place name as a geodataframe\n",
    "area = ox.geocode_to_gdf(place_name)"
   ]
  },
  {
   "cell_type": "markdown",
   "id": "11726f15",
   "metadata": {},
   "source": [
    "As the name of the function already tells us, `gdf_from_place()`returns a GeoDataFrame based on the specified place name query."
   ]
  },
  {
   "cell_type": "code",
   "execution_count": 3,
   "id": "7f4a83b4",
   "metadata": {},
   "outputs": [
    {
     "data": {
      "text/html": [
       "<div>\n",
       "<style scoped>\n",
       "    .dataframe tbody tr th:only-of-type {\n",
       "        vertical-align: middle;\n",
       "    }\n",
       "\n",
       "    .dataframe tbody tr th {\n",
       "        vertical-align: top;\n",
       "    }\n",
       "\n",
       "    .dataframe thead th {\n",
       "        text-align: right;\n",
       "    }\n",
       "</style>\n",
       "<table border=\"1\" class=\"dataframe\">\n",
       "  <thead>\n",
       "    <tr style=\"text-align: right;\">\n",
       "      <th></th>\n",
       "      <th>geometry</th>\n",
       "      <th>bbox_north</th>\n",
       "      <th>bbox_south</th>\n",
       "      <th>bbox_east</th>\n",
       "      <th>bbox_west</th>\n",
       "      <th>place_id</th>\n",
       "      <th>osm_type</th>\n",
       "      <th>osm_id</th>\n",
       "      <th>lat</th>\n",
       "      <th>lon</th>\n",
       "      <th>display_name</th>\n",
       "      <th>class</th>\n",
       "      <th>type</th>\n",
       "      <th>importance</th>\n",
       "    </tr>\n",
       "  </thead>\n",
       "  <tbody>\n",
       "    <tr>\n",
       "      <th>0</th>\n",
       "      <td>POLYGON ((-77.00892 38.92123, -77.00890 38.920...</td>\n",
       "      <td>38.934159</td>\n",
       "      <td>38.917008</td>\n",
       "      <td>-76.99358</td>\n",
       "      <td>-77.008915</td>\n",
       "      <td>282956700</td>\n",
       "      <td>relation</td>\n",
       "      <td>4634158</td>\n",
       "      <td>38.922613</td>\n",
       "      <td>-77.000537</td>\n",
       "      <td>Edgewood, Washington, District of Columbia, Un...</td>\n",
       "      <td>place</td>\n",
       "      <td>neighbourhood</td>\n",
       "      <td>0.47</td>\n",
       "    </tr>\n",
       "  </tbody>\n",
       "</table>\n",
       "</div>"
      ],
      "text/plain": [
       "                                            geometry  bbox_north  bbox_south  \\\n",
       "0  POLYGON ((-77.00892 38.92123, -77.00890 38.920...   38.934159   38.917008   \n",
       "\n",
       "   bbox_east  bbox_west   place_id  osm_type   osm_id        lat        lon  \\\n",
       "0  -76.99358 -77.008915  282956700  relation  4634158  38.922613 -77.000537   \n",
       "\n",
       "                                        display_name  class           type  \\\n",
       "0  Edgewood, Washington, District of Columbia, Un...  place  neighbourhood   \n",
       "\n",
       "   importance  \n",
       "0        0.47  "
      ]
     },
     "execution_count": 3,
     "metadata": {},
     "output_type": "execute_result"
    }
   ],
   "source": [
    "# Check the data type\n",
    "area"
   ]
  },
  {
   "cell_type": "markdown",
   "id": "24a5808a",
   "metadata": {},
   "source": [
    "Let's still verify the data type:"
   ]
  },
  {
   "cell_type": "code",
   "execution_count": 4,
   "id": "b6168383",
   "metadata": {},
   "outputs": [
    {
     "data": {
      "text/plain": [
       "geopandas.geodataframe.GeoDataFrame"
      ]
     },
     "execution_count": 4,
     "metadata": {},
     "output_type": "execute_result"
    }
   ],
   "source": [
    "# Check the data type\n",
    "type(area)"
   ]
  },
  {
   "cell_type": "markdown",
   "id": "3d8d3a51",
   "metadata": {},
   "source": [
    "Finally, let's plot it."
   ]
  },
  {
   "cell_type": "code",
   "execution_count": 5,
   "id": "29a7c0da",
   "metadata": {},
   "outputs": [
    {
     "data": {
      "text/plain": [
       "<Axes: >"
      ]
     },
     "execution_count": 5,
     "metadata": {},
     "output_type": "execute_result"
    },
    {
     "data": {
      "image/png": "[encoded data removed]",
      "text/plain": [
       "<Figure size 640x480 with 1 Axes>"
      ]
     },
     "metadata": {
      "filenames": {
       "image/png": "/home/mmann1123/Documents/github/pyGIS/pygis/_build/jupyter_execute/docs/d_access_osm_9_1.png"
      }
     },
     "output_type": "display_data"
    }
   ],
   "source": [
    "area.plot()"
   ]
  },
  {
   "cell_type": "markdown",
   "id": "e9b72c3b",
   "metadata": {},
   "source": [
    "### OSM Building footprints\n",
    "\n",
    "It is also possible to retrieve other types of OSM data features with OSMnx such as buildings or points of interest (POIs). Let's download the buildings with `ox.features_from_place` [docs](https://osmnx.readthedocs.io/en/stable/user-reference.html#osmnx.features.features_from_place) function and plot them on top of our street network in Kamppi. \n",
    "\n",
    "\n",
    "When fetching spesific types of features from OpenStreetMap using OSMnx `features_from_place` we also need to specify the correct tags. For getting [all types of buildings](https://wiki.openstreetmap.org/wiki/Buildings), we can use the tag `building=yes`."
   ]
  },
  {
   "cell_type": "code",
   "execution_count": 6,
   "id": "8b315b01",
   "metadata": {},
   "outputs": [
    {
     "ename": "AttributeError",
     "evalue": "module 'osmnx' has no attribute 'features_from_place'",
     "output_type": "error",
     "traceback": [
      "\u001b[0;31m---------------------------------------------------------------------------\u001b[0m",
      "\u001b[0;31mAttributeError\u001b[0m                            Traceback (most recent call last)",
      "Cell \u001b[0;32mIn[6], line 4\u001b[0m\n\u001b[1;32m      1\u001b[0m \u001b[38;5;66;03m# List key-value pairs for tags\u001b[39;00m\n\u001b[1;32m      2\u001b[0m tags \u001b[38;5;241m=\u001b[39m {\u001b[38;5;124m'\u001b[39m\u001b[38;5;124mbuilding\u001b[39m\u001b[38;5;124m'\u001b[39m: \u001b[38;5;28;01mTrue\u001b[39;00m}   \n\u001b[0;32m----> 4\u001b[0m buildings \u001b[38;5;241m=\u001b[39m \u001b[43mox\u001b[49m\u001b[38;5;241;43m.\u001b[39;49m\u001b[43mfeatures_from_place\u001b[49m(place_name, tags)\n\u001b[1;32m      5\u001b[0m buildings\u001b[38;5;241m.\u001b[39mhead()\n",
      "\u001b[0;31mAttributeError\u001b[0m: module 'osmnx' has no attribute 'features_from_place'"
     ]
    }
   ],
   "source": [
    "# List key-value pairs for tags\n",
    "tags = {'building': True}   \n",
    "\n",
    "buildings = ox.features_from_place(place_name, tags)\n",
    "buildings.head()"
   ]
  },
  {
   "cell_type": "markdown",
   "id": "f413218d",
   "metadata": {},
   "source": [
    "We can plot the footprints quickly."
   ]
  },
  {
   "cell_type": "code",
   "execution_count": null,
   "id": "889c2cdf",
   "metadata": {},
   "outputs": [],
   "source": [
    "# Plot footprints \n",
    "buildings.plot()"
   ]
  },
  {
   "cell_type": "markdown",
   "id": "95518eaa",
   "metadata": {},
   "source": [
    "### OSM Write Features to .shp\n",
    "Now let's assume we want to access this data outside of python, or have a permanent copy of our building footprints for Edgewood. \n",
    "\n",
    "Since these objects are already `geopandas.GeoDataFrame` it's easy to save them to disk. We simply use `gpd.to_file` [docs](https://geopandas.org/en/stable/docs/reference/api/geopandas.GeoDataFrame.to_file.html).\n",
    "\n",
    "```{Important}\n",
    "We can't write OSM GeoDataFrames directly to disk because they contain field types (like lists) that can't be saved in .shp or .geojsons etc. Instead lets isolate only the attributes we are interested in, **including geometry** which is required. \n",
    "```\n",
    "\n",
    "We need to isolate just the attributes we are interested in:"
   ]
  },
  {
   "cell_type": "code",
   "execution_count": null,
   "id": "dbc0677e",
   "metadata": {},
   "outputs": [],
   "source": [
    "buildings  = buildings.loc[:,buildings.columns.str.contains('addr:|geometry')]"
   ]
  },
  {
   "cell_type": "markdown",
   "id": "fe352a54",
   "metadata": {},
   "source": [
    "```{Important}\n",
    "OSM data often contains multiple feature types like mixing points with polygons. This is a problem when we try to write it to disk.\n",
    "```\n",
    "We also need to isolate the feature type we are looking for [e.g. Multipolygon, Polygon, Point]. Since here we want building footprints we are going to keep only polygons."
   ]
  },
  {
   "cell_type": "code",
   "execution_count": null,
   "id": "71ac7e63",
   "metadata": {},
   "outputs": [],
   "source": [
    "buildings = buildings.loc[buildings.geometry.type=='Polygon']"
   ]
  },
  {
   "cell_type": "markdown",
   "id": "ada7cb5c",
   "metadata": {},
   "source": [
    "Now, finally, we can write it to disk."
   ]
  },
  {
   "cell_type": "code",
   "execution_count": null,
   "id": "13de13aa",
   "metadata": {},
   "outputs": [],
   "source": [
    "# Save footprints \n",
    "buildings.to_file('../temp/edgewood_buildings.shp')  \n",
    "# Or save in a more open source format\n",
    "#buildings.to_file('../temp/edgewood_buildings.geojson', driver='GeoJSON')  "
   ]
  },
  {
   "cell_type": "markdown",
   "id": "f1b1e554",
   "metadata": {},
   "source": [
    "Sources\n",
    "[^gpd_clip]: [automating-gis-processes](https://automating-gis-processes.github.io/2017/lessons/L3/nearest-neighbour.html)"
   ]
  }
 ],
 "metadata": {
  "jupytext": {
   "text_representation": {
    "extension": ".md",
    "format_name": "myst"
   }
  },
  "kernelspec": {
   "display_name": "Python 3",
   "language": "python",
   "name": "python3"
  },
  "language_info": {
   "codemirror_mode": {
    "name": "ipython",
    "version": 3
   },
   "file_extension": ".py",
   "mimetype": "text/x-python",
   "name": "python",
   "nbconvert_exporter": "python",
   "pygments_lexer": "ipython3",
   "version": "3.10.9"
  },
  "myst": {
   "html_meta": {
    "description lang=en": "Learn how to access OpenStreetMap (OSM) roads, buildings, and other data via python. ",
    "description lang=es": "Aprenda a acceder a carreteras, edificios y otros datos de OpenStreetMap (OSM) a través de Python.",
    "description lang=fr": "Découvrez comment accéder aux routes, bâtiments et autres données OpenStreetMap (OSM) via python.",
    "keywords": "python open street map OSM",
    "property=og:locale": "en_US"
   }
  },
  "source_map": [
   17,
   51,
   54,
   60,
   67,
   71,
   74,
   77,
   80,
   83,
   85,
   93,
   99,
   102,
   105,
   117,
   119,
   126,
   128,
   132,
   137
  ]
 },
 "nbformat": 4,
 "nbformat_minor": 5
}