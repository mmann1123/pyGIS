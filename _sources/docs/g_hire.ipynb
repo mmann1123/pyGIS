{
 "cells": [
  {
   "cell_type": "markdown",
   "id": "96d40fa5",
   "metadata": {},
   "source": [
    "(g_hire)=\n",
    "\n",
    "# Pygis.io Consultancy\n",
    "\n",
    "## Why Choose PyGIS Services?\n",
    "\n",
    "- Ease of Use: With Python's straightforward syntax, dive into GIS without the steep learning curve!\n",
    "- Flexibility: From data manipulation with Geopandas to complex spatial operations with geowombat, your options are limitless.\n",
    "- Interoperability: Seamlessly integrate with other Python libraries like Pandas, Matplotlib, and Scikit-learn.\n",
    "- Affordable: Why invest in expensive, specialized software when you can achieve more with our cost-effective solutions?\n",
    "\n",
    "## 🚀 Who Can Benefit?\n",
    "\n",
    "- Urban Planners\n",
    "- Environmental Scientists\n",
    "- Data Analysts\n",
    "- Supply Chain Managers\n",
    "- Anyone looking to extract insights from spatial data!\n",
    "\n",
    "## The Team\n",
    "\n",
    "### Michael Mann PhD\n",
    "\n",
    "```{figure} ../_static/g_hire/mann_headshot.png\n",
    ":name: Michael Mann headshot\n",
    "```\n",
    "\n",
    "Dr. Michael Mann is a distinguished geospatial scientist with a Ph.D. in Geography from Boston University and post-doctoral research experience at UC Berkeley's College of Natural Resources. With a teaching career spanning over a decade, he specializes in geospatial Python and advanced GIS courses. He is the author of the widely-used online book pygis.io and an active developer for the remote sensing python package geowombat. Dr. Mann's research contributions are highly recognized, including seminal works on anthropogenic climate change, fire probability models, and spatial data analytics. Some of his most cited papers include \"Reconciling anthropogenic climate change with observed temperature 1998–2008,\" and \"Incorporating anthropogenic influences into fire probability models: Effects of human activity and climate change on fire activity in California.\" He has consulted for over 15  years with organization like Department of Treasury, The World Bank, and IFPRI. His multi-disciplinary research and practical expertise make him a leading authority in applying geospatial technologies for societal benefits.\n",
    "\n",
    "### Ryan Engstrom PhD\n",
    "\n",
    "```{figure} ../_static/g_hire/engstrom_headshot.png\n",
    ":name: Ryan Engstrom headshot\n",
    "```\n",
    "\n",
    "Ryan Engstrom is the Director of the Data Science Program and a Professor in the Department of Geography at George Washington University (GWU). He is the Director of the Center for Urban and Environmental Research (CUER) and the Spatial Analysis Lab (SAL). He earned his Ph.D. in Geography from the joint program between San Diego State University and University of California, Santa Barbara in 2005. His research interests are in using geospatial techniques primarily remote sensing, to understand spatial variations in a wide array of issues. He has worked on projects focusing on climate change, health, poverty, and population in a range of geographic areas including the Arctic, Africa, Asia, and Washington, DC. He has been funded by and collaborated with a wide range of institutions including NASA, NSF, NIH, World Bank, USAID, Children’s National Medical Center, and the Ford Foundation. He has taught Introduction to Remote Sensing and a follow-on class Digital Image Processing for the last 15 years. In addition to his work at GWU, Dr. Engstrom consulted with the United States Census Bureau, the World Bank, the Inter-American Development Bank, Radiant.Earth Foundation, and Fraym."
   ]
  }
 ],
 "metadata": {
  "jupytext": {
   "text_representation": {
    "extension": ".md",
    "format_name": "myst"
   }
  },
  "kernelspec": {
   "display_name": "Python 3",
   "language": "python",
   "name": "python3"
  },
  "language_info": {
   "codemirror_mode": {
    "name": "ipython",
    "version": 3
   },
   "file_extension": ".py",
   "mimetype": "text/x-python",
   "name": "python",
   "nbconvert_exporter": "python",
   "pygments_lexer": "ipython3",
   "version": "3.10.9"
  },
  "source_map": [
   10
  ]
 },
 "nbformat": 4,
 "nbformat_minor": 5
}