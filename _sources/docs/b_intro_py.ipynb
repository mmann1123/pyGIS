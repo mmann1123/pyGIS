{
 "cells": [
  {
   "cell_type": "markdown",
   "id": "3d9d213f",
   "metadata": {},
   "source": [
    "(b_intro_py)=\n",
    "\n",
    "# Welcome - Let's get started\n",
    "\n",
    "This section is an introduction to spatial Python, starting with the basics of Python programming. It covers the setup of a standard Python environment and provides an introductory example to help learners get acquainted with Python concepts. The section encourages learners to explore further and learn more about spatial Python methods beyond the basics.\n",
    "\n",
    "This section will answer a few basic questions about python:\n",
    "- What is python?\n",
    "- How do we use it?\n",
    "- Utilize and extend the programming language python"
   ]
  }
 ],
 "metadata": {
  "jupytext": {
   "text_representation": {
    "extension": ".md",
    "format_name": "myst"
   }
  },
  "kernelspec": {
   "display_name": "Python 3",
   "language": "python",
   "name": "python3"
  },
  "language_info": {
   "codemirror_mode": {
    "name": "ipython",
    "version": 3
   },
   "file_extension": ".py",
   "mimetype": "text/x-python",
   "name": "python",
   "nbconvert_exporter": "python",
   "pygments_lexer": "ipython3",
   "version": "3.10.9"
  },
  "source_map": [
   10
  ]
 },
 "nbformat": 4,
 "nbformat_minor": 5
}