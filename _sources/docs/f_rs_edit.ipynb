{
 "cells": [
  {
   "cell_type": "markdown",
   "id": "1cd455f2",
   "metadata": {},
   "source": [
    "(f_rs_edit)=\n",
    "\n",
    "\n",
    "----------------\n",
    "\n",
    "```{admonition} Learning Objectives\n",
    "- Handle missing values\n",
    "- Setting missing values\n",
    "- Replacing values\n",
    "\n",
    "```\n",
    "```{admonition} Review\n",
    "* [Opening remotely sensed data](f_rs_io.md)\n",
    "```\n",
    "----------------\n",
    "\n",
    "# Editing Rasters and Remotely Sensed Data\n",
    "\n",
    "\n",
    "## Masking Out Certain Values\n",
    "\n",
    "The `xarray.DataArray.where` function masks data by setting nans, as demonstrated by the example below."
   ]
  },
  {
   "cell_type": "code",
   "execution_count": 1,
   "id": "a5e96edc",
   "metadata": {},
   "outputs": [
    {
     "ename": "ValueError",
     "evalue": "numpy.dtype size changed, may indicate binary incompatibility. Expected 96 from C header, got 88 from PyObject",
     "output_type": "error",
     "traceback": [
      "\u001b[0;31m---------------------------------------------------------------------------\u001b[0m",
      "\u001b[0;31mValueError\u001b[0m                                Traceback (most recent call last)",
      "Cell \u001b[0;32mIn[1], line 1\u001b[0m\n\u001b[0;32m----> 1\u001b[0m \u001b[38;5;28;01mimport\u001b[39;00m \u001b[38;5;21;01mgeowombat\u001b[39;00m \u001b[38;5;28;01mas\u001b[39;00m \u001b[38;5;21;01mgw\u001b[39;00m\n\u001b[1;32m      2\u001b[0m \u001b[38;5;28;01mfrom\u001b[39;00m \u001b[38;5;21;01mgeowombat\u001b[39;00m\u001b[38;5;21;01m.\u001b[39;00m\u001b[38;5;21;01mdata\u001b[39;00m \u001b[38;5;28;01mimport\u001b[39;00m l8_224078_20200518\n\u001b[1;32m      4\u001b[0m \u001b[38;5;66;03m# Zeros are replaced with nans\u001b[39;00m\n",
      "File \u001b[0;32m~/miniconda3/envs/pygis2/lib/python3.10/site-packages/geowombat/__init__.py:5\u001b[0m\n\u001b[1;32m      2\u001b[0m __version__ \u001b[38;5;241m=\u001b[39m \u001b[38;5;124m'\u001b[39m\u001b[38;5;124m2.1.3\u001b[39m\u001b[38;5;124m'\u001b[39m\n\u001b[1;32m      4\u001b[0m \u001b[38;5;28;01mfrom\u001b[39;00m \u001b[38;5;21;01m.\u001b[39;00m \u001b[38;5;28;01mimport\u001b[39;00m config\n\u001b[0;32m----> 5\u001b[0m \u001b[38;5;28;01mfrom\u001b[39;00m \u001b[38;5;21;01m.\u001b[39;00m\u001b[38;5;21;01mcore\u001b[39;00m\u001b[38;5;21;01m.\u001b[39;00m\u001b[38;5;21;01mapi\u001b[39;00m \u001b[38;5;28;01mimport\u001b[39;00m \u001b[38;5;28mopen\u001b[39m\n\u001b[1;32m      6\u001b[0m \u001b[38;5;28;01mfrom\u001b[39;00m \u001b[38;5;21;01m.\u001b[39;00m\u001b[38;5;21;01mcore\u001b[39;00m\u001b[38;5;21;01m.\u001b[39;00m\u001b[38;5;21;01mapi\u001b[39;00m \u001b[38;5;28;01mimport\u001b[39;00m load\n\u001b[1;32m      7\u001b[0m \u001b[38;5;28;01mfrom\u001b[39;00m \u001b[38;5;21;01m.\u001b[39;00m\u001b[38;5;21;01mcore\u001b[39;00m\u001b[38;5;21;01m.\u001b[39;00m\u001b[38;5;21;01mapi\u001b[39;00m \u001b[38;5;28;01mimport\u001b[39;00m series\n",
      "File \u001b[0;32m~/miniconda3/envs/pygis2/lib/python3.10/site-packages/geowombat/core/__init__.py:1\u001b[0m\n\u001b[0;32m----> 1\u001b[0m \u001b[38;5;28;01mfrom\u001b[39;00m \u001b[38;5;21;01m.\u001b[39;00m\u001b[38;5;21;01m.\u001b[39;00m\u001b[38;5;21;01mbackends\u001b[39;00m \u001b[38;5;28;01mimport\u001b[39;00m transform_crs\n\u001b[1;32m      2\u001b[0m \u001b[38;5;28;01mfrom\u001b[39;00m \u001b[38;5;21;01m.\u001b[39;00m\u001b[38;5;21;01mio\u001b[39;00m \u001b[38;5;28;01mimport\u001b[39;00m apply\n\u001b[1;32m      3\u001b[0m \u001b[38;5;28;01mfrom\u001b[39;00m \u001b[38;5;21;01m.\u001b[39;00m\u001b[38;5;21;01mio\u001b[39;00m \u001b[38;5;28;01mimport\u001b[39;00m save\n",
      "File \u001b[0;32m~/miniconda3/envs/pygis2/lib/python3.10/site-packages/geowombat/backends/__init__.py:2\u001b[0m\n\u001b[1;32m      1\u001b[0m \u001b[38;5;28;01mfrom\u001b[39;00m \u001b[38;5;21;01m.\u001b[39;00m\u001b[38;5;21;01mdask_\u001b[39;00m \u001b[38;5;28;01mimport\u001b[39;00m Cluster\n\u001b[0;32m----> 2\u001b[0m \u001b[38;5;28;01mfrom\u001b[39;00m \u001b[38;5;21;01m.\u001b[39;00m\u001b[38;5;21;01mxarray_\u001b[39;00m \u001b[38;5;28;01mimport\u001b[39;00m concat, mosaic\n\u001b[1;32m      3\u001b[0m \u001b[38;5;28;01mfrom\u001b[39;00m \u001b[38;5;21;01m.\u001b[39;00m\u001b[38;5;21;01mxarray_\u001b[39;00m \u001b[38;5;28;01mimport\u001b[39;00m warp_open\n\u001b[1;32m      4\u001b[0m \u001b[38;5;28;01mfrom\u001b[39;00m \u001b[38;5;21;01m.\u001b[39;00m\u001b[38;5;21;01mxarray_\u001b[39;00m \u001b[38;5;28;01mimport\u001b[39;00m transform_crs\n",
      "File \u001b[0;32m~/miniconda3/envs/pygis2/lib/python3.10/site-packages/geowombat/backends/xarray_.py:8\u001b[0m\n\u001b[1;32m      5\u001b[0m \u001b[38;5;28;01mimport\u001b[39;00m \u001b[38;5;21;01mtyping\u001b[39;00m \u001b[38;5;28;01mas\u001b[39;00m \u001b[38;5;21;01mT\u001b[39;00m\n\u001b[1;32m      7\u001b[0m \u001b[38;5;28;01mfrom\u001b[39;00m \u001b[38;5;21;01m.\u001b[39;00m\u001b[38;5;21;01m.\u001b[39;00m\u001b[38;5;21;01mhandler\u001b[39;00m \u001b[38;5;28;01mimport\u001b[39;00m add_handler\n\u001b[0;32m----> 8\u001b[0m \u001b[38;5;28;01mfrom\u001b[39;00m \u001b[38;5;21;01m.\u001b[39;00m\u001b[38;5;21;01m.\u001b[39;00m\u001b[38;5;21;01mcore\u001b[39;00m\u001b[38;5;21;01m.\u001b[39;00m\u001b[38;5;21;01mwindows\u001b[39;00m \u001b[38;5;28;01mimport\u001b[39;00m get_window_offsets\n\u001b[1;32m      9\u001b[0m \u001b[38;5;28;01mfrom\u001b[39;00m \u001b[38;5;21;01m.\u001b[39;00m\u001b[38;5;21;01m.\u001b[39;00m\u001b[38;5;21;01mcore\u001b[39;00m\u001b[38;5;21;01m.\u001b[39;00m\u001b[38;5;21;01mutil\u001b[39;00m \u001b[38;5;28;01mimport\u001b[39;00m parse_filename_dates\n\u001b[1;32m     10\u001b[0m \u001b[38;5;28;01mfrom\u001b[39;00m \u001b[38;5;21;01m.\u001b[39;00m\u001b[38;5;21;01m.\u001b[39;00m\u001b[38;5;21;01mconfig\u001b[39;00m \u001b[38;5;28;01mimport\u001b[39;00m config\n",
      "File \u001b[0;32m~/miniconda3/envs/pygis2/lib/python3.10/site-packages/geowombat/core/windows.py:1\u001b[0m\n\u001b[0;32m----> 1\u001b[0m \u001b[38;5;28;01mfrom\u001b[39;00m \u001b[38;5;21;01m.\u001b[39;00m\u001b[38;5;21;01mutil\u001b[39;00m \u001b[38;5;28;01mimport\u001b[39;00m n_rows_cols\n\u001b[1;32m      3\u001b[0m \u001b[38;5;28;01mfrom\u001b[39;00m \u001b[38;5;21;01mrasterio\u001b[39;00m\u001b[38;5;21;01m.\u001b[39;00m\u001b[38;5;21;01mwindows\u001b[39;00m \u001b[38;5;28;01mimport\u001b[39;00m Window\n\u001b[1;32m      6\u001b[0m \u001b[38;5;28;01mdef\u001b[39;00m \u001b[38;5;21mget_window_offsets\u001b[39m(n_rows,\n\u001b[1;32m      7\u001b[0m                        n_cols,\n\u001b[1;32m      8\u001b[0m                        row_chunks,\n\u001b[1;32m      9\u001b[0m                        col_chunks,\n\u001b[1;32m     10\u001b[0m                        return_as\u001b[38;5;241m=\u001b[39m\u001b[38;5;124m'\u001b[39m\u001b[38;5;124mlist\u001b[39m\u001b[38;5;124m'\u001b[39m,\n\u001b[1;32m     11\u001b[0m                        padding\u001b[38;5;241m=\u001b[39m\u001b[38;5;28;01mNone\u001b[39;00m):\n",
      "File \u001b[0;32m~/miniconda3/envs/pygis2/lib/python3.10/site-packages/geowombat/core/util.py:9\u001b[0m\n\u001b[1;32m      6\u001b[0m \u001b[38;5;28;01mimport\u001b[39;00m \u001b[38;5;21;01mlogging\u001b[39;00m\n\u001b[1;32m      8\u001b[0m \u001b[38;5;28;01mfrom\u001b[39;00m \u001b[38;5;21;01m.\u001b[39;00m\u001b[38;5;21;01m.\u001b[39;00m\u001b[38;5;21;01mhandler\u001b[39;00m \u001b[38;5;28;01mimport\u001b[39;00m add_handler\n\u001b[0;32m----> 9\u001b[0m \u001b[38;5;28;01mfrom\u001b[39;00m \u001b[38;5;21;01m.\u001b[39;00m\u001b[38;5;21;01m.\u001b[39;00m\u001b[38;5;21;01mmoving\u001b[39;00m \u001b[38;5;28;01mimport\u001b[39;00m moving_window\n\u001b[1;32m     11\u001b[0m \u001b[38;5;28;01mimport\u001b[39;00m \u001b[38;5;21;01mnumpy\u001b[39;00m \u001b[38;5;28;01mas\u001b[39;00m \u001b[38;5;21;01mnp\u001b[39;00m\n\u001b[1;32m     12\u001b[0m \u001b[38;5;28;01mimport\u001b[39;00m \u001b[38;5;21;01mgeopandas\u001b[39;00m \u001b[38;5;28;01mas\u001b[39;00m \u001b[38;5;21;01mgpd\u001b[39;00m\n",
      "File \u001b[0;32m~/miniconda3/envs/pygis2/lib/python3.10/site-packages/geowombat/moving/__init__.py:1\u001b[0m\n\u001b[0;32m----> 1\u001b[0m \u001b[38;5;28;01mfrom\u001b[39;00m \u001b[38;5;21;01m.\u001b[39;00m\u001b[38;5;21;01m_moving\u001b[39;00m \u001b[38;5;28;01mimport\u001b[39;00m moving_window\n",
      "File \u001b[0;32msrc/geowombat/moving/_moving.pyx:1\u001b[0m, in \u001b[0;36minit geowombat.moving._moving\u001b[0;34m()\u001b[0m\n",
      "\u001b[0;31mValueError\u001b[0m: numpy.dtype size changed, may indicate binary incompatibility. Expected 96 from C header, got 88 from PyObject"
     ]
    }
   ],
   "source": [
    "import geowombat as gw\n",
    "from geowombat.data import l8_224078_20200518\n",
    "\n",
    "# Zeros are replaced with nans\n",
    "with gw.open(l8_224078_20200518) as src:\n",
    "    data = src.where(src != 0)"
   ]
  },
  {
   "cell_type": "markdown",
   "id": "84936af2",
   "metadata": {},
   "source": [
    "## Setting 'no data' Values  \n",
    "Setting missing data values, when not available in the raster profile, can be done using the [configuration manager](f_rs_config.md) or as an argument in the `open` command."
   ]
  },
  {
   "cell_type": "code",
   "execution_count": null,
   "id": "c3c28336",
   "metadata": {},
   "outputs": [],
   "source": [
    "import geowombat as gw\n",
    "from geowombat.data import l8_224078_20200518\n",
    "\n",
    "# Zeros are replaced with nans\n",
    "with gw.open(l8_224078_20200518, nodata=0) as src:\n",
    "    print('gw.open: ',src.attrs['nodatavals'])\n",
    "    #  replace 0 with nan\n",
    "    src=src.gw.mask_nodata() \n",
    "\n",
    "\n",
    "# Zeros are replaced with nans\n",
    "with gw.config.update(nodata=0):\n",
    "  with gw.open(l8_224078_20200518) as src:\n",
    "    print('gw.config',src.attrs['nodatavals'])\n",
    "    #  replace 0 with nan\n",
    "    src=src.gw.mask_nodata() "
   ]
  },
  {
   "cell_type": "markdown",
   "id": "520be876",
   "metadata": {},
   "source": [
    "## Rescaling Values \n",
    "Most remotely sensed data is stored as `int` to minimize space. We are often left to rescale the values back to floating point on the backend. This can be done in a few ways in geowombat. If the sensor you are using has a geowombat profile, please use that - refer to [configuration manager docs](f_rs_config.md). If it is not natively supported we can manually set the scaling factor using the `gw.config.update`"
   ]
  },
  {
   "cell_type": "code",
   "execution_count": null,
   "id": "5655d00a",
   "metadata": {},
   "outputs": [],
   "source": [
    "import geowombat as gw\n",
    "from geowombat.data import l8_224078_20200518\n",
    " \n",
    "# Zeros are replaced with nans\n",
    "with gw.config.update(scale_factor=0.0001):\n",
    "  with gw.open(l8_224078_20200518) as src:\n",
    "    print(src.gw.scale_factor)"
   ]
  },
  {
   "cell_type": "markdown",
   "id": "7e82fd2d",
   "metadata": {},
   "source": [
    " \n",
    "## Replace values\n",
    "\n",
    "The GeoWombat `replace` function mimics `pandas.DataFrame.replace`."
   ]
  },
  {
   "cell_type": "code",
   "execution_count": null,
   "id": "9b413a4f",
   "metadata": {},
   "outputs": [],
   "source": [
    "import geowombat as gw\n",
    "from geowombat.data import l8_224078_20200518\n",
    "\n",
    "# Replace 1 with 10\n",
    "with gw.open(l8_224078_20200518) as src:\n",
    "    data = src.gw.replace({1: 10})"
   ]
  },
  {
   "cell_type": "markdown",
   "id": "96d66478",
   "metadata": {},
   "source": [
    "```{note}    \n",
    "The `replace` function is typically used with categorical data.\n",
    "```\n",
    "\n",
    "## Updating Values\n",
    "\n",
    "Geowombat also accepts normal mathematical expressions such as multiplication and addition:"
   ]
  },
  {
   "cell_type": "code",
   "execution_count": null,
   "id": "87ebf684",
   "metadata": {},
   "outputs": [],
   "source": [
    "import geowombat as gw\n",
    "from geowombat.data import l8_224078_20200518\n",
    "\n",
    "# Replace 1 with 10\n",
    "with gw.open(l8_224078_20200518) as src:\n",
    "    data = src * 0.001 +80\n",
    "    print(data[0].values)"
   ]
  }
 ],
 "metadata": {
  "jupytext": {
   "text_representation": {
    "extension": ".md",
    "format_name": "myst"
   }
  },
  "kernelspec": {
   "display_name": "Python 3",
   "language": "python",
   "name": "python3"
  },
  "language_info": {
   "codemirror_mode": {
    "name": "ipython",
    "version": 3
   },
   "file_extension": ".py",
   "mimetype": "text/x-python",
   "name": "python",
   "nbconvert_exporter": "python",
   "pygments_lexer": "ipython3",
   "version": "3.10.9"
  },
  "source_map": [
   10,
   35,
   42,
   47,
   64,
   70,
   78,
   84,
   91,
   101
  ]
 },
 "nbformat": 4,
 "nbformat_minor": 5
}