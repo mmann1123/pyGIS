{
 "cells": [
  {
   "cell_type": "markdown",
   "id": "a5c2e7d2",
   "metadata": {},
   "source": [
    "(f_rs_edit)=\n",
    "\n",
    "\n",
    "----------------\n",
    "\n",
    "```{admonition} Learning Objectives\n",
    "- Handle missing values\n",
    "- Setting missing values\n",
    "- Replacing values\n",
    "\n",
    "```\n",
    "```{admonition} Review\n",
    "* [Opening remotely sensed data](f_rs_io.md)\n",
    "```\n",
    "----------------\n",
    "\n",
    "# Editing Rasters and Remotely Sensed Data\n",
    "\n",
    "\n",
    "## Masking Out Certain Values\n",
    "\n",
    "The `xarray.DataArray.where` function masks data by setting nans, as demonstrated by the example below."
   ]
  },
  {
   "cell_type": "code",
   "execution_count": 1,
   "id": "936b87f6",
   "metadata": {},
   "outputs": [],
   "source": [
    "import geowombat as gw\n",
    "from geowombat.data import l8_224078_20200518\n",
    "\n",
    "# Zeros are replaced with nans\n",
    "with gw.open(l8_224078_20200518) as src:\n",
    "    data = src.where(src != 0)"
   ]
  },
  {
   "cell_type": "markdown",
   "id": "27ccc4d9",
   "metadata": {},
   "source": [
    "## Setting 'no data' Values  \n",
    "Setting missing data values, when not available in the raster profile, can be done using the [configuration manager](f_rs_config.md) or as an argument in the `open` command."
   ]
  },
  {
   "cell_type": "code",
   "execution_count": 2,
   "id": "fa78ef6c",
   "metadata": {},
   "outputs": [
    {
     "name": "stdout",
     "output_type": "stream",
     "text": [
      "gw.open:  (0, 0, 0)\n",
      "gw.config (0, 0, 0)\n"
     ]
    }
   ],
   "source": [
    "import geowombat as gw\n",
    "from geowombat.data import l8_224078_20200518\n",
    "\n",
    "# Zeros are replaced with nans\n",
    "with gw.open(l8_224078_20200518, nodata=0) as src:\n",
    "    print('gw.open: ',src.attrs['nodatavals'])\n",
    "    #  replace 0 with nan\n",
    "    src=src.gw.mask_nodata() \n",
    "\n",
    "\n",
    "# Zeros are replaced with nans\n",
    "with gw.config.update(nodata=0):\n",
    "  with gw.open(l8_224078_20200518) as src:\n",
    "    print('gw.config',src.attrs['nodatavals'])\n",
    "    #  replace 0 with nan\n",
    "    src=src.gw.mask_nodata() "
   ]
  },
  {
   "cell_type": "markdown",
   "id": "3c0ed30f",
   "metadata": {},
   "source": [
    "## Rescaling Values \n",
    "Most remotely sensed data is stored as `int` to minimize space. We are often left to rescale the values back to floating point on the backend. This can be done in a few ways in geowombat. If the sensor you are using has a geowombat profile, please use that - refer to [configuration manager docs](f_rs_config.md). If it is not natively supported we can manually set the scaling factor using the `gw.config.update`"
   ]
  },
  {
   "cell_type": "code",
   "execution_count": 3,
   "id": "fdcc57eb",
   "metadata": {},
   "outputs": [
    {
     "name": "stdout",
     "output_type": "stream",
     "text": [
      "0.0001\n"
     ]
    }
   ],
   "source": [
    "import geowombat as gw\n",
    "from geowombat.data import l8_224078_20200518\n",
    " \n",
    "# Zeros are replaced with nans\n",
    "with gw.config.update(scale_factor=0.0001):\n",
    "  with gw.open(l8_224078_20200518) as src:\n",
    "    print(src.gw.scale_factor)"
   ]
  },
  {
   "cell_type": "markdown",
   "id": "b064ef7e",
   "metadata": {},
   "source": [
    " \n",
    "## Replace values\n",
    "\n",
    "The GeoWombat `replace` function mimics `pandas.DataFrame.replace`."
   ]
  },
  {
   "cell_type": "code",
   "execution_count": 4,
   "id": "d22f35a2",
   "metadata": {},
   "outputs": [],
   "source": [
    "import geowombat as gw\n",
    "from geowombat.data import l8_224078_20200518\n",
    "\n",
    "# Replace 1 with 10\n",
    "with gw.open(l8_224078_20200518) as src:\n",
    "    data = src.gw.replace({1: 10})"
   ]
  },
  {
   "cell_type": "markdown",
   "id": "ca44eea8",
   "metadata": {},
   "source": [
    "```{note}    \n",
    "The `replace` function is typically used with categorical data.\n",
    "```\n",
    "\n",
    "## Updating Values\n",
    "\n",
    "Geowombat also accepts normal mathematical expressions such as multiplication and addition:"
   ]
  },
  {
   "cell_type": "code",
   "execution_count": 5,
   "id": "c03ec2b9",
   "metadata": {},
   "outputs": [
    {
     "name": "stdout",
     "output_type": "stream",
     "text": [
      "[[80.    80.    80.    ... 80.    80.    80.   ]\n",
      " [80.    80.    80.    ... 80.    80.    80.   ]\n",
      " [80.    80.    80.    ... 80.    80.    80.   ]\n",
      " ...\n",
      " [87.692 87.518 87.513 ... 87.44  87.432 87.415]\n",
      " [87.586 87.59  87.61  ... 87.44  87.411 87.425]\n",
      " [87.576 87.743 87.77  ... 87.464 87.443 87.406]]\n"
     ]
    }
   ],
   "source": [
    "import geowombat as gw\n",
    "from geowombat.data import l8_224078_20200518\n",
    "\n",
    "# Replace 1 with 10\n",
    "with gw.open(l8_224078_20200518) as src:\n",
    "    data = src * 0.001 +80\n",
    "    print(data[0].values)"
   ]
  }
 ],
 "metadata": {
  "jupytext": {
   "text_representation": {
    "extension": ".md",
    "format_name": "myst"
   }
  },
  "kernelspec": {
   "display_name": "Python 3",
   "language": "python",
   "name": "python3"
  },
  "language_info": {
   "codemirror_mode": {
    "name": "ipython",
    "version": 3
   },
   "file_extension": ".py",
   "mimetype": "text/x-python",
   "name": "python",
   "nbconvert_exporter": "python",
   "pygments_lexer": "ipython3",
   "version": "3.10.9"
  },
  "source_map": [
   10,
   35,
   42,
   47,
   64,
   70,
   78,
   84,
   91,
   101
  ]
 },
 "nbformat": 4,
 "nbformat_minor": 5
}