{
 "cells": [
  {
   "cell_type": "markdown",
   "id": "3e85ccc5",
   "metadata": {},
   "source": [
    "----------------\n",
    "\n",
    "```{admonition} Learning Objectives\n",
    "* Utilize different vector overlays and understand the differences between each\n",
    "* Join data based on their geographic location and explore the different join types\n",
    "```\n",
    "```{admonition} Review\n",
    "* [Spatial Vector Data](c_vectors.md)\n",
    "* [Attributes & Indexing for Vector Data](e_attributes.md)\n",
    "* [Creating Spatial Vector Data](c_new_vectors.md)\n",
    "```\n",
    "----------------\n",
    "\n",
    "# Spatial Overlays and Joins\n",
    "\n",
    "Combining two or more datasets together is a fundamental aspect of GIS. Using `geopandas`, we can create new geometries from existing datasets by overlaying them on top of each other, identifying where they do and do not overlap, and deciding what parts we want to extract from these overlays. For each of these new shapes, the attribute data from the existing constituent datasets are also combined together. [^gpd_set], [^bolstad]\n",
    "\n",
    "In this chapter, we will focus on vector overlays, which involve combining vector data. We'll explore five types of vector overlays and merging: union, intersection, difference (erase), identity, and spatial join.\n",
    "\n",
    "## Setup\n",
    "\n",
    "First, let's import the necessary modules (click the + below to show code cell)."
   ]
  },
  {
   "cell_type": "code",
   "execution_count": 1,
   "id": "b296afd2",
   "metadata": {
    "tags": [
     "hide-cell"
    ]
   },
   "outputs": [
    {
     "name": "stderr",
     "output_type": "stream",
     "text": [
      "\n",
      "A module that was compiled using NumPy 1.x cannot be run in\n",
      "NumPy 2.1.3 as it may crash. To support both 1.x and 2.x\n",
      "versions of NumPy, modules must be compiled with NumPy 2.0.\n",
      "Some module may need to rebuild instead e.g. with 'pybind11>=2.12'.\n",
      "\n",
      "If you are a user of the module, the easiest solution will be to\n",
      "downgrade to 'numpy<2' or try to upgrade the affected module.\n",
      "We expect that some modules will need time to support NumPy 2.\n",
      "\n",
      "Traceback (most recent call last):  File \"/home/mmann1123/miniconda3/envs/pygis2/lib/python3.10/runpy.py\", line 196, in _run_module_as_main\n",
      "    return _run_code(code, main_globals, None,\n",
      "  File \"/home/mmann1123/miniconda3/envs/pygis2/lib/python3.10/runpy.py\", line 86, in _run_code\n",
      "    exec(code, run_globals)\n",
      "  File \"/home/mmann1123/.local/lib/python3.10/site-packages/ipykernel_launcher.py\", line 17, in <module>\n",
      "    app.launch_new_instance()\n",
      "  File \"/home/mmann1123/.local/lib/python3.10/site-packages/traitlets/config/application.py\", line 1043, in launch_instance\n",
      "    app.start()\n",
      "  File \"/home/mmann1123/.local/lib/python3.10/site-packages/ipykernel/kernelapp.py\", line 725, in start\n",
      "    self.io_loop.start()\n",
      "  File \"/home/mmann1123/.local/lib/python3.10/site-packages/tornado/platform/asyncio.py\", line 215, in start\n",
      "    self.asyncio_loop.run_forever()\n",
      "  File \"/home/mmann1123/miniconda3/envs/pygis2/lib/python3.10/asyncio/base_events.py\", line 603, in run_forever\n",
      "    self._run_once()\n",
      "  File \"/home/mmann1123/miniconda3/envs/pygis2/lib/python3.10/asyncio/base_events.py\", line 1906, in _run_once\n",
      "    handle._run()\n",
      "  File \"/home/mmann1123/miniconda3/envs/pygis2/lib/python3.10/asyncio/events.py\", line 80, in _run\n",
      "    self._context.run(self._callback, *self._args)\n",
      "  File \"/home/mmann1123/.local/lib/python3.10/site-packages/ipykernel/kernelbase.py\", line 513, in dispatch_queue\n",
      "    await self.process_one()\n",
      "  File \"/home/mmann1123/.local/lib/python3.10/site-packages/ipykernel/kernelbase.py\", line 502, in process_one\n",
      "    await dispatch(*args)\n",
      "  File \"/home/mmann1123/.local/lib/python3.10/site-packages/ipykernel/kernelbase.py\", line 409, in dispatch_shell\n",
      "    await result\n",
      "  File \"/home/mmann1123/.local/lib/python3.10/site-packages/ipykernel/kernelbase.py\", line 729, in execute_request\n",
      "    reply_content = await reply_content\n",
      "  File \"/home/mmann1123/.local/lib/python3.10/site-packages/ipykernel/ipkernel.py\", line 422, in do_execute\n",
      "    res = shell.run_cell(\n",
      "  File \"/home/mmann1123/.local/lib/python3.10/site-packages/ipykernel/zmqshell.py\", line 540, in run_cell\n",
      "    return super().run_cell(*args, **kwargs)\n",
      "  File \"/home/mmann1123/.local/lib/python3.10/site-packages/IPython/core/interactiveshell.py\", line 2961, in run_cell\n",
      "    result = self._run_cell(\n",
      "  File \"/home/mmann1123/.local/lib/python3.10/site-packages/IPython/core/interactiveshell.py\", line 3016, in _run_cell\n",
      "    result = runner(coro)\n",
      "  File \"/home/mmann1123/.local/lib/python3.10/site-packages/IPython/core/async_helpers.py\", line 129, in _pseudo_sync_runner\n",
      "    coro.send(None)\n",
      "  File \"/home/mmann1123/.local/lib/python3.10/site-packages/IPython/core/interactiveshell.py\", line 3221, in run_cell_async\n",
      "    has_raised = await self.run_ast_nodes(code_ast.body, cell_name,\n",
      "  File \"/home/mmann1123/.local/lib/python3.10/site-packages/IPython/core/interactiveshell.py\", line 3400, in run_ast_nodes\n",
      "    if await self.run_code(code, result, async_=asy):\n",
      "  File \"/home/mmann1123/.local/lib/python3.10/site-packages/IPython/core/interactiveshell.py\", line 3460, in run_code\n",
      "    exec(code_obj, self.user_global_ns, self.user_ns)\n",
      "  File \"/tmp/ipykernel_2823192/378496356.py\", line 2, in <module>\n",
      "    import geopandas as gpd\n",
      "  File \"/home/mmann1123/miniconda3/envs/pygis2/lib/python3.10/site-packages/geopandas/__init__.py\", line 1, in <module>\n",
      "    from geopandas._config import options  # noqa\n",
      "  File \"/home/mmann1123/miniconda3/envs/pygis2/lib/python3.10/site-packages/geopandas/_config.py\", line 109, in <module>\n",
      "    default_value=_default_use_pygeos(),\n",
      "  File \"/home/mmann1123/miniconda3/envs/pygis2/lib/python3.10/site-packages/geopandas/_config.py\", line 95, in _default_use_pygeos\n",
      "    import geopandas._compat as compat\n",
      "  File \"/home/mmann1123/miniconda3/envs/pygis2/lib/python3.10/site-packages/geopandas/_compat.py\", line 10, in <module>\n",
      "    import shapely\n",
      "  File \"/home/mmann1123/miniconda3/envs/pygis2/lib/python3.10/site-packages/shapely/__init__.py\", line 1, in <module>\n",
      "    from .lib import GEOSException  # NOQA\n"
     ]
    },
    {
     "ename": "AttributeError",
     "evalue": "_ARRAY_API not found",
     "output_type": "error",
     "traceback": [
      "\u001b[0;31m---------------------------------------------------------------------------\u001b[0m",
      "\u001b[0;31mAttributeError\u001b[0m                            Traceback (most recent call last)",
      "\u001b[0;31mAttributeError\u001b[0m: _ARRAY_API not found"
     ]
    },
    {
     "ename": "ImportError",
     "evalue": "numpy.core.multiarray failed to import",
     "output_type": "error",
     "traceback": [
      "\u001b[0;31m---------------------------------------------------------------------------\u001b[0m",
      "\u001b[0;31mImportError\u001b[0m                               Traceback (most recent call last)",
      "Cell \u001b[0;32mIn[1], line 2\u001b[0m\n\u001b[1;32m      1\u001b[0m \u001b[38;5;66;03m# Import modules\u001b[39;00m\n\u001b[0;32m----> 2\u001b[0m \u001b[38;5;28;01mimport\u001b[39;00m \u001b[38;5;21;01mgeopandas\u001b[39;00m \u001b[38;5;28;01mas\u001b[39;00m \u001b[38;5;21;01mgpd\u001b[39;00m\n\u001b[1;32m      3\u001b[0m \u001b[38;5;28;01mimport\u001b[39;00m \u001b[38;5;21;01mmatplotlib\u001b[39;00m\u001b[38;5;21;01m.\u001b[39;00m\u001b[38;5;21;01mpyplot\u001b[39;00m \u001b[38;5;28;01mas\u001b[39;00m \u001b[38;5;21;01mplt\u001b[39;00m\n",
      "File \u001b[0;32m~/miniconda3/envs/pygis2/lib/python3.10/site-packages/geopandas/__init__.py:1\u001b[0m\n\u001b[0;32m----> 1\u001b[0m \u001b[38;5;28;01mfrom\u001b[39;00m \u001b[38;5;21;01mgeopandas\u001b[39;00m\u001b[38;5;21;01m.\u001b[39;00m\u001b[38;5;21;01m_config\u001b[39;00m \u001b[38;5;28;01mimport\u001b[39;00m options  \u001b[38;5;66;03m# noqa\u001b[39;00m\n\u001b[1;32m      3\u001b[0m \u001b[38;5;28;01mfrom\u001b[39;00m \u001b[38;5;21;01mgeopandas\u001b[39;00m\u001b[38;5;21;01m.\u001b[39;00m\u001b[38;5;21;01mgeoseries\u001b[39;00m \u001b[38;5;28;01mimport\u001b[39;00m GeoSeries  \u001b[38;5;66;03m# noqa\u001b[39;00m\n\u001b[1;32m      4\u001b[0m \u001b[38;5;28;01mfrom\u001b[39;00m \u001b[38;5;21;01mgeopandas\u001b[39;00m\u001b[38;5;21;01m.\u001b[39;00m\u001b[38;5;21;01mgeodataframe\u001b[39;00m \u001b[38;5;28;01mimport\u001b[39;00m GeoDataFrame  \u001b[38;5;66;03m# noqa\u001b[39;00m\n",
      "File \u001b[0;32m~/miniconda3/envs/pygis2/lib/python3.10/site-packages/geopandas/_config.py:109\u001b[0m\n\u001b[1;32m    102\u001b[0m     \u001b[38;5;28;01mimport\u001b[39;00m \u001b[38;5;21;01mgeopandas\u001b[39;00m\u001b[38;5;21;01m.\u001b[39;00m\u001b[38;5;21;01m_compat\u001b[39;00m \u001b[38;5;28;01mas\u001b[39;00m \u001b[38;5;21;01mcompat\u001b[39;00m\n\u001b[1;32m    104\u001b[0m     compat\u001b[38;5;241m.\u001b[39mset_use_pygeos(value)\n\u001b[1;32m    107\u001b[0m use_pygeos \u001b[38;5;241m=\u001b[39m Option(\n\u001b[1;32m    108\u001b[0m     key\u001b[38;5;241m=\u001b[39m\u001b[38;5;124m\"\u001b[39m\u001b[38;5;124muse_pygeos\u001b[39m\u001b[38;5;124m\"\u001b[39m,\n\u001b[0;32m--> 109\u001b[0m     default_value\u001b[38;5;241m=\u001b[39m\u001b[43m_default_use_pygeos\u001b[49m\u001b[43m(\u001b[49m\u001b[43m)\u001b[49m,\n\u001b[1;32m    110\u001b[0m     doc\u001b[38;5;241m=\u001b[39m(\n\u001b[1;32m    111\u001b[0m         \u001b[38;5;124m\"\u001b[39m\u001b[38;5;124mWhether to use PyGEOS to speed up spatial operations. The default is True \u001b[39m\u001b[38;5;124m\"\u001b[39m\n\u001b[1;32m    112\u001b[0m         \u001b[38;5;124m\"\u001b[39m\u001b[38;5;124mif PyGEOS is installed, and follows the USE_PYGEOS environment variable \u001b[39m\u001b[38;5;124m\"\u001b[39m\n\u001b[1;32m    113\u001b[0m         \u001b[38;5;124m\"\u001b[39m\u001b[38;5;124mif set.\u001b[39m\u001b[38;5;124m\"\u001b[39m\n\u001b[1;32m    114\u001b[0m     ),\n\u001b[1;32m    115\u001b[0m     validator\u001b[38;5;241m=\u001b[39m_validate_bool,\n\u001b[1;32m    116\u001b[0m     callback\u001b[38;5;241m=\u001b[39m_callback_use_pygeos,\n\u001b[1;32m    117\u001b[0m )\n\u001b[1;32m    120\u001b[0m options \u001b[38;5;241m=\u001b[39m Options({\u001b[38;5;124m\"\u001b[39m\u001b[38;5;124mdisplay_precision\u001b[39m\u001b[38;5;124m\"\u001b[39m: display_precision, \u001b[38;5;124m\"\u001b[39m\u001b[38;5;124muse_pygeos\u001b[39m\u001b[38;5;124m\"\u001b[39m: use_pygeos})\n",
      "File \u001b[0;32m~/miniconda3/envs/pygis2/lib/python3.10/site-packages/geopandas/_config.py:95\u001b[0m, in \u001b[0;36m_default_use_pygeos\u001b[0;34m()\u001b[0m\n\u001b[1;32m     94\u001b[0m \u001b[38;5;28;01mdef\u001b[39;00m \u001b[38;5;21m_default_use_pygeos\u001b[39m():\n\u001b[0;32m---> 95\u001b[0m     \u001b[38;5;28;01mimport\u001b[39;00m \u001b[38;5;21;01mgeopandas\u001b[39;00m\u001b[38;5;21;01m.\u001b[39;00m\u001b[38;5;21;01m_compat\u001b[39;00m \u001b[38;5;28;01mas\u001b[39;00m \u001b[38;5;21;01mcompat\u001b[39;00m\n\u001b[1;32m     97\u001b[0m     \u001b[38;5;28;01mreturn\u001b[39;00m compat\u001b[38;5;241m.\u001b[39mUSE_PYGEOS\n",
      "File \u001b[0;32m~/miniconda3/envs/pygis2/lib/python3.10/site-packages/geopandas/_compat.py:10\u001b[0m\n\u001b[1;32m      8\u001b[0m \u001b[38;5;28;01mimport\u001b[39;00m \u001b[38;5;21;01mpandas\u001b[39;00m \u001b[38;5;28;01mas\u001b[39;00m \u001b[38;5;21;01mpd\u001b[39;00m\n\u001b[1;32m      9\u001b[0m \u001b[38;5;28;01mimport\u001b[39;00m \u001b[38;5;21;01mpyproj\u001b[39;00m\n\u001b[0;32m---> 10\u001b[0m \u001b[38;5;28;01mimport\u001b[39;00m \u001b[38;5;21;01mshapely\u001b[39;00m\n\u001b[1;32m     11\u001b[0m \u001b[38;5;28;01mimport\u001b[39;00m \u001b[38;5;21;01mshapely\u001b[39;00m\u001b[38;5;21;01m.\u001b[39;00m\u001b[38;5;21;01mgeos\u001b[39;00m\n\u001b[1;32m     14\u001b[0m \u001b[38;5;66;03m# -----------------------------------------------------------------------------\u001b[39;00m\n\u001b[1;32m     15\u001b[0m \u001b[38;5;66;03m# pandas compat\u001b[39;00m\n\u001b[1;32m     16\u001b[0m \u001b[38;5;66;03m# -----------------------------------------------------------------------------\u001b[39;00m\n",
      "File \u001b[0;32m~/miniconda3/envs/pygis2/lib/python3.10/site-packages/shapely/__init__.py:1\u001b[0m\n\u001b[0;32m----> 1\u001b[0m \u001b[38;5;28;01mfrom\u001b[39;00m \u001b[38;5;21;01m.\u001b[39;00m\u001b[38;5;21;01mlib\u001b[39;00m \u001b[38;5;28;01mimport\u001b[39;00m GEOSException  \u001b[38;5;66;03m# NOQA\u001b[39;00m\n\u001b[1;32m      2\u001b[0m \u001b[38;5;28;01mfrom\u001b[39;00m \u001b[38;5;21;01m.\u001b[39;00m\u001b[38;5;21;01mlib\u001b[39;00m \u001b[38;5;28;01mimport\u001b[39;00m Geometry  \u001b[38;5;66;03m# NOQA\u001b[39;00m\n\u001b[1;32m      3\u001b[0m \u001b[38;5;28;01mfrom\u001b[39;00m \u001b[38;5;21;01m.\u001b[39;00m\u001b[38;5;21;01mlib\u001b[39;00m \u001b[38;5;28;01mimport\u001b[39;00m geos_version, geos_version_string  \u001b[38;5;66;03m# NOQA\u001b[39;00m\n",
      "\u001b[0;31mImportError\u001b[0m: numpy.core.multiarray failed to import"
     ]
    }
   ],
   "source": [
    "# Import modules\n",
    "import geopandas as gpd\n",
    "import matplotlib.pyplot as plt"
   ]
  },
  {
   "cell_type": "markdown",
   "id": "1556d401",
   "metadata": {},
   "source": [
    "To illustrate these geoprocessing tools, we will utilize shapefiles of San Francisco Bay Area county boundaries, Bay Area watershed boundaries, and wells within the Bay Area and the surrounding 50 km. We will load in the data and reproject the data (click the + below to show code cell).\n",
    "\n",
    "```{important} All the data must have the same coordinate system in order for extraction to work correctly.\n",
    "```"
   ]
  },
  {
   "cell_type": "code",
   "execution_count": null,
   "id": "a3a2ff47",
   "metadata": {
    "tags": [
     "hide-cell"
    ]
   },
   "outputs": [],
   "source": [
    "# Load data\n",
    "\n",
    "# County boundaries\n",
    "# Source: https://opendata.mtc.ca.gov/datasets/san-francisco-bay-region-counties-clipped?geometry=-125.590%2C37.123%2C-119.152%2C38.640\n",
    "counties = gpd.read_file(\"../_static/e_vector_shapefiles/sf_bay_counties/sf_bay_counties.shp\")\n",
    "\n",
    "# Watershed boundaries\n",
    "# Source: https://gis.data.ca.gov/datasets/CDFW::epa-surf-your-watershed-ds732?geometry=-128.711%2C36.474%2C-115.835%2C39.504\n",
    "# Modified by author so that only the watersheds with centroids in the Bay Area counties were kept\n",
    "watersheds = gpd.read_file(\"../_static/e_vector_shapefiles/sf_bay_watersheds/sf_bay_watersheds.shp\")\n",
    "\n",
    "# Well locations\n",
    "# Source: https://gis.data.ca.gov/datasets/3a3e681b894644a9a95f9815aeeeb57f_0?geometry=-123.143%2C36.405%2C-119.230%2C37.175\n",
    "# Modified by author so that only the well locations within the counties and the surrounding 50 km were kept\n",
    "wells = gpd.read_file(\"../_static/e_vector_shapefiles/sf_bay_wells_50km/sf_bay_wells_50km.shp\")\n",
    "\n",
    "# Reproject data to NAD83(HARN) / California Zone 3\n",
    "# https://spatialreference.org/ref/epsg/2768/\n",
    "proj = 2768\n",
    "counties = counties.to_crs(proj)\n",
    "watersheds = watersheds.to_crs(proj)\n",
    "wells = wells.to_crs(proj)"
   ]
  },
  {
   "cell_type": "markdown",
   "id": "4b5d4f36",
   "metadata": {},
   "source": [
    "We'll define some functions to make displaying and mapping our results a bit easier (click the + below to show code cell)."
   ]
  },
  {
   "cell_type": "code",
   "execution_count": null,
   "id": "3bed9814",
   "metadata": {
    "tags": [
     "hide-cell"
    ]
   },
   "outputs": [],
   "source": [
    "def display_table(table_name, attribute_table):\n",
    "    '''Display the first and last two rows of attribute table.'''\n",
    "\n",
    "    # Print title\n",
    "    print(\"Attribute Table: {}\".format(table_name))\n",
    "\n",
    "    # Print number of rows and columns\n",
    "    print(\"\\nTable shape (rows, columns): {}\".format(attribute_table.shape))\n",
    "\n",
    "    # Display first two rows of attribute table\n",
    "    print(\"\\nFirst two rows:\")\n",
    "    display(attribute_table.head(2))\n",
    "\n",
    "    # Display last two rows of attribute table\n",
    "    print(\"\\nLast two rows:\")\n",
    "    display(attribute_table.tail(2))\n",
    "\n",
    "\n",
    "def plot_overlay(overlay_type, overlay_result):\n",
    "    '''Plot the overlay result on a map and add the outlines of the original shapefiles on top.'''\n",
    "\n",
    "    # Create subplots\n",
    "    fig, ax = plt.subplots(1, 1, figsize = (10, 10))\n",
    "\n",
    "    # Plot overlay data\n",
    "    overlay_result.plot(ax = ax, cmap = 'Set2', edgecolor = 'black')\n",
    "\n",
    "    # Plot outlines of original shapefiles\n",
    "    counties.plot(ax = ax, color = 'none', edgecolor = 'dimgray')\n",
    "    watersheds.plot(ax = ax, color = 'none', edgecolor = 'dodgerblue')\n",
    "\n",
    "    # Stylize plots\n",
    "    plt.style.use('bmh')\n",
    "\n",
    "    # Set title\n",
    "    ax.set_title('San Francisco Bay Area County and Watershed Boundaries\\n{}'.format(overlay_type), fontdict = {'fontsize': '15', 'fontweight' : '3'})\n",
    "\n",
    "\n",
    "def plot_merge(merge_type, merge_result, merge_vector):\n",
    "    '''Plot the merge result on a map.'''\n",
    "\n",
    "    # Create subplots\n",
    "    fig, ax = plt.subplots(1, 1, figsize = (10, 10))\n",
    "\n",
    "    # Plot data depending on vector type\n",
    "    # For points\n",
    "    if merge_vector == \"point\":\n",
    "\n",
    "        # Plot data\n",
    "        counties.plot(ax = ax, color = 'none', edgecolor = 'dimgray')\n",
    "        merge_result.plot(ax = ax, marker = 'o', color = 'dodgerblue', markersize = 3)\n",
    "\n",
    "    # For polygons\n",
    "    else:\n",
    "\n",
    "        # Plot data\n",
    "        merge_result.plot(ax = ax, cmap = 'Set2', edgecolor = 'black')\n",
    "\n",
    "    # Stylize plots\n",
    "    plt.style.use('bmh')\n",
    "\n",
    "    # Set title\n",
    "    ax.set_title('San Francisco Bay Area County Boundaries and Well Locations\\n{}'.format(merge_type), fontdict = {'fontsize': '15', 'fontweight' : '3'})"
   ]
  },
  {
   "cell_type": "markdown",
   "id": "dbd2443d",
   "metadata": {},
   "source": [
    "## Overlays\n",
    "\n",
    "For the first four, we can use the `overlay` function in `geopandas`. We simply change the argument for the `how` parameter to the overlay of our choosing.\n",
    "\n",
    "We will use the county boundaries and watershed boundaries shapefiles in these examples. The overlays will allow us to see what areas are only in a county, only in a watershed, or in both.\n",
    "\n",
    "Let's briefly examine the attribute table of our shapefiles and plot the data so that we know what we're working with."
   ]
  },
  {
   "cell_type": "code",
   "execution_count": null,
   "id": "0e69a3d9",
   "metadata": {},
   "outputs": [],
   "source": [
    "# Create subplots\n",
    "fig, ax = plt.subplots(1, 1, figsize = (10, 10))\n",
    "\n",
    "# Plot data\n",
    "counties.plot(ax = ax, color = 'bisque', edgecolor = 'dimgray', alpha = 0.75)\n",
    "watersheds.plot(ax = ax, color = 'lightskyblue', edgecolor = 'dodgerblue', alpha = 0.55)\n",
    "\n",
    "# Stylize plots\n",
    "plt.style.use('bmh')\n",
    "\n",
    "# Set title\n",
    "ax.set_title('San Francisco Bay Area County and Watershed Boundaries', fontdict = {'fontsize': '15', 'fontweight' : '3'})"
   ]
  },
  {
   "cell_type": "code",
   "execution_count": null,
   "id": "7fb5ab0d",
   "metadata": {},
   "outputs": [],
   "source": [
    "# Print attribute table\n",
    "display(counties)"
   ]
  },
  {
   "cell_type": "code",
   "execution_count": null,
   "id": "0ec7fb96",
   "metadata": {},
   "outputs": [],
   "source": [
    "# Print attribute table\n",
    "display(watersheds)"
   ]
  },
  {
   "cell_type": "markdown",
   "id": "49edf551",
   "metadata": {},
   "source": [
    "### Union\n",
    "\n",
    "With `how='union'`, all data (all geometries regardless of overlap) is kept. [^gpd_set]\n",
    "\n",
    "```{figure} ../_static/img/vector_union.jpg\n",
    ":name: Union of all geometries keeps all data.\n",
    "Union keeps all the data. In the figure above, all of A and B are kept.\n",
    "```\n",
    "\n",
    "Looking at the attribute table, we see that the attributes from both individual datasets have been combined. The areas that are unique to one dataset (no overlap) have `NaN` as values in the fields that originated from the other dataset. [^gpd_set], [^bolstad]"
   ]
  },
  {
   "cell_type": "code",
   "execution_count": null,
   "id": "a00732c0",
   "metadata": {},
   "outputs": [],
   "source": [
    "# Get union\n",
    "union_result = gpd.overlay(counties, watersheds, how = 'union')\n",
    "\n",
    "# Print head and tail of attribute table\n",
    "display_table(table_name = \"Union\", attribute_table = union_result)"
   ]
  },
  {
   "cell_type": "markdown",
   "id": "5d14d691",
   "metadata": {},
   "source": [
    "Next, we can map the data, filling in the areas with color that have been retained. As the plot shows, no data was removed."
   ]
  },
  {
   "cell_type": "code",
   "execution_count": null,
   "id": "5cf98ddf",
   "metadata": {},
   "outputs": [],
   "source": [
    "# Plot overlay\n",
    "plot_overlay(overlay_type = \"Union\", overlay_result = union_result)"
   ]
  },
  {
   "cell_type": "markdown",
   "id": "d8dd265d",
   "metadata": {},
   "source": [
    "### Intersection\n",
    "\n",
    "With `how='intersection'`, only the areas where all datasets contain data (have geometries) are combined together. [^gpd_set]\n",
    "\n",
    "```{figure} ../_static/img/vector_intersection.jpg\n",
    ":name: Intersection of geometries keeps overlapping geometries.\n",
    "Intersection keeps the geometries that overlap with each other. In the figure above, only the portion where A and B overlap is kept.\n",
    "```\n",
    "\n",
    "Because there are no areas unique to one dataset, notice how the attribute table of the combined dataset does not have any `NaN` values. When mapping the intersection overlay, we can see that any areas that did not have any overlay were discarded (areas with an outline but no fill). Areas covered by the county and watershed boundaries datasets are kept (shown in color). [^gpd_set], [^bolstad]"
   ]
  },
  {
   "cell_type": "code",
   "execution_count": null,
   "id": "2eb97c3c",
   "metadata": {},
   "outputs": [],
   "source": [
    "# Get intersection\n",
    "intersection_result = gpd.overlay(counties, watersheds, how = 'intersection')\n",
    "\n",
    "# Print head and tail of attribute table\n",
    "display_table(table_name = \"Intersection\", attribute_table = intersection_result)\n",
    "\n",
    "# Plot overlay\n",
    "plot_overlay(overlay_type = \"Intersection\", overlay_result = intersection_result)"
   ]
  },
  {
   "cell_type": "markdown",
   "id": "ddd6a838",
   "metadata": {},
   "source": [
    "### Identity\n",
    "\n",
    "With `how='identity'`, data from both layers are combined, but only the geometries that are unique to the first dataset or are covered by both datasets are kept. Any geometries unique to the second dataset (no overlapping with the first dataset) are discarded. [^gpd_set]\n",
    "\n",
    "```{figure} ../_static/img/vector_identity.jpg\n",
    ":name: Identity of the geometries keeps the geometries covered by the first dataset or both datasets.\n",
    "Identity keeps the geometries of the first dataset. Any intersecting geometries from the second dataset are also combined and included. In the figure, all of A and the portion of B that intersects A are kept.\n",
    "```\n",
    "\n",
    "Looking at the attribute table, the fields from the individual datasets have been combined. For those geometries unique to the first dataset, the fields that came from the second dataset have `NaN` as values.\n",
    "\n",
    "Looking at the map, we see all combined geometries except for the areas that are unique to the second dataset (watershed boundaries dataset)."
   ]
  },
  {
   "cell_type": "code",
   "execution_count": null,
   "id": "39b3e232",
   "metadata": {},
   "outputs": [],
   "source": [
    "# Get identity\n",
    "identity_result = gpd.overlay(counties, watersheds, how = 'identity')\n",
    "\n",
    "# Print head and tail of attribute table\n",
    "display_table(table_name = \"Identity\", attribute_table = identity_result)\n",
    "\n",
    "# Plot overlay\n",
    "plot_overlay(overlay_type = \"Identity\", overlay_result = identity_result)"
   ]
  },
  {
   "cell_type": "markdown",
   "id": "e9a41e86",
   "metadata": {},
   "source": [
    "### Difference (Erase)\n",
    "\n",
    "With `how='difference'`, the areas covered by the second dataset is used to \"cut out\" or erase those corresponding areas in the first dataset. In other words, only the areas in the first dataset that do not overlap with the second dataset are kept. [^gpd_set], [^bolstad]\n",
    "\n",
    "```{figure} ../_static/img/vector_erase.jpg\n",
    ":name: Difference or Erase removes the geometries of the first dataset from the second dataset.\n",
    "Difference (erase) removes geometries that intersect with each other. In the figure above, B is used to cut out and remove a portion of A.\n",
    "```\n",
    "\n",
    "Looking at the attribute table, the fields from the second dataset do not appear in the combined dataset. The second dataset was \"combined\" with the first dataset by discarding some data (altering the geometry) from the first dataset.\n",
    "\n",
    "Looking at the map, we only see areas of the first dataset (county dataset) that are not covered by the second dataset (watershed boundaries dataset)."
   ]
  },
  {
   "cell_type": "code",
   "execution_count": null,
   "id": "248cc05a",
   "metadata": {},
   "outputs": [],
   "source": [
    "# Get difference\n",
    "difference_result = gpd.overlay(counties, watersheds, how = 'difference')\n",
    "\n",
    "# Print head and tail of attribute table\n",
    "display_table(table_name = \"Difference\", attribute_table = difference_result)\n",
    "\n",
    "# Plot overlay\n",
    "plot_overlay(overlay_type = \"Difference\", overlay_result = difference_result)"
   ]
  },
  {
   "cell_type": "markdown",
   "id": "1b6c6f01",
   "metadata": {},
   "source": [
    "## Merge\n",
    "\n",
    "### Spatial Join\n",
    "\n",
    "With spatial join, attributes from one dataset are appended to those in another dataset based on a specified relative spatial relationship. [^gpd_merge], [^esri_join]\n",
    "\n",
    "In `geopandas`, we use the `sjoin()` function. In addition to passing the datasets as arguments, and we also pass arguments for two parameters `op` and `how`. The `op` parameter specifies the spatial relationship needed in order for the attributes of one feature to be joined to another. [^gpd_merge]\n",
    "\n",
    "The following spatial relationships are available in `geopandas`:\n",
    "\n",
    "| Spatial Relationship | Description |\n",
    "| :------------ | ----------------------------------: |\n",
    "| `contains` | geometry's points are not to the exterior of the other geometry, provided that the geometry's interior contains at least one point of the other geometry's interior |\n",
    "| `crosses` | geometry's interior intersects that of the other geometry, provided that the geometry does not contain the other and the dimension of the intersection is less than the dimension of either geometry |\n",
    "| `intersects` | geometry's boundary or interior touches or crosses any part of the other geometry |\n",
    "| `overlaps` | geometry shares at least one point, but not all points, with the other geometry, provided that the geometries and the intersection of their interiors all have the same dimensions |\n",
    "| `touches` | geometry shares at least one point with the other geometry, provided that no part of the geometry's interior intersects with the other geometry |\n",
    "| `within` | geometry is enclosed in the other geometry (geometry's boundary and interior intersects with the other geometry's interior only) |\n",
    "\n",
    "```{note}\n",
    "These relationships are defined from the first dataset to the second dataset (for example, `contains` specifies that a feature from the first dataset must contain a feature from the second dataset for a join to occur).\n",
    "```\n",
    "\n",
    "```{warning}\n",
    "Depending on the argument specified in the `op` parameter, a geometry that falls directly on the boundary of another geometry may be counted, may be counted twice, or may not be counted at all. For example, if a point falls on a boundary between two geometries, `op = \"intersects\"` will count that point twice and allocate (join) it to both geometries that share the boundary, whereas `op = \"within\"` will not count or allocate the point at all.\n",
    "```\n",
    "\n",
    "Just like regular table joins, there are multiple types of spatial joins, which determine which features from both datasets are kept in the output dataset. This is specified using the `how` parameter. [^gpd_merge], [^esri_join]\n",
    "\n",
    "| Join Type | Description |\n",
    "| :----------- | -------------------------------: |\n",
    "| `left` | all features from the first or left dataset are kept, regardless if the feature met the specified spatial relationship criteria for a join/regardless if there is a match |\n",
    "| `right` |  all features from the second or right dataset are kept, regardless if the feature met the specified spatial relationship  for a join |\n",
    "| `inner` | only features from both datasets that met the spatial relationship and were joined are kept; the geometries from the first or left dataset are used for the join |\n",
    "\n",
    "We'll illustrate this geoprocessing using the county boundaries shapefile and the well locations shapefile. Let's quickly examine the wells attribute table and plot both datasets."
   ]
  },
  {
   "cell_type": "code",
   "execution_count": null,
   "id": "96430b0d",
   "metadata": {},
   "outputs": [],
   "source": [
    "# Print head and tail of attribute table\n",
    "display_table(table_name = \"San Francisco Bay Area and Surrounding Area Wells\", attribute_table = wells)\n",
    "\n",
    "# Create subplots\n",
    "fig, ax = plt.subplots(1, 1, figsize = (10, 10))\n",
    "\n",
    "# Plot data\n",
    "counties.plot(ax = ax, color = 'bisque', edgecolor = 'dimgray')\n",
    "wells.plot(ax = ax, marker = 'o', color = 'dodgerblue', markersize = 3)\n",
    "\n",
    "# Stylize plots\n",
    "plt.style.use('bmh')\n",
    "\n",
    "# Set title\n",
    "ax.set_title('San Francisco Bay Area County Boundaries and Well Locations', fontdict = {'fontsize': '15', 'fontweight' : '3'})"
   ]
  },
  {
   "cell_type": "markdown",
   "id": "86a15a8b",
   "metadata": {},
   "source": [
    "#### Left Join\n",
    "\n",
    "We'll first demonstrate a left join. Notice that all features from the left dataset (wells dataset) are kept. The features that did not meet the spatial relationship criteria for a join have `NaN` as values for the fields that originated from the right dataset (county boundaries dataset)."
   ]
  },
  {
   "cell_type": "code",
   "execution_count": null,
   "id": "f5e6feb1",
   "metadata": {},
   "outputs": [],
   "source": [
    "# Get inner join\n",
    "left_join_result = gpd.sjoin(wells, counties, how = \"left\", op = 'within')\n",
    "\n",
    "# Print head and tail of attribute table\n",
    "display_table(table_name = \"Left Join\", attribute_table = left_join_result)\n",
    "\n",
    "# Plot merge\n",
    "plot_merge(merge_type = \"Left Join\", merge_result = left_join_result, merge_vector = \"point\")"
   ]
  },
  {
   "cell_type": "markdown",
   "id": "30fc1b87",
   "metadata": {},
   "source": [
    "#### Right Join\n",
    "\n",
    "For a right join, all features from the right dataset (county boundaries dataset) are kept but are repeated multiple times. This is because a \"new\" county feature is created for every well point that falls within a county's boundary. As a result, because wells must fall within the county boundaries for a join to occur on the county boundaries feature, there are no resulting features with `NaN` as values in the attribute table.\n",
    "\n",
    "```{attention} The results here are a bit useless, since it's just each county boundary multiplied by the number of wells in that county, but we kept this example for comprehensiveness.\n",
    "```"
   ]
  },
  {
   "cell_type": "code",
   "execution_count": null,
   "id": "97191c30",
   "metadata": {},
   "outputs": [],
   "source": [
    "# Get inner join\n",
    "right_join_result = gpd.sjoin(wells, counties, how = \"right\", op = 'within')\n",
    "\n",
    "# Print head and tail of attribute table\n",
    "display_table(table_name = \"Right Join\", attribute_table = right_join_result)\n",
    "\n",
    "# Plot merge\n",
    "plot_merge(merge_type = \"Right Join\", merge_result = right_join_result, merge_vector = \"polygon\")"
   ]
  },
  {
   "cell_type": "markdown",
   "id": "2eb06b72",
   "metadata": {},
   "source": [
    "#### Inner Join\n",
    "\n",
    "Finally, with an inner join, only the well locations that fall within the county boundaries are kept. These well locations have the county boundaries dataset appended to them. Because it's an inner join, there are no resulting features with `NaN` as values in the attribute table."
   ]
  },
  {
   "cell_type": "code",
   "execution_count": null,
   "id": "fcfb28bb",
   "metadata": {},
   "outputs": [],
   "source": [
    "# Get inner join\n",
    "inner_join_result = gpd.sjoin(wells, counties, how = \"inner\", op = 'within')\n",
    "\n",
    "# Print head and tail of attribute table\n",
    "display_table(table_name = \"Inner Join\", attribute_table = inner_join_result)\n",
    "\n",
    "# Plot merge\n",
    "plot_merge(merge_type = \"Inner Join\", merge_result = inner_join_result, merge_vector = \"point\")"
   ]
  },
  {
   "cell_type": "markdown",
   "id": "dec658ff",
   "metadata": {},
   "source": [
    "[^gpd_set]: [Set-Operations with Overlay, GeoPandas](https://geopandas.org/docs/user_guide/set_operations.html)\n",
    "[^bolstad]: GIS Fundamentals: A First Text on Geographic Information Systems, 5th ed., Paul Bolstad\n",
    "[^gpd_merge]: [Merging Data, GeoPandas](https://geopandas.org/docs/user_guide/mergingdata.html)\n",
    "[^esri_join]: [Spatial Join (Analysis), Esri](https://pro.arcgis.com/en/pro-app/latest/tool-reference/analysis/spatial-join.htm)"
   ]
  }
 ],
 "metadata": {
  "jupytext": {
   "text_representation": {
    "extension": ".md",
    "format_name": "myst"
   }
  },
  "kernelspec": {
   "display_name": "Python 3",
   "language": "python",
   "name": "python3"
  },
  "language_info": {
   "codemirror_mode": {
    "name": "ipython",
    "version": 3
   },
   "file_extension": ".py",
   "mimetype": "text/x-python",
   "name": "python",
   "nbconvert_exporter": "python",
   "pygments_lexer": "ipython3",
   "version": "3.10.9"
  },
  "myst": {
   "html_meta": {
    "description lang=en": "Learn how to overlay and join vector data to create new geometries.",
    "keywords": "spatial, overlay, join, vector, shapefile",
    "property=og:locale": "en_US"
   }
  },
  "source_map": [
   15,
   41,
   47,
   54,
   79,
   83,
   149,
   159,
   174,
   179,
   182,
   195,
   201,
   205,
   208,
   221,
   230,
   245,
   254,
   269,
   278,
   317,
   333,
   339,
   348,
   357,
   366,
   372,
   381
  ]
 },
 "nbformat": 4,
 "nbformat_minor": 5
}