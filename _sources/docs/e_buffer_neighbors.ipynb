{
 "cells": [
  {
   "cell_type": "markdown",
   "id": "7717de7c",
   "metadata": {},
   "source": [
    "----------------\n",
    "\n",
    "```{admonition} Learning Objectives\n",
    "* Do distance/proximity based analysis for points, lines, polygons\n",
    "* Create buffers\n",
    "* Get nearest neighbors\n",
    "```\n",
    "```{admonition} Review\n",
    "* [Spatial Vector Data](c_vectors.md)\n",
    "* [Attributes & Indexing for Vector Data](e_attributes.md)\n",
    "* [Creating Spatial Vector Data](c_new_vectors.md)\n",
    "```\n",
    "----------------\n",
    "\n",
    "# Proximity Analysis - Buffers, Nearest Neighbor \n",
    "In this chapter we are going to dig into some of the most common spatial operations. After this section you will be able to answer simple questions like \"where is the nearest wendy's?\", \"Are there any homes within 50 yards of a highway?\".\n",
    " \n",
    "\n",
    "## Buffer Analysis\n",
    "First, we will import the necessary modules and create two lines (click the + below to show code cell)."
   ]
  },
  {
   "cell_type": "code",
   "execution_count": 1,
   "id": "384205f1",
   "metadata": {},
   "outputs": [
    {
     "name": "stderr",
     "output_type": "stream",
     "text": [
      "\n",
      "A module that was compiled using NumPy 1.x cannot be run in\n",
      "NumPy 2.1.3 as it may crash. To support both 1.x and 2.x\n",
      "versions of NumPy, modules must be compiled with NumPy 2.0.\n",
      "Some module may need to rebuild instead e.g. with 'pybind11>=2.12'.\n",
      "\n",
      "If you are a user of the module, the easiest solution will be to\n",
      "downgrade to 'numpy<2' or try to upgrade the affected module.\n",
      "We expect that some modules will need time to support NumPy 2.\n",
      "\n",
      "Traceback (most recent call last):  File \"/home/mmann1123/miniconda3/envs/pygis2/lib/python3.10/runpy.py\", line 196, in _run_module_as_main\n",
      "    return _run_code(code, main_globals, None,\n",
      "  File \"/home/mmann1123/miniconda3/envs/pygis2/lib/python3.10/runpy.py\", line 86, in _run_code\n",
      "    exec(code, run_globals)\n",
      "  File \"/home/mmann1123/.local/lib/python3.10/site-packages/ipykernel_launcher.py\", line 17, in <module>\n",
      "    app.launch_new_instance()\n",
      "  File \"/home/mmann1123/.local/lib/python3.10/site-packages/traitlets/config/application.py\", line 1043, in launch_instance\n",
      "    app.start()\n",
      "  File \"/home/mmann1123/.local/lib/python3.10/site-packages/ipykernel/kernelapp.py\", line 725, in start\n",
      "    self.io_loop.start()\n",
      "  File \"/home/mmann1123/.local/lib/python3.10/site-packages/tornado/platform/asyncio.py\", line 215, in start\n",
      "    self.asyncio_loop.run_forever()\n",
      "  File \"/home/mmann1123/miniconda3/envs/pygis2/lib/python3.10/asyncio/base_events.py\", line 603, in run_forever\n",
      "    self._run_once()\n",
      "  File \"/home/mmann1123/miniconda3/envs/pygis2/lib/python3.10/asyncio/base_events.py\", line 1906, in _run_once\n",
      "    handle._run()\n",
      "  File \"/home/mmann1123/miniconda3/envs/pygis2/lib/python3.10/asyncio/events.py\", line 80, in _run\n",
      "    self._context.run(self._callback, *self._args)\n",
      "  File \"/home/mmann1123/.local/lib/python3.10/site-packages/ipykernel/kernelbase.py\", line 513, in dispatch_queue\n",
      "    await self.process_one()\n",
      "  File \"/home/mmann1123/.local/lib/python3.10/site-packages/ipykernel/kernelbase.py\", line 502, in process_one\n",
      "    await dispatch(*args)\n",
      "  File \"/home/mmann1123/.local/lib/python3.10/site-packages/ipykernel/kernelbase.py\", line 409, in dispatch_shell\n",
      "    await result\n",
      "  File \"/home/mmann1123/.local/lib/python3.10/site-packages/ipykernel/kernelbase.py\", line 729, in execute_request\n",
      "    reply_content = await reply_content\n",
      "  File \"/home/mmann1123/.local/lib/python3.10/site-packages/ipykernel/ipkernel.py\", line 422, in do_execute\n",
      "    res = shell.run_cell(\n",
      "  File \"/home/mmann1123/.local/lib/python3.10/site-packages/ipykernel/zmqshell.py\", line 540, in run_cell\n",
      "    return super().run_cell(*args, **kwargs)\n",
      "  File \"/home/mmann1123/.local/lib/python3.10/site-packages/IPython/core/interactiveshell.py\", line 2961, in run_cell\n",
      "    result = self._run_cell(\n",
      "  File \"/home/mmann1123/.local/lib/python3.10/site-packages/IPython/core/interactiveshell.py\", line 3016, in _run_cell\n",
      "    result = runner(coro)\n",
      "  File \"/home/mmann1123/.local/lib/python3.10/site-packages/IPython/core/async_helpers.py\", line 129, in _pseudo_sync_runner\n",
      "    coro.send(None)\n",
      "  File \"/home/mmann1123/.local/lib/python3.10/site-packages/IPython/core/interactiveshell.py\", line 3221, in run_cell_async\n",
      "    has_raised = await self.run_ast_nodes(code_ast.body, cell_name,\n",
      "  File \"/home/mmann1123/.local/lib/python3.10/site-packages/IPython/core/interactiveshell.py\", line 3400, in run_ast_nodes\n",
      "    if await self.run_code(code, result, async_=asy):\n",
      "  File \"/home/mmann1123/.local/lib/python3.10/site-packages/IPython/core/interactiveshell.py\", line 3460, in run_code\n",
      "    exec(code_obj, self.user_global_ns, self.user_ns)\n",
      "  File \"/tmp/ipykernel_2821961/691705201.py\", line 3, in <module>\n",
      "    import geopandas as gpd\n",
      "  File \"/home/mmann1123/miniconda3/envs/pygis2/lib/python3.10/site-packages/geopandas/__init__.py\", line 1, in <module>\n",
      "    from geopandas._config import options  # noqa\n",
      "  File \"/home/mmann1123/miniconda3/envs/pygis2/lib/python3.10/site-packages/geopandas/_config.py\", line 109, in <module>\n",
      "    default_value=_default_use_pygeos(),\n",
      "  File \"/home/mmann1123/miniconda3/envs/pygis2/lib/python3.10/site-packages/geopandas/_config.py\", line 95, in _default_use_pygeos\n",
      "    import geopandas._compat as compat\n",
      "  File \"/home/mmann1123/miniconda3/envs/pygis2/lib/python3.10/site-packages/geopandas/_compat.py\", line 10, in <module>\n",
      "    import shapely\n",
      "  File \"/home/mmann1123/miniconda3/envs/pygis2/lib/python3.10/site-packages/shapely/__init__.py\", line 1, in <module>\n",
      "    from .lib import GEOSException  # NOQA\n"
     ]
    },
    {
     "ename": "AttributeError",
     "evalue": "_ARRAY_API not found",
     "output_type": "error",
     "traceback": [
      "\u001b[0;31m---------------------------------------------------------------------------\u001b[0m",
      "\u001b[0;31mAttributeError\u001b[0m                            Traceback (most recent call last)",
      "\u001b[0;31mAttributeError\u001b[0m: _ARRAY_API not found"
     ]
    },
    {
     "ename": "ImportError",
     "evalue": "numpy.core.multiarray failed to import",
     "output_type": "error",
     "traceback": [
      "\u001b[0;31m---------------------------------------------------------------------------\u001b[0m",
      "\u001b[0;31mImportError\u001b[0m                               Traceback (most recent call last)",
      "Cell \u001b[0;32mIn[1], line 3\u001b[0m\n\u001b[1;32m      1\u001b[0m \u001b[38;5;66;03m# Import modules\u001b[39;00m\n\u001b[1;32m      2\u001b[0m \u001b[38;5;28;01mimport\u001b[39;00m \u001b[38;5;21;01mpandas\u001b[39;00m \u001b[38;5;28;01mas\u001b[39;00m \u001b[38;5;21;01mpd\u001b[39;00m\n\u001b[0;32m----> 3\u001b[0m \u001b[38;5;28;01mimport\u001b[39;00m \u001b[38;5;21;01mgeopandas\u001b[39;00m \u001b[38;5;28;01mas\u001b[39;00m \u001b[38;5;21;01mgpd\u001b[39;00m\n\u001b[1;32m      4\u001b[0m \u001b[38;5;28;01mfrom\u001b[39;00m \u001b[38;5;21;01mshapely\u001b[39;00m\u001b[38;5;21;01m.\u001b[39;00m\u001b[38;5;21;01mgeometry\u001b[39;00m \u001b[38;5;28;01mimport\u001b[39;00m Point, LineString, Polygon\n\u001b[1;32m      5\u001b[0m \u001b[38;5;28;01mfrom\u001b[39;00m \u001b[38;5;21;01mio\u001b[39;00m \u001b[38;5;28;01mimport\u001b[39;00m StringIO \n",
      "File \u001b[0;32m~/miniconda3/envs/pygis2/lib/python3.10/site-packages/geopandas/__init__.py:1\u001b[0m\n\u001b[0;32m----> 1\u001b[0m \u001b[38;5;28;01mfrom\u001b[39;00m \u001b[38;5;21;01mgeopandas\u001b[39;00m\u001b[38;5;21;01m.\u001b[39;00m\u001b[38;5;21;01m_config\u001b[39;00m \u001b[38;5;28;01mimport\u001b[39;00m options  \u001b[38;5;66;03m# noqa\u001b[39;00m\n\u001b[1;32m      3\u001b[0m \u001b[38;5;28;01mfrom\u001b[39;00m \u001b[38;5;21;01mgeopandas\u001b[39;00m\u001b[38;5;21;01m.\u001b[39;00m\u001b[38;5;21;01mgeoseries\u001b[39;00m \u001b[38;5;28;01mimport\u001b[39;00m GeoSeries  \u001b[38;5;66;03m# noqa\u001b[39;00m\n\u001b[1;32m      4\u001b[0m \u001b[38;5;28;01mfrom\u001b[39;00m \u001b[38;5;21;01mgeopandas\u001b[39;00m\u001b[38;5;21;01m.\u001b[39;00m\u001b[38;5;21;01mgeodataframe\u001b[39;00m \u001b[38;5;28;01mimport\u001b[39;00m GeoDataFrame  \u001b[38;5;66;03m# noqa\u001b[39;00m\n",
      "File \u001b[0;32m~/miniconda3/envs/pygis2/lib/python3.10/site-packages/geopandas/_config.py:109\u001b[0m\n\u001b[1;32m    102\u001b[0m     \u001b[38;5;28;01mimport\u001b[39;00m \u001b[38;5;21;01mgeopandas\u001b[39;00m\u001b[38;5;21;01m.\u001b[39;00m\u001b[38;5;21;01m_compat\u001b[39;00m \u001b[38;5;28;01mas\u001b[39;00m \u001b[38;5;21;01mcompat\u001b[39;00m\n\u001b[1;32m    104\u001b[0m     compat\u001b[38;5;241m.\u001b[39mset_use_pygeos(value)\n\u001b[1;32m    107\u001b[0m use_pygeos \u001b[38;5;241m=\u001b[39m Option(\n\u001b[1;32m    108\u001b[0m     key\u001b[38;5;241m=\u001b[39m\u001b[38;5;124m\"\u001b[39m\u001b[38;5;124muse_pygeos\u001b[39m\u001b[38;5;124m\"\u001b[39m,\n\u001b[0;32m--> 109\u001b[0m     default_value\u001b[38;5;241m=\u001b[39m\u001b[43m_default_use_pygeos\u001b[49m\u001b[43m(\u001b[49m\u001b[43m)\u001b[49m,\n\u001b[1;32m    110\u001b[0m     doc\u001b[38;5;241m=\u001b[39m(\n\u001b[1;32m    111\u001b[0m         \u001b[38;5;124m\"\u001b[39m\u001b[38;5;124mWhether to use PyGEOS to speed up spatial operations. The default is True \u001b[39m\u001b[38;5;124m\"\u001b[39m\n\u001b[1;32m    112\u001b[0m         \u001b[38;5;124m\"\u001b[39m\u001b[38;5;124mif PyGEOS is installed, and follows the USE_PYGEOS environment variable \u001b[39m\u001b[38;5;124m\"\u001b[39m\n\u001b[1;32m    113\u001b[0m         \u001b[38;5;124m\"\u001b[39m\u001b[38;5;124mif set.\u001b[39m\u001b[38;5;124m\"\u001b[39m\n\u001b[1;32m    114\u001b[0m     ),\n\u001b[1;32m    115\u001b[0m     validator\u001b[38;5;241m=\u001b[39m_validate_bool,\n\u001b[1;32m    116\u001b[0m     callback\u001b[38;5;241m=\u001b[39m_callback_use_pygeos,\n\u001b[1;32m    117\u001b[0m )\n\u001b[1;32m    120\u001b[0m options \u001b[38;5;241m=\u001b[39m Options({\u001b[38;5;124m\"\u001b[39m\u001b[38;5;124mdisplay_precision\u001b[39m\u001b[38;5;124m\"\u001b[39m: display_precision, \u001b[38;5;124m\"\u001b[39m\u001b[38;5;124muse_pygeos\u001b[39m\u001b[38;5;124m\"\u001b[39m: use_pygeos})\n",
      "File \u001b[0;32m~/miniconda3/envs/pygis2/lib/python3.10/site-packages/geopandas/_config.py:95\u001b[0m, in \u001b[0;36m_default_use_pygeos\u001b[0;34m()\u001b[0m\n\u001b[1;32m     94\u001b[0m \u001b[38;5;28;01mdef\u001b[39;00m \u001b[38;5;21m_default_use_pygeos\u001b[39m():\n\u001b[0;32m---> 95\u001b[0m     \u001b[38;5;28;01mimport\u001b[39;00m \u001b[38;5;21;01mgeopandas\u001b[39;00m\u001b[38;5;21;01m.\u001b[39;00m\u001b[38;5;21;01m_compat\u001b[39;00m \u001b[38;5;28;01mas\u001b[39;00m \u001b[38;5;21;01mcompat\u001b[39;00m\n\u001b[1;32m     97\u001b[0m     \u001b[38;5;28;01mreturn\u001b[39;00m compat\u001b[38;5;241m.\u001b[39mUSE_PYGEOS\n",
      "File \u001b[0;32m~/miniconda3/envs/pygis2/lib/python3.10/site-packages/geopandas/_compat.py:10\u001b[0m\n\u001b[1;32m      8\u001b[0m \u001b[38;5;28;01mimport\u001b[39;00m \u001b[38;5;21;01mpandas\u001b[39;00m \u001b[38;5;28;01mas\u001b[39;00m \u001b[38;5;21;01mpd\u001b[39;00m\n\u001b[1;32m      9\u001b[0m \u001b[38;5;28;01mimport\u001b[39;00m \u001b[38;5;21;01mpyproj\u001b[39;00m\n\u001b[0;32m---> 10\u001b[0m \u001b[38;5;28;01mimport\u001b[39;00m \u001b[38;5;21;01mshapely\u001b[39;00m\n\u001b[1;32m     11\u001b[0m \u001b[38;5;28;01mimport\u001b[39;00m \u001b[38;5;21;01mshapely\u001b[39;00m\u001b[38;5;21;01m.\u001b[39;00m\u001b[38;5;21;01mgeos\u001b[39;00m\n\u001b[1;32m     14\u001b[0m \u001b[38;5;66;03m# -----------------------------------------------------------------------------\u001b[39;00m\n\u001b[1;32m     15\u001b[0m \u001b[38;5;66;03m# pandas compat\u001b[39;00m\n\u001b[1;32m     16\u001b[0m \u001b[38;5;66;03m# -----------------------------------------------------------------------------\u001b[39;00m\n",
      "File \u001b[0;32m~/miniconda3/envs/pygis2/lib/python3.10/site-packages/shapely/__init__.py:1\u001b[0m\n\u001b[0;32m----> 1\u001b[0m \u001b[38;5;28;01mfrom\u001b[39;00m \u001b[38;5;21;01m.\u001b[39;00m\u001b[38;5;21;01mlib\u001b[39;00m \u001b[38;5;28;01mimport\u001b[39;00m GEOSException  \u001b[38;5;66;03m# NOQA\u001b[39;00m\n\u001b[1;32m      2\u001b[0m \u001b[38;5;28;01mfrom\u001b[39;00m \u001b[38;5;21;01m.\u001b[39;00m\u001b[38;5;21;01mlib\u001b[39;00m \u001b[38;5;28;01mimport\u001b[39;00m Geometry  \u001b[38;5;66;03m# NOQA\u001b[39;00m\n\u001b[1;32m      3\u001b[0m \u001b[38;5;28;01mfrom\u001b[39;00m \u001b[38;5;21;01m.\u001b[39;00m\u001b[38;5;21;01mlib\u001b[39;00m \u001b[38;5;28;01mimport\u001b[39;00m geos_version, geos_version_string  \u001b[38;5;66;03m# NOQA\u001b[39;00m\n",
      "\u001b[0;31mImportError\u001b[0m: numpy.core.multiarray failed to import"
     ]
    }
   ],
   "source": [
    "# Import modules\n",
    "import pandas as pd\n",
    "import geopandas as gpd\n",
    "from shapely.geometry import Point, LineString, Polygon\n",
    "from io import StringIO \n",
    "\n",
    "data = \"\"\"\n",
    "ID,X,Y\n",
    "1,  -87.789,  41.976\n",
    "1,  -87.482,  41.677\n",
    "2,  -87.599,  41.908\n",
    "2,  -87.598,  41.708\n",
    "2,  -87.643,  41.675\n",
    "\"\"\"\n",
    "# use StringIO to read in text chunk\n",
    "df = pd.read_table(StringIO(data), sep=',')\n",
    "\n",
    "#zip the coordinates into a point object and convert to a GeoData Frame\n",
    "points = [Point(xy) for xy in zip(df.X, df.Y)]\n",
    "points = gpd.GeoDataFrame(df, geometry=points, crs = 'EPSG:4326')\n",
    "# create line for each ID \n",
    "lines = points.groupby(['ID'])['geometry'].apply(lambda x:  LineString(x.tolist()))\n",
    "lines = gpd.GeoDataFrame(lines, geometry='geometry', crs=\"EPSG:4326\") \n",
    "lines.reset_index(inplace=True)\n"
   ]
  },
  {
   "cell_type": "markdown",
   "id": "a2e406b6",
   "metadata": {},
   "source": [
    "Let's take a look at the data."
   ]
  },
  {
   "cell_type": "code",
   "execution_count": null,
   "id": "68dbe321",
   "metadata": {},
   "outputs": [],
   "source": [
    "# plot county outline and add wells to axis (ax)\n",
    "lines.plot(column='ID')"
   ]
  },
  {
   "cell_type": "markdown",
   "id": "460db152",
   "metadata": {},
   "source": [
    "```{important} NEVER do distance analysis with unprojeted data (e.g. lat lon). Distances are best not measured in degrees! Instead use .to_crs() to convert it to a projected coordinate system with a linear unit in feet or meters etc.\n",
    "```\n",
    "\n",
    "Although it is not clearly stated the `distance` parameter is measured in the linear unit of the projection. So before we get started we need to make sure to use `to_crs()` to convert to a projected coordinate system."
   ]
  },
  {
   "cell_type": "code",
   "execution_count": null,
   "id": "9c6bb042",
   "metadata": {},
   "outputs": [],
   "source": [
    "# plot county outline and add wells to axis (ax)\n",
    "lines = lines.to_crs(3857)\n",
    "# check the linear unit name in `unit_name`.\n",
    "print(lines.crs.axis_info)"
   ]
  },
  {
   "cell_type": "markdown",
   "id": "3b2bc816",
   "metadata": {},
   "source": [
    "Starting from two lines we can start playing around with the buffer function. You can read the docs for the buffer function, unfortunately is split between two docs [geopandas](https://geopandas.org/en/stable/docs/reference/api/geopandas.GeoSeries.buffer.html) and [shapely](https://shapely.readthedocs.io/en/latest/manual.html#object.buffer)."
   ]
  },
  {
   "cell_type": "code",
   "execution_count": null,
   "id": "decd9459",
   "metadata": {},
   "outputs": [],
   "source": [
    "buf = lines.buffer(distance = 1000)\n",
    "bp = buf.plot()\n",
    "lines.plot(ax=bp, color='red')\n",
    "print(buf)"
   ]
  },
  {
   "cell_type": "markdown",
   "id": "f81a0f12",
   "metadata": {},
   "source": [
    "Notice that we now have to polygon GEOMETRIES. This no longer has the line attributes associated with it. If we want to add back the attribute data we need to replace the original geometry column with new buffer geometry values."
   ]
  },
  {
   "cell_type": "code",
   "execution_count": null,
   "id": "554f4a96",
   "metadata": {},
   "outputs": [],
   "source": [
    "line_buffer = lines.copy()\n",
    "line_buffer['geometry'] = buf\n",
    "print(line_buffer)"
   ]
  },
  {
   "cell_type": "markdown",
   "id": "97a7f55b",
   "metadata": {},
   "source": [
    "There are a number of other parameters available to use, namely `cap_style`, and `single_sided`."
   ]
  },
  {
   "cell_type": "code",
   "execution_count": null,
   "id": "580a3e27",
   "metadata": {},
   "outputs": [],
   "source": [
    "buf = lines.buffer(distance = 3000, cap_style = 2)\n",
    "bp = buf.plot()\n",
    "lines.plot(ax=bp, color='red')"
   ]
  },
  {
   "cell_type": "markdown",
   "id": "bd3c9822",
   "metadata": {},
   "source": [
    "```{table} Buffer caps can be different shapes\n",
    ":name: cap_style\n",
    "\n",
    "| attribute | value |\n",
    "|---|---|\n",
    "| round | 1 |\n",
    "| flat  | 2 |\n",
    "| square | 3 |\n",
    "```\n",
    "\n",
    "We can also create left or right side buffers. Use negative distances for left, and positive values for right."
   ]
  },
  {
   "cell_type": "code",
   "execution_count": null,
   "id": "527d4276",
   "metadata": {},
   "outputs": [],
   "source": [
    "buf_right = lines.buffer(distance = 3000, single_sided = True)\n",
    "bp = buf_right.plot(color='green')\n",
    "\n",
    "buf_left = lines.buffer(distance = -1500, single_sided = True)\n",
    "buf_left.plot(ax=bp, color='purple')\n",
    "lines.plot(ax=bp, color='white')"
   ]
  },
  {
   "cell_type": "markdown",
   "id": "8640f48d",
   "metadata": {},
   "source": [
    " \n",
    "## Nearest Neighbor Analysis\n",
    "\n",
    "One commonly used GIS task is to be able to find the nearest neighbor. For instance, you might have a single Point object representing your home location, and then another set of locations representing e.g. public transport stops. Then, quite typical question is *\"which of the stops is closest one to my home?\"* This is a typical nearest neighbor analysis, where the aim is to find the closest geometry to another geometry. [^gpd_clip]\n",
    "\n",
    "In Python this kind of analysis can be done with shapely function called `nearest_points()` that returns a tuple of the [nearest points](https://shapely.readthedocs.io/en/latest/manual.html#shapely.ops.nearest_points) in the input geometries.\n",
    "\n",
    "### Nearest point using Shapely\n",
    "\n",
    "Let's start by testing how we can find the nearest Point using the `nearest_points` function of Shapely.\n",
    "\n",
    "Let's create an origin Point and a few destination Points and find out the closest destination."
   ]
  },
  {
   "cell_type": "code",
   "execution_count": null,
   "id": "bc885489",
   "metadata": {},
   "outputs": [],
   "source": [
    "from shapely.geometry import Point, MultiPoint\n",
    "from shapely.ops import nearest_points\n",
    "\n",
    "orig = Point(1, 1.67)\n",
    "dest1, dest2, dest3 = Point(0, 1.45), Point(2, 2), Point(0, 2.5)\n"
   ]
  },
  {
   "cell_type": "markdown",
   "id": "8c4617d1",
   "metadata": {},
   "source": [
    "To be able to find out the closest destination point from the origin, we need to create a MultiPoint object from the destination points."
   ]
  },
  {
   "cell_type": "code",
   "execution_count": null,
   "id": "41cc1aa0",
   "metadata": {},
   "outputs": [],
   "source": [
    "destinations = MultiPoint([dest1, dest2, dest3])\n",
    "print(destinations)"
   ]
  },
  {
   "cell_type": "markdown",
   "id": "0a5696fb",
   "metadata": {},
   "source": [
    "Okey, now we can see that all the destination points are represented as a single MultiPoint object. Now we can find out the nearest destination point by using `nearest_points()` function."
   ]
  },
  {
   "cell_type": "code",
   "execution_count": null,
   "id": "4895979c",
   "metadata": {},
   "outputs": [],
   "source": [
    "nearest_geoms = nearest_points(orig, destinations)\n",
    "original_point, nearest_destination = nearest_geoms\n",
    "print(nearest_geoms)\n",
    "print('Coordinates of original point:',original_point)\n",
    "print('Coordinates of closest destination point:',nearest_destination)"
   ]
  },
  {
   "cell_type": "markdown",
   "id": "077b4099",
   "metadata": {},
   "source": [
    "As you can see the `nearest_points` function returns a tuple of geometries where the first item is the geometry of our origin point and the second item (at index 1) is the actual nearest geometry from the destination points. Hence, the closest destination point seems to be the one located at coordinates (0, 1.45).\n",
    "\n",
    "This is the basic logic how we can find the nearest point from a set of points.\n",
    "\n",
    "### Nearest points using Geopandas\n",
    "\n",
    "Of course, the previous example is not really useful yet. Hence, next I show, how it is possible to find nearest points from a set of origin points to a set of destination points using GeoDataFrames. In this example we will recreate the previous example but use geopandas, however this data could come from any shapefile. \n",
    "\n",
    "- First we need to create a function that takes advantage of the previous function but is tailored to work with two GeoDataFrames."
   ]
  },
  {
   "cell_type": "code",
   "execution_count": null,
   "id": "60674145",
   "metadata": {},
   "outputs": [],
   "source": [
    "from shapely.ops import nearest_points\n",
    "\n",
    "def _nearest(row, df1, df2, geom1='geometry', geom2='geometry', df2_column=None):\n",
    "    \"\"\"Find the nearest point and return the corresponding value from specified column.\"\"\"\n",
    "\n",
    "    # create object usable by Shapely\n",
    "    geom_union = df2.unary_union\n",
    "\n",
    "    # Find the geometry that is closest\n",
    "    nearest = df2[geom2] == nearest_points(row[geom1], geom_union)[1]\n",
    "    # Get the corresponding value from df2 (matching is based on the geometry)\n",
    "    if df2_column is None:\n",
    "        value = df2[nearest].index[0]\n",
    "    else:\n",
    "        value = df2[nearest][df2_column].values[0]\n",
    "    return value\n",
    "\n",
    "def nearest(df1, df2, geom1_col='geometry', geom2_col='geometry', df2_column=None):\n",
    "    \"\"\"Find the nearest point and return the corresponding value from specified column.\n",
    "    :param df1: Origin points\n",
    "    :type df1: geopandas.GeoDataFrame\n",
    "    :param df2: Destination points\n",
    "    :type df2: geopandas.GeoDataFrame\n",
    "    :param geom1_col: name of column holding coordinate geometry, defaults to 'geometry'\n",
    "    :type geom1_col: str, optional\n",
    "    :param geom2_col: name of column holding coordinate geometry, defaults to 'geometry'\n",
    "    :type geom2_col: str, optional\n",
    "    :param df2_column: column name to return from df2, defaults to None\n",
    "    :type df2_column: str, optional\n",
    "    :return: df1 with nearest neighbor index or df2_column appended\n",
    "    :rtype: geopandas.GeoDataFrame\n",
    "    \"\"\"\n",
    "    df1['nearest_id'] = df1.apply(_nearest,  df1=df1, df2=df2, \n",
    "                                  geom1=geom1_col, geom2=geom2_col, \n",
    "                                  df2_column=df2_column, axis=1)\n",
    "    return df1 "
   ]
  },
  {
   "cell_type": "code",
   "execution_count": null,
   "id": "2ebd0331",
   "metadata": {},
   "outputs": [],
   "source": [
    "# generate origin and destination points as geodataframe\n",
    "orig = {'name': ['Origin_1','Origin_2'], \n",
    "     'geometry': [Point(-77.3,38.94),Point(-77.41,39.93)]}\n",
    "orig = gpd.GeoDataFrame(orig, crs=\"EPSG:4326\")\n",
    "print(orig)\n",
    "\n",
    "dest = {'name': ['Baltimore','Washington', 'Fredrick'], \n",
    "     'geometry': [ Point(-76.61,39.29,), Point(-77.04,38.91), Point(-77.40,39.41)]}\n",
    "dest = gpd.GeoDataFrame(dest, crs=\"EPSG:4326\")\n",
    "print(dest)"
   ]
  },
  {
   "cell_type": "markdown",
   "id": "c048d0bb",
   "metadata": {},
   "source": [
    "Okay now we are ready to use our function and find closest Points (taking the value from id column) from df2 to df1 centroids"
   ]
  },
  {
   "cell_type": "code",
   "execution_count": null,
   "id": "ceb8d1ca",
   "metadata": {},
   "outputs": [],
   "source": [
    "near = nearest(df1=orig, df2=dest, df2_column='name')\n",
    "near.head()"
   ]
  },
  {
   "cell_type": "markdown",
   "id": "548c0b08",
   "metadata": {},
   "source": [
    "That's it! Now we found the closest point for each centroid and got the `index` value or column name from our addresses into the `df1` GeoDataFrame.\n",
    "\n",
    "\n",
    "```{note} If you want to do nearest neighbor analysis with polygons, you can simply use the centroid. If you have a geopandas polygon called poly, run poly['centroid'] = poly.centroid to store the centroid values in the attribute table.  \n",
    "```\n",
    "\n",
    "\n",
    "Sources\n",
    "[^gpd_clip]: [automating-gis-processes](https://automating-gis-processes.github.io/2017/lessons/L3/nearest-neighbour.html)"
   ]
  }
 ],
 "metadata": {
  "jupytext": {
   "text_representation": {
    "extension": ".md",
    "format_name": "myst"
   }
  },
  "kernelspec": {
   "display_name": "Python 3",
   "language": "python",
   "name": "python3"
  },
  "language_info": {
   "codemirror_mode": {
    "name": "ipython",
    "version": 3
   },
   "file_extension": ".py",
   "mimetype": "text/x-python",
   "name": "python",
   "nbconvert_exporter": "python",
   "pygments_lexer": "ipython3",
   "version": "3.10.9"
  },
  "myst": {
   "html_meta": {
    "description lang=en": "In python create buffers and find the nearest neighbor for points",
    "keywords": "python spatial buffer neighbor",
    "property=og:locale": "en_US"
   }
  },
  "source_map": [
   15,
   38,
   64,
   67,
   70,
   77,
   82,
   86,
   91,
   94,
   98,
   102,
   106,
   120,
   127,
   141,
   148,
   152,
   156,
   160,
   166,
   178,
   218,
   229,
   233,
   236
  ]
 },
 "nbformat": 4,
 "nbformat_minor": 5
}