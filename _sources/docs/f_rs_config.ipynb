{
 "cells": [
  {
   "cell_type": "markdown",
   "id": "1ddd5657",
   "metadata": {},
   "source": [
    "(f_rs_crs)=\n",
    "\n",
    "----------------\n",
    "```{admonition} Learning Objectives\n",
    "- Reproject remotely sensed data (change CRS)\n",
    "- Reproject on-the-fly\n",
    "- Compare resampling options\n",
    "```\n",
    "```{admonition} Review\n",
    "* [What is a CRS](d_crs_what_is_it.md)\n",
    "* [Understanding CRS codes](d_understand_crs_codes.md)\n",
    "* [Raster CRS](d_raster_crs_intro.md)\n",
    "```\n",
    "----------------\n",
    "\n",
    "\n",
    "\n",
    "# Configuration manager\n",
    "\n",
    "## What is a context manager?\n",
    "\n",
    "In short, a context manager ensures proper file closing using [with statements](https://docs.python.org/2.5/whatsnew/pep-343.html). But it also allows us to set up default behavoirs for opening and writing our images. \n",
    "\n",
    "## What is the purpose of GeoWombat's context manager?\n",
    "\n",
    "The examples shown in [reading remotely sensed data](f_rs_io.md) opened the entire raster as DataArrays as they were stored on file. The configuration manager allows easy control over opened raster dimensions, alignment, and transformations. \n",
    "\n",
    "For instance you might want to set the bound (extent) of your analysis. By setting bounds with the configuration manager we will minimize our overhead (less data processed) and uniformly treat all images we process.\n",
    "\n",
    "## How do I use it?\n",
    "\n",
    "To use GeoWombat's configuration manager, just call `geowombat.config.update` before opening a file. For example,\n",
    "\n",
    "``` python\n",
    "import geowombat as gw\n",
    "\n",
    "with gw.config.update(<keywords>...):\n",
    "\n",
    "# Every file opened within the configuration block will use\n",
    "# configuration keywords\n",
    "with gw.open('image.tif') as src:\n",
    "    # do something\n",
    "```\n",
    "\n",
    "`geowombat.config.update` stores keywords in a dictionary. To see all GeoWombat configuration keywords, just iterate over the dictionary."
   ]
  },
  {
   "cell_type": "code",
   "execution_count": 1,
   "id": "9bfa93ca",
   "metadata": {},
   "outputs": [
    {
     "name": "stdout",
     "output_type": "stream",
     "text": [
      "Keyword: with_config     Value: True\n",
      "Keyword: ignore_warnings Value: False\n",
      "Keyword: sensor          Value: None\n",
      "Keyword: scale_factor    Value: None\n",
      "Keyword: offset          Value: None\n",
      "Keyword: nodata          Value: None\n",
      "Keyword: ref_image       Value: None\n",
      "Keyword: ref_bounds      Value: None\n",
      "Keyword: ref_crs         Value: None\n",
      "Keyword: ref_res         Value: None\n",
      "Keyword: ref_tar         Value: None\n",
      "Keyword: blockxsize      Value: 512\n",
      "Keyword: blockysize      Value: 512\n",
      "Keyword: compress        Value: None\n",
      "Keyword: driver          Value: GTiff\n",
      "Keyword: tiled           Value: True\n",
      "Keyword: bigtiff         Value: NO\n",
      "Keyword: l57_angles_path Value: None\n",
      "Keyword: l8_angles_path  Value: None\n",
      "Keyword: nasa_earthdata_user Value: None\n",
      "Keyword: nasa_earthdata_key Value: None\n",
      "Keyword: nasa_earthdata_code Value: None\n"
     ]
    }
   ],
   "source": [
    "import geowombat as gw\n",
    "from geowombat.data import l8_224078_20200518\n",
    "\n",
    "# Using the manager without keywords will set defaults\n",
    "with gw.config.update():\n",
    "    with gw.open(l8_224078_20200518) as src:\n",
    "        for k, v in src.gw.config.items():\n",
    "            print('Keyword:', k.ljust(15), 'Value:', v)"
   ]
  },
  {
   "cell_type": "markdown",
   "id": "812b65dd",
   "metadata": {},
   "source": [
    "### Image Properties\n",
    "Certain raster properties can be set via the `config.update`. This includes setting no data values - to be masked, and pixel value scaling via `scale_factor`."
   ]
  },
  {
   "cell_type": "code",
   "execution_count": 2,
   "id": "3cb16c0c",
   "metadata": {},
   "outputs": [
    {
     "name": "stdout",
     "output_type": "stream",
     "text": [
      "(0, 0, 0)\n"
     ]
    }
   ],
   "source": [
    "# treat 0 as missing value\n",
    "with gw.config.update(nodata=0):\n",
    "  with gw.open(l8_224078_20200518) as src:\n",
    "    print(src.attrs['nodatavals'])\n",
    "    #use src=src.gw.mask_nodata() to replace 0 with nan"
   ]
  },
  {
   "cell_type": "code",
   "execution_count": 3,
   "id": "0b5c0072",
   "metadata": {},
   "outputs": [
    {
     "name": "stdout",
     "output_type": "stream",
     "text": [
      "(1.0, 1.0, 1.0)\n"
     ]
    }
   ],
   "source": [
    "# multiply pixel values by 0.0001\n",
    "with gw.config.update(scale_factor=0.0001):\n",
    "  with gw.open(l8_224078_20200518) as src:\n",
    "    print(src.attrs['scales'])"
   ]
  },
  {
   "cell_type": "markdown",
   "id": "c0962f80",
   "metadata": {},
   "source": [
    "### Reference settings: CRS\n",
    "\n",
    "Configuration keywords beginning with **ref** are the most important commands when opening rasters. For example, to transform the CRS of the data on-the-fly, use **ref_crs**. For more on Coordinate Reference Systems, see [here](f_rs_crs.md)."
   ]
  },
  {
   "cell_type": "code",
   "execution_count": 4,
   "id": "1722a245",
   "metadata": {},
   "outputs": [
    {
     "name": "stdout",
     "output_type": "stream",
     "text": [
      "32621\n",
      "+proj=aea +lat_0=-32 +lon_0=-60 +lat_1=-5 +lat_2=-42 +x_0=0 +y_0=0 +ellps=aust_SA +units=m +no_defs +type=crs\n"
     ]
    }
   ],
   "source": [
    "import geowombat as gw\n",
    "from geowombat.data import l8_224078_20200518\n",
    "\n",
    "proj4 = \"+proj=aea +lat_1=-5 +lat_2=-42 +lat_0=-32 +lon_0=-60 +x_0=0 +y_0=0 +ellps=aust_SA +units=m +no_defs \"\n",
    "\n",
    "# Without the manager\n",
    "with gw.open(l8_224078_20200518) as src:\n",
    "    print(src.crs)\n",
    "\n",
    "# With the manager\n",
    "with gw.config.update(ref_crs=proj4):\n",
    "    with gw.open(l8_224078_20200518) as src:\n",
    "        print(src.crs)"
   ]
  },
  {
   "cell_type": "markdown",
   "id": "92747e06",
   "metadata": {},
   "source": [
    "### Reference settings: Cell size\n",
    "\n",
    "It is possible to combine multiple configuration keywords. In the example below, the raster CRS is transformed from UTM to Albers Equal Area with a resampled cell size of 100m x 100m."
   ]
  },
  {
   "cell_type": "code",
   "execution_count": 5,
   "id": "3baf8468",
   "metadata": {},
   "outputs": [
    {
     "name": "stdout",
     "output_type": "stream",
     "text": [
      "30.0 30.0\n"
     ]
    },
    {
     "name": "stdout",
     "output_type": "stream",
     "text": [
      "100.0 100.0\n"
     ]
    }
   ],
   "source": [
    "import geowombat as gw\n",
    "from geowombat.data import l8_224078_20200518\n",
    "\n",
    "# Without the manager\n",
    "with gw.open(l8_224078_20200518) as src:\n",
    "    print(src.gw.celly, src.gw.cellx)\n",
    "\n",
    "# With the manager\n",
    "with gw.config.update(ref_crs=proj4, ref_res=(100, 100)):\n",
    "    with gw.open(l8_224078_20200518) as src:\n",
    "        print(src.gw.celly, src.gw.cellx)"
   ]
  },
  {
   "cell_type": "markdown",
   "id": "7a9b8725",
   "metadata": {},
   "source": [
    "### Reference settings: Bounds\n",
    "\n",
    "To subset an image, specify bounds as a **tuple** of (left, bottom, right, top) or a rasterio **BoundingBox** object."
   ]
  },
  {
   "cell_type": "code",
   "execution_count": 6,
   "id": "59d58ab2",
   "metadata": {},
   "outputs": [
    {
     "name": "stdout",
     "output_type": "stream",
     "text": [
      "(717345.0, -2832795.0, 778575.0, -2776995.0)\n",
      "(724634.17, -2806481.42, 737654.17, -2796221.42)\n"
     ]
    }
   ],
   "source": [
    "import geowombat as gw\n",
    "from geowombat.data import l8_224078_20200518\n",
    "from rasterio.coords import BoundingBox\n",
    "\n",
    "bounds = BoundingBox(left=724634.17, bottom=-2806501.39, right=737655.48, top=-2796221.42)\n",
    "\n",
    "# or\n",
    "# bounds = (724634.17, -2806501.39, 737655.48, -2796221.42)\n",
    "\n",
    "# Without the manager\n",
    "with gw.open(l8_224078_20200518) as src:\n",
    "    print(src.gw.bounds)\n",
    "\n",
    "# With the manager\n",
    "with gw.config.update(ref_bounds=bounds):\n",
    "    with gw.open(l8_224078_20200518) as src:\n",
    "        print(src.gw.bounds)"
   ]
  },
  {
   "cell_type": "markdown",
   "id": "55b4f49a",
   "metadata": {},
   "source": [
    "### Reference settings: Snap Raster Target\n",
    "\n",
    "By default, the bounding subset will be returned by the upper left coordinates of the bounds, potentially shifting cell alignment with the reference raster. To subset a raster and align it to the same grid, use the **ref_tar** keyword. This is equivalent to a \"snap raster\" in ArcGIS. \n",
    "\n",
    "``` python #{code-cell} ipython3\n",
    "with gw.config.update(ref_bounds=bounds, ref_tar=rgbn):\n",
    "\n",
    "    with gw.open(rgbn) as src:\n",
    "        print(src)\n",
    "```\n",
    "\n",
    "### Reference Image\n",
    "\n",
    "To use another image as a reference, just set **ref_image**. Then, the opened file's bounds, CRS, and cell size will be transformed to match those of the reference image."
   ]
  },
  {
   "cell_type": "code",
   "execution_count": 7,
   "id": "56f612ae",
   "metadata": {},
   "outputs": [
    {
     "name": "stdout",
     "output_type": "stream",
     "text": [
      "(717345.0, -2832795.0, 778575.0, -2776995.0)\n",
      "(694005.0, -2812065.0, 754185.0, -2766615.0)\n",
      "(694005.0, -2812065.0, 754185.0, -2766615.0)\n"
     ]
    }
   ],
   "source": [
    "import geowombat as gw\n",
    "from geowombat.data import l8_224078_20200518, l8_224077_20200518_B2\n",
    "\n",
    "# Without the manager\n",
    "with gw.open(l8_224078_20200518) as src:\n",
    "    print(src.gw.bounds)\n",
    "\n",
    "with gw.open(l8_224077_20200518_B2) as src:\n",
    "    print(src.gw.bounds)\n",
    "\n",
    "# With the manager\n",
    "with gw.config.update(ref_image=l8_224077_20200518_B2):\n",
    "    with gw.open(l8_224078_20200518) as src:\n",
    "        print(src.gw.bounds)"
   ]
  },
  {
   "cell_type": "markdown",
   "id": "7d56e469",
   "metadata": {},
   "source": [
    "(f_rs_crs_sensors)=\n",
    "### Reference settings: Sensors\n",
    "\n",
    "Because rasters are opened as DataArrays, the band coordinates will be named. By default, the bands will be named by their index position (starting at 1). It might, however, be more intuitive to store the band names as strings, where the names correspond to the sensor wavelengths. In GeoWombat, you can set the band names explicitly upon opening a file by using the :func:`geowombat.open` **band_names** keyword. Alternatively, if the sensor is known (and supported by GeoWombat), then you can set the band names by specifying the sensor name in the configuration settings.\n",
    "\n",
    "```{note} \n",
    "In the example below, the example raster comes from a Landsat image. However, only the visible (blue, green, and red) wavelengths are stored. Thus, we use 'rgb' as the sensor name. If we had a full 6-band Landsat 7 image, for example, we could use the 'l7' sensor flag.\n",
    "```"
   ]
  },
  {
   "cell_type": "code",
   "execution_count": 8,
   "id": "0e17e835",
   "metadata": {},
   "outputs": [
    {
     "name": "stdout",
     "output_type": "stream",
     "text": [
      "<xarray.DataArray 'band' (band: 3)>\n",
      "array([1, 2, 3])\n",
      "Coordinates:\n",
      "  * band     (band) int64 1 2 3\n",
      "<xarray.DataArray 'band' (band: 3)>\n",
      "array(['blue', 'green', 'red'], dtype='<U5')\n",
      "Coordinates:\n",
      "  * band     (band) <U5 'blue' 'green' 'red'\n"
     ]
    }
   ],
   "source": [
    "import geowombat as gw\n",
    "from geowombat.data import l8_224078_20200518\n",
    "\n",
    "# Without the manager\n",
    "with gw.open(l8_224078_20200518) as src:\n",
    "    print(src.band)\n",
    "\n",
    "# With the manager\n",
    "with gw.config.update(sensor='bgr'):\n",
    "    with gw.open(l8_224078_20200518) as src:\n",
    "        print(src.band)"
   ]
  },
  {
   "cell_type": "markdown",
   "id": "1203e917",
   "metadata": {},
   "source": [
    "To see all available sensor names, use the **avail_sensors** property.\n",
    "\n",
    "``` python\n",
    "with gw.open(l8_224078_20200518) as src:\n",
    "    for sensor_name in src.gw.avail_sensors:\n",
    "        print(sensor_name)\n",
    "```\n",
    "\n",
    "For a short description of the sensor, use the **sensor_names** property."
   ]
  },
  {
   "cell_type": "code",
   "execution_count": 9,
   "id": "615ebf18",
   "metadata": {},
   "outputs": [
    {
     "name": "stdout",
     "output_type": "stream",
     "text": [
      "rgb            : red, green, and blue\n",
      "rgbn           : red, green, blue, and NIR\n",
      "bgr            : blue, green, and red\n",
      "bgrn           : blue, green, red, and NIR\n",
      "l5             : Landsat 5 Thematic Mapper (TM)\n",
      "l7             : Landsat 7 Enhanced Thematic Mapper Plus (ETM+) without panchromatic and thermal bands\n",
      "l7th           : Landsat 7 Enhanced Thematic Mapper Plus (ETM+) with thermal band\n",
      "l7mspan        : Landsat 7 Enhanced Thematic Mapper Plus (ETM+) with panchromatic band\n",
      "l7pan          : Landsat 7 panchromatic band\n",
      "l8             : Landsat 8 Operational Land Imager (OLI) and Thermal Infrared Sensor (TIRS) without panchromatic and thermal bands\n",
      "l8l7           : Landsat 8 Operational Land Imager (OLI) and Thermal Infrared Sensor (TIRS) with 6 Landsat 7-like bands\n",
      "l8l7mspan      : Landsat 8 Operational Land Imager (OLI) and panchromatic band with 6 Landsat 7-like bands\n",
      "l8th           : Landsat 8 Operational Land Imager (OLI) and Thermal Infrared Sensor (TIRS) with thermal band\n",
      "l8pan          : Landsat 8 panchromatic band\n",
      "l9             : Landsat 9 Operational Land Imager (OLI) and Thermal Infrared Sensor (TIRS) without panchromatic and thermal bands\n",
      "l9l7           : Landsat 9 Operational Land Imager (OLI) and Thermal Infrared Sensor (TIRS) with 6 Landsat 7-like bands\n",
      "l9l7mspan      : Landsat 9 Operational Land Imager (OLI) and panchromatic band with 6 Landsat 7-like bands\n",
      "l9th           : Landsat 9 Operational Land Imager (OLI) and Thermal Infrared Sensor (TIRS) with thermal band\n",
      "l9pan          : Landsat 9 panchromatic band\n",
      "s2             : Sentinel 2 Multi-Spectral Instrument (MSI) without 3 60m bands (coastal, water vapor, cirrus)\n",
      "s2a            : Sentinel 2 Multi-Spectral Instrument (MSI) without 3 60m bands (coastal, water vapor, cirrus)\n",
      "s2b            : Sentinel 2 Multi-Spectral Instrument (MSI) without 3 60m bands (coastal, water vapor, cirrus)\n",
      "s2f            : Sentinel 2 Multi-Spectral Instrument (MSI) with 3 60m bands (coastal, water vapor, cirrus)\n",
      "s2l7           : Sentinel 2 Multi-Spectral Instrument (MSI) with 6 Landsat 7-like bands\n",
      "s2al7          : Sentinel 2 Multi-Spectral Instrument (MSI) with 6 Landsat 7-like bands\n",
      "s2bl7          : Sentinel 2 Multi-Spectral Instrument (MSI) with 6 Landsat 7-like bands\n",
      "s210           : Sentinel 2 Multi-Spectral Instrument (MSI) with 4 10m (visible + NIR) bands\n",
      "s220           : Sentinel 2 Multi-Spectral Instrument (MSI) with 6 20m bands\n",
      "s2cloudless    : Sentinel 2 Multi-Spectral Instrument (MSI) with 10 bands for s2cloudless\n",
      "ps             : PlanetScope with 4 (visible + NIR) bands\n",
      "qb             : Quickbird with 4 (visible + NIR) bands\n",
      "ik             : IKONOS with 4 (visible + NIR) bands\n",
      "mcd43a4        : MODIS Nadir BRDF-Adjusted Reflectance Daily 500m with 7 bands\n"
     ]
    }
   ],
   "source": [
    "with gw.open(l8_224078_20200518) as src:\n",
    "    for sensor_name, description in src.gw.sensor_names.items():\n",
    "        print('{}: {}'.format(sensor_name.ljust(15), description))"
   ]
  },
  {
   "cell_type": "markdown",
   "id": "cf117eef",
   "metadata": {},
   "source": [
    "The following is a list of all available sensor names. This documentation may become out of date, if so please refer to geowombat/core/properties.py for the full list.\n",
    "\n",
    "```{list-table}\n",
    ":header-rows: 1\n",
    ":widths: 25 75\n",
    ":header-rows: 1\n",
    "\n",
    "* - Abbreviated Name\n",
    "  - Description\n",
    "\n",
    "* - 'rgb'\n",
    "  - red, green, and blue\n",
    "\n",
    "* - 'rgbn'\n",
    "  - red, green, blue, and NIR\n",
    "\n",
    "* - 'bgr'\n",
    "  - blue, green, and red\n",
    "\n",
    "* - 'bgrn'\n",
    "  - blue, green, red, and NIR\n",
    "\n",
    "* - 'l5'\n",
    "  - Landsat 5 Thematic Mapper (TM)\n",
    "\n",
    "* - 'l7'\n",
    "  - Landsat 7 Enhanced Thematic Mapper Plus (ETM+) without panchromatic and thermal bands\n",
    "\n",
    "* - 'l7th'\n",
    "  - Landsat 7 Enhanced Thematic Mapper Plus (ETM+) with thermal band\n",
    "\n",
    "* - 'l7mspan'\n",
    "  - Landsat 7 Enhanced Thematic Mapper Plus (ETM+) with panchromatic band\n",
    "\n",
    "* - 'l7pan'\n",
    "  - Landsat 7 panchromatic band\n",
    "\n",
    "* - 'l8'\n",
    "  - Landsat 8 Operational Land Imager (OLI) and Thermal Infrared Sensor (TIRS) without panchromatic and thermal bands\n",
    "\n",
    "* - 'l8l7'\n",
    "  - Landsat 8 Operational Land Imager (OLI) and Thermal Infrared Sensor (TIRS) with 6 Landsat 7-like bands\n",
    "\n",
    "* - 'l8l7mspan'\n",
    "  - Landsat 8 Operational Land Imager (OLI) and panchromatic band with 6 Landsat 7-like bands\n",
    "\n",
    "* - 'l8th'\n",
    "  - Landsat 8 Operational Land Imager (OLI) and Thermal Infrared Sensor (TIRS) with thermal band\n",
    "\n",
    "* - 'l8pan'\n",
    "  - Landsat 8 panchromatic band\n",
    "\n",
    "* - 's2'\n",
    "  - Sentinel 2 Multi-Spectral Instrument (MSI) without 3 60m bands (coastal, water vapor, cirrus)\n",
    "\n",
    "* - 's2f'\n",
    "  - Sentinel 2 Multi-Spectral Instrument (MSI) with 3 60m bands (coastal, water vapor, cirrus)\n",
    "\n",
    "* - 's2l7'\n",
    "  - Sentinel 2 Multi-Spectral Instrument (MSI) with 6 Landsat 7-like bands\n",
    "\n",
    "* - 's210'\n",
    "  - Sentinel 2 Multi-Spectral Instrument (MSI) with 4 10m (visible + NIR) bands\n",
    "\n",
    "* - 's220'\n",
    "  - Sentinel 2 Multi-Spectral Instrument (MSI) with 6 20m bands\n",
    "\n",
    "* - 's2cloudless'\n",
    "  - Sentinel 2 Multi-Spectral Instrument (MSI) with 10 bands for s2cloudless\n",
    "\n",
    "* - 'ps'\n",
    "  - PlanetScope with 4 (visible + NIR) bands\n",
    "\n",
    "* - 'qb'\n",
    "  - Quickbird with 4 (visible + NIR) bands\n",
    "\n",
    "* - 'ik'\n",
    "  - IKONOS with 4 (visible + NIR) bands\n",
    "```"
   ]
  }
 ],
 "metadata": {
  "jupytext": {
   "text_representation": {
    "extension": ".md",
    "format_name": "myst"
   }
  },
  "kernelspec": {
   "display_name": "Python 3",
   "language": "python",
   "name": "python3"
  },
  "language_info": {
   "codemirror_mode": {
    "name": "ipython",
    "version": 3
   },
   "file_extension": ".py",
   "mimetype": "text/x-python",
   "name": "python",
   "nbconvert_exporter": "python",
   "pygments_lexer": "ipython3",
   "version": "3.10.9"
  },
  "myst": {
   "html_meta": {
    "description lang=en": "Learn how to easily read in remote sensing data from a variety of sensors including LandSat, Sentinel, PlanetScope, and   QuickBird, do easy reprojection and snap raster operations on-the-fly, and resampling.",
    "description lang=es": "Aprenda a leer fácilmente los datos de teledetección de una variedad de sensores, incluidos LandSat, Sentinel, PlanetScope y QuickBird, realice operaciones de reproyección y captura de ráster sobre la marcha y remuestreo.",
    "description lang=fr": "Apprenez à lire facilement les données de télédétection à partir d'une variété de capteurs, y compris LandSat, Sentinel, PlanetScope et QuickBird, effectuez une reprojection facile et capturez des opérations raster à la volée, et rééchantillonnez.",
    "keywords": "spatial,raster, remote sensing, projection, resample, sentinel, landsat ",
    "property=og:locale": "en_US"
   }
  },
  "source_map": [
   17,
   65,
   74,
   78,
   86,
   91,
   97,
   111,
   117,
   129,
   135,
   153,
   170,
   185,
   194,
   206,
   218,
   222
  ]
 },
 "nbformat": 4,
 "nbformat_minor": 5
}