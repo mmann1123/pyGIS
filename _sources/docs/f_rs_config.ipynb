{
 "cells": [
  {
   "cell_type": "markdown",
   "id": "24ef0945",
   "metadata": {},
   "source": [
    "(f_rs_crs)=\n",
    "\n",
    "----------------\n",
    "```{admonition} Learning Objectives\n",
    "- Reproject remotely sensed data (change CRS)\n",
    "- Reproject on-the-fly\n",
    "- Compare resampling options\n",
    "```\n",
    "```{admonition} Review\n",
    "* [What is a CRS](d_crs_what_is_it.md)\n",
    "* [Understanding CRS codes](d_understand_crs_codes.md)\n",
    "* [Raster CRS](d_raster_crs_intro.md)\n",
    "```\n",
    "----------------\n",
    "\n",
    "\n",
    "\n",
    "# Configuration manager\n",
    "\n",
    "## What is a context manager?\n",
    "\n",
    "In short, a context manager ensures proper file closing using [with statements](https://docs.python.org/2.5/whatsnew/pep-343.html). But it also allows us to set up default behavoirs for opening and writing our images. \n",
    "\n",
    "## What is the purpose of GeoWombat's context manager?\n",
    "\n",
    "The examples shown in [reading remotely sensed data](f_rs_io.md) opened the entire raster as DataArrays as they were stored on file. The configuration manager allows easy control over opened raster dimensions, alignment, and transformations. \n",
    "\n",
    "For instance you might want to set the bound (extent) of your analysis. By setting bounds with the configuration manager we will minimize our overhead (less data processed) and uniformly treat all images we process.\n",
    "\n",
    "## How do I use it?\n",
    "\n",
    "To use GeoWombat's configuration manager, just call `geowombat.config.update` before opening a file. For example,\n",
    "\n",
    "``` python\n",
    "import geowombat as gw\n",
    "\n",
    "with gw.config.update(<keywords>...):\n",
    "\n",
    "# Every file opened within the configuration block will use\n",
    "# configuration keywords\n",
    "with gw.open('image.tif') as src:\n",
    "    # do something\n",
    "```\n",
    "\n",
    "`geowombat.config.update` stores keywords in a dictionary. To see all GeoWombat configuration keywords, just iterate over the dictionary."
   ]
  },
  {
   "cell_type": "code",
   "execution_count": 1,
   "id": "95ed312e",
   "metadata": {},
   "outputs": [
    {
     "ename": "ValueError",
     "evalue": "numpy.dtype size changed, may indicate binary incompatibility. Expected 96 from C header, got 88 from PyObject",
     "output_type": "error",
     "traceback": [
      "\u001b[0;31m---------------------------------------------------------------------------\u001b[0m",
      "\u001b[0;31mValueError\u001b[0m                                Traceback (most recent call last)",
      "Cell \u001b[0;32mIn[1], line 1\u001b[0m\n\u001b[0;32m----> 1\u001b[0m \u001b[38;5;28;01mimport\u001b[39;00m \u001b[38;5;21;01mgeowombat\u001b[39;00m \u001b[38;5;28;01mas\u001b[39;00m \u001b[38;5;21;01mgw\u001b[39;00m\n\u001b[1;32m      2\u001b[0m \u001b[38;5;28;01mfrom\u001b[39;00m \u001b[38;5;21;01mgeowombat\u001b[39;00m\u001b[38;5;21;01m.\u001b[39;00m\u001b[38;5;21;01mdata\u001b[39;00m \u001b[38;5;28;01mimport\u001b[39;00m l8_224078_20200518\n\u001b[1;32m      4\u001b[0m \u001b[38;5;66;03m# Using the manager without keywords will set defaults\u001b[39;00m\n",
      "File \u001b[0;32m~/miniconda3/envs/pygis2/lib/python3.10/site-packages/geowombat/__init__.py:5\u001b[0m\n\u001b[1;32m      2\u001b[0m __version__ \u001b[38;5;241m=\u001b[39m \u001b[38;5;124m'\u001b[39m\u001b[38;5;124m2.1.3\u001b[39m\u001b[38;5;124m'\u001b[39m\n\u001b[1;32m      4\u001b[0m \u001b[38;5;28;01mfrom\u001b[39;00m \u001b[38;5;21;01m.\u001b[39;00m \u001b[38;5;28;01mimport\u001b[39;00m config\n\u001b[0;32m----> 5\u001b[0m \u001b[38;5;28;01mfrom\u001b[39;00m \u001b[38;5;21;01m.\u001b[39;00m\u001b[38;5;21;01mcore\u001b[39;00m\u001b[38;5;21;01m.\u001b[39;00m\u001b[38;5;21;01mapi\u001b[39;00m \u001b[38;5;28;01mimport\u001b[39;00m \u001b[38;5;28mopen\u001b[39m\n\u001b[1;32m      6\u001b[0m \u001b[38;5;28;01mfrom\u001b[39;00m \u001b[38;5;21;01m.\u001b[39;00m\u001b[38;5;21;01mcore\u001b[39;00m\u001b[38;5;21;01m.\u001b[39;00m\u001b[38;5;21;01mapi\u001b[39;00m \u001b[38;5;28;01mimport\u001b[39;00m load\n\u001b[1;32m      7\u001b[0m \u001b[38;5;28;01mfrom\u001b[39;00m \u001b[38;5;21;01m.\u001b[39;00m\u001b[38;5;21;01mcore\u001b[39;00m\u001b[38;5;21;01m.\u001b[39;00m\u001b[38;5;21;01mapi\u001b[39;00m \u001b[38;5;28;01mimport\u001b[39;00m series\n",
      "File \u001b[0;32m~/miniconda3/envs/pygis2/lib/python3.10/site-packages/geowombat/core/__init__.py:1\u001b[0m\n\u001b[0;32m----> 1\u001b[0m \u001b[38;5;28;01mfrom\u001b[39;00m \u001b[38;5;21;01m.\u001b[39;00m\u001b[38;5;21;01m.\u001b[39;00m\u001b[38;5;21;01mbackends\u001b[39;00m \u001b[38;5;28;01mimport\u001b[39;00m transform_crs\n\u001b[1;32m      2\u001b[0m \u001b[38;5;28;01mfrom\u001b[39;00m \u001b[38;5;21;01m.\u001b[39;00m\u001b[38;5;21;01mio\u001b[39;00m \u001b[38;5;28;01mimport\u001b[39;00m apply\n\u001b[1;32m      3\u001b[0m \u001b[38;5;28;01mfrom\u001b[39;00m \u001b[38;5;21;01m.\u001b[39;00m\u001b[38;5;21;01mio\u001b[39;00m \u001b[38;5;28;01mimport\u001b[39;00m save\n",
      "File \u001b[0;32m~/miniconda3/envs/pygis2/lib/python3.10/site-packages/geowombat/backends/__init__.py:2\u001b[0m\n\u001b[1;32m      1\u001b[0m \u001b[38;5;28;01mfrom\u001b[39;00m \u001b[38;5;21;01m.\u001b[39;00m\u001b[38;5;21;01mdask_\u001b[39;00m \u001b[38;5;28;01mimport\u001b[39;00m Cluster\n\u001b[0;32m----> 2\u001b[0m \u001b[38;5;28;01mfrom\u001b[39;00m \u001b[38;5;21;01m.\u001b[39;00m\u001b[38;5;21;01mxarray_\u001b[39;00m \u001b[38;5;28;01mimport\u001b[39;00m concat, mosaic\n\u001b[1;32m      3\u001b[0m \u001b[38;5;28;01mfrom\u001b[39;00m \u001b[38;5;21;01m.\u001b[39;00m\u001b[38;5;21;01mxarray_\u001b[39;00m \u001b[38;5;28;01mimport\u001b[39;00m warp_open\n\u001b[1;32m      4\u001b[0m \u001b[38;5;28;01mfrom\u001b[39;00m \u001b[38;5;21;01m.\u001b[39;00m\u001b[38;5;21;01mxarray_\u001b[39;00m \u001b[38;5;28;01mimport\u001b[39;00m transform_crs\n",
      "File \u001b[0;32m~/miniconda3/envs/pygis2/lib/python3.10/site-packages/geowombat/backends/xarray_.py:8\u001b[0m\n\u001b[1;32m      5\u001b[0m \u001b[38;5;28;01mimport\u001b[39;00m \u001b[38;5;21;01mtyping\u001b[39;00m \u001b[38;5;28;01mas\u001b[39;00m \u001b[38;5;21;01mT\u001b[39;00m\n\u001b[1;32m      7\u001b[0m \u001b[38;5;28;01mfrom\u001b[39;00m \u001b[38;5;21;01m.\u001b[39;00m\u001b[38;5;21;01m.\u001b[39;00m\u001b[38;5;21;01mhandler\u001b[39;00m \u001b[38;5;28;01mimport\u001b[39;00m add_handler\n\u001b[0;32m----> 8\u001b[0m \u001b[38;5;28;01mfrom\u001b[39;00m \u001b[38;5;21;01m.\u001b[39;00m\u001b[38;5;21;01m.\u001b[39;00m\u001b[38;5;21;01mcore\u001b[39;00m\u001b[38;5;21;01m.\u001b[39;00m\u001b[38;5;21;01mwindows\u001b[39;00m \u001b[38;5;28;01mimport\u001b[39;00m get_window_offsets\n\u001b[1;32m      9\u001b[0m \u001b[38;5;28;01mfrom\u001b[39;00m \u001b[38;5;21;01m.\u001b[39;00m\u001b[38;5;21;01m.\u001b[39;00m\u001b[38;5;21;01mcore\u001b[39;00m\u001b[38;5;21;01m.\u001b[39;00m\u001b[38;5;21;01mutil\u001b[39;00m \u001b[38;5;28;01mimport\u001b[39;00m parse_filename_dates\n\u001b[1;32m     10\u001b[0m \u001b[38;5;28;01mfrom\u001b[39;00m \u001b[38;5;21;01m.\u001b[39;00m\u001b[38;5;21;01m.\u001b[39;00m\u001b[38;5;21;01mconfig\u001b[39;00m \u001b[38;5;28;01mimport\u001b[39;00m config\n",
      "File \u001b[0;32m~/miniconda3/envs/pygis2/lib/python3.10/site-packages/geowombat/core/windows.py:1\u001b[0m\n\u001b[0;32m----> 1\u001b[0m \u001b[38;5;28;01mfrom\u001b[39;00m \u001b[38;5;21;01m.\u001b[39;00m\u001b[38;5;21;01mutil\u001b[39;00m \u001b[38;5;28;01mimport\u001b[39;00m n_rows_cols\n\u001b[1;32m      3\u001b[0m \u001b[38;5;28;01mfrom\u001b[39;00m \u001b[38;5;21;01mrasterio\u001b[39;00m\u001b[38;5;21;01m.\u001b[39;00m\u001b[38;5;21;01mwindows\u001b[39;00m \u001b[38;5;28;01mimport\u001b[39;00m Window\n\u001b[1;32m      6\u001b[0m \u001b[38;5;28;01mdef\u001b[39;00m \u001b[38;5;21mget_window_offsets\u001b[39m(n_rows,\n\u001b[1;32m      7\u001b[0m                        n_cols,\n\u001b[1;32m      8\u001b[0m                        row_chunks,\n\u001b[1;32m      9\u001b[0m                        col_chunks,\n\u001b[1;32m     10\u001b[0m                        return_as\u001b[38;5;241m=\u001b[39m\u001b[38;5;124m'\u001b[39m\u001b[38;5;124mlist\u001b[39m\u001b[38;5;124m'\u001b[39m,\n\u001b[1;32m     11\u001b[0m                        padding\u001b[38;5;241m=\u001b[39m\u001b[38;5;28;01mNone\u001b[39;00m):\n",
      "File \u001b[0;32m~/miniconda3/envs/pygis2/lib/python3.10/site-packages/geowombat/core/util.py:9\u001b[0m\n\u001b[1;32m      6\u001b[0m \u001b[38;5;28;01mimport\u001b[39;00m \u001b[38;5;21;01mlogging\u001b[39;00m\n\u001b[1;32m      8\u001b[0m \u001b[38;5;28;01mfrom\u001b[39;00m \u001b[38;5;21;01m.\u001b[39;00m\u001b[38;5;21;01m.\u001b[39;00m\u001b[38;5;21;01mhandler\u001b[39;00m \u001b[38;5;28;01mimport\u001b[39;00m add_handler\n\u001b[0;32m----> 9\u001b[0m \u001b[38;5;28;01mfrom\u001b[39;00m \u001b[38;5;21;01m.\u001b[39;00m\u001b[38;5;21;01m.\u001b[39;00m\u001b[38;5;21;01mmoving\u001b[39;00m \u001b[38;5;28;01mimport\u001b[39;00m moving_window\n\u001b[1;32m     11\u001b[0m \u001b[38;5;28;01mimport\u001b[39;00m \u001b[38;5;21;01mnumpy\u001b[39;00m \u001b[38;5;28;01mas\u001b[39;00m \u001b[38;5;21;01mnp\u001b[39;00m\n\u001b[1;32m     12\u001b[0m \u001b[38;5;28;01mimport\u001b[39;00m \u001b[38;5;21;01mgeopandas\u001b[39;00m \u001b[38;5;28;01mas\u001b[39;00m \u001b[38;5;21;01mgpd\u001b[39;00m\n",
      "File \u001b[0;32m~/miniconda3/envs/pygis2/lib/python3.10/site-packages/geowombat/moving/__init__.py:1\u001b[0m\n\u001b[0;32m----> 1\u001b[0m \u001b[38;5;28;01mfrom\u001b[39;00m \u001b[38;5;21;01m.\u001b[39;00m\u001b[38;5;21;01m_moving\u001b[39;00m \u001b[38;5;28;01mimport\u001b[39;00m moving_window\n",
      "File \u001b[0;32msrc/geowombat/moving/_moving.pyx:1\u001b[0m, in \u001b[0;36minit geowombat.moving._moving\u001b[0;34m()\u001b[0m\n",
      "\u001b[0;31mValueError\u001b[0m: numpy.dtype size changed, may indicate binary incompatibility. Expected 96 from C header, got 88 from PyObject"
     ]
    }
   ],
   "source": [
    "import geowombat as gw\n",
    "from geowombat.data import l8_224078_20200518\n",
    "\n",
    "# Using the manager without keywords will set defaults\n",
    "with gw.config.update():\n",
    "    with gw.open(l8_224078_20200518) as src:\n",
    "        for k, v in src.gw.config.items():\n",
    "            print('Keyword:', k.ljust(15), 'Value:', v)"
   ]
  },
  {
   "cell_type": "markdown",
   "id": "64acfc8d",
   "metadata": {},
   "source": [
    "### Image Properties\n",
    "Certain raster properties can be set via the `config.update`. This includes setting no data values - to be masked, and pixel value scaling via `scale_factor`."
   ]
  },
  {
   "cell_type": "code",
   "execution_count": null,
   "id": "916c51a2",
   "metadata": {},
   "outputs": [],
   "source": [
    "# treat 0 as missing value\n",
    "with gw.config.update(nodata=0):\n",
    "  with gw.open(l8_224078_20200518) as src:\n",
    "    print(src.attrs['nodatavals'])\n",
    "    #use src=src.gw.mask_nodata() to replace 0 with nan"
   ]
  },
  {
   "cell_type": "code",
   "execution_count": null,
   "id": "77693b98",
   "metadata": {},
   "outputs": [],
   "source": [
    "# multiply pixel values by 0.0001\n",
    "with gw.config.update(scale_factor=0.0001):\n",
    "  with gw.open(l8_224078_20200518) as src:\n",
    "    print(src.attrs['scales'])"
   ]
  },
  {
   "cell_type": "markdown",
   "id": "77a8de86",
   "metadata": {},
   "source": [
    "### Reference settings: CRS\n",
    "\n",
    "Configuration keywords beginning with **ref** are the most important commands when opening rasters. For example, to transform the CRS of the data on-the-fly, use **ref_crs**. For more on Coordinate Reference Systems, see [here](f_rs_crs.md)."
   ]
  },
  {
   "cell_type": "code",
   "execution_count": null,
   "id": "60b89674",
   "metadata": {},
   "outputs": [],
   "source": [
    "import geowombat as gw\n",
    "from geowombat.data import l8_224078_20200518\n",
    "\n",
    "proj4 = \"+proj=aea +lat_1=-5 +lat_2=-42 +lat_0=-32 +lon_0=-60 +x_0=0 +y_0=0 +ellps=aust_SA +units=m +no_defs \"\n",
    "\n",
    "# Without the manager\n",
    "with gw.open(l8_224078_20200518) as src:\n",
    "    print(src.crs)\n",
    "\n",
    "# With the manager\n",
    "with gw.config.update(ref_crs=proj4):\n",
    "    with gw.open(l8_224078_20200518) as src:\n",
    "        print(src.crs)"
   ]
  },
  {
   "cell_type": "markdown",
   "id": "2a569156",
   "metadata": {},
   "source": [
    "### Reference settings: Cell size\n",
    "\n",
    "It is possible to combine multiple configuration keywords. In the example below, the raster CRS is transformed from UTM to Albers Equal Area with a resampled cell size of 100m x 100m."
   ]
  },
  {
   "cell_type": "code",
   "execution_count": null,
   "id": "7d71697d",
   "metadata": {},
   "outputs": [],
   "source": [
    "import geowombat as gw\n",
    "from geowombat.data import l8_224078_20200518\n",
    "\n",
    "# Without the manager\n",
    "with gw.open(l8_224078_20200518) as src:\n",
    "    print(src.gw.celly, src.gw.cellx)\n",
    "\n",
    "# With the manager\n",
    "with gw.config.update(ref_crs=proj4, ref_res=(100, 100)):\n",
    "    with gw.open(l8_224078_20200518) as src:\n",
    "        print(src.gw.celly, src.gw.cellx)"
   ]
  },
  {
   "cell_type": "markdown",
   "id": "bd44fcab",
   "metadata": {},
   "source": [
    "### Reference settings: Bounds\n",
    "\n",
    "To subset an image, specify bounds as a **tuple** of (left, bottom, right, top) or a rasterio **BoundingBox** object."
   ]
  },
  {
   "cell_type": "code",
   "execution_count": null,
   "id": "2ed550e5",
   "metadata": {},
   "outputs": [],
   "source": [
    "import geowombat as gw\n",
    "from geowombat.data import l8_224078_20200518\n",
    "from rasterio.coords import BoundingBox\n",
    "\n",
    "bounds = BoundingBox(left=724634.17, bottom=-2806501.39, right=737655.48, top=-2796221.42)\n",
    "\n",
    "# or\n",
    "# bounds = (724634.17, -2806501.39, 737655.48, -2796221.42)\n",
    "\n",
    "# Without the manager\n",
    "with gw.open(l8_224078_20200518) as src:\n",
    "    print(src.gw.bounds)\n",
    "\n",
    "# With the manager\n",
    "with gw.config.update(ref_bounds=bounds):\n",
    "    with gw.open(l8_224078_20200518) as src:\n",
    "        print(src.gw.bounds)"
   ]
  },
  {
   "cell_type": "markdown",
   "id": "dea629f0",
   "metadata": {},
   "source": [
    "### Reference settings: Snap Raster Target\n",
    "\n",
    "By default, the bounding subset will be returned by the upper left coordinates of the bounds, potentially shifting cell alignment with the reference raster. To subset a raster and align it to the same grid, use the **ref_tar** keyword. This is equivalent to a \"snap raster\" in ArcGIS. \n",
    "\n",
    "``` python #{code-cell} ipython3\n",
    "with gw.config.update(ref_bounds=bounds, ref_tar=rgbn):\n",
    "\n",
    "    with gw.open(rgbn) as src:\n",
    "        print(src)\n",
    "```\n",
    "\n",
    "### Reference Image\n",
    "\n",
    "To use another image as a reference, just set **ref_image**. Then, the opened file's bounds, CRS, and cell size will be transformed to match those of the reference image."
   ]
  },
  {
   "cell_type": "code",
   "execution_count": null,
   "id": "c05f4dd6",
   "metadata": {},
   "outputs": [],
   "source": [
    "import geowombat as gw\n",
    "from geowombat.data import l8_224078_20200518, l8_224077_20200518_B2\n",
    "\n",
    "# Without the manager\n",
    "with gw.open(l8_224078_20200518) as src:\n",
    "    print(src.gw.bounds)\n",
    "\n",
    "with gw.open(l8_224077_20200518_B2) as src:\n",
    "    print(src.gw.bounds)\n",
    "\n",
    "# With the manager\n",
    "with gw.config.update(ref_image=l8_224077_20200518_B2):\n",
    "    with gw.open(l8_224078_20200518) as src:\n",
    "        print(src.gw.bounds)"
   ]
  },
  {
   "cell_type": "markdown",
   "id": "1cc1b8c4",
   "metadata": {},
   "source": [
    "(f_rs_crs_sensors)=\n",
    "### Reference settings: Sensors\n",
    "\n",
    "Because rasters are opened as DataArrays, the band coordinates will be named. By default, the bands will be named by their index position (starting at 1). It might, however, be more intuitive to store the band names as strings, where the names correspond to the sensor wavelengths. In GeoWombat, you can set the band names explicitly upon opening a file by using the :func:`geowombat.open` **band_names** keyword. Alternatively, if the sensor is known (and supported by GeoWombat), then you can set the band names by specifying the sensor name in the configuration settings.\n",
    "\n",
    "```{note} \n",
    "In the example below, the example raster comes from a Landsat image. However, only the visible (blue, green, and red) wavelengths are stored. Thus, we use 'rgb' as the sensor name. If we had a full 6-band Landsat 7 image, for example, we could use the 'l7' sensor flag.\n",
    "```"
   ]
  },
  {
   "cell_type": "code",
   "execution_count": null,
   "id": "e0a1601d",
   "metadata": {},
   "outputs": [],
   "source": [
    "import geowombat as gw\n",
    "from geowombat.data import l8_224078_20200518\n",
    "\n",
    "# Without the manager\n",
    "with gw.open(l8_224078_20200518) as src:\n",
    "    print(src.band)\n",
    "\n",
    "# With the manager\n",
    "with gw.config.update(sensor='bgr'):\n",
    "    with gw.open(l8_224078_20200518) as src:\n",
    "        print(src.band)"
   ]
  },
  {
   "cell_type": "markdown",
   "id": "46087636",
   "metadata": {},
   "source": [
    "To see all available sensor names, use the **avail_sensors** property.\n",
    "\n",
    "``` python\n",
    "with gw.open(l8_224078_20200518) as src:\n",
    "    for sensor_name in src.gw.avail_sensors:\n",
    "        print(sensor_name)\n",
    "```\n",
    "\n",
    "For a short description of the sensor, use the **sensor_names** property."
   ]
  },
  {
   "cell_type": "code",
   "execution_count": null,
   "id": "14caf47a",
   "metadata": {},
   "outputs": [],
   "source": [
    "with gw.open(l8_224078_20200518) as src:\n",
    "    for sensor_name, description in src.gw.sensor_names.items():\n",
    "        print('{}: {}'.format(sensor_name.ljust(15), description))"
   ]
  },
  {
   "cell_type": "markdown",
   "id": "7e4609a2",
   "metadata": {},
   "source": [
    "The following is a list of all available sensor names. This documentation may become out of date, if so please refer to geowombat/core/properties.py for the full list.\n",
    "\n",
    "```{list-table}\n",
    ":header-rows: 1\n",
    ":widths: 25 75\n",
    ":header-rows: 1\n",
    "\n",
    "* - Abbreviated Name\n",
    "  - Description\n",
    "\n",
    "* - 'rgb'\n",
    "  - red, green, and blue\n",
    "\n",
    "* - 'rgbn'\n",
    "  - red, green, blue, and NIR\n",
    "\n",
    "* - 'bgr'\n",
    "  - blue, green, and red\n",
    "\n",
    "* - 'bgrn'\n",
    "  - blue, green, red, and NIR\n",
    "\n",
    "* - 'l5'\n",
    "  - Landsat 5 Thematic Mapper (TM)\n",
    "\n",
    "* - 'l7'\n",
    "  - Landsat 7 Enhanced Thematic Mapper Plus (ETM+) without panchromatic and thermal bands\n",
    "\n",
    "* - 'l7th'\n",
    "  - Landsat 7 Enhanced Thematic Mapper Plus (ETM+) with thermal band\n",
    "\n",
    "* - 'l7mspan'\n",
    "  - Landsat 7 Enhanced Thematic Mapper Plus (ETM+) with panchromatic band\n",
    "\n",
    "* - 'l7pan'\n",
    "  - Landsat 7 panchromatic band\n",
    "\n",
    "* - 'l8'\n",
    "  - Landsat 8 Operational Land Imager (OLI) and Thermal Infrared Sensor (TIRS) without panchromatic and thermal bands\n",
    "\n",
    "* - 'l8l7'\n",
    "  - Landsat 8 Operational Land Imager (OLI) and Thermal Infrared Sensor (TIRS) with 6 Landsat 7-like bands\n",
    "\n",
    "* - 'l8l7mspan'\n",
    "  - Landsat 8 Operational Land Imager (OLI) and panchromatic band with 6 Landsat 7-like bands\n",
    "\n",
    "* - 'l8th'\n",
    "  - Landsat 8 Operational Land Imager (OLI) and Thermal Infrared Sensor (TIRS) with thermal band\n",
    "\n",
    "* - 'l8pan'\n",
    "  - Landsat 8 panchromatic band\n",
    "\n",
    "* - 's2'\n",
    "  - Sentinel 2 Multi-Spectral Instrument (MSI) without 3 60m bands (coastal, water vapor, cirrus)\n",
    "\n",
    "* - 's2f'\n",
    "  - Sentinel 2 Multi-Spectral Instrument (MSI) with 3 60m bands (coastal, water vapor, cirrus)\n",
    "\n",
    "* - 's2l7'\n",
    "  - Sentinel 2 Multi-Spectral Instrument (MSI) with 6 Landsat 7-like bands\n",
    "\n",
    "* - 's210'\n",
    "  - Sentinel 2 Multi-Spectral Instrument (MSI) with 4 10m (visible + NIR) bands\n",
    "\n",
    "* - 's220'\n",
    "  - Sentinel 2 Multi-Spectral Instrument (MSI) with 6 20m bands\n",
    "\n",
    "* - 's2cloudless'\n",
    "  - Sentinel 2 Multi-Spectral Instrument (MSI) with 10 bands for s2cloudless\n",
    "\n",
    "* - 'ps'\n",
    "  - PlanetScope with 4 (visible + NIR) bands\n",
    "\n",
    "* - 'qb'\n",
    "  - Quickbird with 4 (visible + NIR) bands\n",
    "\n",
    "* - 'ik'\n",
    "  - IKONOS with 4 (visible + NIR) bands\n",
    "```"
   ]
  }
 ],
 "metadata": {
  "jupytext": {
   "text_representation": {
    "extension": ".md",
    "format_name": "myst"
   }
  },
  "kernelspec": {
   "display_name": "Python 3",
   "language": "python",
   "name": "python3"
  },
  "language_info": {
   "codemirror_mode": {
    "name": "ipython",
    "version": 3
   },
   "file_extension": ".py",
   "mimetype": "text/x-python",
   "name": "python",
   "nbconvert_exporter": "python",
   "pygments_lexer": "ipython3",
   "version": "3.10.9"
  },
  "myst": {
   "html_meta": {
    "description lang=en": "Learn how to easily read in remote sensing data from a variety of sensors including LandSat, Sentinel, PlanetScope, and   QuickBird, do easy reprojection and snap raster operations on-the-fly, and resampling.",
    "description lang=es": "Aprenda a leer fácilmente los datos de teledetección de una variedad de sensores, incluidos LandSat, Sentinel, PlanetScope y QuickBird, realice operaciones de reproyección y captura de ráster sobre la marcha y remuestreo.",
    "description lang=fr": "Apprenez à lire facilement les données de télédétection à partir d'une variété de capteurs, y compris LandSat, Sentinel, PlanetScope et QuickBird, effectuez une reprojection facile et capturez des opérations raster à la volée, et rééchantillonnez.",
    "keywords": "spatial,raster, remote sensing, projection, resample, sentinel, landsat ",
    "property=og:locale": "en_US"
   }
  },
  "source_map": [
   17,
   65,
   74,
   78,
   86,
   91,
   97,
   111,
   117,
   129,
   135,
   153,
   170,
   185,
   194,
   206,
   218,
   222
  ]
 },
 "nbformat": 4,
 "nbformat_minor": 5
}