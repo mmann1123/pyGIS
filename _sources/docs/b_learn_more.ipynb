{
 "cells": [
  {
   "cell_type": "markdown",
   "id": "fbf1157e",
   "metadata": {},
   "source": [
    "# Learn More\n",
    "\n",
    "In this last introductory section we give some pointers to the major scientific libraries\n",
    "and suggestions for further reading.\n",
    "\n",
    "\n",
    "## NumPy\n",
    "\n",
    "Fundamental matrix and array processing capabilities are provided by the\n",
    "excellent [NumPy](http://www.numpy.org/) library.\n",
    "\n",
    "For example, let\\'s build some arrays"
   ]
  },
  {
   "cell_type": "code",
   "execution_count": 1,
   "id": "29f55d74",
   "metadata": {},
   "outputs": [],
   "source": [
    "import numpy as np                     # Load the library\n",
    "\n",
    "a = np.linspace(-np.pi, np.pi, 100)    # Create even grid from -π to π\n",
    "b = np.cos(a)                          # Apply cosine to each element of a\n",
    "c = np.sin(a)                          # Apply sin to each element of a"
   ]
  },
  {
   "cell_type": "markdown",
   "id": "63c81a0b",
   "metadata": {},
   "source": [
    "Now let\\'s take the inner product"
   ]
  },
  {
   "cell_type": "code",
   "execution_count": 2,
   "id": "e7bb9049",
   "metadata": {},
   "outputs": [
    {
     "data": {
      "text/plain": [
       "np.float64(4.04891256782214e-16)"
      ]
     },
     "execution_count": 2,
     "metadata": {},
     "output_type": "execute_result"
    }
   ],
   "source": [
    "b @ c"
   ]
  },
  {
   "cell_type": "markdown",
   "id": "00a18c71",
   "metadata": {},
   "source": [
    "The number you see here might vary slightly due to floating point arithmetic\n",
    "but it\\'s essentially zero.\n",
    "\n",
    "As with other standard NumPy operations, this inner product calls into highly\n",
    "optimized machine code.\n",
    "\n",
    "It is as efficient as carefully hand-coded FORTRAN or C.\n",
    "\n",
    "\n",
    "\n",
    "\n",
    "## SciPy\n",
    "\n",
    "The [SciPy](http://www.scipy.org) library is built on top of NumPy and\n",
    "provides additional functionality.\n",
    "\n",
    "(tuple_unpacking_example)=\n",
    "For example, let\\'s calculate $\\int_{-2}^2 \\phi(z) dz$ where $\\phi$ is\n",
    "the standard normal density."
   ]
  },
  {
   "cell_type": "code",
   "execution_count": 3,
   "id": "20955310",
   "metadata": {},
   "outputs": [
    {
     "data": {
      "text/plain": [
       "0.9544997361036417"
      ]
     },
     "execution_count": 3,
     "metadata": {},
     "output_type": "execute_result"
    }
   ],
   "source": [
    "from scipy.stats import norm\n",
    "from scipy.integrate import quad\n",
    "\n",
    "ϕ = norm()\n",
    "value, error = quad(ϕ.pdf, -2, 2)  # Integrate using Gaussian quadrature\n",
    "value"
   ]
  },
  {
   "cell_type": "markdown",
   "id": "da2e2ae1",
   "metadata": {},
   "source": [
    "SciPy includes many of the standard routines used in\n",
    "\n",
    "-   [linear algebra](http://docs.scipy.org/doc/scipy/reference/linalg.html)\n",
    "-   [integration](http://docs.scipy.org/doc/scipy/reference/integrate.html)\n",
    "-   [interpolation](http://docs.scipy.org/doc/scipy/reference/interpolate.html)\n",
    "-   [optimization](http://docs.scipy.org/doc/scipy/reference/optimize.html)\n",
    "-   [distributions and random number generation](http://docs.scipy.org/doc/scipy/reference/stats.html)\n",
    "-   [signal processing](http://docs.scipy.org/doc/scipy/reference/signal.html)\n",
    "\n",
    "See them all [here](http://docs.scipy.org/doc/scipy/reference/index.html).\n",
    "\n",
    "## Graphics\n",
    "\n",
    "The most popular and comprehensive Python library for creating figures\n",
    "and graphs is [Matplotlib](http://matplotlib.org/), with functionality\n",
    "including\n",
    "\n",
    "-   plots, histograms, contour images, 3D graphs, bar charts etc.\n",
    "-   output in many formats (PDF, PNG, EPS, etc.)\n",
    "-   LaTeX integration\n",
    "\n",
    "Example 2D plot with embedded LaTeX annotations\n",
    "\n",
    "```{figure} /_static/lecture_specific/about_py/qs.png\n",
    ":scale: 55%\n",
    ":alt: Image three histograms demonstrating different distributions\n",
    " Histogram plot\n",
    "```\n",
    "\n",
    "Example contour plot\n",
    "\n",
    "```{figure} /_static/lecture_specific/about_py/bn_density1.png\n",
    ":scale: 55%\n",
    ":alt: Image of a contour plot indicating 3 dimensions of data\n",
    " Contour plot\n",
    "```\n",
    "\n",
    "Example 3D plot\n",
    "\n",
    "```{figure} /_static/lecture_specific/about_py/career_vf.png\n",
    ":scale: 80%\n",
    ":alt: Image of a 3D plot with a surface\n",
    " 3D plot\n",
    "```\n",
    "\n",
    "More examples can be found in the [Matplotlib thumbnail\n",
    "gallery](http://matplotlib.org/gallery.html).\n",
    "\n",
    "Other graphics libraries include\n",
    "\n",
    "-   [Plotly](https://plot.ly/python/)\n",
    "-   [Bokeh](http://bokeh.pydata.org/en/latest/)\n",
    "\n",
    "## Symbolic Algebra\n",
    "\n",
    "It\\'s useful to be able to manipulate symbolic expressions, as in\n",
    "Mathematica or Maple.\n",
    "\n",
    "The [SymPy](http://www.sympy.org/) library provides this functionality\n",
    "from within the Python shell."
   ]
  },
  {
   "cell_type": "code",
   "execution_count": 4,
   "id": "a3d4802e",
   "metadata": {},
   "outputs": [
    {
     "data": {
      "text/latex": [
       "$\\displaystyle 3 x + y$"
      ],
      "text/plain": [
       "3*x + y"
      ]
     },
     "execution_count": 4,
     "metadata": {},
     "output_type": "execute_result"
    }
   ],
   "source": [
    "from sympy import Symbol\n",
    "\n",
    "x, y = Symbol('x'), Symbol('y')  # Treat 'x' and 'y' as algebraic symbols\n",
    "x + x + x + y"
   ]
  },
  {
   "cell_type": "markdown",
   "id": "26650f23",
   "metadata": {},
   "source": [
    "We can manipulate expressions"
   ]
  },
  {
   "cell_type": "code",
   "execution_count": 5,
   "id": "9c698c73",
   "metadata": {},
   "outputs": [
    {
     "data": {
      "text/latex": [
       "$\\displaystyle x^{2} + 2 x y + y^{2}$"
      ],
      "text/plain": [
       "x**2 + 2*x*y + y**2"
      ]
     },
     "execution_count": 5,
     "metadata": {},
     "output_type": "execute_result"
    }
   ],
   "source": [
    "expression = (x + y)**2\n",
    "expression.expand()"
   ]
  },
  {
   "cell_type": "markdown",
   "id": "9e1cc102",
   "metadata": {},
   "source": [
    "solve polynomials"
   ]
  },
  {
   "cell_type": "code",
   "execution_count": 6,
   "id": "f34e023e",
   "metadata": {},
   "outputs": [
    {
     "data": {
      "text/plain": [
       "[-1/2 - sqrt(7)*I/2, -1/2 + sqrt(7)*I/2]"
      ]
     },
     "execution_count": 6,
     "metadata": {},
     "output_type": "execute_result"
    }
   ],
   "source": [
    "from sympy import solve\n",
    "\n",
    "solve(x**2 + x + 2)"
   ]
  },
  {
   "cell_type": "markdown",
   "id": "e74df0e7",
   "metadata": {},
   "source": [
    "and calculate limits, derivatives and integrals"
   ]
  },
  {
   "cell_type": "code",
   "execution_count": 7,
   "id": "4b8c0d98",
   "metadata": {},
   "outputs": [
    {
     "data": {
      "text/latex": [
       "$\\displaystyle \\infty$"
      ],
      "text/plain": [
       "oo"
      ]
     },
     "execution_count": 7,
     "metadata": {},
     "output_type": "execute_result"
    }
   ],
   "source": [
    "from sympy import limit, sin, diff\n",
    "\n",
    "limit(1 / x, x, 0)"
   ]
  },
  {
   "cell_type": "code",
   "execution_count": 8,
   "id": "c6c8e1fc",
   "metadata": {},
   "outputs": [
    {
     "data": {
      "text/latex": [
       "$\\displaystyle 1$"
      ],
      "text/plain": [
       "1"
      ]
     },
     "execution_count": 8,
     "metadata": {},
     "output_type": "execute_result"
    }
   ],
   "source": [
    "limit(sin(x) / x, x, 0)"
   ]
  },
  {
   "cell_type": "code",
   "execution_count": 9,
   "id": "ea442b52",
   "metadata": {},
   "outputs": [
    {
     "data": {
      "text/latex": [
       "$\\displaystyle \\cos{\\left(x \\right)}$"
      ],
      "text/plain": [
       "cos(x)"
      ]
     },
     "execution_count": 9,
     "metadata": {},
     "output_type": "execute_result"
    }
   ],
   "source": [
    "diff(sin(x), x)"
   ]
  },
  {
   "cell_type": "markdown",
   "id": "4160a764",
   "metadata": {},
   "source": [
    "The beauty of importing this functionality into Python is that we are\n",
    "working within a fully fledged programming language.\n",
    "\n",
    "We can easily create tables of derivatives, generate LaTeX output, add\n",
    "that output to figures and so on.\n",
    "\n",
    "## Pandas\n",
    "\n",
    "One of the most popular libraries for working with data is\n",
    "[pandas](http://pandas.pydata.org/).\n",
    "\n",
    "Pandas is fast, efficient, flexible and well designed.\n",
    "\n",
    "Here\\'s a simple example, using some dummy data generated with Numpy\\'s\n",
    "excellent `random` functionality."
   ]
  },
  {
   "cell_type": "code",
   "execution_count": 10,
   "id": "0c6f45a6",
   "metadata": {},
   "outputs": [
    {
     "name": "stdout",
     "output_type": "stream",
     "text": [
      "               price    weight\n",
      "2010-12-28  0.471435 -1.190976\n",
      "2010-12-29  1.432707 -0.312652\n",
      "2010-12-30 -0.720589  0.887163\n",
      "2010-12-31  0.859588 -0.636524\n",
      "2011-01-01  0.015696 -2.242685\n"
     ]
    }
   ],
   "source": [
    "import pandas as pd\n",
    "np.random.seed(1234)\n",
    "\n",
    "data = np.random.randn(5, 2)  # 5x2 matrix of N(0, 1) random draws\n",
    "dates = pd.date_range('28/12/2010', periods=5)\n",
    "\n",
    "df = pd.DataFrame(data, columns=('price', 'weight'), index=dates)\n",
    "print(df)"
   ]
  },
  {
   "cell_type": "code",
   "execution_count": 11,
   "id": "a988188c",
   "metadata": {},
   "outputs": [
    {
     "data": {
      "text/plain": [
       "price     0.411768\n",
       "weight   -0.699135\n",
       "dtype: float64"
      ]
     },
     "execution_count": 11,
     "metadata": {},
     "output_type": "execute_result"
    }
   ],
   "source": [
    "df.mean()"
   ]
  },
  {
   "cell_type": "markdown",
   "id": "16e1d735",
   "metadata": {},
   "source": [
    "## Further Reading\n",
    "\n",
    "\n",
    "These lectures were originally taken from a longer and more complete lecture\n",
    "series on Python programming hosted by [QuantEcon](https://quantecon.org).\n",
    "\n",
    "The [full set of lectures](https://python-programming.quantecon.org/) might be\n",
    "useful as the next step of your study.\n",
    "\n",
    "## Attribution \n",
    "The above lesson was pulled directly from work by [Thomas J. Sargent & John Stachurski](https://python-programming.quantecon.org/about_py.html)"
   ]
  }
 ],
 "metadata": {
  "jupytext": {
   "text_representation": {
    "extension": ".md",
    "format_name": "myst"
   }
  },
  "kernelspec": {
   "display_name": "Python 3",
   "language": "python",
   "name": "python3"
  },
  "language_info": {
   "codemirror_mode": {
    "name": "ipython",
    "version": 3
   },
   "file_extension": ".py",
   "mimetype": "text/x-python",
   "name": "python",
   "nbconvert_exporter": "python",
   "pygments_lexer": "ipython3",
   "version": "3.10.9"
  },
  "source_map": [
   10,
   25,
   31,
   35,
   37,
   59,
   66,
   129,
   134,
   138,
   141,
   145,
   149,
   153,
   159,
   163,
   165,
   183,
   194,
   196
  ]
 },
 "nbformat": 4,
 "nbformat_minor": 5
}