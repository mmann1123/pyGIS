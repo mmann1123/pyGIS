{
 "cells": [
  {
   "cell_type": "markdown",
   "id": "99fc7414",
   "metadata": {},
   "source": [
    "(f_rs_intro)=\n",
    "\n",
    "# Remote Sensing with Python using Geowombat\n",
    " \n",
    "For now this section is going to be more or less a copy and paste job from Jordan's excellent tutorials at [Geowombat's readthedocs](geowombat.readthedocs.io/). \n",
    "\n",
    "Geowombat is designed to make remote sensing accessible to the public. No longer do you need a PhD in geography and a supercomputer to do a land cover classification for a whole state or country! Vive la révolution! \n",
    "\n",
    "In this section you will learn how to:\n",
    "\n",
    "```{tableofcontents}\n",
    "```\n",
    "\n",
    "\n",
    "```{toctree}\n",
    ":hidden:\n",
    ":titlesonly:\n",
    "\n",
    "\n",
    "f_rs_io\n",
    "f_rs_edit\n",
    "f_rs_plot\n",
    "f_rs_crs\n",
    "f_rs_mosaic\n",
    "f_rs_config\n",
    "f_rs_band_math\n",
    "f_rs_extraction\n",
    "```"
   ]
  }
 ],
 "metadata": {
  "html_meta": {
   "description lang=en": "This chapter covers all the core operations you need to do remote sensing with Python. We focus on the use of Geowombat because it makes opening, writing, mosaicing, and classifying images easy and intuitive.",
   "description lang=es": "Aprenda a leer y escribir fácilmente datos de teledetección desde una variedad de sensores, mosaico. Este capítulo cubre todas las operaciones básicas que necesita para realizar teledetección con Python. Nos enfocamos en el uso de Geowombat porque hace que abrir, escribir, crear mosaicos y clasificar imágenes sea fácil e intuitivo, o crea pilas de series de tiempo.",
   "description lang=fr": "Apprenez à lire et à écrire facilement des données de télédétection à partir de divers capteurs, mosaïques Ce chapitre couvre toutes les opérations de base dont vous avez besoin pour effectuer la télédétection avec Python. Nous nous concentrons sur l'utilisation de Geowombat car il permet d'ouvrir, d'écrire, de mosaïquer et de classer des images de manière simple et intuitive.",
   "keywords": "geospatial,remote sensing, operations, sensors, analysis",
   "property=og:locale": "en_US"
  },
  "jupytext": {
   "text_representation": {
    "extension": ".md",
    "format_name": "myst"
   }
  },
  "kernelspec": {
   "display_name": "Python 3",
   "language": "python",
   "name": "python3"
  },
  "language_info": {
   "codemirror_mode": {
    "name": "ipython",
    "version": 3
   },
   "file_extension": ".py",
   "mimetype": "text/x-python",
   "name": "python",
   "nbconvert_exporter": "python",
   "pygments_lexer": "ipython3",
   "version": "3.6.7"
  },
  "source_map": [
   16
  ]
 },
 "nbformat": 4,
 "nbformat_minor": 5
}