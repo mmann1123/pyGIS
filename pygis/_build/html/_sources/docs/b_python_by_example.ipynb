{
 "cells": [
  {
   "cell_type": "markdown",
   "id": "89a7d963",
   "metadata": {},
   "source": [
    "(python_by_example)=\n",
    "\n",
    "# An Introductory Example\n",
    "\n",
    "## Overview\n",
    "\n",
    "We\\'re now ready to start learning the Python language itself.\n",
    "\n",
    "In this lecture, we will write and then pick apart small Python\n",
    "programs.\n",
    "\n",
    "The objective is to introduce you to basic Python syntax and data\n",
    "structures.\n",
    "\n",
    "Deeper concepts will be covered in later lectures.\n",
    "\n",
    "You should have read the {ref}`lecture <getting_started>` on getting started with Python before beginning this one.\n",
    "\n",
    "## The Task: Plotting a White Noise Process\n",
    "\n",
    "Suppose we want to simulate and plot the white noise process\n",
    "$\\epsilon_0, \\epsilon_1, \\ldots, \\epsilon_T$, where each draw\n",
    "$\\epsilon_t$ is independent standard normal.\n",
    "\n",
    "In other words, we want to generate figures that look something like\n",
    "this:\n",
    "\n",
    "```{figure} /_static/lecture_specific/python_by_example/test_program_1_updated.png\n",
    "```\n",
    "\n",
    "(Here $t$ is on the horizontal axis and $\\epsilon_t$ is on the vertical\n",
    "axis.)\n",
    "\n",
    "We\\'ll do this in several different ways, each time learning something\n",
    "more about Python.\n",
    "\n",
    "We run the following command first, which helps ensure that plots appear\n",
    "in the notebook if you run it on your own machine."
   ]
  },
  {
   "cell_type": "code",
   "execution_count": null,
   "id": "64e43788",
   "metadata": {},
   "outputs": [],
   "source": [
    "%matplotlib inline"
   ]
  },
  {
   "cell_type": "markdown",
   "id": "c32e83cc",
   "metadata": {},
   "source": [
    "## Version 1\n",
    "\n",
    "(ourfirstprog)=\n",
    "\n",
    "Here are a few lines of code that perform the task we set"
   ]
  },
  {
   "cell_type": "code",
   "execution_count": null,
   "id": "3bed7bfd",
   "metadata": {},
   "outputs": [],
   "source": [
    "import numpy as np\n",
    "import matplotlib.pyplot as plt\n",
    "\n",
    "ϵ_values = np.random.randn(100)\n",
    "plt.plot(ϵ_values)\n",
    "plt.show()"
   ]
  },
  {
   "cell_type": "markdown",
   "id": "3b085806",
   "metadata": {},
   "source": [
    "Let\\'s break this program down and see how it works.\n",
    "\n",
    "(import)=\n",
    "\n",
    "### Imports\n",
    "\n",
    "The first two lines of the program import functionality from external\n",
    "code libraries.\n",
    "\n",
    "The first line imports NumPy, a\n",
    "favorite Python package for tasks like\n",
    "\n",
    "-   working with arrays (vectors and matrices)\n",
    "-   common mathematical functions like `cos` and `sqrt`\n",
    "-   generating random numbers\n",
    "-   linear algebra, etc.\n",
    "\n",
    "After `import numpy as np` we have access to these attributes via the\n",
    "syntax `np.attribute`.\n",
    "\n",
    "Here\\'s two more examples"
   ]
  },
  {
   "cell_type": "code",
   "execution_count": null,
   "id": "98feb74f",
   "metadata": {},
   "outputs": [],
   "source": [
    "np.sqrt(4)"
   ]
  },
  {
   "cell_type": "code",
   "execution_count": null,
   "id": "55789cc9",
   "metadata": {},
   "outputs": [],
   "source": [
    "np.log(4)"
   ]
  },
  {
   "cell_type": "markdown",
   "id": "f70f4abe",
   "metadata": {},
   "source": [
    "We could also use the following syntax:"
   ]
  },
  {
   "cell_type": "code",
   "execution_count": null,
   "id": "445c74e6",
   "metadata": {},
   "outputs": [],
   "source": [
    "import numpy\n",
    "\n",
    "numpy.sqrt(4)"
   ]
  },
  {
   "cell_type": "markdown",
   "id": "ed0c3e60",
   "metadata": {},
   "source": [
    "But the former method (using the short name `np`) is convenient and more\n",
    "standard.\n",
    "\n",
    "#### Why So Many Imports?\n",
    "\n",
    "Python programs typically require several import statements.\n",
    "\n",
    "The reason is that the core language is deliberately kept small, so that\n",
    "it\\'s easy to learn and maintain.\n",
    "\n",
    "When you want to do something interesting with Python, you almost always\n",
    "need to import additional functionality.\n",
    "\n",
    "#### Packages\n",
    "\n",
    "As stated above, NumPy is a Python *package*.\n",
    "\n",
    "Packages are used by developers to organize code they wish to share.\n",
    "\n",
    "In fact, a package is just a directory containing\n",
    "\n",
    "1.  files with Python code --- called **modules** in Python speak\n",
    "2.  possibly some compiled code that can be accessed by Python (e.g.,\n",
    "    functions compiled from C or FORTRAN code)\n",
    "3.  a file called `__init__.py` that specifies what will be executed\n",
    "    when we type `import package_name`\n",
    "\n",
    "In fact, you can find and explore the directory for NumPy on your\n",
    "computer easily enough if you look around.\n",
    "\n",
    "On this machine, it\\'s located in\n",
    "\n",
    "```{code-block} none\n",
    "anaconda3/lib/python3.7/site-packages/numpy\n",
    "```\n",
    "\n",
    "#### Subpackages\n",
    "\n",
    "Consider the line `ϵ_values = np.random.randn(100)`.\n",
    "\n",
    "Here `np` refers to the package NumPy, while `random` is a\n",
    "**subpackage** of NumPy.\n",
    "\n",
    "Subpackages are just packages that are subdirectories of another\n",
    "package.\n",
    "\n",
    "### Importing Names Directly\n",
    "\n",
    "Recall this code that we saw above"
   ]
  },
  {
   "cell_type": "code",
   "execution_count": null,
   "id": "80832665",
   "metadata": {},
   "outputs": [],
   "source": [
    "import numpy as np\n",
    "\n",
    "np.sqrt(4)"
   ]
  },
  {
   "cell_type": "markdown",
   "id": "2b748bd5",
   "metadata": {},
   "source": [
    "Here\\'s another way to access NumPy\\'s square root function"
   ]
  },
  {
   "cell_type": "code",
   "execution_count": null,
   "id": "78489f28",
   "metadata": {},
   "outputs": [],
   "source": [
    "from numpy import sqrt\n",
    "\n",
    "sqrt(4)"
   ]
  },
  {
   "cell_type": "markdown",
   "id": "391aedb5",
   "metadata": {},
   "source": [
    "This is also fine.\n",
    "\n",
    "The advantage is less typing if we use `sqrt` often in our code.\n",
    "\n",
    "The disadvantage is that, in a long program, these two lines might be\n",
    "separated by many other lines.\n",
    "\n",
    "Then it\\'s harder for readers to know where `sqrt` came from, should\n",
    "they wish to.\n",
    "\n",
    "### Random Draws\n",
    "\n",
    "Returning to our program that plots white noise, the remaining three\n",
    "lines after the import statements are"
   ]
  },
  {
   "cell_type": "code",
   "execution_count": null,
   "id": "96e9b6d4",
   "metadata": {},
   "outputs": [],
   "source": [
    "ϵ_values = np.random.randn(100)\n",
    "plt.plot(ϵ_values)\n",
    "plt.show()"
   ]
  },
  {
   "cell_type": "markdown",
   "id": "ea119340",
   "metadata": {},
   "source": [
    "The first line generates 100 (quasi) independent standard normals and\n",
    "stores them in `ϵ_values`.\n",
    "\n",
    "The next two lines genererate the plot.\n",
    "\n",
    "We can and will look at various ways to configure and improve this plot\n",
    "below.\n",
    "\n",
    "## Alternative Implementations\n",
    "\n",
    "Let\\'s try writing some alternative versions of\n",
    "{ref}`our first program <ourfirstprog>`, which\n",
    "plotted IID draws from the normal distribution.\n",
    "\n",
    "The programs below are less efficient than the original one, and hence\n",
    "somewhat artificial.\n",
    "\n",
    "But they do help us illustrate some important Python syntax and\n",
    "semantics in a familiar setting.\n",
    "\n",
    "### A Version with a For Loop\n",
    "\n",
    "Here\\'s a version that illustrates `for` loops and Python lists.\n",
    "\n",
    "(firstloopprog)="
   ]
  },
  {
   "cell_type": "code",
   "execution_count": null,
   "id": "ab2db62f",
   "metadata": {},
   "outputs": [],
   "source": [
    "ts_length = 100\n",
    "ϵ_values = []   # empty list\n",
    "\n",
    "for i in range(ts_length):\n",
    "    e = np.random.randn()\n",
    "    ϵ_values.append(e)\n",
    "\n",
    "plt.plot(ϵ_values)\n",
    "plt.show()"
   ]
  },
  {
   "cell_type": "markdown",
   "id": "5d3b86bc",
   "metadata": {},
   "source": [
    "In brief,\n",
    "\n",
    "-   The first line sets the desired length of the time series.\n",
    "-   The next line creates an empty *list* called `ϵ_values` that will\n",
    "    store the $\\epsilon_t$ values as we generate them.\n",
    "-   The statement `# empty list` is a *comment*, and is ignored by\n",
    "    Python\\'s interpreter.\n",
    "-   The next three lines are the `for` loop, which repeatedly draws a\n",
    "    new random number $\\epsilon_t$ and appends it to the end of the list\n",
    "    `ϵ_values`.\n",
    "-   The last two lines generate the plot and display it to the user.\n",
    "\n",
    "Let\\'s study some parts of this program in more detail.\n",
    "\n",
    "(lists_ref)=\n",
    "\n",
    "### Lists\n",
    "\n",
    "Consider the statement `ϵ_values = []`, which creates an empty list.\n",
    "\n",
    "Lists are a *native Python data structure* used to group a collection of\n",
    "objects.\n",
    "\n",
    "For example, try"
   ]
  },
  {
   "cell_type": "code",
   "execution_count": null,
   "id": "3ed66537",
   "metadata": {},
   "outputs": [],
   "source": [
    "x = [10, 'foo', False]\n",
    "type(x)"
   ]
  },
  {
   "cell_type": "markdown",
   "id": "59452c62",
   "metadata": {},
   "source": [
    "The first element of `x` is an\n",
    "[integer](https://en.wikipedia.org/wiki/Integer_%28computer_science%29),\n",
    "the next is a\n",
    "[string](https://en.wikipedia.org/wiki/String_%28computer_science%29),\n",
    "and the third is a [Boolean value](https://en.wikipedia.org/wiki/Boolean_data_type).\n",
    "\n",
    "When adding a value to a list, we can use the syntax\n",
    "`list_name.append(some_value)`"
   ]
  },
  {
   "cell_type": "code",
   "execution_count": null,
   "id": "b262cef7",
   "metadata": {},
   "outputs": [],
   "source": [
    "x"
   ]
  },
  {
   "cell_type": "code",
   "execution_count": null,
   "id": "3e6c6333",
   "metadata": {},
   "outputs": [],
   "source": [
    "x.append(2.5)\n",
    "x"
   ]
  },
  {
   "cell_type": "markdown",
   "id": "66271938",
   "metadata": {},
   "source": [
    "Here `append()` is what\\'s called a *method*, which is a function\n",
    "\\\"attached to\\\" an object---in this case, the list `x`.\n",
    "\n",
    "We\\'ll learn all about methods later on, but just to give you some idea,\n",
    "\n",
    "-   Python objects such as lists, strings, etc. all have methods that\n",
    "    are used to manipulate the data contained in the object.\n",
    "-   String objects have [string methods](https://docs.python.org/3/library/stdtypes.html#string-methods),\n",
    "    list objects have [list methods](https://docs.python.org/3/tutorial/datastructures.html#more-on-lists),\n",
    "    etc.\n",
    "\n",
    "Another useful list method is `pop()`"
   ]
  },
  {
   "cell_type": "code",
   "execution_count": null,
   "id": "03657307",
   "metadata": {},
   "outputs": [],
   "source": [
    "x"
   ]
  },
  {
   "cell_type": "code",
   "execution_count": null,
   "id": "3326e1e6",
   "metadata": {},
   "outputs": [],
   "source": [
    "x.pop()"
   ]
  },
  {
   "cell_type": "code",
   "execution_count": null,
   "id": "35159031",
   "metadata": {},
   "outputs": [],
   "source": [
    "x"
   ]
  },
  {
   "cell_type": "markdown",
   "id": "fb88ee45",
   "metadata": {},
   "source": [
    "Lists in Python are zero-based (as in C, Java or Go), so the first\n",
    "element is referenced by `x[0]`"
   ]
  },
  {
   "cell_type": "code",
   "execution_count": null,
   "id": "050669b3",
   "metadata": {},
   "outputs": [],
   "source": [
    "x[0]   # first element of x"
   ]
  },
  {
   "cell_type": "code",
   "execution_count": null,
   "id": "4b64e768",
   "metadata": {},
   "outputs": [],
   "source": [
    "x[1]   # second element of x"
   ]
  },
  {
   "cell_type": "markdown",
   "id": "9a4f5de4",
   "metadata": {},
   "source": [
    "### The For Loop\n",
    "\n",
    "Now let\\'s consider the `for` loop from\n",
    "{ref}`the program above <firstloopprog>`, which\n",
    "was"
   ]
  },
  {
   "cell_type": "code",
   "execution_count": null,
   "id": "a33e28fc",
   "metadata": {},
   "outputs": [],
   "source": [
    "for i in range(ts_length):\n",
    "    e = np.random.randn()\n",
    "    ϵ_values.append(e)"
   ]
  },
  {
   "cell_type": "markdown",
   "id": "1ec80312",
   "metadata": {},
   "source": [
    "Python executes the two indented lines `ts_length` times before moving\n",
    "on.\n",
    "\n",
    "These two lines are called a `code block`, since they comprise the\n",
    "\\\"block\\\" of code that we are looping over.\n",
    "\n",
    "Unlike most other languages, Python knows the extent of the code block\n",
    "*only from indentation*.\n",
    "\n",
    "In our program, indentation decreases after line `ϵ_values.append(e)`,\n",
    "telling Python that this line marks the lower limit of the code block.\n",
    "\n",
    "More on indentation below---for now, let\\'s look at another example of\n",
    "a `for` loop"
   ]
  },
  {
   "cell_type": "code",
   "execution_count": null,
   "id": "e333c633",
   "metadata": {},
   "outputs": [],
   "source": [
    "animals = ['dog', 'cat', 'bird']\n",
    "for animal in animals:\n",
    "    print(\"The plural of \" + animal + \" is \" + animal + \"s\")"
   ]
  },
  {
   "cell_type": "markdown",
   "id": "1d1dbc0b",
   "metadata": {},
   "source": [
    "This example helps to clarify how the `for` loop works: When we execute\n",
    "a loop of the form\n",
    "\n",
    "```{code-block}\n",
    "---\n",
    "class: no-execute\n",
    "---\n",
    "\n",
    "for variable_name in sequence:\n",
    "    <code block>\n",
    "```\n",
    "\n",
    "The Python interpreter performs the following:\n",
    "\n",
    "-   For each element of the `sequence`, it \\\"binds\\\" the name\n",
    "    `variable_name` to that element and then executes the code block.\n",
    "\n",
    "The `sequence` object can in fact be a very general object, as we\\'ll\n",
    "see soon enough.\n",
    "\n",
    "### A Comment on Indentation\n",
    "\n",
    "In discussing the `for` loop, we explained that the code blocks being\n",
    "looped over are delimited by indentation.\n",
    "\n",
    "In fact, in Python, **all** code blocks (i.e., those occurring inside\n",
    "loops, if clauses, function definitions, etc.) are delimited by\n",
    "indentation.\n",
    "\n",
    "Thus, unlike most other languages, whitespace in Python code affects the\n",
    "output of the program.\n",
    "\n",
    "Once you get used to it, this is a good thing: It\n",
    "\n",
    "-   forces clean, consistent indentation, improving readability\n",
    "-   removes clutter, such as the brackets or end statements used in\n",
    "    other languages\n",
    "\n",
    "On the other hand, it takes a bit of care to get right, so please\n",
    "remember:\n",
    "\n",
    "-   The line before the start of a code block always ends in a colon\n",
    "    -   `for i in range(10):`\n",
    "    -   `if x > y:`\n",
    "    -   `while x < 100:`\n",
    "    -   etc., etc.\n",
    "-   All lines in a code block **must have the same amount of indentation**.\n",
    "-   The Python standard is 4 spaces, and that\\'s what you should use.\n",
    "\n",
    "### While Loops\n",
    "\n",
    "The `for` loop is the most common technique for iteration in Python.\n",
    "\n",
    "But, for the purpose of illustration, let\\'s modify\n",
    "{ref}`the program above <firstloopprog>` to use\n",
    "a `while` loop instead.\n",
    "\n",
    "(whileloopprog)="
   ]
  },
  {
   "cell_type": "code",
   "execution_count": null,
   "id": "bf00a463",
   "metadata": {},
   "outputs": [],
   "source": [
    "ts_length = 100\n",
    "ϵ_values = []\n",
    "i = 0\n",
    "while i < ts_length:\n",
    "    e = np.random.randn()\n",
    "    ϵ_values.append(e)\n",
    "    i = i + 1\n",
    "plt.plot(ϵ_values)\n",
    "plt.show()"
   ]
  },
  {
   "cell_type": "markdown",
   "id": "c051064a",
   "metadata": {},
   "source": [
    "Note that\n",
    "\n",
    "-   the code block for the `while` loop is again delimited only by indentation\n",
    "-   the statement `i = i + 1` can be replaced by `i += 1`\n",
    "\n",
    "## Another Application\n",
    "\n",
    "Let\\'s do one more application before we turn to exercises.\n",
    "\n",
    "In this application, we plot the balance of a bank account over time.\n",
    "\n",
    "There are no withdraws over the time period, the last date of which is\n",
    "denoted by $T$.\n",
    "\n",
    "The initial balance is $b_0$ and the interest rate is $r$.\n",
    "\n",
    "The balance updates from period $t$ to $t+1$ according to\n",
    "\n",
    "```{math}\n",
    ":label: ilom\n",
    "    b_{t+1} = (1 + r) b_t\n",
    "```\n",
    "\n",
    "In the code below, we generate and plot the sequence $b_0, b_1, \\ldots, b_T$\n",
    "generated by {eq}`ilom`.\n",
    "\n",
    "Instead of using a Python list to store this sequence, we will use a\n",
    "NumPy array."
   ]
  },
  {
   "cell_type": "code",
   "execution_count": null,
   "id": "b26cbbef",
   "metadata": {},
   "outputs": [],
   "source": [
    "r = 0.025         # interest rate\n",
    "T = 50            # end date\n",
    "b = np.empty(T+1) # an empty NumPy array, to store all b_t\n",
    "b[0] = 10         # initial balance\n",
    "\n",
    "for t in range(T):\n",
    "    b[t+1] = (1 + r) * b[t]\n",
    "\n",
    "plt.plot(b, label='bank balance')\n",
    "plt.legend()\n",
    "plt.show()"
   ]
  },
  {
   "cell_type": "markdown",
   "id": "99fe0eef",
   "metadata": {},
   "source": [
    "The statement `b = np.empty(T+1)` allocates storage in memory for `T+1`\n",
    "(floating point) numbers.\n",
    "\n",
    "These numbers are filled in by the `for` loop.\n",
    "\n",
    "Allocating memory at the start is more efficient than using a Python\n",
    "list and `append`, since the latter must repeatedly ask for storage\n",
    "space from the operating system.\n",
    "\n",
    "Notice that we added a legend to the plot --- a feature you will be\n",
    "asked to use in the exercises.\n",
    "\n",
    "## Exercises\n",
    "\n",
    "Now we turn to exercises. It is important that you complete them before\n",
    "continuing, since they present new concepts we will need.\n",
    "\n",
    "### Exercise 1\n",
    "\n",
    "Your first task is to simulate and plot the correlated time series\n",
    "\n",
    "$$\n",
    "x_{t+1} = \\alpha \\, x_t + \\epsilon_{t+1}\n",
    "\\quad \\text{where} \\quad\n",
    "x_0 = 0\n",
    "\\quad \\text{and} \\quad t = 0,\\ldots,T\n",
    "$$\n",
    "\n",
    "The sequence of shocks $\\{\\epsilon_t\\}$ is assumed to be IID and\n",
    "standard normal.\n",
    "\n",
    "In your solution, restrict your import statements to"
   ]
  },
  {
   "cell_type": "code",
   "execution_count": null,
   "id": "a3ef479b",
   "metadata": {},
   "outputs": [],
   "source": [
    "import numpy as np\n",
    "import matplotlib.pyplot as plt"
   ]
  },
  {
   "cell_type": "markdown",
   "id": "ef2d29ab",
   "metadata": {},
   "source": [
    "Set $T=200$ and $\\alpha = 0.9$.\n",
    "\n",
    "### Exercise 2\n",
    "\n",
    "Starting with your solution to exercise 2, plot three simulated time\n",
    "series, one for each of the cases $\\alpha=0$, $\\alpha=0.8$ and\n",
    "$\\alpha=0.98$.\n",
    "\n",
    "Use a `for` loop to step through the $\\alpha$ values.\n",
    "\n",
    "If you can, add a legend, to help distinguish between the three time\n",
    "series.\n",
    "\n",
    "Hints:\n",
    "\n",
    "-   If you call the `plot()` function multiple times before calling\n",
    "    `show()`, all of the lines you produce will end up on the same\n",
    "    figure.\n",
    "-   For the legend, noted that the expression `'foo' + str(42)`\n",
    "    evaluates to `'foo42'`.\n",
    "\n",
    "### Exercise 3\n",
    "\n",
    "Similar to the previous exercises, plot the time series\n",
    "\n",
    "$$\n",
    "x_{t+1} = \\alpha \\, |x_t| + \\epsilon_{t+1}\n",
    "\\quad \\text{where} \\quad\n",
    "x_0 = 0\n",
    "\\quad \\text{and} \\quad t = 0,\\ldots,T\n",
    "$$\n",
    "\n",
    "Use $T=200$, $\\alpha = 0.9$ and $\\{\\epsilon_t\\}$ as before.\n",
    "\n",
    "Search online for a function that can be used to compute the absolute\n",
    "value $|x_t|$.\n",
    "\n",
    "### Exercise 4\n",
    "\n",
    "One important aspect of essentially all programming languages is\n",
    "branching and conditions.\n",
    "\n",
    "In Python, conditions are usually implemented with if--else syntax.\n",
    "\n",
    "Here\\'s an example, that prints -1 for each negative number in an array\n",
    "and 1 for each nonnegative number"
   ]
  },
  {
   "cell_type": "code",
   "execution_count": null,
   "id": "f9d9fe37",
   "metadata": {},
   "outputs": [],
   "source": [
    "numbers = [-9, 2.3, -11, 0]"
   ]
  },
  {
   "cell_type": "code",
   "execution_count": null,
   "id": "5e2b2cc1",
   "metadata": {},
   "outputs": [],
   "source": [
    "for x in numbers:\n",
    "    if x < 0:\n",
    "        print(-1)\n",
    "    else:\n",
    "        print(1)"
   ]
  },
  {
   "cell_type": "markdown",
   "id": "287f26cb",
   "metadata": {},
   "source": [
    "Now, write a new solution to Exercise 3 that does not use an existing\n",
    "function to compute the absolute value.\n",
    "\n",
    "Replace this existing function with an if--else condition.\n",
    "\n",
    "(pbe_ex3)=\n",
    "\n",
    "### Exercise 5\n",
    "\n",
    "Here\\'s a harder exercise, that takes some thought and planning.\n",
    "\n",
    "The task is to compute an approximation to $\\pi$ using [Monte Carlo](https://en.wikipedia.org/wiki/Monte_Carlo_method).\n",
    "\n",
    "Use no imports besides"
   ]
  },
  {
   "cell_type": "code",
   "execution_count": null,
   "id": "e4d3be01",
   "metadata": {},
   "outputs": [],
   "source": [
    "import numpy as np"
   ]
  },
  {
   "cell_type": "markdown",
   "id": "e9a706f6",
   "metadata": {},
   "source": [
    "Your hints are as follows:\n",
    "\n",
    "-   If $U$ is a bivariate uniform random variable on the unit square\n",
    "    $(0, 1)^2$, then the probability that $U$ lies in a subset $B$ of\n",
    "    $(0,1)^2$ is equal to the area of $B$.\n",
    "-   If $U_1,\\ldots,U_n$ are IID copies of $U$, then, as $n$ gets large,\n",
    "    the fraction that falls in $B$, converges to the probability of\n",
    "    landing in $B$.\n",
    "-   For a circle, $area = \\pi * radius^2$.\n",
    "\n",
    "## Solutions\n",
    "\n",
    "### Exercise 1\n",
    "\n",
    "Here\\'s one solution."
   ]
  },
  {
   "cell_type": "code",
   "execution_count": null,
   "id": "c0710e31",
   "metadata": {},
   "outputs": [],
   "source": [
    "α = 0.9\n",
    "T = 200\n",
    "x = np.empty(T+1)\n",
    "x[0] = 0\n",
    "\n",
    "for t in range(T):\n",
    "    x[t+1] = α * x[t] + np.random.randn()\n",
    "\n",
    "plt.plot(x)\n",
    "plt.show()"
   ]
  },
  {
   "cell_type": "markdown",
   "id": "fec8c61f",
   "metadata": {},
   "source": [
    "### Exercise 2"
   ]
  },
  {
   "cell_type": "code",
   "execution_count": null,
   "id": "10acc6aa",
   "metadata": {},
   "outputs": [],
   "source": [
    "α_values = [0.0, 0.8, 0.98]\n",
    "T = 200\n",
    "x = np.empty(T+1)\n",
    "\n",
    "for α in α_values:\n",
    "    x[0] = 0\n",
    "    for t in range(T):\n",
    "        x[t+1] = α * x[t] + np.random.randn()\n",
    "    plt.plot(x, label=f'$\\\\alpha = {α}$')\n",
    "\n",
    "plt.legend()\n",
    "plt.show()"
   ]
  },
  {
   "cell_type": "markdown",
   "id": "a017f5e3",
   "metadata": {},
   "source": [
    "### Exercise 3\n",
    "\n",
    "Here\\'s one solution:"
   ]
  },
  {
   "cell_type": "code",
   "execution_count": null,
   "id": "4820e845",
   "metadata": {},
   "outputs": [],
   "source": [
    "α = 0.9\n",
    "T = 200\n",
    "x = np.empty(T+1)\n",
    "x[0] = 0\n",
    "\n",
    "for t in range(T):\n",
    "    x[t+1] = α * np.abs(x[t]) + np.random.randn()\n",
    "\n",
    "plt.plot(x)\n",
    "plt.show()"
   ]
  },
  {
   "cell_type": "markdown",
   "id": "f3706fee",
   "metadata": {},
   "source": [
    "### Exercise 4\n",
    "\n",
    "Here\\'s one way:"
   ]
  },
  {
   "cell_type": "code",
   "execution_count": null,
   "id": "fd201cb5",
   "metadata": {},
   "outputs": [],
   "source": [
    "α = 0.9\n",
    "T = 200\n",
    "x = np.empty(T+1)\n",
    "x[0] = 0\n",
    "\n",
    "for t in range(T):\n",
    "    if x[t] < 0:\n",
    "        abs_x = - x[t]\n",
    "    else:\n",
    "        abs_x = x[t]\n",
    "    x[t+1] = α * abs_x + np.random.randn()\n",
    "\n",
    "plt.plot(x)\n",
    "plt.show()"
   ]
  },
  {
   "cell_type": "markdown",
   "id": "36cd66ef",
   "metadata": {},
   "source": [
    "Here\\'s a shorter way to write the same thing:"
   ]
  },
  {
   "cell_type": "code",
   "execution_count": null,
   "id": "918f8952",
   "metadata": {},
   "outputs": [],
   "source": [
    "α = 0.9\n",
    "T = 200\n",
    "x = np.empty(T+1)\n",
    "x[0] = 0\n",
    "\n",
    "for t in range(T):\n",
    "    abs_x = - x[t] if x[t] < 0 else x[t]\n",
    "    x[t+1] = α * abs_x + np.random.randn()\n",
    "\n",
    "plt.plot(x)\n",
    "plt.show()"
   ]
  },
  {
   "cell_type": "markdown",
   "id": "7ed30307",
   "metadata": {},
   "source": [
    "### Exercise 5\n",
    "\n",
    "Consider the circle of diameter 1 embedded in the unit square.\n",
    "\n",
    "Let $A$ be its area and let $r=1/2$ be its radius.\n",
    "\n",
    "If we know $\\pi$ then we can compute $A$ via $A = \\pi r^2$.\n",
    "\n",
    "But here the point is to compute $\\pi$, which we can do by\n",
    "$\\pi = A / r^2$.\n",
    "\n",
    "Summary: If we can estimate the area of a circle with diameter 1, then\n",
    "dividing by $r^2 = (1/2)^2 = 1/4$ gives an estimate of $\\pi$.\n",
    "\n",
    "We estimate the area by sampling bivariate uniforms and looking at the\n",
    "fraction that falls into the circle."
   ]
  },
  {
   "cell_type": "code",
   "execution_count": null,
   "id": "757a4244",
   "metadata": {},
   "outputs": [],
   "source": [
    "n = 100000\n",
    "\n",
    "count = 0\n",
    "for i in range(n):\n",
    "    u, v = np.random.uniform(), np.random.uniform()\n",
    "    d = np.sqrt((u - 0.5)**2 + (v - 0.5)**2)\n",
    "    if d < 0.5:\n",
    "        count += 1\n",
    "\n",
    "area_estimate = count / n\n",
    "\n",
    "print(area_estimate * 4)  # dividing by radius**2"
   ]
  }
 ],
 "metadata": {
  "jupytext": {
   "text_representation": {
    "extension": ".md",
    "format_name": "myst"
   }
  },
  "kernelspec": {
   "display_name": "Python 3",
   "language": "python",
   "name": "python3"
  },
  "source_map": [
   10,
   51,
   53,
   61,
   68,
   92,
   96,
   98,
   102,
   106,
   158,
   162,
   166,
   170,
   187,
   191,
   219,
   229,
   256,
   259,
   270,
   274,
   277,
   292,
   296,
   300,
   302,
   307,
   311,
   313,
   321,
   325,
   342,
   346,
   407,
   417,
   448,
   460,
   495,
   498,
   547,
   551,
   557,
   574,
   576,
   594,
   605,
   609,
   622,
   628,
   639,
   645,
   660,
   664,
   676,
   695
  ]
 },
 "nbformat": 4,
 "nbformat_minor": 5
}