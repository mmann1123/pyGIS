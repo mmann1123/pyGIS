{
 "cells": [
  {
   "cell_type": "markdown",
   "id": "7a7a7a60",
   "metadata": {},
   "source": [
    "(f_rs_plot)=\n",
    "\n",
    "\n",
    "---------------\n",
    "```{admonition} Learning Objectives\n",
    "  - Visualize RGB images from remotely sensed data\n",
    "  - Visualize true-color and false-color composites\n",
    "  - \n",
    "```\n",
    "```{admonition} Review\n",
    "* [Data Structures](c_features.md)\n",
    "* [Raster Data ](c_rasters.md)\n",
    "* [Opening Remotely Sensed Data](f_rs_io.md)\n",
    "```\n",
    "--------------\n",
    "\n",
    "\n",
    "# Plot Remote Sensed Images\n",
    "Import required modules and data."
   ]
  },
  {
   "cell_type": "code",
   "execution_count": null,
   "id": "394c3f96",
   "metadata": {},
   "outputs": [],
   "source": [
    "# Import GeoWombat\n",
    "import geowombat as gw\n",
    "\n",
    "# import plotting\n",
    "from pathlib import Path\n",
    "import matplotlib.pyplot as plt\n",
    "import matplotlib.patheffects as pe"
   ]
  },
  {
   "cell_type": "markdown",
   "id": "691c8440",
   "metadata": {},
   "source": [
    "## Plot a Single Band Image"
   ]
  },
  {
   "cell_type": "code",
   "execution_count": null,
   "id": "23fb33db",
   "metadata": {},
   "outputs": [],
   "source": [
    "from geowombat.data import l8_224077_20200518_B2 \n",
    "\n",
    "fig, ax = plt.subplots(dpi=200)\n",
    "\n",
    "with gw.open(l8_224077_20200518_B2,\n",
    "                band_names=['blue']) as src:\n",
    "    src.where(src != 0).sel(band='blue').plot.imshow(robust=True, ax=ax)\n",
    "plt.tight_layout(pad=1)"
   ]
  },
  {
   "cell_type": "markdown",
   "id": "49748154",
   "metadata": {},
   "source": [
    "## Plot a True Color LandSat Image\n",
    "Here we open the image, missing data is removed with `.where(src != 0)`, remember the bands in this file are stored in reverse order (blue, green, red), so we put them back into order `.sel(band=[3, 2, 1])`."
   ]
  },
  {
   "cell_type": "code",
   "execution_count": null,
   "id": "5ffbc2ea",
   "metadata": {},
   "outputs": [],
   "source": [
    "# load example data\n",
    "from geowombat.data import l8_224078_20200518\n",
    "\n",
    "fig, ax = plt.subplots(dpi=200)\n",
    "with gw.open(l8_224078_20200518) as src:\n",
    "    src.where(src != 0).sel(band=[3, 2, 1]).plot.imshow(robust=True, ax=ax)\n",
    "plt.tight_layout(pad=1)"
   ]
  },
  {
   "cell_type": "markdown",
   "id": "be2c2bdc",
   "metadata": {},
   "source": [
    "## Plot False Color Composites \n",
    "We can use the red, green, and blue channels to show different parts of the spectrum. This allows us for instance to \"see\" near-infrared (nir). Moreover certain combinations of bands allow us to better identify vegetation, urban environments, water, etc. There are many false colored composites that can be used to highlight different features. \n",
    "\n",
    "<iframe width=\"560\" height=\"315\" src=\"https://www.youtube.com/embed/YP0et8l_bvY\" title=\"YouTube video player\" frameborder=\"0\" allow=\"accelerometer; autoplay; clipboard-write; encrypted-media; gyroscope; picture-in-picture\" allowfullscreen></iframe>\n",
    "\n",
    "### Color Infrared (vegetation)\n",
    "Here we will look at a common false color combo to assigns the nir band to the color red. This make vegetation appear bright red."
   ]
  },
  {
   "cell_type": "code",
   "execution_count": null,
   "id": "1fb3747c",
   "metadata": {},
   "outputs": [],
   "source": [
    "from geowombat.data import rgbn\n",
    "\n",
    "fig, ax = plt.subplots(dpi=200)\n",
    "\n",
    "with gw.open(rgbn,\n",
    "            band_names=['red','green','blue','nir'],) as src:\n",
    "    src.where(src != 0).sel(band=['nir','red', 'green']).plot.imshow(robust=True, ax=ax)\n",
    "plt.tight_layout(pad=1)\n",
    "plt.savefig(\"rgb_plot.png\", dpi=150)"
   ]
  },
  {
   "cell_type": "markdown",
   "id": "f9080869",
   "metadata": {},
   "source": [
    "### Common Band Combinations for Landsat 8\n",
    "\n",
    "| Name    | Band Combination    |\n",
    "| :--- | ---: |\n",
    "| Natural Color    | 4 3 2  |\n",
    "| False Color (urban) |  7 6 4|\n",
    "| Color Infrared (vegetation) |\t5 4 3|\n",
    "| Agriculture |\t6 5 2|\n",
    "| Atmospheric Penetration |\t7 6 5|\n",
    "| Healthy Vegetation |\t5 6 2 |\n",
    "| Land/Water |\t5 6 4|\n",
    "| Natural With Atmospheric Removal |\t7 5 3 |\n",
    "|Shortwave Infrared |\t7 5 4|\n",
    "|Vegetation Analysis| \t6 5 4|\n",
    "\n",
    "<!-- \n",
    "## Plot Union of two LandSat Images\n",
    "As an example let's plot the union with `mosaic=True` of two images taken on the same day, but blue band only. Note we rename the band name with `band_names=['blue']`.\n",
    "\n",
    "```{code-cell} ipython3\n",
    "# from geowombat.data import l8_224077_20200518_B2, l8_224078_20200518_B2\n",
    "\n",
    "# fig, ax = plt.subplots(dpi=200)\n",
    "# filenames = [l8_224077_20200518_B2, l8_224078_20200518_B2]\n",
    "# with gw.open(filenames,\n",
    "#                 band_names=['blue'],\n",
    "#                 mosaic=True,\n",
    "#                 bounds_by='union') as src:\n",
    "#     src.where(src != 0).sel(band='blue').plot.imshow(robust=True, ax=ax)\n",
    "# plt.tight_layout(pad=1)\n",
    "```\n",
    "\n",
    "## Plot Intersection of two LandSat Images\n",
    "Same idea with the intersection, using `bounds_by='intersection'`, we still need to mosaic the two images `mosaic=True`.\n",
    "\n",
    "```{code-cell} ipython3\n",
    "# fig, ax = plt.subplots(dpi=200)\n",
    "# filenames = [l8_224077_20200518_B2, l8_224078_20200518_B2]\n",
    "# with gw.open(filenames,\n",
    "#                 band_names=['blue'],\n",
    "#                 mosaic=True,\n",
    "#                 bounds_by='intersection') as src:\n",
    "#     src.where(src != 0).sel(band='blue').plot.imshow(robust=True, ax=ax)\n",
    "# plt.tight_layout(pad=1)\n",
    "```\n",
    " -->\n",
    "\n",
    "## Plot LandSat Tile Footprints\n",
    "Here we set up a more complicated plotting function for near IR 'nir'.  Note the use of `footprint_grid`."
   ]
  },
  {
   "cell_type": "code",
   "execution_count": null,
   "id": "58fdda57",
   "metadata": {},
   "outputs": [],
   "source": [
    "from geowombat.data import l8_224077_20200518_B4, l8_224078_20200518_B4\n",
    "\n",
    "def plot(bounds_by, ref_image=None, cmap='viridis'):\n",
    "    fig, ax = plt.subplots(dpi=200)\n",
    "    with gw.config.update(ref_image=ref_image):\n",
    "        with gw.open([l8_224077_20200518_B4, l8_224078_20200518_B4],\n",
    "                        band_names=['nir'],\n",
    "                        chunks=256,\n",
    "                        mosaic=True,\n",
    "                        bounds_by=bounds_by) as srca:\n",
    "            # Plot the NIR band\n",
    "            srca.where(srca != 0).sel(band='nir').plot.imshow(robust=True, cbar_kwargs={'label': 'DN'}, ax=ax)\n",
    "            # Plot the image chunks\n",
    "            srca.gw.chunk_grid.plot(color='none', edgecolor='k', ls='-', lw=0.5, ax=ax)\n",
    "            # Plot the image footprints\n",
    "            srca.gw.footprint_grid.plot(color='none', edgecolor='orange', lw=2, ax=ax)\n",
    "            # Label the image footprints\n",
    "            for row in srca.gw.footprint_grid.itertuples(index=False):\n",
    "                ax.scatter(row.geometry.centroid.x, row.geometry.centroid.y,\n",
    "                            s=50, color='red', edgecolor='white', lw=1)\n",
    "                ax.annotate(row.footprint.replace('.TIF', ''),\n",
    "                            (row.geometry.centroid.x, row.geometry.centroid.y),\n",
    "                            color='black',\n",
    "                            size=8,\n",
    "                            ha='center',\n",
    "                            va='center',\n",
    "                            path_effects=[pe.withStroke(linewidth=1, foreground='white')])\n",
    "            # Set the display bounds\n",
    "            ax.set_ylim(srca.gw.footprint_grid.total_bounds[1]-10, srca.gw.footprint_grid.total_bounds[3]+10)\n",
    "            ax.set_xlim(srca.gw.footprint_grid.total_bounds[0]-10, srca.gw.footprint_grid.total_bounds[2]+10)\n",
    "    title = f'Image {bounds_by}' if bounds_by else str(Path(ref_image).name.split('.')[0]) + ' as reference'\n",
    "    size = 12 if bounds_by else 8\n",
    "    ax.set_title(title, size=size)\n",
    "    plt.tight_layout(pad=1)"
   ]
  },
  {
   "cell_type": "markdown",
   "id": "d7ecc6ea",
   "metadata": {},
   "source": [
    "The two plots below illustrate how two images can be mosaicked. The orange grids highlight the image footprints while the black grids illustrate the ``DataArray`` chunks."
   ]
  },
  {
   "cell_type": "code",
   "execution_count": null,
   "id": "a8a690c9",
   "metadata": {},
   "outputs": [],
   "source": [
    "plot('union')"
   ]
  }
 ],
 "metadata": {
  "jupytext": {
   "text_representation": {
    "extension": ".md",
    "format_name": "myst"
   }
  },
  "kernelspec": {
   "display_name": "Python 3",
   "language": "python",
   "name": "python3"
  },
  "source_map": [
   10,
   32,
   40,
   44,
   53,
   58,
   66,
   76,
   86,
   138,
   173,
   177
  ]
 },
 "nbformat": 4,
 "nbformat_minor": 5
}