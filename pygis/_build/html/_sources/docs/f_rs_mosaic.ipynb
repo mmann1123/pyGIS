{
 "cells": [
  {
   "cell_type": "markdown",
   "id": "c95f03c0",
   "metadata": {},
   "source": [
    "(f_rs_mosaic)=\n",
    "\n",
    "----------------\n",
    "\n",
    "```{admonition} Learning Objectives\n",
    "- Create mosaics of more than one multiband image\n",
    "- Find the intersection of two images\n",
    "- View the footprint of multiple image tiles\n",
    "\n",
    "```\n",
    "```{admonition} Review\n",
    "* [Opening Remotely Sensed Data](f_rs_io.md)\n",
    "* [Raster Operations](e_raster_op_intro.md)\n",
    "```\n",
    "----------------\n",
    "<!-- https://www.l3harrisgeospatial.com/docs/MosaicSeamless.html -->\n",
    "<!-- \n",
    "https://desktop.arcgis.com/en/arcmap/10.3/manage-data/raster-and-images/what-is-a-mosaic.htm -->\n",
    "\n",
    "# Handle Multiple Remotely Sensed Images\n",
    "Doing analysis over larger areas often requires the use of image mosaics (combining two or more images). Luckily for us geowombat makes this process relatively easy. \n",
    "\n",
    "## Union (Mosaic) of Remotely Sensed Image\n",
    "As an example let's plot the union with `mosaic=True` of two images taken on the same day, for the overlapping portions we will use the mean pixel value by setting `overlap='mean'`, but blue band only. Alternatively we could use one of 'mean', 'min', or 'max'.\n",
    "\n",
    "Note we rename the band name with `band_names=['blue']`."
   ]
  },
  {
   "cell_type": "code",
   "execution_count": null,
   "id": "512e2780",
   "metadata": {},
   "outputs": [],
   "source": [
    "# Import GeoWombat\n",
    "import geowombat as gw\n",
    "\n",
    "# import plotting\n",
    "import matplotlib.pyplot as plt\n",
    "import matplotlib.patheffects as pe\n",
    "\n",
    "# load data\n",
    "from geowombat.data import l8_224077_20200518_B2, l8_224078_20200518_B2\n",
    "\n",
    "fig, ax = plt.subplots(dpi=200)\n",
    "filenames = [l8_224077_20200518_B2, l8_224078_20200518_B2]\n",
    "with gw.open(filenames,\n",
    "                band_names=['blue'],\n",
    "                mosaic=True,\n",
    "                overlap = 'mean',\n",
    "                bounds_by='union') as src:\n",
    "    src.where(src != 0).sel(band='blue').plot.imshow(robust=True, ax=ax)\n",
    "plt.tight_layout(pad=1)"
   ]
  },
  {
   "cell_type": "markdown",
   "id": "f4a031d3",
   "metadata": {},
   "source": [
    "## Intersection of Remotely Sensed Image\n",
    "Same idea with the intersection, using `bounds_by='intersection'`, we still need to mosaic the two images `mosaic=True`."
   ]
  },
  {
   "cell_type": "code",
   "execution_count": null,
   "id": "a7172b8c",
   "metadata": {},
   "outputs": [],
   "source": [
    "fig, ax = plt.subplots(dpi=200)\n",
    "filenames = [l8_224077_20200518_B2, l8_224078_20200518_B2]\n",
    "with gw.open(filenames,\n",
    "                band_names=['blue'],\n",
    "                mosaic=True,\n",
    "                overlap='mean',\n",
    "                bounds_by='intersection') as src:\n",
    "    src.where(src != 0).sel(band='blue').plot.imshow(robust=True, ax=ax)\n",
    "plt.tight_layout(pad=1)"
   ]
  },
  {
   "cell_type": "markdown",
   "id": "ecddf3f4",
   "metadata": {},
   "source": [
    "## View Image Tile Footprints\n",
    "Here we set up a more complicated plotting function for near IR 'nir'.  Note the use of `footprint_grid`."
   ]
  },
  {
   "cell_type": "code",
   "execution_count": null,
   "id": "b781287b",
   "metadata": {},
   "outputs": [],
   "source": [
    "from geowombat.data import l8_224077_20200518_B4, l8_224078_20200518_B4\n",
    "\n",
    "def plot(bounds_by, ref_image=None, cmap='viridis'):\n",
    "    fig, ax = plt.subplots(dpi=200)\n",
    "    with gw.config.update(ref_image=ref_image):\n",
    "        with gw.open([l8_224077_20200518_B4, l8_224078_20200518_B4],\n",
    "                        band_names=['nir'],\n",
    "                        chunks=256,\n",
    "                        mosaic=True,\n",
    "                        bounds_by=bounds_by) as srca:\n",
    "            # Plot the NIR band\n",
    "            srca.where(srca != 0).sel(band='nir').plot.imshow(robust=True, cbar_kwargs={'label': 'DN'}, ax=ax)\n",
    "            # Plot the image chunks\n",
    "            srca.gw.chunk_grid.plot(color='none', edgecolor='k', ls='-', lw=0.5, ax=ax)\n",
    "            # Plot the image footprints\n",
    "            srca.gw.footprint_grid.plot(color='none', edgecolor='orange', lw=2, ax=ax)\n",
    "            # Label the image footprints\n",
    "            for row in srca.gw.footprint_grid.itertuples(index=False):\n",
    "                ax.scatter(row.geometry.centroid.x, row.geometry.centroid.y,\n",
    "                            s=50, color='red', edgecolor='white', lw=1)\n",
    "                ax.annotate(row.footprint.replace('.TIF', ''),\n",
    "                            (row.geometry.centroid.x, row.geometry.centroid.y),\n",
    "                            color='black',\n",
    "                            size=8,\n",
    "                            ha='center',\n",
    "                            va='center',\n",
    "                            path_effects=[pe.withStroke(linewidth=1, foreground='white')])\n",
    "            # Set the display bounds\n",
    "            ax.set_ylim(srca.gw.footprint_grid.total_bounds[1]-10, srca.gw.footprint_grid.total_bounds[3]+10)\n",
    "            ax.set_xlim(srca.gw.footprint_grid.total_bounds[0]-10, srca.gw.footprint_grid.total_bounds[2]+10)\n",
    "    title = f'Image {bounds_by}' if bounds_by else str(Path(ref_image).name.split('.')[0]) + ' as reference'\n",
    "    size = 12 if bounds_by else 8\n",
    "    ax.set_title(title, size=size)\n",
    "    plt.tight_layout(pad=1)"
   ]
  },
  {
   "cell_type": "markdown",
   "id": "e0765068",
   "metadata": {},
   "source": [
    "The two plots below illustrate how two images can be mosaicked. The orange grids highlight the image footprints while the black grids illustrate the ``DataArray`` chunks."
   ]
  },
  {
   "cell_type": "code",
   "execution_count": null,
   "id": "5aca690c",
   "metadata": {},
   "outputs": [],
   "source": [
    "plot('union')"
   ]
  }
 ],
 "metadata": {
  "jupytext": {
   "text_representation": {
    "extension": ".md",
    "format_name": "myst"
   }
  },
  "kernelspec": {
   "display_name": "Python 3",
   "language": "python",
   "name": "python3"
  },
  "source_map": [
   10,
   39,
   59,
   64,
   74,
   79,
   114,
   118
  ]
 },
 "nbformat": 4,
 "nbformat_minor": 5
}