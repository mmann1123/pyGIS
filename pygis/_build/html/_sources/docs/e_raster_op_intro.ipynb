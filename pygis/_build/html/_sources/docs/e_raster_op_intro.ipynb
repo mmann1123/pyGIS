{
 "cells": [
  {
   "cell_type": "markdown",
   "id": "86e4e805",
   "metadata": {},
   "source": [
    "(e_raster_op_intro)=\n",
    "\n",
    "# Raster Operations\n",
    " \n",
    "In this section we will learn how to:\n",
    "\n",
    "```{tableofcontents}\n",
    "```\n",
    "\n",
    "\n",
    "```{toctree}\n",
    ":hidden:\n",
    ":titlesonly:\n",
    "\n",
    "\n",
    "e_raster_reproject\n",
    "```"
   ]
  }
 ],
 "metadata": {
  "html_meta": {
   "description lang=en": "This chapter walks you through all the basics operations you will need to do geospatial modeling with raster data. This includes everything from reprojection to cropping and extracting pixel values to points or polygons",
   "description lang=es": "Este capítulo lo guía a través de todas las operaciones básicas que necesitará para realizar un modelado geoespacial con datos ráster. Esto incluye todo, desde la reproyección hasta el recorte y la extracción de valores de píxeles hasta puntos o polígonos.",
   "description lang=fr": "Ce chapitre vous guide à travers toutes les opérations de base dont vous aurez besoin pour effectuer une modélisation géospatiale avec des données raster. Cela comprend tout, de la reprojection au recadrage et à l'extraction des valeurs de pixels en passant par les points ou les polygones",
   "keywords": "geospatial, raster, clip, extract, resample, reproject, band math, reading, writing",
   "property=og:locale": "en_US"
  },
  "jupytext": {
   "text_representation": {
    "extension": ".md",
    "format_name": "myst"
   }
  },
  "kernelspec": {
   "display_name": "Python 3",
   "language": "python",
   "name": "python3"
  },
  "source_map": [
   16
  ]
 },
 "nbformat": 4,
 "nbformat_minor": 5
}