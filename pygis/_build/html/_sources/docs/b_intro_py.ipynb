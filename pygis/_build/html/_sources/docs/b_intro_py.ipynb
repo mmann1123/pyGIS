{
 "cells": [
  {
   "cell_type": "markdown",
   "id": "41947156",
   "metadata": {},
   "source": [
    "(b_intro_py)=\n",
    "\n",
    "# Welcome - Let's get started\n",
    "\n",
    "This section will answer a few basic questions about python:\n",
    "- What is python?\n",
    "- How do we use it?\n",
    "- How can we extend its functionality?"
   ]
  }
 ],
 "metadata": {
  "jupytext": {
   "text_representation": {
    "extension": ".md",
    "format_name": "myst"
   }
  },
  "kernelspec": {
   "display_name": "Python 3",
   "language": "python",
   "name": "python3"
  },
  "source_map": [
   10
  ]
 },
 "nbformat": 4,
 "nbformat_minor": 5
}