{
 "cells": [
  {
   "cell_type": "markdown",
   "id": "04bdd82f",
   "metadata": {},
   "source": [
    "(e_raster_reproject)=\n",
    "\n",
    "----------------\n",
    "\n",
    "```{admonition} Learning Objectives\n",
    "- Reproject a raster with rasterio\n",
    "- Reproject a raster with geowombat\n",
    "\n",
    "```\n",
    "```{admonition} Review\n",
    "* [Affine transformation](d_affine.md)\n",
    "* [Raster Coordinate Reference Systems](d_raster_crs_intro.md)\n",
    "```\n",
    "----------------\n",
    "\n",
    "# Reproject Rasters\n",
    "\n",
    "\n",
    "\n",
    "## Reprojecting a Raster with Geowombat\n",
    "Far and away the easiest way to handle raster data is by using [geowombat](https://geowombat.readthedocs.io/en/latest/index.html). Here's an example of quickly and easily reprojecting a three band landsat image, and writing it to disk.\n",
    "\n",
    "In order to reproject on the fly we are going to open the raster using `gw.config.update()`.  The configuration manager allows easy control over opened raster dimensions, alignment, and transformations."
   ]
  },
  {
   "cell_type": "code",
   "execution_count": null,
   "id": "79fac555",
   "metadata": {
    "tags": [
     "hide-output"
    ]
   },
   "outputs": [],
   "source": [
    "import geowombat as gw\n",
    "\n",
    "proj4 = \"+proj=aea +lat_1=20 +lat_2=60 +lat_0=40 +lon_0=-96 +x_0=0 +y_0=0 +datum=NAD83 +units=m +no_defs\"\n",
    "image = \"../data/LC08_L1TP_224078_20200518_20200518_01_RT.TIF\"\n",
    "\n",
    "with gw.config.update(ref_crs=proj4):\n",
    "    with gw.open(image, resampling=\"nearest\") as src:\n",
    "    \n",
    "        src.gw.to_raster(\n",
    "            \"../temp/LC08_20200518_aea.tif\",\n",
    "            verbose=0,\n",
    "            n_workers=4,  # number of process workers \n",
    "            n_threads=2,  # number of thread workers ``dask.compute``\n",
    "            overwrite=True,\n",
    "        ) "
   ]
  },
  {
   "cell_type": "markdown",
   "id": "0d2b5757",
   "metadata": {},
   "source": [
    "Let's take a look, remember from earlier that this image is stored as green, blue, red (rather than red, green, blue), so we will use `.sel(band=[3,2,1])` to put them back in the right order."
   ]
  },
  {
   "cell_type": "code",
   "execution_count": null,
   "id": "955a81e9",
   "metadata": {},
   "outputs": [],
   "source": [
    "import matplotlib.pyplot as plt\n",
    "\n",
    "fig, ax = plt.subplots(dpi=200)\n",
    "\n",
    "image = \"../temp/LC08_20200518_aea.tif\"\n",
    "with gw.open(image) as src:\n",
    "    src.where(src != 0).sel(band=[3, 2, 1]).gw.imshow(robust=True, ax=ax)\n",
    "    plt.tight_layout(pad=1)\n"
   ]
  },
  {
   "cell_type": "markdown",
   "id": "7cb418fb",
   "metadata": {},
   "source": [
    "Too easy? Want something more complex? Try the same thing with Rasterio. Yes, there will be a little matrix algebra. \n",
    "\n",
    "## Reprojecting a Raster with Rasterio \n",
    "How do we reproject a raster? Before we get into it, we need to talk some more... about `calculate_default_transform`. `calculate_default_transform` allows us to generate the transform matrix required for the new reprojected raster based on the characteristics of the original and the desired output CRS. Note that the `source` (src) is the original input raster, and the `destination` (dst) is the outputed reprojected raster. \n",
    "\n",
    "First, remember that the transform matrix takes the following form:\n",
    "\n",
    "$$\n",
    "    \\mbox{Transform} =  \\begin{bmatrix} xres & 0 & \\Delta x \\\\ 0 & yres & \\Delta y \\\\ 0 & 0 & 1 \\end{bmatrix} \n",
    "$$\n",
    "\n",
    "Now let's calculate the tranform matrix for the destination raster:"
   ]
  },
  {
   "cell_type": "code",
   "execution_count": null,
   "id": "6c321ab0",
   "metadata": {},
   "outputs": [],
   "source": [
    "import numpy as np\n",
    "import rasterio\n",
    "from rasterio.warp import reproject, Resampling, calculate_default_transform\n",
    "\n",
    "dst_crs = \"EPSG:3857\"  # web mercator(ie google maps)\n",
    "\n",
    "with rasterio.open(\"../data/LC08_L1TP_224078_20200518_20200518_01_RT.TIF\") as src:\n",
    "\n",
    "    # transform for input raster\n",
    "    src_transform = src.transform\n",
    "\n",
    "    # calculate the transform matrix for the output\n",
    "    dst_transform, width, height = calculate_default_transform(\n",
    "        src.crs,    # source CRS\n",
    "        dst_crs,    # destination CRS\n",
    "        src.width,    # column count\n",
    "        src.height,  # row count\n",
    "        *src.bounds,  # unpacks outer boundaries (left, bottom, right, top)\n",
    "    )\n",
    "\n",
    "print(\"Source Transform:\\n\",src_transform,'\\n')\n",
    "print(\"Destination Transform:\\n\", dst_transform)"
   ]
  },
  {
   "cell_type": "markdown",
   "id": "2233ac8e",
   "metadata": {},
   "source": [
    "Notice that in order to keep the same number of rows and columns that the resolution of the destination raster increased from 30 meters to 33.24 meters. Also the coordinates of the upper left hand corner have shifted (check $\\Delta x, \\Delta x$).\n",
    "\n",
    "Ok finally!"
   ]
  },
  {
   "cell_type": "code",
   "execution_count": null,
   "id": "9e92d15a",
   "metadata": {},
   "outputs": [],
   "source": [
    "dst_crs = \"EPSG:3857\"  # web mercator(ie google maps)\n",
    "\n",
    "with rasterio.open(\"../data/LC08_L1TP_224078_20200518_20200518_01_RT.TIF\") as src:\n",
    "    src_transform = src.transform\n",
    "\n",
    "    # calculate the transform matrix for the output\n",
    "    dst_transform, width, height = calculate_default_transform(\n",
    "        src.crs,\n",
    "        dst_crs,\n",
    "        src.width,\n",
    "        src.height,\n",
    "        *src.bounds,  # unpacks outer boundaries (left, bottom, right, top)\n",
    "    )\n",
    "\n",
    "    # set properties for output\n",
    "    dst_kwargs = src.meta.copy()\n",
    "    dst_kwargs.update(\n",
    "        {\n",
    "            \"crs\": dst_crs,\n",
    "            \"transform\": dst_transform,\n",
    "            \"width\": width,\n",
    "            \"height\": height,\n",
    "            \"nodata\": 0,  # replace 0 with np.nan\n",
    "        }\n",
    "    )\n",
    "\n",
    "    with rasterio.open(\"../temp/LC08_20200518_webMC.tif\", \"w\", **dst_kwargs) as dst:\n",
    "        for i in range(1, src.count + 1):\n",
    "            reproject(\n",
    "                source=rasterio.band(src, i),\n",
    "                destination=rasterio.band(dst, i),\n",
    "                src_transform=src.transform,\n",
    "                src_crs=src.crs,\n",
    "                dst_transform=dst_transform,\n",
    "                dst_crs=dst_crs,\n",
    "                resampling=Resampling.nearest,\n",
    "            )"
   ]
  },
  {
   "cell_type": "markdown",
   "id": "8edb82c4",
   "metadata": {},
   "source": [
    "```{figure} ../_static/d_crs/d_reproj_image.png\n",
    ":name: Reprojected Landsat Image\n",
    ":width: 400px\n",
    "Reprojected Landsat Image\n",
    "```"
   ]
  }
 ],
 "metadata": {
  "html_meta": {
   "description lang=en": "Learn how to reproject single and multi-band rasters using rasterio and geowombat. We demonstrate these using LandSat imagery as examples.",
   "description lang=es": "Aprenda a reproyectar rásteres de una o varias bandas mediante rasterio y geowombat. Demostramos esto usando imágenes de LandSat como ejemplos.",
   "description lang=fr": "Apprenez à reprojeter des rasters mono et multibande à l'aide de rasterio et de geowombat. Nous les démontrons en utilisant les images LandSat comme exemples.",
   "keywords": "geospatial, raster, reproject, crs, landsat",
   "property=og:locale": "en_US"
  },
  "jupytext": {
   "text_representation": {
    "extension": ".md",
    "format_name": "myst"
   }
  },
  "kernelspec": {
   "display_name": "Python 3",
   "language": "python",
   "name": "python3"
  },
  "source_map": [
   16,
   42,
   59,
   63,
   73,
   88,
   111,
   117,
   155
  ]
 },
 "nbformat": 4,
 "nbformat_minor": 5
}