{
 "cells": [
  {
   "cell_type": "markdown",
   "id": "a45d65e7",
   "metadata": {},
   "source": [
    "# Learn More\n",
    "\n",
    "We're about ready to wrap up this brief course on Python for scientific\n",
    "computing.\n",
    "\n",
    "In this last lecture we give some pointers to the major scientific libraries\n",
    "and suggestions for further reading.\n",
    "\n",
    "\n",
    "## NumPy\n",
    "\n",
    "Fundamental matrix and array processing capabilities are provided by the\n",
    "excellent [NumPy](http://www.numpy.org/) library.\n",
    "\n",
    "For example, let\\'s build some arrays"
   ]
  },
  {
   "cell_type": "code",
   "execution_count": null,
   "id": "8840a868",
   "metadata": {},
   "outputs": [],
   "source": [
    "import numpy as np                     # Load the library\n",
    "\n",
    "a = np.linspace(-np.pi, np.pi, 100)    # Create even grid from -π to π\n",
    "b = np.cos(a)                          # Apply cosine to each element of a\n",
    "c = np.sin(a)                          # Apply sin to each element of a"
   ]
  },
  {
   "cell_type": "markdown",
   "id": "06cb6c82",
   "metadata": {},
   "source": [
    "Now let\\'s take the inner product"
   ]
  },
  {
   "cell_type": "code",
   "execution_count": null,
   "id": "340d8191",
   "metadata": {},
   "outputs": [],
   "source": [
    "b @ c"
   ]
  },
  {
   "cell_type": "markdown",
   "id": "2bf0f9ab",
   "metadata": {},
   "source": [
    "The number you see here might vary slightly due to floating point arithmetic\n",
    "but it\\'s essentially zero.\n",
    "\n",
    "As with other standard NumPy operations, this inner product calls into highly\n",
    "optimized machine code.\n",
    "\n",
    "It is as efficient as carefully hand-coded FORTRAN or C.\n",
    "\n",
    "\n",
    "\n",
    "\n",
    "## SciPy\n",
    "\n",
    "The [SciPy](http://www.scipy.org) library is built on top of NumPy and\n",
    "provides additional functionality.\n",
    "\n",
    "(tuple_unpacking_example)=\n",
    "For example, let\\'s calculate $\\int_{-2}^2 \\phi(z) dz$ where $\\phi$ is\n",
    "the standard normal density."
   ]
  },
  {
   "cell_type": "code",
   "execution_count": null,
   "id": "dfe6c4b5",
   "metadata": {},
   "outputs": [],
   "source": [
    "from scipy.stats import norm\n",
    "from scipy.integrate import quad\n",
    "\n",
    "ϕ = norm()\n",
    "value, error = quad(ϕ.pdf, -2, 2)  # Integrate using Gaussian quadrature\n",
    "value"
   ]
  },
  {
   "cell_type": "markdown",
   "id": "b63807d1",
   "metadata": {},
   "source": [
    "SciPy includes many of the standard routines used in\n",
    "\n",
    "-   [linear algebra](http://docs.scipy.org/doc/scipy/reference/linalg.html)\n",
    "-   [integration](http://docs.scipy.org/doc/scipy/reference/integrate.html)\n",
    "-   [interpolation](http://docs.scipy.org/doc/scipy/reference/interpolate.html)\n",
    "-   [optimization](http://docs.scipy.org/doc/scipy/reference/optimize.html)\n",
    "-   [distributions and random number generation](http://docs.scipy.org/doc/scipy/reference/stats.html)\n",
    "-   [signal processing](http://docs.scipy.org/doc/scipy/reference/signal.html)\n",
    "\n",
    "See them all [here](http://docs.scipy.org/doc/scipy/reference/index.html).\n",
    "\n",
    "## Graphics\n",
    "\n",
    "The most popular and comprehensive Python library for creating figures\n",
    "and graphs is [Matplotlib](http://matplotlib.org/), with functionality\n",
    "including\n",
    "\n",
    "-   plots, histograms, contour images, 3D graphs, bar charts etc.\n",
    "-   output in many formats (PDF, PNG, EPS, etc.)\n",
    "-   LaTeX integration\n",
    "\n",
    "Example 2D plot with embedded LaTeX annotations\n",
    "\n",
    "```{figure} /_static/lecture_specific/about_py/qs.png\n",
    ":scale: 55%\n",
    "```\n",
    "\n",
    "Example contour plot\n",
    "\n",
    "```{figure} /_static/lecture_specific/about_py/bn_density1.png\n",
    ":scale: 55%\n",
    "```\n",
    "\n",
    "Example 3D plot\n",
    "\n",
    "```{figure} /_static/lecture_specific/about_py/career_vf.png\n",
    ":scale: 80%\n",
    "```\n",
    "\n",
    "More examples can be found in the [Matplotlib thumbnail\n",
    "gallery](http://matplotlib.org/gallery.html).\n",
    "\n",
    "Other graphics libraries include\n",
    "\n",
    "-   [Plotly](https://plot.ly/python/)\n",
    "-   [Bokeh](http://bokeh.pydata.org/en/latest/)\n",
    "\n",
    "## Symbolic Algebra\n",
    "\n",
    "It\\'s useful to be able to manipulate symbolic expressions, as in\n",
    "Mathematica or Maple.\n",
    "\n",
    "The [SymPy](http://www.sympy.org/) library provides this functionality\n",
    "from within the Python shell."
   ]
  },
  {
   "cell_type": "code",
   "execution_count": null,
   "id": "f25812c2",
   "metadata": {},
   "outputs": [],
   "source": [
    "from sympy import Symbol\n",
    "\n",
    "x, y = Symbol('x'), Symbol('y')  # Treat 'x' and 'y' as algebraic symbols\n",
    "x + x + x + y"
   ]
  },
  {
   "cell_type": "markdown",
   "id": "3fea5a3a",
   "metadata": {},
   "source": [
    "We can manipulate expressions"
   ]
  },
  {
   "cell_type": "code",
   "execution_count": null,
   "id": "c2151ddb",
   "metadata": {},
   "outputs": [],
   "source": [
    "expression = (x + y)**2\n",
    "expression.expand()"
   ]
  },
  {
   "cell_type": "markdown",
   "id": "d2bc61ff",
   "metadata": {},
   "source": [
    "solve polynomials"
   ]
  },
  {
   "cell_type": "code",
   "execution_count": null,
   "id": "44142b26",
   "metadata": {},
   "outputs": [],
   "source": [
    "from sympy import solve\n",
    "\n",
    "solve(x**2 + x + 2)"
   ]
  },
  {
   "cell_type": "markdown",
   "id": "53c14328",
   "metadata": {},
   "source": [
    "and calculate limits, derivatives and integrals"
   ]
  },
  {
   "cell_type": "code",
   "execution_count": null,
   "id": "7f42ff08",
   "metadata": {},
   "outputs": [],
   "source": [
    "from sympy import limit, sin, diff\n",
    "\n",
    "limit(1 / x, x, 0)"
   ]
  },
  {
   "cell_type": "code",
   "execution_count": null,
   "id": "d3187cab",
   "metadata": {},
   "outputs": [],
   "source": [
    "limit(sin(x) / x, x, 0)"
   ]
  },
  {
   "cell_type": "code",
   "execution_count": null,
   "id": "fd29076a",
   "metadata": {},
   "outputs": [],
   "source": [
    "diff(sin(x), x)"
   ]
  },
  {
   "cell_type": "markdown",
   "id": "ddf6d25f",
   "metadata": {},
   "source": [
    "The beauty of importing this functionality into Python is that we are\n",
    "working within a fully fledged programming language.\n",
    "\n",
    "We can easily create tables of derivatives, generate LaTeX output, add\n",
    "that output to figures and so on.\n",
    "\n",
    "## Pandas\n",
    "\n",
    "One of the most popular libraries for working with data is\n",
    "[pandas](http://pandas.pydata.org/).\n",
    "\n",
    "Pandas is fast, efficient, flexible and well designed.\n",
    "\n",
    "Here\\'s a simple example, using some dummy data generated with Numpy\\'s\n",
    "excellent `random` functionality."
   ]
  },
  {
   "cell_type": "code",
   "execution_count": null,
   "id": "9be29169",
   "metadata": {},
   "outputs": [],
   "source": [
    "import pandas as pd\n",
    "np.random.seed(1234)\n",
    "\n",
    "data = np.random.randn(5, 2)  # 5x2 matrix of N(0, 1) random draws\n",
    "dates = pd.date_range('28/12/2010', periods=5)\n",
    "\n",
    "df = pd.DataFrame(data, columns=('price', 'weight'), index=dates)\n",
    "print(df)"
   ]
  },
  {
   "cell_type": "code",
   "execution_count": null,
   "id": "96ee565a",
   "metadata": {},
   "outputs": [],
   "source": [
    "df.mean()"
   ]
  },
  {
   "cell_type": "markdown",
   "id": "d6d39e8b",
   "metadata": {},
   "source": [
    "## Further Reading\n",
    "\n",
    "\n",
    "These lectures were originally taken from a longer and more complete lecture\n",
    "series on Python programming hosted by [QuantEcon](https://quantecon.org).\n",
    "\n",
    "The [full set of lectures](https://python-programming.quantecon.org/) might be\n",
    "useful as the next step of your study."
   ]
  }
 ],
 "metadata": {
  "jupytext": {
   "text_representation": {
    "extension": ".md",
    "format_name": "myst"
   }
  },
  "kernelspec": {
   "display_name": "Python 3",
   "language": "python",
   "name": "python3"
  },
  "source_map": [
   10,
   28,
   34,
   38,
   40,
   62,
   69,
   126,
   131,
   135,
   138,
   142,
   146,
   150,
   156,
   160,
   162,
   180,
   191,
   193
  ]
 },
 "nbformat": 4,
 "nbformat_minor": 5
}