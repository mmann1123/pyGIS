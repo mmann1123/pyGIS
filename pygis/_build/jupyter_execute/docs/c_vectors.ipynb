{
 "cells": [
  {
   "cell_type": "markdown",
   "id": "31dc8e71",
   "metadata": {},
   "source": [
    "(c_vectors)=\n",
    "\n",
    "---\n",
    "```{admonition} Learning Objectives\n",
    "* Understand the role of GeoPandas in manipulating spatial data in Python.\n",
    "* Learn how to create and use Geopandas GeoSeries and GeoDataFrame.\n",
    "* Visualize spatial vector data using basic plotting.\n",
    "```\n",
    "```{admonition} Review\n",
    "* [Fundamentals of Spatial Data Structures](c_features.md)\n",
    "```\n",
    "---\n",
    "\n",
    "# Working with Spatial Vector Data using GeoPandas \n",
    "\n",
    "Previously, we explored the fundamentals of spatial data structures [here](c_features.md). Now, we will delve deeper into the manipulation of spatial vector data, using the GeoPandas library. GeoPandas serves as an essential tool for working with geospatial data in Python, seamlessly blending the data manipulation capabilities of pandas with the geometric data analysis power of shapely. As a result, GeoPandas provides a high-level interface for intricate geospatial operations, effectively bypassing the need for a specialized spatial database like PostGIS.\n",
    "\n",
    "## Data Structures in GeoPandas\n",
    "\n",
    "GeoPandas introduces two primary data structures, namely, `GeoSeries` and `GeoDataFrame`. These structures are subclasses of the pandas Series and DataFrame respectively.\n",
    "\n",
    "### GeoSeries\n",
    "\n",
    "A `GeoSeries` is akin to a vector where each entry represents a set of geometric shapes corresponding to a single observation. This could be a single shape (like a single polygon), or it could involve multiple shapes that form one observation (for instance, the numerous islands that compose the State of Hawaii or a country like Indonesia).\n",
    "\n",
    "GeoPandas supports three basic types of geometric objects, all of which are shapely objects:\n",
    "\n",
    "* Points / Multi-Points\n",
    "* Lines / Multi-Lines\n",
    "* Polygons / Multi-Polygons\n",
    "\n",
    "Here are examples of each type:\n",
    "\n",
    "The first example creates a GeoSeries of Points. This might be used to represent individual locations on a map. For instance, you could use a Point for each location where a sample was collected, or to mark the location of cities or other points of interest."
   ]
  },
  {
   "cell_type": "code",
   "execution_count": 1,
   "id": "a0134050",
   "metadata": {},
   "outputs": [
    {
     "data": {
      "text/plain": [
       "0    POINT (1 1)\n",
       "1    POINT (2 2)\n",
       "2    POINT (3 3)\n",
       "dtype: geometry"
      ]
     },
     "execution_count": 1,
     "metadata": {},
     "output_type": "execute_result"
    }
   ],
   "source": [
    "# Point GeoSeries\n",
    "import geopandas\n",
    "from shapely.geometry import Point\n",
    "s = geopandas.GeoSeries([Point(1, 1), Point(2, 2), Point(3, 3)])\n",
    "s"
   ]
  },
  {
   "cell_type": "markdown",
   "id": "8393f11d",
   "metadata": {},
   "source": [
    "The next example creates a GeoSeries of Lines. Lines could be used to represent the path of a moving object, the route of a road or river, or the border between different regions. The example creates a single line that connects three points."
   ]
  },
  {
   "cell_type": "code",
   "execution_count": 2,
   "id": "b7324b35",
   "metadata": {},
   "outputs": [
    {
     "data": {
      "text/plain": [
       "0    LINESTRING (-77.03687 38.90719, -76.61219 39.2...\n",
       "dtype: geometry"
      ]
     },
     "execution_count": 2,
     "metadata": {},
     "output_type": "execute_result"
    }
   ],
   "source": [
    "# Line GeoSeries\n",
    "from shapely.geometry import LineString\n",
    "l = geopandas.GeoSeries([LineString([Point(-77.036873,38.907192), Point(-76.612190,39.290386,), Point(-77.408456,39.412006)])])\n",
    "l"
   ]
  },
  {
   "cell_type": "markdown",
   "id": "63c612a3",
   "metadata": {},
   "source": [
    "The last example creates a GeoSeries of Polygons. A Polygon might represent a bounded area, such as the outline of a lake, the footprint of a building, or the boundaries of a country. In this example, the polygon represents an area defined by three points (a triangle)."
   ]
  },
  {
   "cell_type": "code",
   "execution_count": 3,
   "id": "12eb9a5f",
   "metadata": {},
   "outputs": [
    {
     "data": {
      "text/plain": [
       "0    POLYGON ((-77.03687 38.90719, -76.61219 39.290...\n",
       "dtype: geometry"
      ]
     },
     "execution_count": 3,
     "metadata": {},
     "output_type": "execute_result"
    }
   ],
   "source": [
    "# Polygon GeoSeries\n",
    "from shapely.geometry import Polygon\n",
    "p = geopandas.GeoSeries([Polygon([Point(-77.036873,38.907192), Point(-76.612190,39.290386,), Point(-77.408456,39.412006)])])\n",
    "p"
   ]
  },
  {
   "cell_type": "markdown",
   "id": "57070fbb",
   "metadata": {},
   "source": [
    "While a `GeoSeries` can contain different types of geometric objects, not all operations will be possible if the GeoSeries is mixed. Certain methods require all objects in the GeoSeries to be of the same geometric type.\n",
    "\n",
    "### GeoDataFrame\n",
    "\n",
    "A `GeoDataFrame` is a table-like data structure that holds a `GeoSeries`. \n",
    "\n",
    "One `GeoSeries` column in a `GeoDataFrame` holds a special status and is referred to as the `GeoDataFrame’s` \"geometry\". Any spatial method applied to a `GeoDataFrame`, or when a spatial attribute like the area is called, they will act on this \"geometry\" column. \n",
    "\n",
    "Regardless of its actual column name, the \"geometry\" column can be accessed via the geometry attribute (gdf.geometry), and the name of the geometry column can be retrieved by calling gdf.geometry.name.\n",
    "\n",
    "```{note}\n",
    "While a `GeoDataFrame` may contain multiple columns with geometric (shapely) objects, only one column can be considered the active geometry at a time. To switch the active geometry column, you can use the `GeoDataFrame.set_geometry()` method.\n",
    "```\n",
    "\n",
    "Here is an example of a `GeoDataFrame` using the 'naturalearth_lowres' dataset. This dataset represents a simplified global country boundary map, which can be useful for global scale visualizations:"
   ]
  },
  {
   "cell_type": "code",
   "execution_count": 4,
   "id": "5ad7221d",
   "metadata": {},
   "outputs": [
    {
     "data": {
      "text/html": [
       "<div>\n",
       "<style scoped>\n",
       "    .dataframe tbody tr th:only-of-type {\n",
       "        vertical-align: middle;\n",
       "    }\n",
       "\n",
       "    .dataframe tbody tr th {\n",
       "        vertical-align: top;\n",
       "    }\n",
       "\n",
       "    .dataframe thead th {\n",
       "        text-align: right;\n",
       "    }\n",
       "</style>\n",
       "<table border=\"1\" class=\"dataframe\">\n",
       "  <thead>\n",
       "    <tr style=\"text-align: right;\">\n",
       "      <th></th>\n",
       "      <th>scalerank</th>\n",
       "      <th>labelrank</th>\n",
       "      <th>sovereignt</th>\n",
       "      <th>sov_a3</th>\n",
       "      <th>adm0_dif</th>\n",
       "      <th>level</th>\n",
       "      <th>type</th>\n",
       "      <th>admin</th>\n",
       "      <th>adm0_a3</th>\n",
       "      <th>geou_dif</th>\n",
       "      <th>...</th>\n",
       "      <th>region_un</th>\n",
       "      <th>subregion</th>\n",
       "      <th>region_wb</th>\n",
       "      <th>name_len</th>\n",
       "      <th>long_len</th>\n",
       "      <th>abbrev_len</th>\n",
       "      <th>tiny</th>\n",
       "      <th>homepart</th>\n",
       "      <th>featureclass</th>\n",
       "      <th>geometry</th>\n",
       "    </tr>\n",
       "  </thead>\n",
       "  <tbody>\n",
       "    <tr>\n",
       "      <th>0</th>\n",
       "      <td>1</td>\n",
       "      <td>3</td>\n",
       "      <td>Afghanistan</td>\n",
       "      <td>AFG</td>\n",
       "      <td>0</td>\n",
       "      <td>2</td>\n",
       "      <td>Sovereign country</td>\n",
       "      <td>Afghanistan</td>\n",
       "      <td>AFG</td>\n",
       "      <td>0</td>\n",
       "      <td>...</td>\n",
       "      <td>Asia</td>\n",
       "      <td>Southern Asia</td>\n",
       "      <td>South Asia</td>\n",
       "      <td>11</td>\n",
       "      <td>11</td>\n",
       "      <td>4</td>\n",
       "      <td>-99</td>\n",
       "      <td>1</td>\n",
       "      <td>Admin-0 sovereignty</td>\n",
       "      <td>POLYGON ((74.89131 37.23164, 74.84023 37.22505...</td>\n",
       "    </tr>\n",
       "    <tr>\n",
       "      <th>1</th>\n",
       "      <td>1</td>\n",
       "      <td>3</td>\n",
       "      <td>Angola</td>\n",
       "      <td>AGO</td>\n",
       "      <td>0</td>\n",
       "      <td>2</td>\n",
       "      <td>Sovereign country</td>\n",
       "      <td>Angola</td>\n",
       "      <td>AGO</td>\n",
       "      <td>0</td>\n",
       "      <td>...</td>\n",
       "      <td>Africa</td>\n",
       "      <td>Middle Africa</td>\n",
       "      <td>Sub-Saharan Africa</td>\n",
       "      <td>6</td>\n",
       "      <td>6</td>\n",
       "      <td>4</td>\n",
       "      <td>-99</td>\n",
       "      <td>1</td>\n",
       "      <td>Admin-0 sovereignty</td>\n",
       "      <td>MULTIPOLYGON (((14.19082 -5.87598, 14.39863 -5...</td>\n",
       "    </tr>\n",
       "    <tr>\n",
       "      <th>2</th>\n",
       "      <td>1</td>\n",
       "      <td>6</td>\n",
       "      <td>Albania</td>\n",
       "      <td>ALB</td>\n",
       "      <td>0</td>\n",
       "      <td>2</td>\n",
       "      <td>Sovereign country</td>\n",
       "      <td>Albania</td>\n",
       "      <td>ALB</td>\n",
       "      <td>0</td>\n",
       "      <td>...</td>\n",
       "      <td>Europe</td>\n",
       "      <td>Southern Europe</td>\n",
       "      <td>Europe &amp; Central Asia</td>\n",
       "      <td>7</td>\n",
       "      <td>7</td>\n",
       "      <td>4</td>\n",
       "      <td>-99</td>\n",
       "      <td>1</td>\n",
       "      <td>Admin-0 sovereignty</td>\n",
       "      <td>POLYGON ((20.06396 42.54727, 20.10352 42.52466...</td>\n",
       "    </tr>\n",
       "    <tr>\n",
       "      <th>3</th>\n",
       "      <td>3</td>\n",
       "      <td>6</td>\n",
       "      <td>Andorra</td>\n",
       "      <td>AND</td>\n",
       "      <td>0</td>\n",
       "      <td>2</td>\n",
       "      <td>Sovereign country</td>\n",
       "      <td>Andorra</td>\n",
       "      <td>AND</td>\n",
       "      <td>0</td>\n",
       "      <td>...</td>\n",
       "      <td>Europe</td>\n",
       "      <td>Southern Europe</td>\n",
       "      <td>Europe &amp; Central Asia</td>\n",
       "      <td>7</td>\n",
       "      <td>7</td>\n",
       "      <td>4</td>\n",
       "      <td>5</td>\n",
       "      <td>1</td>\n",
       "      <td>Admin-0 sovereignty</td>\n",
       "      <td>POLYGON ((1.70605 42.50332, 1.67852 42.49668, ...</td>\n",
       "    </tr>\n",
       "    <tr>\n",
       "      <th>4</th>\n",
       "      <td>1</td>\n",
       "      <td>4</td>\n",
       "      <td>United Arab Emirates</td>\n",
       "      <td>ARE</td>\n",
       "      <td>0</td>\n",
       "      <td>2</td>\n",
       "      <td>Sovereign country</td>\n",
       "      <td>United Arab Emirates</td>\n",
       "      <td>ARE</td>\n",
       "      <td>0</td>\n",
       "      <td>...</td>\n",
       "      <td>Asia</td>\n",
       "      <td>Western Asia</td>\n",
       "      <td>Middle East &amp; North Africa</td>\n",
       "      <td>20</td>\n",
       "      <td>20</td>\n",
       "      <td>6</td>\n",
       "      <td>-99</td>\n",
       "      <td>1</td>\n",
       "      <td>Admin-0 sovereignty</td>\n",
       "      <td>MULTIPOLYGON (((53.92783 24.1772, 53.92812 24....</td>\n",
       "    </tr>\n",
       "  </tbody>\n",
       "</table>\n",
       "<p>5 rows × 64 columns</p>\n",
       "</div>"
      ],
      "text/plain": [
       "   scalerank  labelrank            sovereignt sov_a3  adm0_dif  level  \\\n",
       "0          1          3           Afghanistan    AFG         0      2   \n",
       "1          1          3                Angola    AGO         0      2   \n",
       "2          1          6               Albania    ALB         0      2   \n",
       "3          3          6               Andorra    AND         0      2   \n",
       "4          1          4  United Arab Emirates    ARE         0      2   \n",
       "\n",
       "                type                 admin adm0_a3  geou_dif  ... region_un  \\\n",
       "0  Sovereign country           Afghanistan     AFG         0  ...      Asia   \n",
       "1  Sovereign country                Angola     AGO         0  ...    Africa   \n",
       "2  Sovereign country               Albania     ALB         0  ...    Europe   \n",
       "3  Sovereign country               Andorra     AND         0  ...    Europe   \n",
       "4  Sovereign country  United Arab Emirates     ARE         0  ...      Asia   \n",
       "\n",
       "         subregion                   region_wb name_len long_len  abbrev_len  \\\n",
       "0    Southern Asia                  South Asia       11       11           4   \n",
       "1    Middle Africa          Sub-Saharan Africa        6        6           4   \n",
       "2  Southern Europe       Europe & Central Asia        7        7           4   \n",
       "3  Southern Europe       Europe & Central Asia        7        7           4   \n",
       "4     Western Asia  Middle East & North Africa       20       20           6   \n",
       "\n",
       "  tiny homepart         featureclass  \\\n",
       "0  -99        1  Admin-0 sovereignty   \n",
       "1  -99        1  Admin-0 sovereignty   \n",
       "2  -99        1  Admin-0 sovereignty   \n",
       "3    5        1  Admin-0 sovereignty   \n",
       "4  -99        1  Admin-0 sovereignty   \n",
       "\n",
       "                                            geometry  \n",
       "0  POLYGON ((74.89131 37.23164, 74.84023 37.22505...  \n",
       "1  MULTIPOLYGON (((14.19082 -5.87598, 14.39863 -5...  \n",
       "2  POLYGON ((20.06396 42.54727, 20.10352 42.52466...  \n",
       "3  POLYGON ((1.70605 42.50332, 1.67852 42.49668, ...  \n",
       "4  MULTIPOLYGON (((53.92783 24.1772, 53.92812 24....  \n",
       "\n",
       "[5 rows x 64 columns]"
      ]
     },
     "execution_count": 4,
     "metadata": {},
     "output_type": "execute_result"
    }
   ],
   "source": [
    "# Load a GeoDataFrame\n",
    "world = geopandas.read_file('https://d2ad6b4ur7yvpq.cloudfront.net/naturalearth-3.3.0/ne_50m_admin_0_sovereignty.geojson')\n",
    "\n",
    "# Preview the data\n",
    "world.head()"
   ]
  },
  {
   "cell_type": "markdown",
   "id": "9fbc0258",
   "metadata": {},
   "source": [
    "And now let's create a simple plot from this `GeoDataFrame`:"
   ]
  },
  {
   "cell_type": "code",
   "execution_count": 5,
   "id": "491dd11d",
   "metadata": {},
   "outputs": [
    {
     "data": {
      "text/plain": [
       "<Axes: >"
      ]
     },
     "execution_count": 5,
     "metadata": {},
     "output_type": "execute_result"
    },
    {
     "data": {
      "image/png": "[encoded data removed]",
      "text/plain": [
       "<Figure size 640x480 with 1 Axes>"
      ]
     },
     "metadata": {},
     "output_type": "display_data"
    }
   ],
   "source": [
    "# Plot the GeoDataFrame\n",
    "world.plot()"
   ]
  },
  {
   "cell_type": "markdown",
   "id": "f5d3403c",
   "metadata": {},
   "source": [
    "The resulting plot shows the geographic locations of all countries in the 'naturalearth_lowres' dataset."
   ]
  }
 ],
 "metadata": {
  "jupytext": {
   "text_representation": {
    "extension": ".md",
    "format_name": "myst"
   }
  },
  "kernelspec": {
   "display_name": "Python 3",
   "language": "python",
   "name": "python3"
  },
  "language_info": {
   "codemirror_mode": {
    "name": "ipython",
    "version": 3
   },
   "file_extension": ".py",
   "mimetype": "text/x-python",
   "name": "python",
   "nbconvert_exporter": "python",
   "pygments_lexer": "ipython3",
   "version": "3.11.6"
  },
  "myst": {
   "html_meta": {
    "description lang=en": "Learn to create new vector objects, assign projections or CRS, and write them to a shapefile or geojson. We also cover creating basic maps with points, lines and polygons.",
    "description lang=es": "Aprenda a crear nuevos objetos vectoriales, asigne proyecciones o CRS y escríbalos en un shapefile o geojson. También cubrimos la creación de mapas básicos con puntos, líneas y polígonos.",
    "description lang=fr": "Apprenez à créer de nouveaux objets vectoriels, à attribuer des projections ou à des CRS et à les écrire dans un fichier de formes ou un geojson. Nous couvrons également la création de cartes de base avec des points, des lignes et des polygones.",
    "keywords": " spatial, shapefile, geopandas",
    "property=og:locale": "en_US"
   }
  },
  "source_map": [
   17,
   54,
   60,
   64,
   69,
   73,
   78,
   96,
   102,
   106,
   109
  ]
 },
 "nbformat": 4,
 "nbformat_minor": 5
}