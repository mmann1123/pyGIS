{
 "cells": [
  {
   "cell_type": "markdown",
   "id": "ced0ef45",
   "metadata": {},
   "source": [
    "(c_vectors)=\n",
    "\n",
    "\n",
    "---------------\n",
    "```{admonition} Learning Objectives\n",
    "* Create a Geopandas GeoSeries and Dataframe\n",
    "* Plot a basic map \n",
    "```\n",
    "```{admonition} Review\n",
    "* [Data Structures](c_features.md)\n",
    "```\n",
    "--------------\n",
    "\n",
    "# Geospatial Vector Data \n",
    "\n",
    "## Intro to GeoPandas\n",
    "\n",
    "The goal of GeoPandas is to make working with geospatial data in python easier. It combines the capabilities of pandas and shapely, providing geospatial operations in pandas and a high-level interface to multiple geometries to shapely. GeoPandas enables you to easily do operations in python that would otherwise require a spatial database such as PostGIS.\n",
    "\n",
    "## Data Structures\n",
    "\n",
    "GeoPandas implements two main data structures, a `GeoSeries` and a `GeoDataFrame`. These are subclasses of pandas Series and DataFrame, respectively.\n",
    "\n",
    "### GeoSeries\n",
    "\n",
    "A `GeoSeries` is essentially a vector where each entry in the vector is a set of shapes corresponding to one observation. An entry may consist of only one shape (like a single polygon) or multiple shapes that are meant to be thought of as one observation (like the many polygons that make up the State of Hawaii or a country like Indonesia).\n",
    "\n",
    "geopandas has three basic classes of geometric objects (which are actually shapely objects):\n",
    "\n",
    "* Points / Multi-Points\n",
    "* Lines / Multi-Lines\n",
    "* Polygons / Multi-Polygons"
   ]
  },
  {
   "cell_type": "code",
   "execution_count": null,
   "id": "bf734a02",
   "metadata": {},
   "outputs": [],
   "source": [
    "import geopandas\n",
    "from shapely.geometry import Point\n",
    "s = geopandas.GeoSeries([Point(1, 1), Point(2, 2), Point(3, 3)])\n",
    "s"
   ]
  },
  {
   "cell_type": "code",
   "execution_count": null,
   "id": "9cee46cb",
   "metadata": {},
   "outputs": [],
   "source": [
    "from shapely.geometry import LineString\n",
    "l= geopandas.GeoSeries([LineString([Point(-77.036873,38.907192), Point(-76.612190,39.290386,), Point(-77.408456,39.412006)])])\n",
    "l"
   ]
  },
  {
   "cell_type": "code",
   "execution_count": null,
   "id": "9cbca150",
   "metadata": {},
   "outputs": [],
   "source": [
    "from shapely.geometry import Polygon\n",
    "p= geopandas.GeoSeries([Polygon([Point(-77.036873,38.907192), Point(-76.612190,39.290386,), Point(-77.408456,39.412006)])])\n",
    "p"
   ]
  },
  {
   "cell_type": "markdown",
   "id": "0a9eafd9",
   "metadata": {},
   "source": [
    "Note that all entries in a `GeoSeries` need not be of the same geometric type, although certain export operations will fail if this is not the case.\n",
    "\n",
    "### GeoDataFrame\n",
    "A `GeoDataFrame` is a tabular data structure that contains a `GeoSeries`.\n",
    "\n",
    "The most important property of a `GeoDataFrame` is that it always has one `GeoSeries` column that holds a special status. This `GeoSeries` is referred to as the `GeoDataFrame’s` “geometry”. When a spatial method is applied to a `GeoDataFrame` (or a spatial attribute like area is called), this commands will always act on the “geometry” column.\n",
    "\n",
    "The “geometry” column – no matter its name – can be accessed through the geometry attribute (gdf.geometry), and the name of the geometry column can be found by typing gdf.geometry.name.\n",
    "\n",
    "```{note}\n",
    "A `GeoDataFrame` may also contain other columns with geometrical (shapely) objects, but only one column can be the active geometry at a time. To change which column is the active geometry column, use the `GeoDataFrame.set_geometry()` method.\n",
    "```\n",
    "\n",
    "An example using the worlds `GeoDataFrame`:"
   ]
  },
  {
   "cell_type": "code",
   "execution_count": null,
   "id": "54340be9",
   "metadata": {},
   "outputs": [],
   "source": [
    "world = geopandas.read_file(geopandas.datasets.get_path('naturalearth_lowres'))\n",
    "world.head()"
   ]
  },
  {
   "cell_type": "code",
   "execution_count": null,
   "id": "1cd6062c",
   "metadata": {},
   "outputs": [],
   "source": [
    "world.plot()"
   ]
  }
 ],
 "metadata": {
  "html_meta": {
   "description lang=en": "Learn to create new vector objects, assign projections or CRS, and write them to a shapefile or geojson. We also cover creating basic maps with points, lines and polygons.",
   "description lang=es": "Aprenda a crear nuevos objetos vectoriales, asigne proyecciones o CRS y escríbalos en un shapefile o geojson. También cubrimos la creación de mapas básicos con puntos, líneas y polígonos.",
   "description lang=fr": "Apprenez à créer de nouveaux objets vectoriels, à attribuer des projections ou à des CRS et à les écrire dans un fichier de formes ou un geojson. Nous couvrons également la création de cartes de base avec des points, des lignes et des polygones.",
   "keywords": " geospatial, shapefile, geopandas",
   "property=og:locale": "en_US"
  },
  "jupytext": {
   "text_representation": {
    "extension": ".md",
    "format_name": "myst"
   }
  },
  "kernelspec": {
   "display_name": "Python 3",
   "language": "python",
   "name": "python3"
  },
  "source_map": [
   16,
   51,
   57,
   62,
   66,
   83,
   88
  ]
 },
 "nbformat": 4,
 "nbformat_minor": 5
}