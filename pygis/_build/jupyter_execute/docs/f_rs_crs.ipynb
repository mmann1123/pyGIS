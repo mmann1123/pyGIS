{
 "cells": [
  {
   "cell_type": "markdown",
   "id": "621c4b5f",
   "metadata": {},
   "source": [
    "(f_rs_crs)=\n",
    "\n",
    "\n",
    "----------------\n",
    "\n",
    "```{admonition} Learning Objectives\n",
    "- Reproject remotely sensed data (change CRS)\n",
    "- Reproject on-the-fly\n",
    "- Understand resampling options\n",
    "```\n",
    "```{admonition} Review\n",
    "* [What is a CRS](d_crs_what_is_it.md)\n",
    "* [Understanding CRS codes](d_understand_crs_codes.md)\n",
    "* [Raster CRS](d_raster_crs_intro.md)\n",
    "```\n",
    "----------------\n",
    "\n",
    "\n",
    "# Remote Sensing Coordinate Reference Systems\n",
    "\n",
    "Image projections can be transformed in GeoWombat using the configuration manager (see [Config Manager](f_rs_config.md)). With the configuration manager, the CRS is transformed using [rasterio CRS](https://rasterio.readthedocs.io/en/latest/api/rasterio.crs.html) and [virtual warping](https://rasterio.readthedocs.io/en/latest/topics/virtual-warping.html). For references, see [Spatial Reference](https://spatialreference.org/) and [epsg.io](http://epsg.io/).\n",
    "\n",
    "## View Image Coordinate Reference System & Properties\n",
    "In the following we will print out the properties relevant to CRS for the red, green blue image. The CRS can be accessed from the [xarray.DataArray](http://xarray.pydata.org/en/stable/generated/xarray.DataArray.html) attributes."
   ]
  },
  {
   "cell_type": "code",
   "execution_count": null,
   "id": "bfe1fa2a",
   "metadata": {},
   "outputs": [],
   "source": [
    "import geowombat as gw\n",
    "from geowombat.data import rgbn\n",
    "\n",
    "with gw.open(rgbn) as src:\n",
    "    print(src.transform)\n",
    "    print(src.gw.transform)\n",
    "    print(src.crs)\n",
    "    print(src.resampling)\n",
    "    print(src.res)\n",
    "    print(src.gw.cellx, src.gw.celly)"
   ]
  },
  {
   "cell_type": "markdown",
   "id": "8309cbb1",
   "metadata": {},
   "source": [
    "## Transforming a CRS On-The-Fly\n",
    "\n",
    "To transform the CRS, use the context manager. In this example, an proj4 code is used. See [understanding CRS codes](d_understand_crs_codes.md) for more details."
   ]
  },
  {
   "cell_type": "code",
   "execution_count": null,
   "id": "3c123629",
   "metadata": {},
   "outputs": [],
   "source": [
    "import matplotlib.pyplot as plt\n",
    "fig, ax = plt.subplots(dpi=200)\n",
    "\n",
    "proj4 = \"+proj=aea +lat_1=20 +lat_2=60 +lat_0=40 +lon_0=-96 +x_0=0 +y_0=0 +datum=NAD83 +units=m +no_defs\"\n",
    "\n",
    "with gw.config.update(ref_crs=proj4):\n",
    "    with gw.open(rgbn) as src:\n",
    "        print(src.transform)\n",
    "        print(src.crs)\n",
    "        print(src.resampling)\n",
    "        print(src.res)\n",
    "        src.where(src != 0).sel(band=[3,2,1]).plot.imshow(robust=True, ax=ax)\n",
    "\n",
    "plt.tight_layout(pad=1)"
   ]
  },
  {
   "cell_type": "markdown",
   "id": "ba6a1ef7",
   "metadata": {},
   "source": [
    "Other formats supported by rasterio, (e.g., PROJ4 strings) can be used."
   ]
  },
  {
   "cell_type": "code",
   "execution_count": null,
   "id": "567aa512",
   "metadata": {},
   "outputs": [],
   "source": [
    "with gw.config.update(ref_crs=proj4):\n",
    "    with gw.open(rgbn) as src:\n",
    "        print(src.transform)\n",
    "        print(src.crs)\n",
    "        print(src.resampling)\n",
    "        print(src.res)"
   ]
  },
  {
   "cell_type": "markdown",
   "id": "b14415ba",
   "metadata": {},
   "source": [
    "## Resampling the Cell Size\n",
    "\n",
    "The resampling algorithm can be specified in the `geowombat.open` function. Here, we use cubic convolution resampling to warp the data to EPSG code 31972 (a UTM projection)."
   ]
  },
  {
   "cell_type": "code",
   "execution_count": null,
   "id": "d082856d",
   "metadata": {},
   "outputs": [],
   "source": [
    "with gw.config.update(ref_crs=31972):\n",
    "    with gw.open(rgbn, resampling='cubic') as src:\n",
    "        print(src.transform)\n",
    "        print(src.crs)\n",
    "        print(src.resampling)\n",
    "        print(src.res)"
   ]
  },
  {
   "cell_type": "markdown",
   "id": "19e607b5",
   "metadata": {},
   "source": [
    "The transformed cell resolution can be added in the context manager. Here, we resample the data to 10m x 10m spatial resolution."
   ]
  },
  {
   "cell_type": "code",
   "execution_count": null,
   "id": "a0b91643",
   "metadata": {},
   "outputs": [],
   "source": [
    "with gw.config.update(ref_crs=31972, ref_res=(10, 10)):\n",
    "    with gw.open(rgbn, resampling='cubic') as src:\n",
    "        print(src.transform)\n",
    "        print(src.crs)\n",
    "        print(src.resampling)\n",
    "        print(src.res)"
   ]
  },
  {
   "cell_type": "markdown",
   "id": "c3824272",
   "metadata": {},
   "source": [
    "## Transformations Outside Context Manager\n",
    "\n",
    "To transform an `xarray.DataArray` outside of a configuration context, use the `geowombat.transform_crs` function."
   ]
  },
  {
   "cell_type": "code",
   "execution_count": null,
   "id": "899a413c",
   "metadata": {},
   "outputs": [],
   "source": [
    "with gw.open(rgbn) as src:\n",
    "    print(src.transform)\n",
    "    print(src.crs)\n",
    "    print(src.resampling)\n",
    "    print(src.res)\n",
    "    print('')\n",
    "    src_tr = src.gw.transform_crs(proj4, dst_res=(10, 10), resampling='bilinear')\n",
    "    print(src_tr.transform)\n",
    "    print(src_tr.crs)\n",
    "    print(src_tr.resampling)\n",
    "    print(src_tr.res)"
   ]
  },
  {
   "cell_type": "markdown",
   "id": "7e1f0a2c",
   "metadata": {},
   "source": [
    "For more help we can read through the docs a bit."
   ]
  },
  {
   "cell_type": "code",
   "execution_count": null,
   "id": "e2ab7b79",
   "metadata": {},
   "outputs": [],
   "source": [
    "with gw.open(rgbn, resampling='cubic') as src:\n",
    "    print(help(src.gw.transform_crs))"
   ]
  }
 ],
 "metadata": {
  "jupytext": {
   "text_representation": {
    "extension": ".md",
    "format_name": "myst"
   }
  },
  "kernelspec": {
   "display_name": "Python 3",
   "language": "python",
   "name": "python3"
  },
  "source_map": [
   10,
   37,
   48,
   55,
   70,
   74,
   81,
   87,
   94,
   98,
   105,
   111,
   123,
   126
  ]
 },
 "nbformat": 4,
 "nbformat_minor": 5
}