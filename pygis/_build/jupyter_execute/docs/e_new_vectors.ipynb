{
 "cells": [
  {
   "cell_type": "markdown",
   "id": "c3d05bc8",
   "metadata": {},
   "source": [
    "(e_new_vectors)=\n",
    " \n",
    "----------------\n",
    "\n",
    "```{admonition} Learning Objectives\n",
    "* Create new geospatial objects (points, lines, polygons)\n",
    "* Assign the correct projection or CRS\n",
    "* Create points from a table or csv of lat and lon \n",
    "```\n",
    "```{admonition} Review\n",
    "* [CRS what is it?](d_crs_what_is_it.md)\n",
    "* [Understand CRS codes](d_understand_crs_codes.md)\n",
    "* [Vector data structures](c_vectors.md)\n",
    "* [Find Lat Lon of your own points, lines, polygons](https://geojson.io/)\n",
    "```\n",
    "----------------\n",
    "\n",
    "\n",
    "# Creating Geospatial Vector Data\n",
    "We often find ourselves in a situation where we need to generate new spatial data from scratch, or need to better understand how our data is constructed. This lesson will walk you through some of the most common forms of data generation."
   ]
  },
  {
   "cell_type": "code",
   "execution_count": null,
   "id": "76c35d82",
   "metadata": {},
   "outputs": [],
   "source": [
    "# Import necessary modules first\n",
    "import pandas as pd\n",
    "import geopandas as gpd\n",
    "from shapely.geometry import Point, LineString, Polygon\n",
    "import fiona\n",
    "import matplotlib.pyplot as plt\n",
    "plt.style.use('bmh') # better for plotting geometries vs general plots."
   ]
  },
  {
   "cell_type": "markdown",
   "id": "e2d90922",
   "metadata": {},
   "source": [
    "## Creating GeoDataFrame Geometries\n",
    "A `GeoDataFrame` object is a `pandas.DataFrame` that has a column with geometry. An empty `GeoDataFrame` is just that, empty, essentially just like the pandas one. Let’s create an empty `GeoDataFrame` and create a new column called geometry that will contain our Shapely objects:"
   ]
  },
  {
   "cell_type": "code",
   "execution_count": null,
   "id": "344128ee",
   "metadata": {},
   "outputs": [],
   "source": [
    "# Create an empty geopandas GeoDataFrame\n",
    "newdata = gpd.GeoDataFrame()\n",
    "print(newdata)"
   ]
  },
  {
   "cell_type": "markdown",
   "id": "7c9b3dc8",
   "metadata": {},
   "source": [
    "In order to have a working spatial dataframe we need define a few things:\n",
    "\n",
    "### GeoDataFrame Components\n",
    "- data: a pandas.DataFrame, dictionary, or empty list [] containing an desired attribute data. Use [] if no data is \n",
    "- crs:  Coordinate Reference System of the geometry objects. Can be anything accepted by `pyproj.CRS.from_user_input()`, such as an authority string (eg “EPSG:4326”) or a WKT string.\n",
    "- geometry:  Column name in a DataFrame to use as geometry or Shapely point, line, or polygon object. \n",
    "\n",
    "Since geopandas takes advantage of Shapely geometric objects it is possible to create a Shapefile from a scratch by passing Shapely’s geometric objects into the GeoDataFrame. This is useful as it makes it easy to convert e.g. a text file that contains coordinates into a Shapefile.\n",
    "\n",
    " \n",
    "\n",
    "Now we have a geometry column in our GeoDataFrame but we don’t have any data yet.\n",
    "\n",
    "### Create Points from list of coordinates\n",
    "Creating geopandas point objects is a snap! All we need is a coordinate pair from which we generate a Shapely point geometry object, we then create a dictionary that holds that geometry and any attributes we want, and a coordinate reference system. In this case we use a [ESPG code](d_understand_crs_codes.md).   \n",
    "[Click here for a more detailed explanation of this process](e_points_the_long_way.md)"
   ]
  },
  {
   "cell_type": "code",
   "execution_count": null,
   "id": "9d76650a",
   "metadata": {},
   "outputs": [],
   "source": [
    "# Coordinates of the GW department of geography in Decimal Degrees\n",
    "coordinate = [-77.04639494419096,  38.89934963421794]\n",
    "\n",
    "# Create a Shapely polygon from the coordinate-tuple list\n",
    "point_coord = Point(coordinate)\n",
    "\n",
    "# create a dataframe with needed attributes and required geometry column\n",
    "df = {'GWU': ['Dept Geography'], 'geometry': [point_coord]}\n",
    "\n",
    "# Convert shapely object to a geodataframe \n",
    "point = gpd.GeoDataFrame(df, geometry='geometry', crs =\"EPSG:4326\")\n",
    "\n",
    "# Let's see what we have\n",
    "point.plot()"
   ]
  },
  {
   "cell_type": "markdown",
   "id": "b55e95b4",
   "metadata": {},
   "source": [
    "We can apply the same process to a set of points stored in a pandas dataframe."
   ]
  },
  {
   "cell_type": "code",
   "execution_count": null,
   "id": "ff4acb3b",
   "metadata": {},
   "outputs": [],
   "source": [
    "# list of attributes and coordinates\n",
    "df = pd.DataFrame(\n",
    "    {'City': ['Buenos Aires', 'Brasilia', 'Santiago', 'Bogota', 'Caracas'],\n",
    "     'Country': ['Argentina', 'Brazil', 'Chile', 'Colombia', 'Venezuela'],\n",
    "     'lat': [-34.58, -15.78, -33.45, 4.60, 10.48],\n",
    "     'lon': [-58.66, -47.91, -70.66, -74.08, -66.86]})\n",
    "\n",
    "# Create a Shapely points from the coordinate-tuple list\n",
    "ply_coord = [Point(x, y) for x, y in zip(df.lat, df.lon)]\n",
    "\n",
    "# Convert shapely object to a geodataframe with a crs\n",
    "poly = gpd.GeoDataFrame(df, geometry=ply_coord, crs =\"EPSG:4326\")\n",
    "\n",
    "# Let's see what we have\n",
    "poly.plot()"
   ]
  },
  {
   "cell_type": "markdown",
   "id": "6bf2dbe9",
   "metadata": {},
   "source": [
    "[adapted from geopandas](https://geopandas.org/gallery/create_geopandas_from_pandas.html)\n",
    "\n",
    "### Creating Points from csv of latitude and longitude (lat, lon)\n",
    "\n",
    "One of the most common data creation tasks is creating a shapefile from a list of points or a `.csv` file. Luckily getting this data into usable format is easy enough. \n",
    "\n",
    "First we have to create an example `.csv` dataset to work from:"
   ]
  },
  {
   "cell_type": "code",
   "execution_count": null,
   "id": "bbe1f654",
   "metadata": {},
   "outputs": [],
   "source": [
    "import pandas as pd\n",
    "# create an outline of Washington DC and write to csv\n",
    "path_to_csv = r'../temp/points.csv'\n",
    "points = {'Corner':['N','E','S','W'],\n",
    "          'lon': [-77.0412826538086, -77.11681365966797, -77.01896667480469, -77.0412826538086], \n",
    "          'lat': [38.99570671505043, 38.936713143230044, 38.807610542357594, 38.99570671505043]}\n",
    "points = pd.DataFrame.from_dict(points)\n",
    "points.to_csv(path_to_csv)              "
   ]
  },
  {
   "cell_type": "markdown",
   "id": "1d9e5d7e",
   "metadata": {},
   "source": [
    "To create a `geodataframe` from our data you simply need to read it back in, an specify the geometry column values using `points_from_xy` pointing it to the correct columns of `df`, namely `df.lon` anf `df.lat`."
   ]
  },
  {
   "cell_type": "code",
   "execution_count": null,
   "id": "2302703e",
   "metadata": {},
   "outputs": [],
   "source": [
    "# read the point data in \n",
    "df = pd.read_csv(path_to_csv)\n",
    "\n",
    "# Create a geodataframe from the data using and 'EPSG' code to assign WGS84 coordinate reference system\n",
    "points= gpd.GeoDataFrame(df, geometry=gpd.points_from_xy(x=df.lon, y=df.lat), crs = 'EPSG:4326')\n",
    "points"
   ]
  },
  {
   "cell_type": "markdown",
   "id": "0207b51a",
   "metadata": {},
   "source": [
    "In this case `points_from_xy()` was used to transform lat and lon into a list of `shapely.Point` objects. This then is used as the geometry for the GeoDataFrame. (`points_from_xy()` is simply an enhanced wrapper for `[Point(x, y) for x, y in zip(df.lon, df.lat)]`)\n",
    "\n",
    "```{tip}  \n",
    "- Although we say \"lat lon\" python uses \"lon lat\" instead, this follows the preference for using x,y for notation. \n",
    "- Typically, like the data above, these data are stored in WGS84 lat lon, but be sure to check this, another common format is UTM coordinates (look for values around 500,000 east to west and measured in meters)\n",
    "```\n",
    "\n",
    "### Creating Geospatial lines\n",
    "\n",
    "Following the examples above we can specify lines easily. In this case let's say we have lines tracking three people riding their bikes through town. We keep track of their unique id `ID`, their location `X,Y`, and their `Speed`, and read in the data below:"
   ]
  },
  {
   "cell_type": "code",
   "execution_count": null,
   "id": "63dd17ff",
   "metadata": {},
   "outputs": [],
   "source": [
    "from io import StringIO \n",
    "data = \"\"\"\n",
    "ID,X,Y,Speed\n",
    "1,  -87.789,  41.976,  16\n",
    "1,  -87.482,  41.677,  17\n",
    "2,  -87.739,  41.876,  16\n",
    "2,  -87.681,  41.798,  16\n",
    "2,  -87.599,  41.708,  16\n",
    "3,  -87.599,  41.908,  17\n",
    "3,  -87.598,  41.708,  17\n",
    "3,  -87.643,  41.675,  17\n",
    "\"\"\"\n",
    "# use StringIO to read in text chunk\n",
    "df = pd.read_table(StringIO(data), sep=',')"
   ]
  },
  {
   "cell_type": "markdown",
   "id": "e74a5815",
   "metadata": {},
   "source": [
    "Let's convert these to points and take a look. Notice that points are not a good replacement for lines in the case, we have three individuals, and they need to be treated separately."
   ]
  },
  {
   "cell_type": "code",
   "execution_count": null,
   "id": "94a56677",
   "metadata": {},
   "outputs": [],
   "source": [
    "#zip the coordinates into a point object and convert to a GeoData Frame\n",
    "points = [Point(xy) for xy in zip(df.X, df.Y)]\n",
    "geo_df = gpd.GeoDataFrame(df, geometry=points, crs = 'EPSG:4326')\n",
    "geo_df.plot()"
   ]
  },
  {
   "cell_type": "markdown",
   "id": "2dc828e3",
   "metadata": {},
   "source": [
    "Now let's tread these data as lines, we can take advantage of the column `ID` to `.groupby`. Luckily geopandas `.groupby` is consistent with the use in pandas. So here we `.groupby(['ID'])`, for each `ID` group we convert the values to a list, and store it in a Fiona `LineString` object."
   ]
  },
  {
   "cell_type": "code",
   "execution_count": null,
   "id": "4d3a3fef",
   "metadata": {},
   "outputs": [],
   "source": [
    "# treat each `ID` group of points as a line\n",
    "lines = geo_df.groupby(['ID'])['geometry'].apply(lambda x:  LineString(x.tolist()))\n",
    "\n",
    "# store as a GeodataFrame and add 'ID' as a column (currently stored as the 'index')\n",
    "lines = gpd.GeoDataFrame(lines, geometry='geometry', crs=\"EPSG:4326\") \n",
    "lines.reset_index(inplace=True)\n",
    "lines.plot(column='ID')"
   ]
  },
  {
   "cell_type": "markdown",
   "id": "d2eddfb0",
   "metadata": {},
   "source": [
    "Now we can see that each line is treated separately by `ID`, and plot them using `.plot(column='ID')`.\n",
    "\n",
    "\n",
    "### Creating Geospatial Polygons\n",
    "\n",
    "Creating a polyon in geopandas is very similiar to the other exercises. First we create a Fiona geometry object from our coordinates, add that to a dataframe with any attributes and then create a `GeoDataFrame` with an assigned coordinate reference system (CRS)."
   ]
  },
  {
   "cell_type": "code",
   "execution_count": null,
   "id": "a8a892f0",
   "metadata": {},
   "outputs": [],
   "source": [
    "# list of coordindate pairs\n",
    "coordinates = [[ -77.0412826538086, 38.99570671505043 ], [ -77.11681365966797, 38.936713143230044 ], [ -77.01896667480469, 38.807610542357594],\n",
    "               [-76.90910339355469,  38.892636142310295]]           \n",
    "\n",
    "# Create a Shapely polygon from the coordinate-tuple list\n",
    "ply_coord = Polygon(coordinates)\n",
    "\n",
    "# create a dictionary with needed attributes and required geometry column\n",
    "df = {'Attribute': ['name1'], 'geometry': ply_coord}\n",
    "\n",
    "# Convert shapely object to a geodataframe \n",
    "poly = gpd.GeoDataFrame(df, geometry='geometry', crs =\"EPSG:4326\")\n",
    "\n",
    "# Let's see what we have\n",
    "poly.plot()"
   ]
  },
  {
   "cell_type": "markdown",
   "id": "d0a7e3df",
   "metadata": {},
   "source": [
    "(e_points_the_long_way)=\n",
    "\n",
    "### Creating Geospatial Points (admittedly the long way)\n",
    "\n",
    "\n",
    "Since geopandas takes advantage of Shapely geometric objects it is possible to create a Shapefile from a scratch by passing Shapely’s geometric objects into the GeoDataFrame. This is useful as it makes it easy to convert e.g. a text file that contains coordinates into a Shapefile.\n",
    "\n",
    "Let’s create an empty `GeoDataFrame` and create a new column called geometry that will contain our Shapely objects:"
   ]
  },
  {
   "cell_type": "code",
   "execution_count": null,
   "id": "b0473e3f",
   "metadata": {},
   "outputs": [],
   "source": [
    "# Create an empty geopandas GeoDataFrame\n",
    "newdata = gpd.GeoDataFrame()\n",
    "# Create a new column called 'geometry' to the GeoDataFrame\n",
    "newdata['geometry'] = None\n",
    "\n",
    "print(newdata)"
   ]
  },
  {
   "cell_type": "markdown",
   "id": "97c34fef",
   "metadata": {},
   "source": [
    "Let’s create a Shapely Point representing the GWU Department of Geography that we can insert to our GeoDataFrame:"
   ]
  },
  {
   "cell_type": "code",
   "execution_count": null,
   "id": "5e29d0fa",
   "metadata": {},
   "outputs": [],
   "source": [
    "# Coordinates of the GW department of geography in Decimal Degrees\n",
    "coordinates = (-77.04639494419096,  38.89934963421794)\n",
    "\n",
    "# Create a Shapely polygon from the coordinate-tuple list\n",
    "point = Point(coordinates)\n",
    "\n",
    "# Let's see what we have\n",
    "point"
   ]
  },
  {
   "cell_type": "markdown",
   "id": "a553c140",
   "metadata": {},
   "source": [
    "Okay, so now we have appropriate Polygon -object.\n",
    "\n",
    "Let’s insert the polygon into our ‘geometry’ column in our GeoDataFrame:"
   ]
  },
  {
   "cell_type": "code",
   "execution_count": null,
   "id": "ba4ce370",
   "metadata": {},
   "outputs": [],
   "source": [
    "# Insert the polygon into 'geometry' -column at index 0\n",
    "newdata.loc[0, 'geometry'] = point\n",
    "\n",
    "# Let's see what we have now\n",
    "newdata"
   ]
  },
  {
   "cell_type": "markdown",
   "id": "c70fe3c4",
   "metadata": {},
   "source": [
    "Now we have a GeoDataFrame with Point that we can export to a Shapefile.\n",
    "\n",
    "Let’s add another column to our GeoDataFrame called Location with text GWU Geography."
   ]
  },
  {
   "cell_type": "code",
   "execution_count": null,
   "id": "cad0d0ed",
   "metadata": {},
   "outputs": [],
   "source": [
    "# Add a new column and insert data\n",
    "newdata.loc[0, 'Location'] = 'GWU Geography'\n",
    "\n",
    "# Let's check the data\n",
    "newdata"
   ]
  },
  {
   "cell_type": "markdown",
   "id": "d3e972e2",
   "metadata": {},
   "source": [
    "Okay, now we have additional information that is useful to be able to recognize what the feature represents.\n",
    "\n",
    "Before exporting the data it is useful to determine the coordinate reference system (CRS, 'projection') for the GeoDataFrame.\n",
    "\n",
    "GeoDataFrame has a property called `.crs` that ([review here](d_understand_crs_codes.md)) shows the coordinate system of the data which is empty (None) in our case since we are creating the data from the scratch (e.g. `newdata.crs` returns `None`).\n",
    "\n",
    "Let’s add a crs for our GeoDataFrame. A Python module called fiona has a nice function called from_epsg() for passing coordinate system for the GeoDataFrame. Next we will use that and determine the projection to WGS84 (epsg code: 4326) which is the most common choice for lat lon CRSs:"
   ]
  },
  {
   "cell_type": "code",
   "execution_count": null,
   "id": "b8dff76a",
   "metadata": {},
   "outputs": [],
   "source": [
    "# Import specific function 'from_epsg' from fiona module\n",
    "from fiona.crs import from_epsg\n",
    "\n",
    "# Set the GeoDataFrame's coordinate system to WGS84\n",
    "newdata.crs = from_epsg(code = 4326)\n",
    "\n",
    "# Let's see how the crs definition looks like\n",
    "newdata.crs"
   ]
  },
  {
   "cell_type": "markdown",
   "id": "fc380583",
   "metadata": {},
   "source": [
    "Finally, we can export the data using GeoDataFrames .to_file() -function. The function works similarly as numpy or pandas, but here we only need to provide the output path for the Shapefile. Easy isn’t it!:"
   ]
  },
  {
   "cell_type": "code",
   "execution_count": null,
   "id": "176f8445",
   "metadata": {},
   "outputs": [],
   "source": [
    "# Determine the output path for the Shapefile\n",
    "outfp = r\"../temp/gwu_geog.shp\"\n",
    "\n",
    "# Write the data into that Shapefile\n",
    "newdata.to_file(outfp)"
   ]
  },
  {
   "cell_type": "markdown",
   "id": "b9b01f11",
   "metadata": {},
   "source": [
    "```{tip}  Because GeoPandas are so intertwined spend the time to learn more about here [Pandas User Guide](https://pandas.pydata.org/pandas-docs/stable/user_guide/index.html)\n",
    "```\n",
    "\n",
    "-------------------\n",
    "\n",
    "[Adapted from Intro to Python GIS](https://automating-gis-processes.github.io/CSC18/lessons/L2/geopandas-basics.html#creating-geometries-into-a-geodataframe)"
   ]
  }
 ],
 "metadata": {
  "html_meta": {
   "description lang=en": "Learn how to create new vector data (shapefile), and assign a projection (CRS). This includes an example of plotting latitude longitude data stored in a .csv file.",
   "description lang=es": "Aprenda a cambiar, crear subconjuntos y trazar datos de atributos de datos vectoriales (shapefile). Esto incluye un ejemplo de trazado de datos de latitud y longitud, así como subconjuntos (indexación) por ubicación.",
   "description lang=fr": "Apprenez à modifier, sous-ensemble et tracer des données attributaires de données vectorielles (fichier de formes). Cela inclut un exemple de traçage des données de longitude de latitude ainsi que le sous-ensemble (indexation) par emplacement.",
   "keywords": "geospatial, attribute data, subset,  shapefile",
   "property=og:locale": "en_US"
  },
  "jupytext": {
   "text_representation": {
    "extension": ".md",
    "format_name": "myst"
   }
  },
  "kernelspec": {
   "display_name": "Python 3",
   "language": "python",
   "name": "python3"
  },
  "source_map": [
   16,
   38,
   46,
   52,
   56,
   75,
   90,
   93,
   109,
   118,
   127,
   130,
   137,
   149,
   164,
   169,
   174,
   177,
   185,
   193,
   209,
   222,
   229,
   233,
   242,
   248,
   254,
   260,
   266,
   275,
   284,
   287,
   293
  ]
 },
 "nbformat": 4,
 "nbformat_minor": 5
}