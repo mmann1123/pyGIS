{
 "cells": [
  {
   "cell_type": "markdown",
   "id": "f6dc696e",
   "metadata": {},
   "source": [
    "(e_vector_op_intro)=\n",
    "\n",
    "# Vector Operations\n",
    " \n",
    "In this section we will learn how to:\n",
    "\n",
    "```{tableofcontents}\n",
    "```\n",
    "\n",
    "\n",
    "```{toctree}\n",
    ":hidden:\n",
    ":titlesonly:\n",
    "\n",
    "\n",
    "e_attributes\n",
    "e_new_vectors\n",
    "e_vector_overlay\n",
    "e_extraction\n",
    "e_summarize_vector\n",
    "e_vector_merge_dissolve\n",
    "```"
   ]
  }
 ],
 "metadata": {
  "html_meta": {
   "description lang=en": "Learn a variety of operations for handling shapefiles including, unions, spatial joins, zonal statistics, select by location, kernal density, and interpolation techniques like Thesesian Polgons, KNN, and Kriging.",
   "description lang=es": "Aprenda una variedad de habilidades para manejar shapefiles que incluyen uniones, uniones espaciales, resumir por polígono, seleccionar por ubicación, densidad kernal y técnicas de interpolación como Thesesian Polgons, KNN y Kriging.",
   "description lang=fr": "Apprenez une variété de compétences pour gérer les fichiers de formes, y compris les unions, les jointures spatiales, la synthèse par polygone, la sélection par emplacement, la densité du noyau et les techniques d'interpolation telles que les polgons thèses, KNN et le krigeage.",
   "keywords": "geospatial,shapefile, geometric operations, zonal statistics, select by location, interpolation",
   "property=og:locale": "en_US"
  },
  "jupytext": {
   "text_representation": {
    "extension": ".md",
    "format_name": "myst"
   }
  },
  "kernelspec": {
   "display_name": "Python 3",
   "language": "python",
   "name": "python3"
  },
  "source_map": [
   16
  ]
 },
 "nbformat": 4,
 "nbformat_minor": 5
}