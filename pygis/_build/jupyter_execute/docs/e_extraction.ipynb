{
 "cells": [
  {
   "cell_type": "markdown",
   "id": "e767b202",
   "metadata": {},
   "source": [
    "----------------\n",
    "\n",
    "```{admonition} Learning Objectives\n",
    "* Clip a vector feature using another vector feature\n",
    "* Select features by their attributes\n",
    "* Select features by their locations\n",
    "```\n",
    "```{admonition} Review\n",
    "* [Geospatial Vector Data](c_vectors.md)\n",
    "* [Attributes & Indexing for Vector Data](e_attributes.md)\n",
    "* [Creating Geospatial Vector Data](e_new_vectors.md)\n",
    "```\n",
    "----------------\n",
    "\n",
    "# Extraction\n",
    "\n",
    "Subsetting and extracting data is useful when we want to select or analyze a portion of the dataset based on a feature's location, attribute, or its spatial relationship to another dataset.\n",
    "\n",
    "In this chapter, we will explore three ways that data from a GeoDataFrame can be subsetted and extracted: clip, select by attribute, and select by location.\n",
    "\n",
    "## Setup\n",
    "\n",
    "First, let's import the necessary modules."
   ]
  },
  {
   "cell_type": "code",
   "execution_count": null,
   "id": "c03df466",
   "metadata": {},
   "outputs": [],
   "source": [
    "# Import modules\n",
    "import matplotlib.pyplot as plt\n",
    "import pandas as pd\n",
    "import geopandas as gpd\n",
    "from shapely.geometry import Polygon"
   ]
  },
  {
   "cell_type": "markdown",
   "id": "f2902c86",
   "metadata": {},
   "source": [
    "We will utilize shapefiles of San Francisco Bay Area county boundaries and wells within the Bay Area and the surrounding 50 km. We will first load in the data and reproject the data.\n",
    "\n",
    "```{important} All the data must have the same coordinate system in order for extraction to work correctly.\n",
    "```"
   ]
  },
  {
   "cell_type": "code",
   "execution_count": null,
   "id": "d3f2705a",
   "metadata": {},
   "outputs": [],
   "source": [
    "# Load data\n",
    "\n",
    "# County boundaries\n",
    "# Source: https://opendata.mtc.ca.gov/datasets/san-francisco-bay-region-counties-clipped?geometry=-125.590%2C37.123%2C-119.152%2C38.640\n",
    "counties = gpd.read_file(\"../_static/e_vector_shapefiles/sf_bay_counties/sf_bay_counties.shp\")\n",
    "\n",
    "# Well locations\n",
    "# Source: https://gis.data.ca.gov/datasets/3a3e681b894644a9a95f9815aeeeb57f_0?geometry=-123.143%2C36.405%2C-119.230%2C37.175\n",
    "# Modified by author so that only the well locations within the counties and the surrounding 50 km were kept\n",
    "wells = gpd.read_file(\"../_static/e_vector_shapefiles/sf_bay_wells_50km/sf_bay_wells_50km.shp\")\n",
    "\n",
    "# Reproject data to NAD83(HARN) / California Zone 3\n",
    "# https://spatialreference.org/ref/epsg/2768/\n",
    "proj = 2768\n",
    "counties = counties.to_crs(proj)\n",
    "wells = wells.to_crs(proj)"
   ]
  },
  {
   "cell_type": "markdown",
   "id": "9a16b9c0",
   "metadata": {},
   "source": [
    "We will also create a rectangle over a part of the Bay Area."
   ]
  },
  {
   "cell_type": "code",
   "execution_count": null,
   "id": "42d252a7",
   "metadata": {},
   "outputs": [],
   "source": [
    "# Create list of coordindate pairs\n",
    "coordinates = [[1790787, 736108], [1929652, 736108], [1929652, 598414], [1790787, 598414]]\n",
    "\n",
    "# Create a Shapely polygon from the coordinate-tuple list\n",
    "poly_shapely = Polygon(coordinates)\n",
    "\n",
    "# Create a dictionary with needed attributes and required geometry column\n",
    "attributes_df = {'Attribute': ['name1'], 'geometry': poly_shapely}\n",
    "\n",
    "# Convert shapely object to a GeoDataFrame\n",
    "poly = gpd.GeoDataFrame(attributes_df, geometry = 'geometry', crs = \"EPSG:2768\")"
   ]
  },
  {
   "cell_type": "markdown",
   "id": "75a36b9c",
   "metadata": {},
   "source": [
    "We'll define some functions to make displaying and mapping our results a bit easier."
   ]
  },
  {
   "cell_type": "code",
   "execution_count": null,
   "id": "776b3992",
   "metadata": {},
   "outputs": [],
   "source": [
    "def display_table(table_name, attribute_table):\n",
    "    '''Display the first and last five rows of attribute table.'''\n",
    "\n",
    "    # Print title\n",
    "    print(\"Attribute Table: {}\".format(table_name))\n",
    "\n",
    "    # Print number of rows and columns\n",
    "    print(\"\\nTable shape (rows, columns): {}\".format(attribute_table.shape))\n",
    "\n",
    "    # Display first five rows of attribute table\n",
    "    print(\"\\nFirst five rows:\")\n",
    "    display(attribute_table.head())\n",
    "\n",
    "    # Display last five rows of attribute table\n",
    "    print(\"\\nLast five rows:\")\n",
    "    display(attribute_table.tail())\n",
    "\n",
    "\n",
    "def plot_df(result_name, result_df, result_geom_type, area = None):\n",
    "    '''Plot the result on a map and add the outlines of the original shapefiles.'''\n",
    "\n",
    "    # Create subplots\n",
    "    fig, ax = plt.subplots(1, 1, figsize = (10, 10))\n",
    "\n",
    "    # Plot data depending on vector type\n",
    "    # For points\n",
    "    if result_geom_type == \"point\":\n",
    "\n",
    "        # Plot data\n",
    "        counties.plot(ax = ax, color = 'none', edgecolor = 'dimgray')\n",
    "        wells.plot(ax = ax, marker = 'o', color = 'dimgray', markersize = 3)\n",
    "        result_df.plot(ax = ax, marker = 'o', color = 'dodgerblue', markersize = 3)\n",
    "\n",
    "    # For polygons\n",
    "    else:\n",
    "\n",
    "        # Plot overlay data\n",
    "        result_df.plot(ax = ax, cmap = 'Set2', edgecolor = 'black')\n",
    "\n",
    "        # Plot outlines of original shapefiles\n",
    "        counties.plot(ax = ax, color = 'none', edgecolor = 'dimgray')\n",
    "\n",
    "    # Add additional outlined boundary if specified\n",
    "    if area is not None:\n",
    "\n",
    "        # Plot data\n",
    "        area.plot(ax = ax, color = 'none', edgecolor = 'lightseagreen', linewidth = 3)\n",
    "\n",
    "    # Else, pass\n",
    "    else:\n",
    "        pass\n",
    "\n",
    "    # Stylize plots\n",
    "    plt.style.use('bmh')\n",
    "\n",
    "    # Set title\n",
    "    ax.set_title(result_name, fontdict = {'fontsize': '15', 'fontweight' : '3'})"
   ]
  },
  {
   "cell_type": "markdown",
   "id": "3952ec02",
   "metadata": {},
   "source": [
    "Let's take a look at what our input data looks like."
   ]
  },
  {
   "cell_type": "code",
   "execution_count": null,
   "id": "abdae1a6",
   "metadata": {},
   "outputs": [],
   "source": [
    "# Create subplots\n",
    "fig, ax = plt.subplots(1, 1, figsize = (10, 10))\n",
    "\n",
    "# Plot data\n",
    "counties.plot(ax = ax, color = 'bisque', edgecolor = 'dimgray')\n",
    "wells.plot(ax = ax, marker = 'o', color = 'dodgerblue', markersize = 3)\n",
    "poly.plot(ax = ax, color = 'aquamarine', edgecolor = 'lightseagreen', alpha = 0.55)\n",
    "\n",
    "# Stylize plots\n",
    "plt.style.use('bmh')\n",
    "\n",
    "# Set title\n",
    "ax.set_title('San Francisco Bay Area', fontdict = {'fontsize': '15', 'fontweight' : '3'})"
   ]
  },
  {
   "cell_type": "markdown",
   "id": "3d989fe4",
   "metadata": {},
   "source": [
    "## Clip\n",
    "\n",
    "Clip extracts and keeps only the geometries of a vector feature that are within extent of another vector feature (think of it like a cookie-cutter or mask). We can use  `clip()` in `geopandas`, with the first parameter being the vector that will be clipped and the second parameter being the vector that will define the extent of the clip. All attributes for the resulting clipped vector will be kept.\n",
    "\n",
    "```{note}\n",
    "This function is only available in the more recent versions of `geopandas`.\n",
    "```\n",
    "\n",
    "Source: [Clip Vector Data with GeoPandas, GeoPandas](https://geopandas.org/gallery/plot_clip.html)\n",
    "\n",
    "We will first clip the Bay Area counties polygon to our created rectangle polygon."
   ]
  },
  {
   "cell_type": "code",
   "execution_count": null,
   "id": "382cb3bc",
   "metadata": {},
   "outputs": [],
   "source": [
    "# Clip data\n",
    "clip_counties = gpd.clip(counties, poly)\n",
    "\n",
    "# Display attribute table\n",
    "display(clip_counties)\n",
    "\n",
    "# Plot clip\n",
    "plot_df(result_name = \"San Francisco Bay Area Counties\\nClip\", result_df = clip_counties, result_geom_type = \"polygon\", area = poly)"
   ]
  },
  {
   "cell_type": "markdown",
   "id": "a615f8dc",
   "metadata": {},
   "source": [
    "We can clip any vector type. Next, we will clip the wells point data to our created rectangle polygon."
   ]
  },
  {
   "cell_type": "code",
   "execution_count": null,
   "id": "c4506804",
   "metadata": {},
   "outputs": [],
   "source": [
    "# Clip data\n",
    "clip_wells = gpd.clip(wells, poly)\n",
    "\n",
    "# Display attribute table\n",
    "display(clip_wells)\n",
    "\n",
    "# Plot clip\n",
    "plot_df(result_name = \"San Francisco Bay Area Wells\\nClip\", result_df = clip_wells, result_geom_type = \"point\", area = poly)"
   ]
  },
  {
   "cell_type": "markdown",
   "id": "05aaac41",
   "metadata": {},
   "source": [
    "## Select by Attribute\n",
    "\n",
    "Selecting by attribute selects only the features in a dataset whose attribute values match the specified criteria. `geopandas` uses the indexing and selection methods in `pandas`, so data in a GeoDataFrame can be selected and queried in the same way a `pandas` dataframe can.\n",
    "\n",
    "Sources: [Indexing and Selecting Data, GeoPandas](https://geopandas.org/docs/user_guide/indexing.html); [Indexing and selecting data, pandas](https://pandas.pydata.org/pandas-docs/stable/user_guide/indexing.html); [How do I select a subset of a DataFrame?, pandas](https://pandas.pydata.org/pandas-docs/stable/getting_started/intro_tutorials/03_subset_data.html)\n",
    "\n",
    "We will use use different criteria to subset the wells dataset."
   ]
  },
  {
   "cell_type": "code",
   "execution_count": null,
   "id": "e23149f6",
   "metadata": {},
   "outputs": [],
   "source": [
    "# Display attribute table\n",
    "display(wells)"
   ]
  },
  {
   "cell_type": "markdown",
   "id": "87e8952e",
   "metadata": {},
   "source": [
    "The criteria can use a variety of operators, including comparison and logical operators."
   ]
  },
  {
   "cell_type": "code",
   "execution_count": null,
   "id": "648af3e8",
   "metadata": {},
   "outputs": [],
   "source": [
    "# Select wells that are public supply\n",
    "wells_subset_1 = wells[(wells[\"WELL_USE\"] == \"Public Supply\")]\n",
    "\n",
    "# Display first five and last five rows of attribute table\n",
    "display_table(table_name = \"San Francisco Bay Area Wells - Public Supply\", attribute_table = wells_subset_1)"
   ]
  },
  {
   "cell_type": "code",
   "execution_count": null,
   "id": "d34376a2",
   "metadata": {},
   "outputs": [],
   "source": [
    "# Select wells that are public supply and have a depth greater than 50 ft\n",
    "wells_subset_2 = wells[(wells[\"WELL_USE\"] == \"Public Supply\") & (wells[\"WELL_DEPTH\"] > 50)]\n",
    "\n",
    "# Display first five and last five rows of attribute table\n",
    "display_table(table_name = \"San Francisco Bay Area Wells - Public Supply with Depth Greater than 50 ft\", attribute_table = wells_subset_2)"
   ]
  },
  {
   "cell_type": "code",
   "execution_count": null,
   "id": "fbbe01d3",
   "metadata": {},
   "outputs": [],
   "source": [
    "# Select wells that are public supply and have a depth greater than 50 ft OR are residential\n",
    "wells_subset_3 = wells[((wells[\"WELL_USE\"] == \"Public Supply\") & (wells[\"WELL_DEPTH\"] > 50)) | (wells[\"WELL_USE\"] == \"Residential\")]\n",
    "\n",
    "# Display first five and last five rows of attribute table\n",
    "display_table(table_name = \"San Francisco Bay Area Wells - Public Supply with Depth Greater than 50 ft or Residential\", attribute_table = wells_subset_3)"
   ]
  },
  {
   "cell_type": "markdown",
   "id": "4f3eebfc",
   "metadata": {},
   "source": [
    "## Select by Location\n",
    "\n",
    "Selecting by location selects features based on its relative spatial relationship with another dataset.\n",
    "\n",
    "There are multiple spatial relationships available in `geopandas`.\n",
    "\n",
    "| Spatial Relationship | Function(s) |\n",
    "| :------------ | ---------------------------------------: |\n",
    "| contains | `contains()` |\n",
    "| covers | `covers()` |\n",
    "| covered by | `covered_by()` |\n",
    "| crosses | `crosses()` |\n",
    "| disjoint | `disjoint()` |\n",
    "| equal geometry | `geom_equals()`, `geom_almost_equals()`, `geom_equals_exact()` |\n",
    "| intersects | `intersects()` |\n",
    "| overlaps | `overlaps()` |\n",
    "| touches | `touches()` |\n",
    "| within | `within()` |\n",
    "\n",
    "Source: [GeoSeries - Binary Predicates, GeoPandas](https://geopandas.org/docs/reference/geoseries.html#binary-predicates)\n",
    "\n",
    "The functions for these spatial relationships will generally output a `pandas` series with Boolean values (`True` or `False`) whose indexing corresponds with the input dataset (from where we want to subset the data). We can use these Boolean values to subset the dataset (only the rows that have a `True` output will be retained).\n",
    "\n",
    "These functions can be used to select features that have the specified spatial relationship with a single Shapely vector."
   ]
  },
  {
   "cell_type": "code",
   "execution_count": null,
   "id": "44928c34",
   "metadata": {},
   "outputs": [],
   "source": [
    "# Select wells that fall within Shapely rectangle\n",
    "wells_location_subset_1 = wells[wells.within(poly_shapely)]\n",
    "\n",
    "# Display first five and last five rows of attribute table\n",
    "display_table(table_name = \"San Francisco Bay Area Wells within a User-Defined Rectangle\", attribute_table = wells_location_subset_1)\n",
    "\n",
    "# Plot selection\n",
    "plot_df(result_name = \"San Francisco Bay Area Wells within a User-Defined Rectangle\", result_df = wells_location_subset_1, result_geom_type = \"point\", area = poly)"
   ]
  },
  {
   "cell_type": "markdown",
   "id": "ee5743e1",
   "metadata": {},
   "source": [
    "If we're trying to select features that have a specified spatial relationship with another `geopandas` object, it gets a little tricky. This is because the `geopandas` spatial relationship functions verify the spatial relationship either row by row or index by index. In other words, the first row in the first dataset will be compared with the corresponding row or index in the second dataset, the second row in the first dataset will be compared with the corresponding row or index in the second dataset, and so on.\n",
    "\n",
    "As a result, the number of rows need to correspond or the indices numbers need to match between the two datasets--or else we'll get a warning and the output will be empty.\n",
    "\n",
    "Not easy if we want to check a bunch of features against one extent (with one geometry)... Fortunately, there are two workarounds that get the same result.\n",
    "\n",
    "Source: [geopandas.GeoSeries.within, GeoPandas](https://geopandas.org/docs/reference/api/geopandas.GeoSeries.within.html)\n",
    "\n",
    "### Workaround 1 - Manipulate extent GeoDataFrame\n",
    "\n",
    "The first workaround copies the extent GeoDataFrame multiple times so that the number of rows (all with the exact same geometry) matches the number of rows in the GeoDataFrame in which we're selecting features."
   ]
  },
  {
   "cell_type": "code",
   "execution_count": null,
   "id": "d376ab66",
   "metadata": {},
   "outputs": [],
   "source": [
    "# Select the Santa Clara County boundary\n",
    "sc_county = counties[counties[\"coname\"] == \"Santa Clara County\"]\n",
    "\n",
    "# Multiply the boundary dataset by the number of rows in the wells dataset, and concatenate all the boundary datasets together into one dataframe\n",
    "sc_county_replicate_df = pd.concat([sc_county] * wells.shape[0], ignore_index = True)\n",
    "\n",
    "# Create a GeoDataFrame from the county dataframe\n",
    "sc_county_replicate_gdf = gpd.GeoDataFrame(sc_county_replicate_df)\n",
    "\n",
    "# Subset the GeoDataFrame by checking which wells are within Santa Clara County\n",
    "wells_location_subset_2 = wells[wells.within(sc_county_replicate_gdf)]\n",
    "\n",
    "# Display first five and last five rows of attribute table\n",
    "display_table(table_name = \"San Francisco Bay Area Wells within Santa Clara County\", attribute_table = wells_location_subset_2)\n",
    "\n",
    "# Plot selection\n",
    "plot_df(result_name = \"San Francisco Bay Area Wells within Santa Clara County\", result_df = wells_location_subset_2, result_geom_type = \"point\", area = sc_county)"
   ]
  },
  {
   "cell_type": "markdown",
   "id": "35685973",
   "metadata": {},
   "source": [
    "### Workaround 2 - Iterate through each feature\n",
    "\n",
    "The second workaround iterates through each row of the GeoDataFrame from which we're selecting features, comparing each row/feature one at a time with the extent GeoDataFrame."
   ]
  },
  {
   "cell_type": "code",
   "execution_count": null,
   "id": "47062013",
   "metadata": {},
   "outputs": [],
   "source": [
    "# Create copy of Santa Clara County boundary\n",
    "sc_county_reset = sc_county.copy()\n",
    "\n",
    "# Reset index of copied dataset (to 0)\n",
    "sc_county_reset = sc_county_reset.reset_index(drop = True)\n",
    "\n",
    "# Create empty list to hold Boolean values indicating if spatial relationship is met\n",
    "criteria_met_list = []\n",
    "\n",
    "# Iterate through each feature in wells dataset\n",
    "for i in range(0, wells.shape[0]):\n",
    "\n",
    "    # Get a well point by index\n",
    "    well = wells.iloc[[i]]\n",
    "\n",
    "    # Reset index of well point (to 0) to match the index-reset Santa Clara County boundary\n",
    "    well = well.reset_index(drop = True)\n",
    "\n",
    "    # Check if well is within Santa Clara County\n",
    "    criteria_met = well.within(sc_county_reset)[0]\n",
    "\n",
    "    # If criteria is met (True), append True to list\n",
    "    if criteria_met:\n",
    "        criteria_met_list.append(True)\n",
    "\n",
    "    # Otherwise, criteria is not met (False), and append False to list\n",
    "    else:\n",
    "        criteria_met_list.append(False)\n",
    "\n",
    "# Subset data based on the list of Boolean values\n",
    "wells_location_subset_3 = wells[criteria_met_list]\n",
    "\n",
    "# Display first five and last five rows of attribute table\n",
    "display_table(table_name = \"San Francisco Bay Area Wells within Santa Clara County\", attribute_table = wells_location_subset_3)"
   ]
  }
 ],
 "metadata": {
  "html_meta": {
   "description lang=en": "Learn how to subset and extract data from a GeoDataFrame through clipping, selecting by attribute, and selecting by location.",
   "keywords": "geospatial, attribute data, subset, extract, selection, vector, shapefile",
   "property=og:locale": "en_US"
  },
  "jupytext": {
   "text_representation": {
    "extension": ".md",
    "format_name": "myst"
   }
  },
  "kernelspec": {
   "display_name": "Python 3",
   "language": "python",
   "name": "python3"
  },
  "source_map": [
   14,
   40,
   46,
   53,
   70,
   74,
   86,
   90,
   148,
   152,
   166,
   180,
   189,
   193,
   202,
   212,
   215,
   219,
   227,
   235,
   241,
   268,
   277,
   291,
   309,
   315
  ]
 },
 "nbformat": 4,
 "nbformat_minor": 5
}