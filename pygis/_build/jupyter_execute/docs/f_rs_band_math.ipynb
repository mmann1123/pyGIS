{
 "cells": [
  {
   "cell_type": "markdown",
   "id": "cbe48791",
   "metadata": {},
   "source": [
    " \n",
    "\n",
    "(f_rs_band_math)=\n",
    "\n",
    "---------------\n",
    "```{admonition} Learning Objectives\n",
    "  - Learn about basic principals of band math\n",
    "  - Calculate common indicies like NDVI, EVI etc\n",
    "```\n",
    "```{admonition} Review\n",
    "* [Raster Data ](c_rasters.md)\n",
    "* [Opening Remotely Sensed Data](f_rs_io.md)\n",
    "* [Sensor specific configurations](f_rs_config.md)\n",
    "```\n",
    "--------------\n",
    "\n",
    "\n",
    "# Band Math & Vegetation Indices\n",
    "\n",
    "## Vegetation indices\n",
    "Healthy vegetation (with chlorophyll) reflects more near-infrared (NIR) and green light compared to other wavelengths and absorbs more red and blue light. We can use this effect to generate a number of vegetation indices including the following:\n",
    "\n",
    "\n",
    "### Enhanced Vegetation Index (EVI)\n",
    "EVI is an index of vegetation that is optimized to improve sensitivity to high biomass and better handling of background and atmospheric influences. It is calculated with the formula below using the Near Infrared (NIR), Red and Blue bands. There are also a number of parameters like $C_{1}$ that are specific to each sensor. Luckily geowombat handles this all for you! \n",
    "\n",
    "$$EVI = G\\times \\frac{NIR-Red}{NIR+C_{1}\\times Red-C_{2}\\times Blue+L}$$\n",
    "\n",
    "The result of this formula generates a value between -1 and +1.  Low reflectance (low values) in the red channel and high reflectance in the NIR channel will yield a high EVI value."
   ]
  },
  {
   "cell_type": "code",
   "execution_count": 1,
   "id": "949f3dd1",
   "metadata": {},
   "outputs": [
    {
     "ename": "ModuleNotFoundError",
     "evalue": "No module named 'geowombat'",
     "output_type": "error",
     "traceback": [
      "\u001b[0;31m---------------------------------------------------------------------------\u001b[0m",
      "\u001b[0;31mModuleNotFoundError\u001b[0m                       Traceback (most recent call last)",
      "\u001b[0;32m<ipython-input-1-f89a95c602fc>\u001b[0m in \u001b[0;36m<module>\u001b[0;34m\u001b[0m\n\u001b[0;32m----> 1\u001b[0;31m \u001b[0;32mimport\u001b[0m \u001b[0mgeowombat\u001b[0m \u001b[0;32mas\u001b[0m \u001b[0mgw\u001b[0m\u001b[0;34m\u001b[0m\u001b[0;34m\u001b[0m\u001b[0m\n\u001b[0m\u001b[1;32m      2\u001b[0m \u001b[0;32mfrom\u001b[0m \u001b[0mgeowombat\u001b[0m\u001b[0;34m.\u001b[0m\u001b[0mdata\u001b[0m \u001b[0;32mimport\u001b[0m \u001b[0mrgbn\u001b[0m\u001b[0;34m\u001b[0m\u001b[0;34m\u001b[0m\u001b[0m\n\u001b[1;32m      3\u001b[0m \u001b[0;32mimport\u001b[0m \u001b[0mmatplotlib\u001b[0m\u001b[0;34m.\u001b[0m\u001b[0mpyplot\u001b[0m \u001b[0;32mas\u001b[0m \u001b[0mplt\u001b[0m\u001b[0;34m\u001b[0m\u001b[0;34m\u001b[0m\u001b[0m\n",
      "\u001b[0;31mModuleNotFoundError\u001b[0m: No module named 'geowombat'"
     ]
    }
   ],
   "source": [
    "import geowombat as gw\n",
    "from geowombat.data import rgbn\n",
    "import matplotlib.pyplot as plt\n"
   ]
  },
  {
   "cell_type": "markdown",
   "id": "ac223d36",
   "metadata": {},
   "source": [
    "Calculate a vegetation index, returning an `Xarray.DataArray`."
   ]
  },
  {
   "cell_type": "code",
   "execution_count": null,
   "id": "11cb154f",
   "metadata": {},
   "outputs": [],
   "source": [
    "with gw.open(rgbn) as ds:\n",
    "    print(ds)\n",
    "    evi = ds.gw.evi(sensor='rgbn', scale_factor=0.0001)\n",
    "    print(evi)"
   ]
  },
  {
   "cell_type": "markdown",
   "id": "c628991c",
   "metadata": {},
   "source": [
    "Or use the configuration context to set parameters."
   ]
  },
  {
   "cell_type": "code",
   "execution_count": null,
   "id": "443cc2b9",
   "metadata": {},
   "outputs": [],
   "source": [
    "fig, ax = plt.subplots(dpi=150)\n",
    "\n",
    "with gw.config.update(sensor='rgbn', scale_factor=0.0001):\n",
    "    with gw.open(rgbn) as ds:\n",
    "        evi = ds.gw.evi()\n",
    "        evi.plot(robust=True, ax=ax)\n",
    "plt.tight_layout(pad=1)"
   ]
  },
  {
   "cell_type": "markdown",
   "id": "7e4934b3",
   "metadata": {},
   "source": [
    "### Two-band Enhanced Vegetation Index (EVI2)\n",
    "We can also calcuate an approximation of EVI with two bands using $G\\times ((NIR-RED)/(L+NIR+C\\times Red))$\n",
    "\n",
    "This allows us to extend EVI calculations back in time using AVHRR, and avoids some problems with the blue band which tends to be noisy."
   ]
  },
  {
   "cell_type": "code",
   "execution_count": null,
   "id": "2149d4be",
   "metadata": {},
   "outputs": [],
   "source": [
    "fig, ax = plt.subplots(dpi=150)\n",
    "\n",
    "with gw.config.update(sensor='rgbn', scale_factor=0.0001):\n",
    "    with gw.open(rgbn) as ds:\n",
    "        evi2 = ds.gw.evi2()\n",
    "        evi2.plot(robust=True, ax=ax)\n",
    "plt.tight_layout(pad=1)"
   ]
  },
  {
   "cell_type": "markdown",
   "id": "5f02c21a",
   "metadata": {},
   "source": [
    "### Normalized Difference Indices (NDVI)\n",
    "The simplest vegetation metric is NDVI, which is just the normalized difference between the Red and NIR bands. It is calculated as follows $\\frac{NIR-Red}{NIR+Red}$.\n",
    "\n",
    "We can calculate it using the generic `norm_diff` function for any two-band combination."
   ]
  },
  {
   "cell_type": "code",
   "execution_count": null,
   "id": "5386a7d9",
   "metadata": {},
   "outputs": [],
   "source": [
    "with gw.config.update(sensor='rgbn'):\n",
    "    with gw.open(rgbn) as ds:\n",
    "        d = ds.gw.norm_diff('red', 'nir')\n",
    "        print(d)"
   ]
  },
  {
   "cell_type": "markdown",
   "id": "d2ee7cc1",
   "metadata": {},
   "source": [
    "### Tasseled Cap Transformations\n",
    "Tasseled cap tranform uses a linear equation to try to differentiate different components of the spectrum that are of interest for vegetation dynamics such as phenological stages. The output includes three bands including `brightness`, `greeness` for vegetation, and `wetness` as an idicator of soil and canopy moisture. Use `.sel(band='wetness')` to select them individually."
   ]
  },
  {
   "cell_type": "code",
   "execution_count": null,
   "id": "4da970b4",
   "metadata": {},
   "outputs": [],
   "source": [
    "fig, ax = plt.subplots(dpi=150)\n",
    "\n",
    "with gw.config.update(sensor='qb', scale_factor=0.0001):\n",
    "    with gw.open(rgbn) as ds:\n",
    "        tcap = ds.gw.tasseled_cap()\n",
    "        tcap.sel(band='wetness').plot(robust=True, ax=ax)\n",
    "        print(tcap)\n",
    "plt.tight_layout(pad=1)\n"
   ]
  },
  {
   "cell_type": "markdown",
   "id": "490486bd",
   "metadata": {},
   "source": [
    "Sources: \n",
    "- [Wikipedia EVI](https://en.wikipedia.org/wiki/Enhanced_vegetation_index)\n",
    "- [Wikipedia Tasseled Cap](https://en.wikipedia.org/wiki/Tasseled_cap_transformation)"
   ]
  }
 ],
 "metadata": {
  "html_meta": {
   "description lang=en": "Learn how to calculate vegetation indices like EVI, NDVI, and Tasseled Cap from remotely sensed data using python",
   "description lang=es": "Aprenda a calcular índices de vegetación como EVI, NDVI y Tasseled Cap a partir de datos de detección remota usando Python",
   "description lang=fr": "Apprenez à calculer les indices de végétation tels que EVI, NDVI et Tasseled Cap à partir de données détectées à distance à l'aide de python",
   "keywords": "Remote Sensing, EVI, NDVI, Tasseled Cap, Vegetation Index",
   "property=og:locale": "en_US"
  },
  "jupytext": {
   "text_representation": {
    "extension": ".md",
    "format_name": "myst"
   }
  },
  "kernelspec": {
   "display_name": "Python 3",
   "language": "python",
   "name": "python3"
  },
  "language_info": {
   "codemirror_mode": {
    "name": "ipython",
    "version": 3
   },
   "file_extension": ".py",
   "mimetype": "text/x-python",
   "name": "python",
   "nbconvert_exporter": "python",
   "pygments_lexer": "ipython3",
   "version": "3.6.7"
  },
  "source_map": [
   16,
   47,
   52,
   56,
   61,
   65,
   73,
   80,
   88,
   95,
   100,
   105,
   115
  ]
 },
 "nbformat": 4,
 "nbformat_minor": 5
}