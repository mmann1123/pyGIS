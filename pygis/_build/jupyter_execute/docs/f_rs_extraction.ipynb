{
 "cells": [
  {
   "cell_type": "markdown",
   "id": "c7dc4363",
   "metadata": {},
   "source": [
    "(f_rs_extraction)=\n",
    "\n",
    "\n",
    "---------------\n",
    "```{admonition} Learning Objectives\n",
    "  - Subset bands by index or name\n",
    "  - Extract raster data by row and column number\n",
    "  - Extract data by bounding window\n",
    "  - Extract raster data by coordinates\n",
    "  - Extract raster data by geometry (point, polygon)\n",
    "```\n",
    "```{admonition} Review\n",
    "* [Data Structures](c_features.md)\n",
    "* [Raster Data ](c_rasters.md)\n",
    "* [Reading and writing remotely sensed data ](f_rs_io.md)\n",
    "```\n",
    "--------------\n",
    "\n",
    "\n",
    "# Raster Data Extraction\n",
    "Raster data is often of little use unless we can extract and summarize the data. For instance, extracting raster to points by coordinates allows us to pass data to machine learning models for land cover classification or cloud masking. \n",
    "\n",
    "## Subsetting rasters\n",
    "We can subset sections of the data array in a number of ways. In this case we will create a slice based on row and column location to subset LandSat data using a `rasterio.window.Window`.\n",
    "\n",
    "Either a `rasterio.window.Window` object or tuple can be used with `geowombat.open`."
   ]
  },
  {
   "cell_type": "code",
   "execution_count": 1,
   "id": "774630bd",
   "metadata": {},
   "outputs": [
    {
     "ename": "ModuleNotFoundError",
     "evalue": "No module named 'geowombat'",
     "output_type": "error",
     "traceback": [
      "\u001b[0;31m---------------------------------------------------------------------------\u001b[0m",
      "\u001b[0;31mModuleNotFoundError\u001b[0m                       Traceback (most recent call last)",
      "\u001b[0;32m<ipython-input-1-f99cfce8bf74>\u001b[0m in \u001b[0;36m<module>\u001b[0;34m\u001b[0m\n\u001b[0;32m----> 1\u001b[0;31m \u001b[0;32mimport\u001b[0m \u001b[0mgeowombat\u001b[0m \u001b[0;32mas\u001b[0m \u001b[0mgw\u001b[0m\u001b[0;34m\u001b[0m\u001b[0;34m\u001b[0m\u001b[0m\n\u001b[0m\u001b[1;32m      2\u001b[0m \u001b[0;32mfrom\u001b[0m \u001b[0mgeowombat\u001b[0m\u001b[0;34m.\u001b[0m\u001b[0mdata\u001b[0m \u001b[0;32mimport\u001b[0m \u001b[0mrgbn\u001b[0m\u001b[0;34m\u001b[0m\u001b[0;34m\u001b[0m\u001b[0m\n\u001b[1;32m      3\u001b[0m \u001b[0;34m\u001b[0m\u001b[0m\n\u001b[1;32m      4\u001b[0m \u001b[0;32mfrom\u001b[0m \u001b[0mrasterio\u001b[0m\u001b[0;34m.\u001b[0m\u001b[0mwindows\u001b[0m \u001b[0;32mimport\u001b[0m \u001b[0mWindow\u001b[0m\u001b[0;34m\u001b[0m\u001b[0;34m\u001b[0m\u001b[0m\n\u001b[1;32m      5\u001b[0m \u001b[0mw\u001b[0m \u001b[0;34m=\u001b[0m \u001b[0mWindow\u001b[0m\u001b[0;34m(\u001b[0m\u001b[0mrow_off\u001b[0m\u001b[0;34m=\u001b[0m\u001b[0;36m0\u001b[0m\u001b[0;34m,\u001b[0m \u001b[0mcol_off\u001b[0m\u001b[0;34m=\u001b[0m\u001b[0;36m0\u001b[0m\u001b[0;34m,\u001b[0m \u001b[0mheight\u001b[0m\u001b[0;34m=\u001b[0m\u001b[0;36m100\u001b[0m\u001b[0;34m,\u001b[0m \u001b[0mwidth\u001b[0m\u001b[0;34m=\u001b[0m\u001b[0;36m100\u001b[0m\u001b[0;34m)\u001b[0m\u001b[0;34m\u001b[0m\u001b[0;34m\u001b[0m\u001b[0m\n",
      "\u001b[0;31mModuleNotFoundError\u001b[0m: No module named 'geowombat'"
     ]
    }
   ],
   "source": [
    "import geowombat as gw\n",
    "from geowombat.data import rgbn\n",
    "\n",
    "from rasterio.windows import Window\n",
    "w = Window(row_off=0, col_off=0, height=100, width=100)\n",
    "\n",
    "with gw.open(rgbn,\n",
    "                band_names=['blue', 'green', 'red'],\n",
    "                num_workers=8,\n",
    "                indexes=[1, 2, 3],\n",
    "                window=w,\n",
    "                out_dtype='float32') as src:\n",
    "    print(src)"
   ]
  },
  {
   "cell_type": "markdown",
   "id": "bd75f82f",
   "metadata": {},
   "source": [
    "We can also slice a subset of data using a tuple of bounded coordinates.\n",
    "\n",
    "``` python\n",
    "bounds = (793475.76, 2049033.03, 794222.03, 2049527.24)\n",
    "\n",
    "with gw.open(rgbn,\n",
    "                band_names=['green', 'red', 'nir'],\n",
    "                num_workers=8,\n",
    "                indexes=[2, 3, 4],\n",
    "                bounds=bounds,\n",
    "                out_dtype='float32') as src:\n",
    "    print(src)\n",
    "```\n",
    "\n",
    "The configuration manager provides an alternative method to subset rasters. See `tutorial-config` for more details.\n",
    "\n",
    "``` python\n",
    "with gw.config.update(ref_bounds=bounds):\n",
    "\n",
    "    with gw.open(rgbn) as src:\n",
    "        print(src)\n",
    "```\n",
    "\n",
    "By default, the subset will be returned by the upper left coordinates of the bounds, potentially shifting cell alignment with the reference raster. To subset a raster and align it to the same grid, use the **ref_tar** keyword. This is equivalent to a \"snap raster\" in ArcGIS. \n",
    "\n",
    "``` python\n",
    "with gw.config.update(ref_bounds=bounds, ref_tar=rgbn):\n",
    "\n",
    "    with gw.open(rgbn) as src:\n",
    "        print(src)\n",
    "```\n",
    "\n",
    "## Extracting data by coordinates\n",
    " \n",
    "To extract values at a coordinate pair, translate the coordinates into array indices. For extraction by geometry, for instance with a shapefile, see [extract by point geometry](f_rs_extraction_point)."
   ]
  },
  {
   "cell_type": "code",
   "execution_count": null,
   "id": "0e0f3e9a",
   "metadata": {},
   "outputs": [],
   "source": [
    "import geowombat as gw\n",
    "from geowombat.data import l8_224078_20200518\n",
    "\n",
    "# Coordinates in map projection units\n",
    "y, x = -2823031.15, 761592.60\n",
    "\n",
    "with gw.open(l8_224078_20200518) as src:\n",
    "    # Transform the map coordinates to data indices\n",
    "    j, i = gw.coords_to_indices(x, y, src)\n",
    "    # Subset by index\n",
    "    data = src[:, i, j].data.compute()\n",
    "\n",
    "print(data.flatten())"
   ]
  },
  {
   "cell_type": "markdown",
   "id": "5cf463d8",
   "metadata": {},
   "source": [
    "A latitude/longitude pair can be extracted after converting to the map projection."
   ]
  },
  {
   "cell_type": "code",
   "execution_count": null,
   "id": "3a62a1e7",
   "metadata": {},
   "outputs": [],
   "source": [
    "import geowombat as gw\n",
    "from geowombat.data import l8_224078_20200518\n",
    "\n",
    "# Coordinates in latitude/longitude\n",
    "lat, lon = -25.50142964, -54.39756038\n",
    "\n",
    "with gw.open(l8_224078_20200518) as src:\n",
    "    # Transform the coordinates to map units\n",
    "    x, y = gw.lonlat_to_xy(lon, lat, src)\n",
    "    # Transform the map coordinates to data indices\n",
    "    j, i = gw.coords_to_indices(x, y, src)\n",
    "    data = src[:, i, j].data.compute()\n",
    "\n",
    "print(data.flatten())"
   ]
  },
  {
   "cell_type": "markdown",
   "id": "563d4ac4",
   "metadata": {},
   "source": [
    "(f_rs_extraction_point)=\n",
    "## Extracting data with point geometry \n",
    "\n",
    "In the example below, 'l8_224078_20200518_points' is a [GeoPackage](https://www.geopackage.org/) of point locations, and the output `df` is a [GeoPandas GeoDataFrame](https://geopandas.org/docs/reference/api/geopandas.GeoDataFrame.html?highlight=geodataframe#geopandas.GeoDataFrame). To extract the raster values at the point locations, use `geowombat.extract`."
   ]
  },
  {
   "cell_type": "code",
   "execution_count": null,
   "id": "efe9bfb3",
   "metadata": {},
   "outputs": [],
   "source": [
    "import geowombat as gw\n",
    "from geowombat.data import l8_224078_20200518, l8_224078_20200518_points\n",
    "\n",
    "with gw.open(l8_224078_20200518) as src:\n",
    "    df = src.gw.extract(l8_224078_20200518_points)\n",
    "\n",
    "print(df)"
   ]
  },
  {
   "cell_type": "markdown",
   "id": "d5ee51c1",
   "metadata": {},
   "source": [
    "```{note} \n",
    "\n",
    "The line `df = src.gw.extract(l8_224078_20200518_points)` could also have been written as `df = gw.extract(src, l8_224078_20200518_points)`.\n",
    "```\n",
    "\n",
    "In the previous example, the point vector had a CRS that matched the raster (i.e., EPSG=32621, or UTM zone 21N). If the CRS had not matched, the `geowombat.extract` function transforms the CRS on-the-fly."
   ]
  },
  {
   "cell_type": "code",
   "execution_count": null,
   "id": "eeb199a1",
   "metadata": {},
   "outputs": [],
   "source": [
    "import geowombat as gw\n",
    "from geowombat.data import l8_224078_20200518, l8_224078_20200518_points\n",
    "import geopandas as gpd\n",
    "\n",
    "point_df = gpd.read_file(l8_224078_20200518_points)\n",
    "print(point_df.crs)\n",
    "\n",
    "# Transform the CRS to WGS84 lat/lon\n",
    "point_df = point_df.to_crs('epsg:4326')\n",
    "print(point_df.crs)\n",
    "\n",
    "with gw.open(l8_224078_20200518) as src:\n",
    "    df = src.gw.extract(point_df)\n",
    "\n",
    "print(df)"
   ]
  },
  {
   "cell_type": "markdown",
   "id": "10ba31cc",
   "metadata": {},
   "source": [
    "Set the data band names using `sensor = 'bgr'`, which assigns the band names blue, green, red."
   ]
  },
  {
   "cell_type": "code",
   "execution_count": null,
   "id": "e06ee647",
   "metadata": {},
   "outputs": [],
   "source": [
    "import geowombat as gw\n",
    "from geowombat.data import l8_224078_20200518, l8_224078_20200518_points\n",
    "\n",
    "with gw.config.update(sensor='bgr'):\n",
    "    with gw.open(l8_224078_20200518) as src:\n",
    "        df = src.gw.extract(l8_224078_20200518_points,\n",
    "                            band_names=src.band.values.tolist())\n",
    "\n",
    "print(df)"
   ]
  },
  {
   "cell_type": "markdown",
   "id": "4f17d204",
   "metadata": {},
   "source": [
    "## Extracting time series images by point geometry\n",
    "We can also easily extract a time series of raster images. Extracted pixel values are provided in 'wide' format with appropriate labels, for instance the column 't2_blue' would be the blue band for the second time period"
   ]
  },
  {
   "cell_type": "code",
   "execution_count": null,
   "id": "56b2e489",
   "metadata": {},
   "outputs": [],
   "source": [
    "from geowombat.data import l8_224078_20200518, l8_224078_20200518_points\n",
    "\n",
    "with gw.config.update(sensor='bgr'):\n",
    "    with gw.open([l8_224078_20200518, l8_224078_20200518],\n",
    "            time_names=['t1', 't2'],\n",
    "            stack_dim='time') as src:\n",
    "\n",
    "        # Extract and by point geometry\n",
    "        df = src.gw.extract(l8_224078_20200518_points)\n",
    "\n",
    "print(df)"
   ]
  },
  {
   "cell_type": "markdown",
   "id": "e722dd05",
   "metadata": {},
   "source": [
    "## Extracting data by polygon geometry\n",
    "\n",
    "To extract values within polygons, use the same `geowombat.extract` function."
   ]
  },
  {
   "cell_type": "code",
   "execution_count": null,
   "id": "bae0e306",
   "metadata": {},
   "outputs": [],
   "source": [
    "from geowombat.data import l8_224078_20200518, l8_224078_20200518_polygons\n",
    "\n",
    "with gw.config.update(sensor='bgr'):\n",
    "    with gw.open(l8_224078_20200518) as src:\n",
    "        df = src.gw.extract(l8_224078_20200518_polygons,\n",
    "                            band_names=src.band.values.tolist())\n",
    "\n",
    "    print(df)"
   ]
  },
  {
   "cell_type": "markdown",
   "id": "dcb2d9c1",
   "metadata": {},
   "source": [
    "### Calculate mean pixel value by polygon\n",
    "It is simple then to calculate the mean value of pixels within each polygon by using the polygon `id` column and pandas groupby function."
   ]
  },
  {
   "cell_type": "code",
   "execution_count": null,
   "id": "e2808c34",
   "metadata": {},
   "outputs": [],
   "source": [
    "from geowombat.data import l8_224078_20200518, l8_224078_20200518_polygons\n",
    "\n",
    "with gw.config.update(sensor='bgr'):\n",
    "    with gw.open(l8_224078_20200518) as src:\n",
    "        df = src.gw.extract(l8_224078_20200518_polygons,\n",
    "                            band_names=src.band.values.tolist())\n",
    "        # use pandas groupby to calc pixel mean  \n",
    "        df = df.groupby('id').mean()\n",
    "    print(df)"
   ]
  }
 ],
 "metadata": {
  "html_meta": {
   "description lang=en": "Learn how to easily read and write remote sensing data from a variety of sensors, mosaic images, or create time series stacks.",
   "description lang=es": "Aprenda a leer y escribir fácilmente datos de teledetección de una variedad de sensores, imágenes de mosaico o crear pilas de series de tiempo.",
   "description lang=fr": "Apprenez à lire et à écrire facilement des données de télédétection à partir d'une variété de capteurs, d'images mosaïques ou de créer des piles de séries chronologiques",
   "keywords": "geospatial,raster, remote sensing, read, write, mosaic, time series, landsat, sentinel",
   "property=og:locale": "en_US"
  },
  "jupytext": {
   "text_representation": {
    "extension": ".md",
    "format_name": "myst"
   }
  },
  "kernelspec": {
   "display_name": "Python 3",
   "language": "python",
   "name": "python3"
  },
  "language_info": {
   "codemirror_mode": {
    "name": "ipython",
    "version": 3
   },
   "file_extension": ".py",
   "mimetype": "text/x-python",
   "name": "python",
   "nbconvert_exporter": "python",
   "pygments_lexer": "ipython3",
   "version": "3.6.7"
  },
  "source_map": [
   16,
   46,
   60,
   98,
   112,
   116,
   131,
   137,
   145,
   153,
   169,
   172,
   182,
   186,
   198,
   204,
   213,
   218
  ]
 },
 "nbformat": 4,
 "nbformat_minor": 5
}