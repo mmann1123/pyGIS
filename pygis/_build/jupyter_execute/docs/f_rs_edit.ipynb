{
 "cells": [
  {
   "cell_type": "markdown",
   "id": "4014be7f",
   "metadata": {},
   "source": [
    "(f_rs_edit)=\n",
    "\n",
    "\n",
    "----------------\n",
    "\n",
    "```{admonition} Learning Objectives\n",
    "- Handle missing values\n",
    "- Setting missing values\n",
    "- Replacing values\n",
    "\n",
    "```\n",
    "```{admonition} Review\n",
    "* [Opening remotely sensed data](f_rs_io.md)\n",
    "```\n",
    "----------------\n",
    "\n",
    "# Editing Rasters and Remotely Sensed Data\n",
    "\n",
    "\n",
    "## Setting 'no data' Values\n",
    "\n",
    "The `xarray.DataArray.where` function masks data by setting nans, as demonstrated by the example below."
   ]
  },
  {
   "cell_type": "code",
   "execution_count": 1,
   "id": "69a7fbbd",
   "metadata": {},
   "outputs": [
    {
     "ename": "ModuleNotFoundError",
     "evalue": "No module named 'geowombat'",
     "output_type": "error",
     "traceback": [
      "\u001b[0;31m---------------------------------------------------------------------------\u001b[0m",
      "\u001b[0;31mModuleNotFoundError\u001b[0m                       Traceback (most recent call last)",
      "\u001b[0;32m<ipython-input-1-8ff0b063aba7>\u001b[0m in \u001b[0;36m<module>\u001b[0;34m\u001b[0m\n\u001b[0;32m----> 1\u001b[0;31m \u001b[0;32mimport\u001b[0m \u001b[0mgeowombat\u001b[0m \u001b[0;32mas\u001b[0m \u001b[0mgw\u001b[0m\u001b[0;34m\u001b[0m\u001b[0;34m\u001b[0m\u001b[0m\n\u001b[0m\u001b[1;32m      2\u001b[0m \u001b[0;32mfrom\u001b[0m \u001b[0mgeowombat\u001b[0m\u001b[0;34m.\u001b[0m\u001b[0mdata\u001b[0m \u001b[0;32mimport\u001b[0m \u001b[0ml8_224078_20200518\u001b[0m\u001b[0;34m\u001b[0m\u001b[0;34m\u001b[0m\u001b[0m\n\u001b[1;32m      3\u001b[0m \u001b[0;34m\u001b[0m\u001b[0m\n\u001b[1;32m      4\u001b[0m \u001b[0;31m# Zeros are replaced with nans\u001b[0m\u001b[0;34m\u001b[0m\u001b[0;34m\u001b[0m\u001b[0;34m\u001b[0m\u001b[0m\n\u001b[1;32m      5\u001b[0m \u001b[0;32mwith\u001b[0m \u001b[0mgw\u001b[0m\u001b[0;34m.\u001b[0m\u001b[0mopen\u001b[0m\u001b[0;34m(\u001b[0m\u001b[0ml8_224078_20200518\u001b[0m\u001b[0;34m)\u001b[0m \u001b[0;32mas\u001b[0m \u001b[0msrc\u001b[0m\u001b[0;34m:\u001b[0m\u001b[0;34m\u001b[0m\u001b[0;34m\u001b[0m\u001b[0m\n",
      "\u001b[0;31mModuleNotFoundError\u001b[0m: No module named 'geowombat'"
     ]
    }
   ],
   "source": [
    "import geowombat as gw\n",
    "from geowombat.data import l8_224078_20200518\n",
    "\n",
    "# Zeros are replaced with nans\n",
    "with gw.open(l8_224078_20200518) as src:\n",
    "    data = src.where(src != 0)"
   ]
  },
  {
   "cell_type": "markdown",
   "id": "4c318ba5",
   "metadata": {},
   "source": [
    "## Setting 'no data' Values with Scaling\n",
    "\n",
    "In GeoWombat, we use `xarray.where` and `xarray.DataArray.where` along with optional scaling in the `set_nodata` function. In this example, we set zeros as 65535 and scale all other values from a [0,10000] range to [0,1]."
   ]
  },
  {
   "cell_type": "code",
   "execution_count": null,
   "id": "4f84db48",
   "metadata": {},
   "outputs": [],
   "source": [
    "import geowombat as gw\n",
    "from geowombat.data import l8_224078_20200518\n",
    "\n",
    "# Set the 'no data' value and scale all other values\n",
    "with gw.open(l8_224078_20200518) as src:\n",
    "    data = src.gw.set_nodata(0, 65535, (0, 1), 'float64', scale_factor=0.0001)"
   ]
  },
  {
   "cell_type": "markdown",
   "id": "ee4d22d3",
   "metadata": {},
   "source": [
    "## Replace values\n",
    "\n",
    "The GeoWombat `replace` function mimics `pandas.DataFrame.replace`."
   ]
  },
  {
   "cell_type": "code",
   "execution_count": null,
   "id": "9472685f",
   "metadata": {},
   "outputs": [],
   "source": [
    "import geowombat as gw\n",
    "from geowombat.data import l8_224078_20200518\n",
    "\n",
    "# Replace 1 with 10\n",
    "with gw.open(l8_224078_20200518) as src:\n",
    "    data = src.gw.replace({1: 10})"
   ]
  },
  {
   "cell_type": "markdown",
   "id": "e9f431a3",
   "metadata": {},
   "source": [
    "```{note}    \n",
    "The `replace` function is typically used with categorical data.\n",
    "```"
   ]
  }
 ],
 "metadata": {
  "jupytext": {
   "text_representation": {
    "extension": ".md",
    "format_name": "myst"
   }
  },
  "kernelspec": {
   "display_name": "Python 3",
   "language": "python",
   "name": "python3"
  },
  "language_info": {
   "codemirror_mode": {
    "name": "ipython",
    "version": 3
   },
   "file_extension": ".py",
   "mimetype": "text/x-python",
   "name": "python",
   "nbconvert_exporter": "python",
   "pygments_lexer": "ipython3",
   "version": "3.6.7"
  },
  "source_map": [
   10,
   35,
   42,
   48,
   55,
   61,
   68
  ]
 },
 "nbformat": 4,
 "nbformat_minor": 5
}